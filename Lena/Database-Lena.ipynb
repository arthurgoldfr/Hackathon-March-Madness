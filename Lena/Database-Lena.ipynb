{
 "cells": [
  {
   "cell_type": "code",
   "execution_count": 1,
   "metadata": {
    "ExecuteTime": {
     "end_time": "2020-03-27T10:49:02.986863Z",
     "start_time": "2020-03-27T10:49:02.560335Z"
    },
    "colab": {},
    "colab_type": "code",
    "id": "MlAYrzyX_r_Z"
   },
   "outputs": [],
   "source": [
    "import pandas as pd\n",
    "import numpy as np\n"
   ]
  },
  {
   "cell_type": "code",
   "execution_count": 2,
   "metadata": {
    "ExecuteTime": {
     "end_time": "2020-03-27T10:49:03.545372Z",
     "start_time": "2020-03-27T10:49:02.989741Z"
    },
    "scrolled": true
   },
   "outputs": [
    {
     "data": {
      "text/html": [
       "<div>\n",
       "<style scoped>\n",
       "    .dataframe tbody tr th:only-of-type {\n",
       "        vertical-align: middle;\n",
       "    }\n",
       "\n",
       "    .dataframe tbody tr th {\n",
       "        vertical-align: top;\n",
       "    }\n",
       "\n",
       "    .dataframe thead th {\n",
       "        text-align: right;\n",
       "    }\n",
       "</style>\n",
       "<table border=\"1\" class=\"dataframe\">\n",
       "  <thead>\n",
       "    <tr style=\"text-align: right;\">\n",
       "      <th></th>\n",
       "      <th>Season</th>\n",
       "      <th>DayNum</th>\n",
       "      <th>WTeamID</th>\n",
       "      <th>WScore</th>\n",
       "      <th>LTeamID</th>\n",
       "      <th>LScore</th>\n",
       "      <th>WLoc</th>\n",
       "      <th>NumOT</th>\n",
       "      <th>WFGM</th>\n",
       "      <th>WFGA</th>\n",
       "      <th>...</th>\n",
       "      <th>LFGA3</th>\n",
       "      <th>LFTM</th>\n",
       "      <th>LFTA</th>\n",
       "      <th>LOR</th>\n",
       "      <th>LDR</th>\n",
       "      <th>LAst</th>\n",
       "      <th>LTO</th>\n",
       "      <th>LStl</th>\n",
       "      <th>LBlk</th>\n",
       "      <th>LPF</th>\n",
       "    </tr>\n",
       "  </thead>\n",
       "  <tbody>\n",
       "    <tr>\n",
       "      <th>0</th>\n",
       "      <td>2003</td>\n",
       "      <td>134</td>\n",
       "      <td>1421</td>\n",
       "      <td>92</td>\n",
       "      <td>1411</td>\n",
       "      <td>84</td>\n",
       "      <td>N</td>\n",
       "      <td>1</td>\n",
       "      <td>32</td>\n",
       "      <td>69</td>\n",
       "      <td>...</td>\n",
       "      <td>31</td>\n",
       "      <td>14</td>\n",
       "      <td>31</td>\n",
       "      <td>17</td>\n",
       "      <td>28</td>\n",
       "      <td>16</td>\n",
       "      <td>15</td>\n",
       "      <td>5</td>\n",
       "      <td>0</td>\n",
       "      <td>22</td>\n",
       "    </tr>\n",
       "    <tr>\n",
       "      <th>1</th>\n",
       "      <td>2003</td>\n",
       "      <td>136</td>\n",
       "      <td>1112</td>\n",
       "      <td>80</td>\n",
       "      <td>1436</td>\n",
       "      <td>51</td>\n",
       "      <td>N</td>\n",
       "      <td>0</td>\n",
       "      <td>31</td>\n",
       "      <td>66</td>\n",
       "      <td>...</td>\n",
       "      <td>16</td>\n",
       "      <td>7</td>\n",
       "      <td>7</td>\n",
       "      <td>8</td>\n",
       "      <td>26</td>\n",
       "      <td>12</td>\n",
       "      <td>17</td>\n",
       "      <td>10</td>\n",
       "      <td>3</td>\n",
       "      <td>15</td>\n",
       "    </tr>\n",
       "    <tr>\n",
       "      <th>2</th>\n",
       "      <td>2003</td>\n",
       "      <td>136</td>\n",
       "      <td>1113</td>\n",
       "      <td>84</td>\n",
       "      <td>1272</td>\n",
       "      <td>71</td>\n",
       "      <td>N</td>\n",
       "      <td>0</td>\n",
       "      <td>31</td>\n",
       "      <td>59</td>\n",
       "      <td>...</td>\n",
       "      <td>28</td>\n",
       "      <td>14</td>\n",
       "      <td>21</td>\n",
       "      <td>20</td>\n",
       "      <td>22</td>\n",
       "      <td>11</td>\n",
       "      <td>12</td>\n",
       "      <td>2</td>\n",
       "      <td>5</td>\n",
       "      <td>18</td>\n",
       "    </tr>\n",
       "    <tr>\n",
       "      <th>3</th>\n",
       "      <td>2003</td>\n",
       "      <td>136</td>\n",
       "      <td>1141</td>\n",
       "      <td>79</td>\n",
       "      <td>1166</td>\n",
       "      <td>73</td>\n",
       "      <td>N</td>\n",
       "      <td>0</td>\n",
       "      <td>29</td>\n",
       "      <td>53</td>\n",
       "      <td>...</td>\n",
       "      <td>17</td>\n",
       "      <td>12</td>\n",
       "      <td>17</td>\n",
       "      <td>14</td>\n",
       "      <td>17</td>\n",
       "      <td>20</td>\n",
       "      <td>21</td>\n",
       "      <td>6</td>\n",
       "      <td>6</td>\n",
       "      <td>21</td>\n",
       "    </tr>\n",
       "    <tr>\n",
       "      <th>4</th>\n",
       "      <td>2003</td>\n",
       "      <td>136</td>\n",
       "      <td>1143</td>\n",
       "      <td>76</td>\n",
       "      <td>1301</td>\n",
       "      <td>74</td>\n",
       "      <td>N</td>\n",
       "      <td>1</td>\n",
       "      <td>27</td>\n",
       "      <td>64</td>\n",
       "      <td>...</td>\n",
       "      <td>21</td>\n",
       "      <td>15</td>\n",
       "      <td>20</td>\n",
       "      <td>10</td>\n",
       "      <td>26</td>\n",
       "      <td>16</td>\n",
       "      <td>14</td>\n",
       "      <td>5</td>\n",
       "      <td>8</td>\n",
       "      <td>19</td>\n",
       "    </tr>\n",
       "  </tbody>\n",
       "</table>\n",
       "<p>5 rows × 34 columns</p>\n",
       "</div>"
      ],
      "text/plain": [
       "   Season  DayNum  WTeamID  WScore  LTeamID  LScore WLoc  NumOT  WFGM  WFGA  \\\n",
       "0    2003     134     1421      92     1411      84    N      1    32    69   \n",
       "1    2003     136     1112      80     1436      51    N      0    31    66   \n",
       "2    2003     136     1113      84     1272      71    N      0    31    59   \n",
       "3    2003     136     1141      79     1166      73    N      0    29    53   \n",
       "4    2003     136     1143      76     1301      74    N      1    27    64   \n",
       "\n",
       "   ...  LFGA3  LFTM  LFTA  LOR  LDR  LAst  LTO  LStl  LBlk  LPF  \n",
       "0  ...     31    14    31   17   28    16   15     5     0   22  \n",
       "1  ...     16     7     7    8   26    12   17    10     3   15  \n",
       "2  ...     28    14    21   20   22    11   12     2     5   18  \n",
       "3  ...     17    12    17   14   17    20   21     6     6   21  \n",
       "4  ...     21    15    20   10   26    16   14     5     8   19  \n",
       "\n",
       "[5 rows x 34 columns]"
      ]
     },
     "execution_count": 2,
     "metadata": {},
     "output_type": "execute_result"
    }
   ],
   "source": [
    "MNCAA = pd.read_csv('data/Stage1/MNCAATourneyDetailedResults.csv')\n",
    "RegularSeason = pd.read_csv('data/Stage1/MRegularSeasonDetailedResults.csv')\n",
    "\n",
    "df_features = pd.concat([MNCAA,RegularSeason])\n",
    "MNCAA.head()"
   ]
  },
  {
   "cell_type": "code",
   "execution_count": 3,
   "metadata": {
    "ExecuteTime": {
     "end_time": "2020-03-27T10:49:04.674483Z",
     "start_time": "2020-03-27T10:49:03.547980Z"
    }
   },
   "outputs": [
    {
     "data": {
      "text/html": [
       "<div>\n",
       "<style scoped>\n",
       "    .dataframe tbody tr th:only-of-type {\n",
       "        vertical-align: middle;\n",
       "    }\n",
       "\n",
       "    .dataframe tbody tr th {\n",
       "        vertical-align: top;\n",
       "    }\n",
       "\n",
       "    .dataframe thead th {\n",
       "        text-align: right;\n",
       "    }\n",
       "</style>\n",
       "<table border=\"1\" class=\"dataframe\">\n",
       "  <thead>\n",
       "    <tr style=\"text-align: right;\">\n",
       "      <th></th>\n",
       "      <th>Season</th>\n",
       "      <th>DayNum</th>\n",
       "      <th>Team0_ID</th>\n",
       "      <th>WScore</th>\n",
       "      <th>Team1_ID</th>\n",
       "      <th>LScore</th>\n",
       "      <th>WLoc</th>\n",
       "      <th>NumOT</th>\n",
       "      <th>WFGM</th>\n",
       "      <th>WFGA</th>\n",
       "      <th>...</th>\n",
       "      <th>LFTA</th>\n",
       "      <th>LOR</th>\n",
       "      <th>LDR</th>\n",
       "      <th>LAst</th>\n",
       "      <th>LTO</th>\n",
       "      <th>LStl</th>\n",
       "      <th>LBlk</th>\n",
       "      <th>LPF</th>\n",
       "      <th>Competition</th>\n",
       "      <th>WTeam</th>\n",
       "    </tr>\n",
       "  </thead>\n",
       "  <tbody>\n",
       "    <tr>\n",
       "      <th>0</th>\n",
       "      <td>2003</td>\n",
       "      <td>134</td>\n",
       "      <td>1411</td>\n",
       "      <td>92</td>\n",
       "      <td>1421</td>\n",
       "      <td>84</td>\n",
       "      <td>N</td>\n",
       "      <td>1</td>\n",
       "      <td>32</td>\n",
       "      <td>69</td>\n",
       "      <td>...</td>\n",
       "      <td>31</td>\n",
       "      <td>17</td>\n",
       "      <td>28</td>\n",
       "      <td>16</td>\n",
       "      <td>15</td>\n",
       "      <td>5</td>\n",
       "      <td>0</td>\n",
       "      <td>22</td>\n",
       "      <td>MNCAA</td>\n",
       "      <td>1</td>\n",
       "    </tr>\n",
       "    <tr>\n",
       "      <th>1</th>\n",
       "      <td>2003</td>\n",
       "      <td>136</td>\n",
       "      <td>1112</td>\n",
       "      <td>80</td>\n",
       "      <td>1436</td>\n",
       "      <td>51</td>\n",
       "      <td>N</td>\n",
       "      <td>0</td>\n",
       "      <td>31</td>\n",
       "      <td>66</td>\n",
       "      <td>...</td>\n",
       "      <td>7</td>\n",
       "      <td>8</td>\n",
       "      <td>26</td>\n",
       "      <td>12</td>\n",
       "      <td>17</td>\n",
       "      <td>10</td>\n",
       "      <td>3</td>\n",
       "      <td>15</td>\n",
       "      <td>MNCAA</td>\n",
       "      <td>0</td>\n",
       "    </tr>\n",
       "    <tr>\n",
       "      <th>2</th>\n",
       "      <td>2003</td>\n",
       "      <td>136</td>\n",
       "      <td>1113</td>\n",
       "      <td>84</td>\n",
       "      <td>1272</td>\n",
       "      <td>71</td>\n",
       "      <td>N</td>\n",
       "      <td>0</td>\n",
       "      <td>31</td>\n",
       "      <td>59</td>\n",
       "      <td>...</td>\n",
       "      <td>21</td>\n",
       "      <td>20</td>\n",
       "      <td>22</td>\n",
       "      <td>11</td>\n",
       "      <td>12</td>\n",
       "      <td>2</td>\n",
       "      <td>5</td>\n",
       "      <td>18</td>\n",
       "      <td>MNCAA</td>\n",
       "      <td>0</td>\n",
       "    </tr>\n",
       "    <tr>\n",
       "      <th>3</th>\n",
       "      <td>2003</td>\n",
       "      <td>136</td>\n",
       "      <td>1141</td>\n",
       "      <td>79</td>\n",
       "      <td>1166</td>\n",
       "      <td>73</td>\n",
       "      <td>N</td>\n",
       "      <td>0</td>\n",
       "      <td>29</td>\n",
       "      <td>53</td>\n",
       "      <td>...</td>\n",
       "      <td>17</td>\n",
       "      <td>14</td>\n",
       "      <td>17</td>\n",
       "      <td>20</td>\n",
       "      <td>21</td>\n",
       "      <td>6</td>\n",
       "      <td>6</td>\n",
       "      <td>21</td>\n",
       "      <td>MNCAA</td>\n",
       "      <td>0</td>\n",
       "    </tr>\n",
       "    <tr>\n",
       "      <th>4</th>\n",
       "      <td>2003</td>\n",
       "      <td>136</td>\n",
       "      <td>1143</td>\n",
       "      <td>76</td>\n",
       "      <td>1301</td>\n",
       "      <td>74</td>\n",
       "      <td>N</td>\n",
       "      <td>1</td>\n",
       "      <td>27</td>\n",
       "      <td>64</td>\n",
       "      <td>...</td>\n",
       "      <td>20</td>\n",
       "      <td>10</td>\n",
       "      <td>26</td>\n",
       "      <td>16</td>\n",
       "      <td>14</td>\n",
       "      <td>5</td>\n",
       "      <td>8</td>\n",
       "      <td>19</td>\n",
       "      <td>MNCAA</td>\n",
       "      <td>0</td>\n",
       "    </tr>\n",
       "    <tr>\n",
       "      <th>5</th>\n",
       "      <td>2003</td>\n",
       "      <td>136</td>\n",
       "      <td>1140</td>\n",
       "      <td>58</td>\n",
       "      <td>1163</td>\n",
       "      <td>53</td>\n",
       "      <td>N</td>\n",
       "      <td>0</td>\n",
       "      <td>17</td>\n",
       "      <td>52</td>\n",
       "      <td>...</td>\n",
       "      <td>13</td>\n",
       "      <td>15</td>\n",
       "      <td>26</td>\n",
       "      <td>11</td>\n",
       "      <td>11</td>\n",
       "      <td>8</td>\n",
       "      <td>4</td>\n",
       "      <td>22</td>\n",
       "      <td>MNCAA</td>\n",
       "      <td>1</td>\n",
       "    </tr>\n",
       "    <tr>\n",
       "      <th>6</th>\n",
       "      <td>2003</td>\n",
       "      <td>136</td>\n",
       "      <td>1161</td>\n",
       "      <td>67</td>\n",
       "      <td>1181</td>\n",
       "      <td>57</td>\n",
       "      <td>N</td>\n",
       "      <td>0</td>\n",
       "      <td>19</td>\n",
       "      <td>54</td>\n",
       "      <td>...</td>\n",
       "      <td>22</td>\n",
       "      <td>11</td>\n",
       "      <td>24</td>\n",
       "      <td>8</td>\n",
       "      <td>19</td>\n",
       "      <td>5</td>\n",
       "      <td>4</td>\n",
       "      <td>19</td>\n",
       "      <td>MNCAA</td>\n",
       "      <td>1</td>\n",
       "    </tr>\n",
       "    <tr>\n",
       "      <th>7</th>\n",
       "      <td>2003</td>\n",
       "      <td>136</td>\n",
       "      <td>1153</td>\n",
       "      <td>74</td>\n",
       "      <td>1211</td>\n",
       "      <td>69</td>\n",
       "      <td>N</td>\n",
       "      <td>0</td>\n",
       "      <td>20</td>\n",
       "      <td>47</td>\n",
       "      <td>...</td>\n",
       "      <td>10</td>\n",
       "      <td>13</td>\n",
       "      <td>22</td>\n",
       "      <td>13</td>\n",
       "      <td>10</td>\n",
       "      <td>7</td>\n",
       "      <td>6</td>\n",
       "      <td>24</td>\n",
       "      <td>MNCAA</td>\n",
       "      <td>1</td>\n",
       "    </tr>\n",
       "    <tr>\n",
       "      <th>8</th>\n",
       "      <td>2003</td>\n",
       "      <td>136</td>\n",
       "      <td>1228</td>\n",
       "      <td>65</td>\n",
       "      <td>1443</td>\n",
       "      <td>60</td>\n",
       "      <td>N</td>\n",
       "      <td>0</td>\n",
       "      <td>24</td>\n",
       "      <td>56</td>\n",
       "      <td>...</td>\n",
       "      <td>13</td>\n",
       "      <td>17</td>\n",
       "      <td>18</td>\n",
       "      <td>10</td>\n",
       "      <td>14</td>\n",
       "      <td>6</td>\n",
       "      <td>5</td>\n",
       "      <td>16</td>\n",
       "      <td>MNCAA</td>\n",
       "      <td>0</td>\n",
       "    </tr>\n",
       "    <tr>\n",
       "      <th>9</th>\n",
       "      <td>2003</td>\n",
       "      <td>136</td>\n",
       "      <td>1242</td>\n",
       "      <td>64</td>\n",
       "      <td>1429</td>\n",
       "      <td>61</td>\n",
       "      <td>N</td>\n",
       "      <td>0</td>\n",
       "      <td>28</td>\n",
       "      <td>51</td>\n",
       "      <td>...</td>\n",
       "      <td>10</td>\n",
       "      <td>13</td>\n",
       "      <td>19</td>\n",
       "      <td>13</td>\n",
       "      <td>13</td>\n",
       "      <td>6</td>\n",
       "      <td>1</td>\n",
       "      <td>15</td>\n",
       "      <td>MNCAA</td>\n",
       "      <td>0</td>\n",
       "    </tr>\n",
       "    <tr>\n",
       "      <th>10</th>\n",
       "      <td>2003</td>\n",
       "      <td>136</td>\n",
       "      <td>1221</td>\n",
       "      <td>72</td>\n",
       "      <td>1266</td>\n",
       "      <td>68</td>\n",
       "      <td>N</td>\n",
       "      <td>0</td>\n",
       "      <td>22</td>\n",
       "      <td>51</td>\n",
       "      <td>...</td>\n",
       "      <td>25</td>\n",
       "      <td>14</td>\n",
       "      <td>20</td>\n",
       "      <td>14</td>\n",
       "      <td>9</td>\n",
       "      <td>4</td>\n",
       "      <td>1</td>\n",
       "      <td>20</td>\n",
       "      <td>MNCAA</td>\n",
       "      <td>1</td>\n",
       "    </tr>\n",
       "    <tr>\n",
       "      <th>11</th>\n",
       "      <td>2003</td>\n",
       "      <td>136</td>\n",
       "      <td>1281</td>\n",
       "      <td>72</td>\n",
       "      <td>1356</td>\n",
       "      <td>71</td>\n",
       "      <td>N</td>\n",
       "      <td>0</td>\n",
       "      <td>28</td>\n",
       "      <td>52</td>\n",
       "      <td>...</td>\n",
       "      <td>21</td>\n",
       "      <td>11</td>\n",
       "      <td>18</td>\n",
       "      <td>19</td>\n",
       "      <td>13</td>\n",
       "      <td>6</td>\n",
       "      <td>0</td>\n",
       "      <td>19</td>\n",
       "      <td>MNCAA</td>\n",
       "      <td>0</td>\n",
       "    </tr>\n",
       "    <tr>\n",
       "      <th>12</th>\n",
       "      <td>2003</td>\n",
       "      <td>136</td>\n",
       "      <td>1323</td>\n",
       "      <td>70</td>\n",
       "      <td>1454</td>\n",
       "      <td>69</td>\n",
       "      <td>N</td>\n",
       "      <td>0</td>\n",
       "      <td>23</td>\n",
       "      <td>54</td>\n",
       "      <td>...</td>\n",
       "      <td>20</td>\n",
       "      <td>14</td>\n",
       "      <td>23</td>\n",
       "      <td>15</td>\n",
       "      <td>12</td>\n",
       "      <td>11</td>\n",
       "      <td>3</td>\n",
       "      <td>25</td>\n",
       "      <td>MNCAA</td>\n",
       "      <td>0</td>\n",
       "    </tr>\n",
       "    <tr>\n",
       "      <th>13</th>\n",
       "      <td>2003</td>\n",
       "      <td>136</td>\n",
       "      <td>1328</td>\n",
       "      <td>71</td>\n",
       "      <td>1354</td>\n",
       "      <td>54</td>\n",
       "      <td>N</td>\n",
       "      <td>0</td>\n",
       "      <td>24</td>\n",
       "      <td>52</td>\n",
       "      <td>...</td>\n",
       "      <td>8</td>\n",
       "      <td>7</td>\n",
       "      <td>22</td>\n",
       "      <td>8</td>\n",
       "      <td>18</td>\n",
       "      <td>7</td>\n",
       "      <td>2</td>\n",
       "      <td>23</td>\n",
       "      <td>MNCAA</td>\n",
       "      <td>0</td>\n",
       "    </tr>\n",
       "    <tr>\n",
       "      <th>14</th>\n",
       "      <td>2003</td>\n",
       "      <td>136</td>\n",
       "      <td>1360</td>\n",
       "      <td>77</td>\n",
       "      <td>1390</td>\n",
       "      <td>69</td>\n",
       "      <td>N</td>\n",
       "      <td>0</td>\n",
       "      <td>29</td>\n",
       "      <td>64</td>\n",
       "      <td>...</td>\n",
       "      <td>32</td>\n",
       "      <td>17</td>\n",
       "      <td>25</td>\n",
       "      <td>7</td>\n",
       "      <td>11</td>\n",
       "      <td>3</td>\n",
       "      <td>0</td>\n",
       "      <td>18</td>\n",
       "      <td>MNCAA</td>\n",
       "      <td>1</td>\n",
       "    </tr>\n",
       "  </tbody>\n",
       "</table>\n",
       "<p>15 rows × 36 columns</p>\n",
       "</div>"
      ],
      "text/plain": [
       "    Season  DayNum  Team0_ID  WScore  Team1_ID  LScore WLoc  NumOT  WFGM  \\\n",
       "0     2003     134      1411      92      1421      84    N      1    32   \n",
       "1     2003     136      1112      80      1436      51    N      0    31   \n",
       "2     2003     136      1113      84      1272      71    N      0    31   \n",
       "3     2003     136      1141      79      1166      73    N      0    29   \n",
       "4     2003     136      1143      76      1301      74    N      1    27   \n",
       "5     2003     136      1140      58      1163      53    N      0    17   \n",
       "6     2003     136      1161      67      1181      57    N      0    19   \n",
       "7     2003     136      1153      74      1211      69    N      0    20   \n",
       "8     2003     136      1228      65      1443      60    N      0    24   \n",
       "9     2003     136      1242      64      1429      61    N      0    28   \n",
       "10    2003     136      1221      72      1266      68    N      0    22   \n",
       "11    2003     136      1281      72      1356      71    N      0    28   \n",
       "12    2003     136      1323      70      1454      69    N      0    23   \n",
       "13    2003     136      1328      71      1354      54    N      0    24   \n",
       "14    2003     136      1360      77      1390      69    N      0    29   \n",
       "\n",
       "    WFGA  ...  LFTA  LOR  LDR  LAst  LTO  LStl  LBlk  LPF  Competition  WTeam  \n",
       "0     69  ...    31   17   28    16   15     5     0   22        MNCAA      1  \n",
       "1     66  ...     7    8   26    12   17    10     3   15        MNCAA      0  \n",
       "2     59  ...    21   20   22    11   12     2     5   18        MNCAA      0  \n",
       "3     53  ...    17   14   17    20   21     6     6   21        MNCAA      0  \n",
       "4     64  ...    20   10   26    16   14     5     8   19        MNCAA      0  \n",
       "5     52  ...    13   15   26    11   11     8     4   22        MNCAA      1  \n",
       "6     54  ...    22   11   24     8   19     5     4   19        MNCAA      1  \n",
       "7     47  ...    10   13   22    13   10     7     6   24        MNCAA      1  \n",
       "8     56  ...    13   17   18    10   14     6     5   16        MNCAA      0  \n",
       "9     51  ...    10   13   19    13   13     6     1   15        MNCAA      0  \n",
       "10    51  ...    25   14   20    14    9     4     1   20        MNCAA      1  \n",
       "11    52  ...    21   11   18    19   13     6     0   19        MNCAA      0  \n",
       "12    54  ...    20   14   23    15   12    11     3   25        MNCAA      0  \n",
       "13    52  ...     8    7   22     8   18     7     2   23        MNCAA      0  \n",
       "14    64  ...    32   17   25     7   11     3     0   18        MNCAA      1  \n",
       "\n",
       "[15 rows x 36 columns]"
      ]
     },
     "execution_count": 3,
     "metadata": {},
     "output_type": "execute_result"
    }
   ],
   "source": [
    "MNCAA = MNCAA.loc[MNCAA['Season'] >= 2003]\n",
    "MNCAA.loc[:,'Competition'] = 'MNCAA'\n",
    "MNCAA.loc[:,'WTeam'] = 0\n",
    "\n",
    "for i,_ in enumerate(MNCAA.iterrows()):\n",
    "    if MNCAA.iloc[i,2] > MNCAA.iloc[i,4]:\n",
    "        MNCAA.iloc[i,2],MNCAA.iloc[i,4] = MNCAA.iloc[i,4],MNCAA.iloc[i,2]\n",
    "        MNCAA.iloc[i,35] = 1\n",
    "\n",
    "        \n",
    "MNCAA = MNCAA.rename(columns={\"WTeamID\": \"Team0_ID\", \"LTeamID\": \"Team1_ID\"})\n",
    "\n",
    "MNCAA.head(15)\n"
   ]
  },
  {
   "cell_type": "code",
   "execution_count": 4,
   "metadata": {
    "ExecuteTime": {
     "end_time": "2020-03-27T10:51:31.774104Z",
     "start_time": "2020-03-27T10:49:04.677634Z"
    },
    "colab": {},
    "colab_type": "code",
    "id": "IctC5RdUA5K-"
   },
   "outputs": [
    {
     "data": {
      "text/html": [
       "<div>\n",
       "<style scoped>\n",
       "    .dataframe tbody tr th:only-of-type {\n",
       "        vertical-align: middle;\n",
       "    }\n",
       "\n",
       "    .dataframe tbody tr th {\n",
       "        vertical-align: top;\n",
       "    }\n",
       "\n",
       "    .dataframe thead th {\n",
       "        text-align: right;\n",
       "    }\n",
       "</style>\n",
       "<table border=\"1\" class=\"dataframe\">\n",
       "  <thead>\n",
       "    <tr style=\"text-align: right;\">\n",
       "      <th></th>\n",
       "      <th>Season</th>\n",
       "      <th>DayNum</th>\n",
       "      <th>Team0_ID</th>\n",
       "      <th>WScore</th>\n",
       "      <th>Team1_ID</th>\n",
       "      <th>LScore</th>\n",
       "      <th>WLoc</th>\n",
       "      <th>NumOT</th>\n",
       "      <th>WFGM</th>\n",
       "      <th>WFGA</th>\n",
       "      <th>...</th>\n",
       "      <th>LFTA</th>\n",
       "      <th>LOR</th>\n",
       "      <th>LDR</th>\n",
       "      <th>LAst</th>\n",
       "      <th>LTO</th>\n",
       "      <th>LStl</th>\n",
       "      <th>LBlk</th>\n",
       "      <th>LPF</th>\n",
       "      <th>Competition</th>\n",
       "      <th>WTeam</th>\n",
       "    </tr>\n",
       "  </thead>\n",
       "  <tbody>\n",
       "    <tr>\n",
       "      <th>0</th>\n",
       "      <td>2003</td>\n",
       "      <td>10</td>\n",
       "      <td>1104</td>\n",
       "      <td>68</td>\n",
       "      <td>1328</td>\n",
       "      <td>62</td>\n",
       "      <td>N</td>\n",
       "      <td>0</td>\n",
       "      <td>27</td>\n",
       "      <td>58</td>\n",
       "      <td>...</td>\n",
       "      <td>22</td>\n",
       "      <td>10</td>\n",
       "      <td>22</td>\n",
       "      <td>8</td>\n",
       "      <td>18</td>\n",
       "      <td>9</td>\n",
       "      <td>2</td>\n",
       "      <td>20</td>\n",
       "      <td>RegularSeason</td>\n",
       "      <td>0</td>\n",
       "    </tr>\n",
       "    <tr>\n",
       "      <th>1</th>\n",
       "      <td>2003</td>\n",
       "      <td>10</td>\n",
       "      <td>1272</td>\n",
       "      <td>70</td>\n",
       "      <td>1393</td>\n",
       "      <td>63</td>\n",
       "      <td>N</td>\n",
       "      <td>0</td>\n",
       "      <td>26</td>\n",
       "      <td>62</td>\n",
       "      <td>...</td>\n",
       "      <td>20</td>\n",
       "      <td>20</td>\n",
       "      <td>25</td>\n",
       "      <td>7</td>\n",
       "      <td>12</td>\n",
       "      <td>8</td>\n",
       "      <td>6</td>\n",
       "      <td>16</td>\n",
       "      <td>RegularSeason</td>\n",
       "      <td>0</td>\n",
       "    </tr>\n",
       "    <tr>\n",
       "      <th>2</th>\n",
       "      <td>2003</td>\n",
       "      <td>11</td>\n",
       "      <td>1266</td>\n",
       "      <td>73</td>\n",
       "      <td>1437</td>\n",
       "      <td>61</td>\n",
       "      <td>N</td>\n",
       "      <td>0</td>\n",
       "      <td>24</td>\n",
       "      <td>58</td>\n",
       "      <td>...</td>\n",
       "      <td>23</td>\n",
       "      <td>31</td>\n",
       "      <td>22</td>\n",
       "      <td>9</td>\n",
       "      <td>12</td>\n",
       "      <td>2</td>\n",
       "      <td>5</td>\n",
       "      <td>23</td>\n",
       "      <td>RegularSeason</td>\n",
       "      <td>0</td>\n",
       "    </tr>\n",
       "    <tr>\n",
       "      <th>3</th>\n",
       "      <td>2003</td>\n",
       "      <td>11</td>\n",
       "      <td>1296</td>\n",
       "      <td>56</td>\n",
       "      <td>1457</td>\n",
       "      <td>50</td>\n",
       "      <td>N</td>\n",
       "      <td>0</td>\n",
       "      <td>18</td>\n",
       "      <td>38</td>\n",
       "      <td>...</td>\n",
       "      <td>15</td>\n",
       "      <td>17</td>\n",
       "      <td>20</td>\n",
       "      <td>9</td>\n",
       "      <td>19</td>\n",
       "      <td>4</td>\n",
       "      <td>3</td>\n",
       "      <td>23</td>\n",
       "      <td>RegularSeason</td>\n",
       "      <td>0</td>\n",
       "    </tr>\n",
       "    <tr>\n",
       "      <th>4</th>\n",
       "      <td>2003</td>\n",
       "      <td>11</td>\n",
       "      <td>1208</td>\n",
       "      <td>77</td>\n",
       "      <td>1400</td>\n",
       "      <td>71</td>\n",
       "      <td>N</td>\n",
       "      <td>0</td>\n",
       "      <td>30</td>\n",
       "      <td>61</td>\n",
       "      <td>...</td>\n",
       "      <td>27</td>\n",
       "      <td>21</td>\n",
       "      <td>15</td>\n",
       "      <td>12</td>\n",
       "      <td>10</td>\n",
       "      <td>7</td>\n",
       "      <td>1</td>\n",
       "      <td>14</td>\n",
       "      <td>RegularSeason</td>\n",
       "      <td>1</td>\n",
       "    </tr>\n",
       "    <tr>\n",
       "      <th>...</th>\n",
       "      <td>...</td>\n",
       "      <td>...</td>\n",
       "      <td>...</td>\n",
       "      <td>...</td>\n",
       "      <td>...</td>\n",
       "      <td>...</td>\n",
       "      <td>...</td>\n",
       "      <td>...</td>\n",
       "      <td>...</td>\n",
       "      <td>...</td>\n",
       "      <td>...</td>\n",
       "      <td>...</td>\n",
       "      <td>...</td>\n",
       "      <td>...</td>\n",
       "      <td>...</td>\n",
       "      <td>...</td>\n",
       "      <td>...</td>\n",
       "      <td>...</td>\n",
       "      <td>...</td>\n",
       "      <td>...</td>\n",
       "      <td>...</td>\n",
       "    </tr>\n",
       "    <tr>\n",
       "      <th>87499</th>\n",
       "      <td>2019</td>\n",
       "      <td>132</td>\n",
       "      <td>1153</td>\n",
       "      <td>69</td>\n",
       "      <td>1222</td>\n",
       "      <td>57</td>\n",
       "      <td>N</td>\n",
       "      <td>0</td>\n",
       "      <td>22</td>\n",
       "      <td>50</td>\n",
       "      <td>...</td>\n",
       "      <td>18</td>\n",
       "      <td>17</td>\n",
       "      <td>16</td>\n",
       "      <td>8</td>\n",
       "      <td>7</td>\n",
       "      <td>2</td>\n",
       "      <td>4</td>\n",
       "      <td>19</td>\n",
       "      <td>RegularSeason</td>\n",
       "      <td>0</td>\n",
       "    </tr>\n",
       "    <tr>\n",
       "      <th>87500</th>\n",
       "      <td>2019</td>\n",
       "      <td>132</td>\n",
       "      <td>1209</td>\n",
       "      <td>73</td>\n",
       "      <td>1426</td>\n",
       "      <td>64</td>\n",
       "      <td>N</td>\n",
       "      <td>0</td>\n",
       "      <td>20</td>\n",
       "      <td>50</td>\n",
       "      <td>...</td>\n",
       "      <td>17</td>\n",
       "      <td>13</td>\n",
       "      <td>28</td>\n",
       "      <td>12</td>\n",
       "      <td>14</td>\n",
       "      <td>5</td>\n",
       "      <td>2</td>\n",
       "      <td>24</td>\n",
       "      <td>RegularSeason</td>\n",
       "      <td>0</td>\n",
       "    </tr>\n",
       "    <tr>\n",
       "      <th>87501</th>\n",
       "      <td>2019</td>\n",
       "      <td>132</td>\n",
       "      <td>1276</td>\n",
       "      <td>65</td>\n",
       "      <td>1277</td>\n",
       "      <td>60</td>\n",
       "      <td>N</td>\n",
       "      <td>0</td>\n",
       "      <td>22</td>\n",
       "      <td>55</td>\n",
       "      <td>...</td>\n",
       "      <td>12</td>\n",
       "      <td>3</td>\n",
       "      <td>26</td>\n",
       "      <td>17</td>\n",
       "      <td>6</td>\n",
       "      <td>5</td>\n",
       "      <td>5</td>\n",
       "      <td>11</td>\n",
       "      <td>RegularSeason</td>\n",
       "      <td>1</td>\n",
       "    </tr>\n",
       "    <tr>\n",
       "      <th>87502</th>\n",
       "      <td>2019</td>\n",
       "      <td>132</td>\n",
       "      <td>1382</td>\n",
       "      <td>55</td>\n",
       "      <td>1387</td>\n",
       "      <td>53</td>\n",
       "      <td>N</td>\n",
       "      <td>0</td>\n",
       "      <td>22</td>\n",
       "      <td>59</td>\n",
       "      <td>...</td>\n",
       "      <td>10</td>\n",
       "      <td>13</td>\n",
       "      <td>30</td>\n",
       "      <td>9</td>\n",
       "      <td>11</td>\n",
       "      <td>2</td>\n",
       "      <td>7</td>\n",
       "      <td>16</td>\n",
       "      <td>RegularSeason</td>\n",
       "      <td>1</td>\n",
       "    </tr>\n",
       "    <tr>\n",
       "      <th>87503</th>\n",
       "      <td>2019</td>\n",
       "      <td>132</td>\n",
       "      <td>1217</td>\n",
       "      <td>97</td>\n",
       "      <td>1463</td>\n",
       "      <td>85</td>\n",
       "      <td>H</td>\n",
       "      <td>0</td>\n",
       "      <td>32</td>\n",
       "      <td>53</td>\n",
       "      <td>...</td>\n",
       "      <td>24</td>\n",
       "      <td>12</td>\n",
       "      <td>15</td>\n",
       "      <td>7</td>\n",
       "      <td>9</td>\n",
       "      <td>1</td>\n",
       "      <td>2</td>\n",
       "      <td>22</td>\n",
       "      <td>RegularSeason</td>\n",
       "      <td>1</td>\n",
       "    </tr>\n",
       "  </tbody>\n",
       "</table>\n",
       "<p>87504 rows × 36 columns</p>\n",
       "</div>"
      ],
      "text/plain": [
       "       Season  DayNum  Team0_ID  WScore  Team1_ID  LScore WLoc  NumOT  WFGM  \\\n",
       "0        2003      10      1104      68      1328      62    N      0    27   \n",
       "1        2003      10      1272      70      1393      63    N      0    26   \n",
       "2        2003      11      1266      73      1437      61    N      0    24   \n",
       "3        2003      11      1296      56      1457      50    N      0    18   \n",
       "4        2003      11      1208      77      1400      71    N      0    30   \n",
       "...       ...     ...       ...     ...       ...     ...  ...    ...   ...   \n",
       "87499    2019     132      1153      69      1222      57    N      0    22   \n",
       "87500    2019     132      1209      73      1426      64    N      0    20   \n",
       "87501    2019     132      1276      65      1277      60    N      0    22   \n",
       "87502    2019     132      1382      55      1387      53    N      0    22   \n",
       "87503    2019     132      1217      97      1463      85    H      0    32   \n",
       "\n",
       "       WFGA  ...  LFTA  LOR  LDR  LAst  LTO  LStl  LBlk  LPF    Competition  \\\n",
       "0        58  ...    22   10   22     8   18     9     2   20  RegularSeason   \n",
       "1        62  ...    20   20   25     7   12     8     6   16  RegularSeason   \n",
       "2        58  ...    23   31   22     9   12     2     5   23  RegularSeason   \n",
       "3        38  ...    15   17   20     9   19     4     3   23  RegularSeason   \n",
       "4        61  ...    27   21   15    12   10     7     1   14  RegularSeason   \n",
       "...     ...  ...   ...  ...  ...   ...  ...   ...   ...  ...            ...   \n",
       "87499    50  ...    18   17   16     8    7     2     4   19  RegularSeason   \n",
       "87500    50  ...    17   13   28    12   14     5     2   24  RegularSeason   \n",
       "87501    55  ...    12    3   26    17    6     5     5   11  RegularSeason   \n",
       "87502    59  ...    10   13   30     9   11     2     7   16  RegularSeason   \n",
       "87503    53  ...    24   12   15     7    9     1     2   22  RegularSeason   \n",
       "\n",
       "       WTeam  \n",
       "0          0  \n",
       "1          0  \n",
       "2          0  \n",
       "3          0  \n",
       "4          1  \n",
       "...      ...  \n",
       "87499      0  \n",
       "87500      0  \n",
       "87501      1  \n",
       "87502      1  \n",
       "87503      1  \n",
       "\n",
       "[87504 rows x 36 columns]"
      ]
     },
     "execution_count": 4,
     "metadata": {},
     "output_type": "execute_result"
    }
   ],
   "source": [
    "RegularSeason = RegularSeason.loc[RegularSeason['Season'] >= 2003]\n",
    "RegularSeason.loc[:,'Competition'] = 'RegularSeason'\n",
    "RegularSeason.loc[:,'WTeam'] = 0\n",
    "\n",
    "for i,_ in enumerate(RegularSeason.iterrows()):\n",
    "    if RegularSeason.iloc[i,2] > RegularSeason.iloc[i,4]:\n",
    "        RegularSeason.iloc[i,2],RegularSeason.iloc[i,4] = RegularSeason.iloc[i,4],RegularSeason.iloc[i,2]\n",
    "        RegularSeason.iloc[i,35] = 1\n",
    "        \n",
    "RegularSeason = RegularSeason.rename(columns={\"WTeamID\": \"Team0_ID\", \"LTeamID\": \"Team1_ID\"})\n",
    "\n",
    "RegularSeason"
   ]
  },
  {
   "cell_type": "markdown",
   "metadata": {},
   "source": [
    "# Implémentation des features"
   ]
  },
  {
   "cell_type": "markdown",
   "metadata": {},
   "source": [
    "## Features de performances sportives des équipes"
   ]
  },
  {
   "cell_type": "markdown",
   "metadata": {},
   "source": [
    "### Features de victoires défaites"
   ]
  },
  {
   "cell_type": "code",
   "execution_count": 10,
   "metadata": {
    "ExecuteTime": {
     "end_time": "2020-03-27T10:52:05.843639Z",
     "start_time": "2020-03-27T10:52:05.746849Z"
    },
    "colab": {},
    "colab_type": "code",
    "id": "iFDazFosA8AE",
    "scrolled": true
   },
   "outputs": [],
   "source": [
    "df = pd.concat([MNCAA,RegularSeason])\n",
    "df=df[['Season','DayNum','Team0_ID','Team1_ID']]"
   ]
  },
  {
   "cell_type": "code",
   "execution_count": 11,
   "metadata": {
    "ExecuteTime": {
     "end_time": "2020-03-27T10:52:06.656748Z",
     "start_time": "2020-03-27T10:52:06.601318Z"
    }
   },
   "outputs": [
    {
     "name": "stderr",
     "output_type": "stream",
     "text": [
      "/home/lena/anaconda3/lib/python3.7/site-packages/ipykernel_launcher.py:2: SettingWithCopyWarning: \n",
      "A value is trying to be set on a copy of a slice from a DataFrame.\n",
      "Try using .loc[row_indexer,col_indexer] = value instead\n",
      "\n",
      "See the caveats in the documentation: https://pandas.pydata.org/pandas-docs/stable/user_guide/indexing.html#returning-a-view-versus-a-copy\n",
      "  \n",
      "/home/lena/anaconda3/lib/python3.7/site-packages/ipykernel_launcher.py:4: SettingWithCopyWarning: \n",
      "A value is trying to be set on a copy of a slice from a DataFrame.\n",
      "Try using .loc[row_indexer,col_indexer] = value instead\n",
      "\n",
      "See the caveats in the documentation: https://pandas.pydata.org/pandas-docs/stable/user_guide/indexing.html#returning-a-view-versus-a-copy\n",
      "  after removing the cwd from sys.path.\n"
     ]
    }
   ],
   "source": [
    "df_count_victoire =df_features[['Season','WTeamID']]\n",
    "df_count_victoire['victoire'] = 1\n",
    "df_count_defaite=df_features[['Season','LTeamID']]\n",
    "df_count_defaite['defaite']=1\n",
    "\n",
    "df_victoire = df_count_victoire.groupby(['Season','WTeamID'],as_index=False).count()\n",
    "df_defaites = df_count_defaite.groupby(['Season','LTeamID'],as_index=False).count()"
   ]
  },
  {
   "cell_type": "code",
   "execution_count": 12,
   "metadata": {
    "ExecuteTime": {
     "end_time": "2020-03-27T10:52:07.902830Z",
     "start_time": "2020-03-27T10:52:07.889899Z"
    }
   },
   "outputs": [],
   "source": [
    "df_count = pd.merge(df_victoire ,df_defaites, right_on = ['Season','LTeamID'],left_on = ['Season','WTeamID'], how='left' )\n",
    "df_count.drop('LTeamID', axis=1,inplace = True)\n",
    "df_count.rename(columns={'WTeamID':'TeamID'},inplace = True)"
   ]
  },
  {
   "cell_type": "code",
   "execution_count": 13,
   "metadata": {
    "ExecuteTime": {
     "end_time": "2020-03-27T10:52:10.009956Z",
     "start_time": "2020-03-27T10:52:09.993714Z"
    }
   },
   "outputs": [],
   "source": [
    "df_count['PourVictoire']=df_count['victoire']/(df_count['victoire']+df_count['defaite'])\n",
    "df_count['PourcDefaite']=1-df_count['PourVictoire']"
   ]
  },
  {
   "cell_type": "code",
   "execution_count": 14,
   "metadata": {
    "ExecuteTime": {
     "end_time": "2020-03-27T10:52:11.237925Z",
     "start_time": "2020-03-27T10:52:11.232195Z"
    }
   },
   "outputs": [],
   "source": [
    "df_count.drop(['victoire','defaite'], axis=1,inplace = True)"
   ]
  },
  {
   "cell_type": "code",
   "execution_count": 15,
   "metadata": {
    "ExecuteTime": {
     "end_time": "2020-03-27T10:52:12.005924Z",
     "start_time": "2020-03-27T10:52:11.993839Z"
    },
    "scrolled": true
   },
   "outputs": [
    {
     "data": {
      "text/html": [
       "<div>\n",
       "<style scoped>\n",
       "    .dataframe tbody tr th:only-of-type {\n",
       "        vertical-align: middle;\n",
       "    }\n",
       "\n",
       "    .dataframe tbody tr th {\n",
       "        vertical-align: top;\n",
       "    }\n",
       "\n",
       "    .dataframe thead th {\n",
       "        text-align: right;\n",
       "    }\n",
       "</style>\n",
       "<table border=\"1\" class=\"dataframe\">\n",
       "  <thead>\n",
       "    <tr style=\"text-align: right;\">\n",
       "      <th></th>\n",
       "      <th>Season</th>\n",
       "      <th>TeamID</th>\n",
       "      <th>PourVictoire</th>\n",
       "      <th>PourcDefaite</th>\n",
       "    </tr>\n",
       "  </thead>\n",
       "  <tbody>\n",
       "    <tr>\n",
       "      <th>0</th>\n",
       "      <td>2003</td>\n",
       "      <td>1102</td>\n",
       "      <td>0.428571</td>\n",
       "      <td>0.571429</td>\n",
       "    </tr>\n",
       "    <tr>\n",
       "      <th>1</th>\n",
       "      <td>2003</td>\n",
       "      <td>1103</td>\n",
       "      <td>0.481481</td>\n",
       "      <td>0.518519</td>\n",
       "    </tr>\n",
       "    <tr>\n",
       "      <th>2</th>\n",
       "      <td>2003</td>\n",
       "      <td>1104</td>\n",
       "      <td>0.586207</td>\n",
       "      <td>0.413793</td>\n",
       "    </tr>\n",
       "    <tr>\n",
       "      <th>3</th>\n",
       "      <td>2003</td>\n",
       "      <td>1105</td>\n",
       "      <td>0.269231</td>\n",
       "      <td>0.730769</td>\n",
       "    </tr>\n",
       "    <tr>\n",
       "      <th>4</th>\n",
       "      <td>2003</td>\n",
       "      <td>1106</td>\n",
       "      <td>0.464286</td>\n",
       "      <td>0.535714</td>\n",
       "    </tr>\n",
       "    <tr>\n",
       "      <th>...</th>\n",
       "      <td>...</td>\n",
       "      <td>...</td>\n",
       "      <td>...</td>\n",
       "      <td>...</td>\n",
       "    </tr>\n",
       "    <tr>\n",
       "      <th>5824</th>\n",
       "      <td>2019</td>\n",
       "      <td>1462</td>\n",
       "      <td>0.545455</td>\n",
       "      <td>0.454545</td>\n",
       "    </tr>\n",
       "    <tr>\n",
       "      <th>5825</th>\n",
       "      <td>2019</td>\n",
       "      <td>1463</td>\n",
       "      <td>0.724138</td>\n",
       "      <td>0.275862</td>\n",
       "    </tr>\n",
       "    <tr>\n",
       "      <th>5826</th>\n",
       "      <td>2019</td>\n",
       "      <td>1464</td>\n",
       "      <td>0.333333</td>\n",
       "      <td>0.666667</td>\n",
       "    </tr>\n",
       "    <tr>\n",
       "      <th>5827</th>\n",
       "      <td>2019</td>\n",
       "      <td>1465</td>\n",
       "      <td>0.461538</td>\n",
       "      <td>0.538462</td>\n",
       "    </tr>\n",
       "    <tr>\n",
       "      <th>5828</th>\n",
       "      <td>2019</td>\n",
       "      <td>1466</td>\n",
       "      <td>0.241379</td>\n",
       "      <td>0.758621</td>\n",
       "    </tr>\n",
       "  </tbody>\n",
       "</table>\n",
       "<p>5829 rows × 4 columns</p>\n",
       "</div>"
      ],
      "text/plain": [
       "      Season  TeamID  PourVictoire  PourcDefaite\n",
       "0       2003    1102      0.428571      0.571429\n",
       "1       2003    1103      0.481481      0.518519\n",
       "2       2003    1104      0.586207      0.413793\n",
       "3       2003    1105      0.269231      0.730769\n",
       "4       2003    1106      0.464286      0.535714\n",
       "...      ...     ...           ...           ...\n",
       "5824    2019    1462      0.545455      0.454545\n",
       "5825    2019    1463      0.724138      0.275862\n",
       "5826    2019    1464      0.333333      0.666667\n",
       "5827    2019    1465      0.461538      0.538462\n",
       "5828    2019    1466      0.241379      0.758621\n",
       "\n",
       "[5829 rows x 4 columns]"
      ]
     },
     "execution_count": 15,
     "metadata": {},
     "output_type": "execute_result"
    }
   ],
   "source": [
    "df_count"
   ]
  },
  {
   "cell_type": "markdown",
   "metadata": {},
   "source": [
    "### Définition des features en match - pour une équipe"
   ]
  },
  {
   "cell_type": "code",
   "execution_count": 16,
   "metadata": {
    "ExecuteTime": {
     "end_time": "2020-03-27T10:52:13.757698Z",
     "start_time": "2020-03-27T10:52:13.664395Z"
    }
   },
   "outputs": [],
   "source": [
    "# Précision au shoot = tirs réussis/tirs tentés\n",
    "df_features['WPre'] = df_features['WFGM']/df_features['WFGA']\n",
    "df_features['LPre'] = df_features['LFGM']/df_features['LFGA']\n",
    "\n",
    "#Précision au 3pts = trois points réussis/trois points tentés\n",
    "df_features['WPre3'] = df_features['WFGM3']/df_features['WFGA3']\n",
    "df_features['LPre3'] = df_features['LFGM3']/df_features['LFGA3']\n",
    "\n",
    "#Pourcentage de trois pts = trois points réussis/tirs réussis\n",
    "df_features['WPourc3'] = df_features['WFGM3']/df_features['WFGM']\n",
    "df_features['LPourc3'] = df_features['LFGM3']/df_features['LFGM']\n",
    "\n",
    "#Pourcentage de passes décisive = nb passes décisives/nb de tirs réussis\n",
    "df_features['WPourcAst'] = df_features['WAst']/df_features['WFGM']\n",
    "df_features['LPourcAst'] = df_features['LAst']/df_features['LFGM']\n",
    "\n"
   ]
  },
  {
   "cell_type": "code",
   "execution_count": 17,
   "metadata": {
    "ExecuteTime": {
     "end_time": "2020-03-27T10:52:14.585031Z",
     "start_time": "2020-03-27T10:52:14.567178Z"
    }
   },
   "outputs": [],
   "source": [
    "# Pourcentage de Blocs = Nb de block de l'équipe/Nb de shoots tentés par l'équipe adverse\n",
    "df_features['WBlocks'] = (df_features['WBlk']) / (df_features['LFGA'])\n",
    "df_features['LBlocks'] = (df_features['LBlk']) / (df_features['WFGA'])\n",
    "\n",
    "# Pourcentage de récupération de balles = (Rebond défensif + vols de balles)/pertes de balles\n",
    "df_features['WRecupBall'] = (df_features['WDR']+df_features['WStl']) / df_features['WTO']\n",
    "df_features['LRecupBall'] = (df_features['LDR']+df_features['LStl']) / df_features['LTO']"
   ]
  },
  {
   "cell_type": "code",
   "execution_count": 18,
   "metadata": {
    "ExecuteTime": {
     "end_time": "2020-03-27T10:52:15.405566Z",
     "start_time": "2020-03-27T10:52:15.384051Z"
    }
   },
   "outputs": [],
   "source": [
    "#On conserve uniquement les features intéressantes\n",
    "df_features = df_features[['Season','WTeamID','WScore','WPre','WPre3','WPourc3','WPourcAst','WBlocks','WRecupBall','LTeamID','LScore','LPre','LPre3','LPourc3','LPourcAst','LBlocks','LRecupBall']]"
   ]
  },
  {
   "cell_type": "markdown",
   "metadata": {},
   "source": [
    "Pour obtenir un paramètre par équipe moyens, on sépare la base de données en deux pour récupérer uniquement les données concernant l'équipe en question.\n",
    "On récupère d'abord les données quand elle gagne puis quand elle perd"
   ]
  },
  {
   "cell_type": "code",
   "execution_count": 19,
   "metadata": {
    "ExecuteTime": {
     "end_time": "2020-03-27T10:52:16.954860Z",
     "start_time": "2020-03-27T10:52:16.872911Z"
    }
   },
   "outputs": [],
   "source": [
    "WFeatures = df_features.groupby(['Season','WTeamID'],as_index=False).mean()\n",
    "LFeatures = df_features.groupby(['Season','LTeamID'],as_index=False).mean()"
   ]
  },
  {
   "cell_type": "code",
   "execution_count": 20,
   "metadata": {
    "ExecuteTime": {
     "end_time": "2020-03-27T10:52:17.634479Z",
     "start_time": "2020-03-27T10:52:17.626525Z"
    },
    "scrolled": true
   },
   "outputs": [],
   "source": [
    "WFeatures.drop(['LTeamID','LScore','LPre','LPre3','LPourc3','LPourcAst','LBlocks','LRecupBall'], axis=1,inplace= True)\n",
    "WFeatures.rename(columns={'WTeamID':'TeamID','WScore':'Score','WPre':'Pre','WPre3':'Pre3','WPourc3':'Pourc3','WPourcAst':'PourcAst','WBlocks':'Blocks','WRecupBall':'RecupBall'}, inplace=True)\n"
   ]
  },
  {
   "cell_type": "code",
   "execution_count": 21,
   "metadata": {
    "ExecuteTime": {
     "end_time": "2020-03-27T10:52:18.399306Z",
     "start_time": "2020-03-27T10:52:18.392270Z"
    }
   },
   "outputs": [],
   "source": [
    "LFeatures.drop(['WTeamID','WScore','WPre','WPre3','WPourc3','WPourcAst','WBlocks','WRecupBall'], axis =1, inplace =True)\n",
    "LFeatures.rename(columns={'LTeamID':'TeamID','LScore':'Score','LPre':'Pre','LPre3':'Pre3','LPourc3':'Pourc3','LPourcAst':'PourcAst','LBlocks':'Blocks','LRecupBall':'RecupBall'}, inplace=True)"
   ]
  },
  {
   "cell_type": "markdown",
   "metadata": {},
   "source": [
    "### Rassemblement des features de performances"
   ]
  },
  {
   "cell_type": "code",
   "execution_count": 22,
   "metadata": {
    "ExecuteTime": {
     "end_time": "2020-03-27T10:52:19.907231Z",
     "start_time": "2020-03-27T10:52:19.888704Z"
    }
   },
   "outputs": [],
   "source": [
    "Features = pd.merge(WFeatures,LFeatures,left_on=['Season','TeamID'],right_on=['Season','TeamID'])\n",
    "Features = pd.merge(Features,df_count,left_on=['Season','TeamID'],right_on=['Season','TeamID'])"
   ]
  },
  {
   "cell_type": "markdown",
   "metadata": {},
   "source": [
    "Pour chaque équipe les features sont présentes deux fois (lorsqu'elle gagne et lorsqu'elle perd). Nous avons donc pris la moyenne de chaque features pondérées par le pourcentage de victoire et de défaite. \n"
   ]
  },
  {
   "cell_type": "code",
   "execution_count": 23,
   "metadata": {
    "ExecuteTime": {
     "end_time": "2020-03-27T10:52:22.362441Z",
     "start_time": "2020-03-27T10:52:22.310344Z"
    },
    "scrolled": true
   },
   "outputs": [],
   "source": [
    "Features['Score']=Features['PourVictoire']*Features['Score_x']+Features['PourcDefaite']*Features['Score_y']\n",
    "Features.drop(['Score_x','Score_y'],axis = 1,inplace =True)\n",
    "\n",
    "Features['Pre']=Features['PourVictoire']*Features['Pre_x']+Features['PourcDefaite']*Features['Pre_y']\n",
    "Features.drop(['Pre_x','Pre_y'],axis = 1,inplace =True)\n",
    "\n",
    "Features['Pre3']=Features['PourVictoire']*Features['Pre3_x']+Features['PourcDefaite']*Features['Pre3_y']\n",
    "Features.drop(['Pre3_x','Pre3_y'],axis = 1,inplace =True)\n",
    "\n",
    "Features['Pourc3']=Features['PourVictoire']*Features['Pourc3_x']+Features['PourcDefaite']*Features['Pourc3_y']\n",
    "Features.drop(['Pourc3_x','Pourc3_y'],axis = 1,inplace =True)\n",
    "\n",
    "Features['PourcAst']=Features['PourVictoire']*Features['PourcAst_x']+Features['PourcDefaite']*Features['PourcAst_y']\n",
    "Features.drop(['PourcAst_x','PourcAst_y'],axis = 1,inplace =True)\n",
    "\n",
    "Features['Blocks']=Features['PourVictoire']*Features['Blocks_x']+Features['PourcDefaite']*Features['Blocks_y']\n",
    "Features.drop(['Blocks_x','Blocks_y'],axis = 1,inplace =True)\n",
    "\n",
    "Features['RecupBall']=Features['PourVictoire']*Features['RecupBall_x']+Features['PourcDefaite']*Features['RecupBall_y']\n",
    "Features.drop(['RecupBall_x','RecupBall_y'],axis = 1,inplace =True)\n",
    "\n"
   ]
  },
  {
   "cell_type": "code",
   "execution_count": 24,
   "metadata": {
    "ExecuteTime": {
     "end_time": "2020-03-27T10:52:23.320473Z",
     "start_time": "2020-03-27T10:52:23.295656Z"
    }
   },
   "outputs": [
    {
     "data": {
      "text/html": [
       "<div>\n",
       "<style scoped>\n",
       "    .dataframe tbody tr th:only-of-type {\n",
       "        vertical-align: middle;\n",
       "    }\n",
       "\n",
       "    .dataframe tbody tr th {\n",
       "        vertical-align: top;\n",
       "    }\n",
       "\n",
       "    .dataframe thead th {\n",
       "        text-align: right;\n",
       "    }\n",
       "</style>\n",
       "<table border=\"1\" class=\"dataframe\">\n",
       "  <thead>\n",
       "    <tr style=\"text-align: right;\">\n",
       "      <th></th>\n",
       "      <th>Season</th>\n",
       "      <th>TeamID</th>\n",
       "      <th>PourVictoire</th>\n",
       "      <th>PourcDefaite</th>\n",
       "      <th>Score</th>\n",
       "      <th>Pre</th>\n",
       "      <th>Pre3</th>\n",
       "      <th>Pourc3</th>\n",
       "      <th>PourcAst</th>\n",
       "      <th>Blocks</th>\n",
       "      <th>RecupBall</th>\n",
       "    </tr>\n",
       "  </thead>\n",
       "  <tbody>\n",
       "    <tr>\n",
       "      <th>0</th>\n",
       "      <td>2003</td>\n",
       "      <td>1102</td>\n",
       "      <td>0.428571</td>\n",
       "      <td>0.571429</td>\n",
       "      <td>57.250000</td>\n",
       "      <td>0.486149</td>\n",
       "      <td>0.367637</td>\n",
       "      <td>0.400838</td>\n",
       "      <td>0.665276</td>\n",
       "      <td>0.041016</td>\n",
       "      <td>2.245848</td>\n",
       "    </tr>\n",
       "    <tr>\n",
       "      <th>1</th>\n",
       "      <td>2003</td>\n",
       "      <td>1103</td>\n",
       "      <td>0.481481</td>\n",
       "      <td>0.518519</td>\n",
       "      <td>78.777778</td>\n",
       "      <td>0.487294</td>\n",
       "      <td>0.331990</td>\n",
       "      <td>0.207162</td>\n",
       "      <td>0.560276</td>\n",
       "      <td>0.042180</td>\n",
       "      <td>2.261533</td>\n",
       "    </tr>\n",
       "    <tr>\n",
       "      <th>2</th>\n",
       "      <td>2003</td>\n",
       "      <td>1104</td>\n",
       "      <td>0.586207</td>\n",
       "      <td>0.413793</td>\n",
       "      <td>69.034483</td>\n",
       "      <td>0.419794</td>\n",
       "      <td>0.328588</td>\n",
       "      <td>0.268179</td>\n",
       "      <td>0.507395</td>\n",
       "      <td>0.069374</td>\n",
       "      <td>2.459889</td>\n",
       "    </tr>\n",
       "    <tr>\n",
       "      <th>3</th>\n",
       "      <td>2003</td>\n",
       "      <td>1105</td>\n",
       "      <td>0.269231</td>\n",
       "      <td>0.730769</td>\n",
       "      <td>71.769231</td>\n",
       "      <td>0.396204</td>\n",
       "      <td>0.359630</td>\n",
       "      <td>0.313961</td>\n",
       "      <td>0.593128</td>\n",
       "      <td>0.035770</td>\n",
       "      <td>1.870235</td>\n",
       "    </tr>\n",
       "    <tr>\n",
       "      <th>4</th>\n",
       "      <td>2003</td>\n",
       "      <td>1106</td>\n",
       "      <td>0.464286</td>\n",
       "      <td>0.535714</td>\n",
       "      <td>63.607143</td>\n",
       "      <td>0.425530</td>\n",
       "      <td>0.350196</td>\n",
       "      <td>0.267514</td>\n",
       "      <td>0.496643</td>\n",
       "      <td>0.057098</td>\n",
       "      <td>1.982275</td>\n",
       "    </tr>\n",
       "    <tr>\n",
       "      <th>...</th>\n",
       "      <td>...</td>\n",
       "      <td>...</td>\n",
       "      <td>...</td>\n",
       "      <td>...</td>\n",
       "      <td>...</td>\n",
       "      <td>...</td>\n",
       "      <td>...</td>\n",
       "      <td>...</td>\n",
       "      <td>...</td>\n",
       "      <td>...</td>\n",
       "      <td>...</td>\n",
       "    </tr>\n",
       "    <tr>\n",
       "      <th>5824</th>\n",
       "      <td>2019</td>\n",
       "      <td>1462</td>\n",
       "      <td>0.545455</td>\n",
       "      <td>0.454545</td>\n",
       "      <td>71.878788</td>\n",
       "      <td>0.469058</td>\n",
       "      <td>0.332474</td>\n",
       "      <td>0.269279</td>\n",
       "      <td>0.567454</td>\n",
       "      <td>0.063174</td>\n",
       "      <td>2.814150</td>\n",
       "    </tr>\n",
       "    <tr>\n",
       "      <th>5825</th>\n",
       "      <td>2019</td>\n",
       "      <td>1463</td>\n",
       "      <td>0.724138</td>\n",
       "      <td>0.275862</td>\n",
       "      <td>80.655172</td>\n",
       "      <td>0.492457</td>\n",
       "      <td>0.365891</td>\n",
       "      <td>0.262077</td>\n",
       "      <td>0.556095</td>\n",
       "      <td>0.069174</td>\n",
       "      <td>2.989768</td>\n",
       "    </tr>\n",
       "    <tr>\n",
       "      <th>5826</th>\n",
       "      <td>2019</td>\n",
       "      <td>1464</td>\n",
       "      <td>0.333333</td>\n",
       "      <td>0.666667</td>\n",
       "      <td>73.500000</td>\n",
       "      <td>0.422696</td>\n",
       "      <td>0.348279</td>\n",
       "      <td>0.362828</td>\n",
       "      <td>0.510154</td>\n",
       "      <td>0.058399</td>\n",
       "      <td>2.547368</td>\n",
       "    </tr>\n",
       "    <tr>\n",
       "      <th>5827</th>\n",
       "      <td>2019</td>\n",
       "      <td>1465</td>\n",
       "      <td>0.461538</td>\n",
       "      <td>0.538462</td>\n",
       "      <td>75.461538</td>\n",
       "      <td>0.444370</td>\n",
       "      <td>0.351052</td>\n",
       "      <td>0.334874</td>\n",
       "      <td>0.401812</td>\n",
       "      <td>0.044321</td>\n",
       "      <td>3.026695</td>\n",
       "    </tr>\n",
       "    <tr>\n",
       "      <th>5828</th>\n",
       "      <td>2019</td>\n",
       "      <td>1466</td>\n",
       "      <td>0.241379</td>\n",
       "      <td>0.758621</td>\n",
       "      <td>65.620690</td>\n",
       "      <td>0.384144</td>\n",
       "      <td>0.295101</td>\n",
       "      <td>0.318489</td>\n",
       "      <td>0.448570</td>\n",
       "      <td>0.038411</td>\n",
       "      <td>2.413262</td>\n",
       "    </tr>\n",
       "  </tbody>\n",
       "</table>\n",
       "<p>5829 rows × 11 columns</p>\n",
       "</div>"
      ],
      "text/plain": [
       "      Season  TeamID  PourVictoire  PourcDefaite      Score       Pre  \\\n",
       "0       2003    1102      0.428571      0.571429  57.250000  0.486149   \n",
       "1       2003    1103      0.481481      0.518519  78.777778  0.487294   \n",
       "2       2003    1104      0.586207      0.413793  69.034483  0.419794   \n",
       "3       2003    1105      0.269231      0.730769  71.769231  0.396204   \n",
       "4       2003    1106      0.464286      0.535714  63.607143  0.425530   \n",
       "...      ...     ...           ...           ...        ...       ...   \n",
       "5824    2019    1462      0.545455      0.454545  71.878788  0.469058   \n",
       "5825    2019    1463      0.724138      0.275862  80.655172  0.492457   \n",
       "5826    2019    1464      0.333333      0.666667  73.500000  0.422696   \n",
       "5827    2019    1465      0.461538      0.538462  75.461538  0.444370   \n",
       "5828    2019    1466      0.241379      0.758621  65.620690  0.384144   \n",
       "\n",
       "          Pre3    Pourc3  PourcAst    Blocks  RecupBall  \n",
       "0     0.367637  0.400838  0.665276  0.041016   2.245848  \n",
       "1     0.331990  0.207162  0.560276  0.042180   2.261533  \n",
       "2     0.328588  0.268179  0.507395  0.069374   2.459889  \n",
       "3     0.359630  0.313961  0.593128  0.035770   1.870235  \n",
       "4     0.350196  0.267514  0.496643  0.057098   1.982275  \n",
       "...        ...       ...       ...       ...        ...  \n",
       "5824  0.332474  0.269279  0.567454  0.063174   2.814150  \n",
       "5825  0.365891  0.262077  0.556095  0.069174   2.989768  \n",
       "5826  0.348279  0.362828  0.510154  0.058399   2.547368  \n",
       "5827  0.351052  0.334874  0.401812  0.044321   3.026695  \n",
       "5828  0.295101  0.318489  0.448570  0.038411   2.413262  \n",
       "\n",
       "[5829 rows x 11 columns]"
      ]
     },
     "execution_count": 24,
     "metadata": {},
     "output_type": "execute_result"
    }
   ],
   "source": [
    "Features"
   ]
  },
  {
   "cell_type": "code",
   "execution_count": null,
   "metadata": {
    "ExecuteTime": {
     "end_time": "2020-03-27T10:51:32.592624Z",
     "start_time": "2020-03-27T10:49:02.716Z"
    }
   },
   "outputs": [],
   "source": [
    "#Features.to_csv(\"Perfo_features.csv\")"
   ]
  },
  {
   "cell_type": "markdown",
   "metadata": {
    "ExecuteTime": {
     "end_time": "2020-03-26T19:01:57.343068Z",
     "start_time": "2020-03-26T19:01:57.274661Z"
    }
   },
   "source": [
    "## Features de Seed"
   ]
  },
  {
   "cell_type": "code",
   "execution_count": 25,
   "metadata": {
    "ExecuteTime": {
     "end_time": "2020-03-27T10:52:59.462750Z",
     "start_time": "2020-03-27T10:52:59.416986Z"
    }
   },
   "outputs": [],
   "source": [
    "tourney_seed = pd.read_csv('data/Stage1/MNCAATourneySeeds.csv')"
   ]
  },
  {
   "cell_type": "code",
   "execution_count": 26,
   "metadata": {
    "ExecuteTime": {
     "end_time": "2020-03-27T10:53:00.456152Z",
     "start_time": "2020-03-27T10:53:00.428066Z"
    }
   },
   "outputs": [
    {
     "data": {
      "text/html": [
       "<div>\n",
       "<style scoped>\n",
       "    .dataframe tbody tr th:only-of-type {\n",
       "        vertical-align: middle;\n",
       "    }\n",
       "\n",
       "    .dataframe tbody tr th {\n",
       "        vertical-align: top;\n",
       "    }\n",
       "\n",
       "    .dataframe thead th {\n",
       "        text-align: right;\n",
       "    }\n",
       "</style>\n",
       "<table border=\"1\" class=\"dataframe\">\n",
       "  <thead>\n",
       "    <tr style=\"text-align: right;\">\n",
       "      <th></th>\n",
       "      <th>Season</th>\n",
       "      <th>Seed</th>\n",
       "      <th>TeamID</th>\n",
       "    </tr>\n",
       "  </thead>\n",
       "  <tbody>\n",
       "    <tr>\n",
       "      <th>0</th>\n",
       "      <td>1985</td>\n",
       "      <td>W01</td>\n",
       "      <td>1207</td>\n",
       "    </tr>\n",
       "    <tr>\n",
       "      <th>1</th>\n",
       "      <td>1985</td>\n",
       "      <td>W02</td>\n",
       "      <td>1210</td>\n",
       "    </tr>\n",
       "    <tr>\n",
       "      <th>2</th>\n",
       "      <td>1985</td>\n",
       "      <td>W03</td>\n",
       "      <td>1228</td>\n",
       "    </tr>\n",
       "    <tr>\n",
       "      <th>3</th>\n",
       "      <td>1985</td>\n",
       "      <td>W04</td>\n",
       "      <td>1260</td>\n",
       "    </tr>\n",
       "    <tr>\n",
       "      <th>4</th>\n",
       "      <td>1985</td>\n",
       "      <td>W05</td>\n",
       "      <td>1374</td>\n",
       "    </tr>\n",
       "    <tr>\n",
       "      <th>...</th>\n",
       "      <td>...</td>\n",
       "      <td>...</td>\n",
       "      <td>...</td>\n",
       "    </tr>\n",
       "    <tr>\n",
       "      <th>2281</th>\n",
       "      <td>2019</td>\n",
       "      <td>Z12</td>\n",
       "      <td>1332</td>\n",
       "    </tr>\n",
       "    <tr>\n",
       "      <th>2282</th>\n",
       "      <td>2019</td>\n",
       "      <td>Z13</td>\n",
       "      <td>1414</td>\n",
       "    </tr>\n",
       "    <tr>\n",
       "      <th>2283</th>\n",
       "      <td>2019</td>\n",
       "      <td>Z14</td>\n",
       "      <td>1330</td>\n",
       "    </tr>\n",
       "    <tr>\n",
       "      <th>2284</th>\n",
       "      <td>2019</td>\n",
       "      <td>Z15</td>\n",
       "      <td>1159</td>\n",
       "    </tr>\n",
       "    <tr>\n",
       "      <th>2285</th>\n",
       "      <td>2019</td>\n",
       "      <td>Z16</td>\n",
       "      <td>1205</td>\n",
       "    </tr>\n",
       "  </tbody>\n",
       "</table>\n",
       "<p>2286 rows × 3 columns</p>\n",
       "</div>"
      ],
      "text/plain": [
       "      Season Seed  TeamID\n",
       "0       1985  W01    1207\n",
       "1       1985  W02    1210\n",
       "2       1985  W03    1228\n",
       "3       1985  W04    1260\n",
       "4       1985  W05    1374\n",
       "...      ...  ...     ...\n",
       "2281    2019  Z12    1332\n",
       "2282    2019  Z13    1414\n",
       "2283    2019  Z14    1330\n",
       "2284    2019  Z15    1159\n",
       "2285    2019  Z16    1205\n",
       "\n",
       "[2286 rows x 3 columns]"
      ]
     },
     "execution_count": 26,
     "metadata": {},
     "output_type": "execute_result"
    }
   ],
   "source": [
    "tourney_seed"
   ]
  },
  {
   "cell_type": "code",
   "execution_count": 27,
   "metadata": {
    "ExecuteTime": {
     "end_time": "2020-03-27T10:53:01.360046Z",
     "start_time": "2020-03-27T10:53:01.281107Z"
    }
   },
   "outputs": [],
   "source": [
    "tourney_result = pd.merge(df, tourney_seed, left_on=['Season', 'Team0_ID'], right_on=['Season', 'TeamID'], how='left')\n",
    "tourney_result.rename(columns={'Seed':'SeedT1'}, inplace=True)\n",
    "tourney_result = tourney_result.drop('TeamID', axis=1)\n",
    "tourney_result = pd.merge(tourney_result, tourney_seed, left_on=['Season', 'Team1_ID'], right_on=['Season', 'TeamID'], how='left')\n",
    "tourney_result.rename(columns={'Seed':'SeedT2'}, inplace=True)\n",
    "tourney_result = tourney_result.drop('TeamID', axis=1)"
   ]
  },
  {
   "cell_type": "code",
   "execution_count": 28,
   "metadata": {
    "ExecuteTime": {
     "end_time": "2020-03-27T10:53:02.227085Z",
     "start_time": "2020-03-27T10:53:02.208471Z"
    }
   },
   "outputs": [
    {
     "data": {
      "text/html": [
       "<div>\n",
       "<style scoped>\n",
       "    .dataframe tbody tr th:only-of-type {\n",
       "        vertical-align: middle;\n",
       "    }\n",
       "\n",
       "    .dataframe tbody tr th {\n",
       "        vertical-align: top;\n",
       "    }\n",
       "\n",
       "    .dataframe thead th {\n",
       "        text-align: right;\n",
       "    }\n",
       "</style>\n",
       "<table border=\"1\" class=\"dataframe\">\n",
       "  <thead>\n",
       "    <tr style=\"text-align: right;\">\n",
       "      <th></th>\n",
       "      <th>Season</th>\n",
       "      <th>DayNum</th>\n",
       "      <th>Team0_ID</th>\n",
       "      <th>Team1_ID</th>\n",
       "      <th>SeedT1</th>\n",
       "      <th>SeedT2</th>\n",
       "    </tr>\n",
       "  </thead>\n",
       "  <tbody>\n",
       "    <tr>\n",
       "      <th>0</th>\n",
       "      <td>2003</td>\n",
       "      <td>134</td>\n",
       "      <td>1411</td>\n",
       "      <td>1421</td>\n",
       "      <td>X16a</td>\n",
       "      <td>X16b</td>\n",
       "    </tr>\n",
       "    <tr>\n",
       "      <th>1</th>\n",
       "      <td>2003</td>\n",
       "      <td>136</td>\n",
       "      <td>1112</td>\n",
       "      <td>1436</td>\n",
       "      <td>Z01</td>\n",
       "      <td>Z16</td>\n",
       "    </tr>\n",
       "    <tr>\n",
       "      <th>2</th>\n",
       "      <td>2003</td>\n",
       "      <td>136</td>\n",
       "      <td>1113</td>\n",
       "      <td>1272</td>\n",
       "      <td>Z10</td>\n",
       "      <td>Z07</td>\n",
       "    </tr>\n",
       "    <tr>\n",
       "      <th>3</th>\n",
       "      <td>2003</td>\n",
       "      <td>136</td>\n",
       "      <td>1141</td>\n",
       "      <td>1166</td>\n",
       "      <td>Z11</td>\n",
       "      <td>Z06</td>\n",
       "    </tr>\n",
       "    <tr>\n",
       "      <th>4</th>\n",
       "      <td>2003</td>\n",
       "      <td>136</td>\n",
       "      <td>1143</td>\n",
       "      <td>1301</td>\n",
       "      <td>W08</td>\n",
       "      <td>W09</td>\n",
       "    </tr>\n",
       "    <tr>\n",
       "      <th>...</th>\n",
       "      <td>...</td>\n",
       "      <td>...</td>\n",
       "      <td>...</td>\n",
       "      <td>...</td>\n",
       "      <td>...</td>\n",
       "      <td>...</td>\n",
       "    </tr>\n",
       "    <tr>\n",
       "      <th>88614</th>\n",
       "      <td>2019</td>\n",
       "      <td>132</td>\n",
       "      <td>1153</td>\n",
       "      <td>1222</td>\n",
       "      <td>Z07</td>\n",
       "      <td>Y03</td>\n",
       "    </tr>\n",
       "    <tr>\n",
       "      <th>88615</th>\n",
       "      <td>2019</td>\n",
       "      <td>132</td>\n",
       "      <td>1209</td>\n",
       "      <td>1426</td>\n",
       "      <td>Y14</td>\n",
       "      <td>NaN</td>\n",
       "    </tr>\n",
       "    <tr>\n",
       "      <th>88616</th>\n",
       "      <td>2019</td>\n",
       "      <td>132</td>\n",
       "      <td>1276</td>\n",
       "      <td>1277</td>\n",
       "      <td>X02</td>\n",
       "      <td>W02</td>\n",
       "    </tr>\n",
       "    <tr>\n",
       "      <th>88617</th>\n",
       "      <td>2019</td>\n",
       "      <td>132</td>\n",
       "      <td>1382</td>\n",
       "      <td>1387</td>\n",
       "      <td>NaN</td>\n",
       "      <td>W13</td>\n",
       "    </tr>\n",
       "    <tr>\n",
       "      <th>88618</th>\n",
       "      <td>2019</td>\n",
       "      <td>132</td>\n",
       "      <td>1217</td>\n",
       "      <td>1463</td>\n",
       "      <td>NaN</td>\n",
       "      <td>W14</td>\n",
       "    </tr>\n",
       "  </tbody>\n",
       "</table>\n",
       "<p>88619 rows × 6 columns</p>\n",
       "</div>"
      ],
      "text/plain": [
       "       Season  DayNum  Team0_ID  Team1_ID SeedT1 SeedT2\n",
       "0        2003     134      1411      1421   X16a   X16b\n",
       "1        2003     136      1112      1436    Z01    Z16\n",
       "2        2003     136      1113      1272    Z10    Z07\n",
       "3        2003     136      1141      1166    Z11    Z06\n",
       "4        2003     136      1143      1301    W08    W09\n",
       "...       ...     ...       ...       ...    ...    ...\n",
       "88614    2019     132      1153      1222    Z07    Y03\n",
       "88615    2019     132      1209      1426    Y14    NaN\n",
       "88616    2019     132      1276      1277    X02    W02\n",
       "88617    2019     132      1382      1387    NaN    W13\n",
       "88618    2019     132      1217      1463    NaN    W14\n",
       "\n",
       "[88619 rows x 6 columns]"
      ]
     },
     "execution_count": 28,
     "metadata": {},
     "output_type": "execute_result"
    }
   ],
   "source": [
    "tourney_result"
   ]
  },
  {
   "cell_type": "code",
   "execution_count": 29,
   "metadata": {
    "ExecuteTime": {
     "end_time": "2020-03-27T10:53:03.215051Z",
     "start_time": "2020-03-27T10:53:03.142494Z"
    }
   },
   "outputs": [],
   "source": [
    "tourney_result = pd.merge(tourney_result,Features,left_on = ['Season','Team0_ID'], right_on=['Season','TeamID'], how='left')\n",
    "tourney_result = pd.merge(tourney_result,Features,left_on = ['Season','Team1_ID'], right_on=['Season','TeamID'], how='left')"
   ]
  },
  {
   "cell_type": "code",
   "execution_count": 30,
   "metadata": {
    "ExecuteTime": {
     "end_time": "2020-03-27T10:53:04.010345Z",
     "start_time": "2020-03-27T10:53:03.969205Z"
    }
   },
   "outputs": [
    {
     "data": {
      "text/plain": [
       "Season                0\n",
       "DayNum                0\n",
       "Team0_ID              0\n",
       "Team1_ID              0\n",
       "SeedT1            70016\n",
       "SeedT2            69138\n",
       "TeamID_x             58\n",
       "PourVictoire_x       58\n",
       "PourcDefaite_x       58\n",
       "Score_x              58\n",
       "Pre_x                58\n",
       "Pre3_x               58\n",
       "Pourc3_x             58\n",
       "PourcAst_x           58\n",
       "Blocks_x             58\n",
       "RecupBall_x          58\n",
       "TeamID_y             82\n",
       "PourVictoire_y       82\n",
       "PourcDefaite_y       82\n",
       "Score_y              82\n",
       "Pre_y                82\n",
       "Pre3_y               82\n",
       "Pourc3_y             82\n",
       "PourcAst_y           82\n",
       "Blocks_y             82\n",
       "RecupBall_y          82\n",
       "dtype: int64"
      ]
     },
     "execution_count": 30,
     "metadata": {},
     "output_type": "execute_result"
    }
   ],
   "source": [
    "tourney_result.isnull().sum()"
   ]
  },
  {
   "cell_type": "code",
   "execution_count": 31,
   "metadata": {
    "ExecuteTime": {
     "end_time": "2020-03-27T10:53:05.077353Z",
     "start_time": "2020-03-27T10:53:05.048568Z"
    }
   },
   "outputs": [],
   "source": [
    "tourney_result=tourney_result.dropna()"
   ]
  },
  {
   "cell_type": "code",
   "execution_count": 32,
   "metadata": {
    "ExecuteTime": {
     "end_time": "2020-03-27T10:53:11.646793Z",
     "start_time": "2020-03-27T10:53:11.632058Z"
    }
   },
   "outputs": [],
   "source": [
    "def get_seed(x):\n",
    "    return str(x[0])\n",
    "\n",
    "tourney_result['ConfT1'] = tourney_result['SeedT1'].map(lambda x: get_seed(x))\n",
    "tourney_result['ConfT2'] = tourney_result['SeedT2'].map(lambda x: get_seed(x))"
   ]
  },
  {
   "cell_type": "code",
   "execution_count": 33,
   "metadata": {
    "ExecuteTime": {
     "end_time": "2020-03-27T10:53:12.564543Z",
     "start_time": "2020-03-27T10:53:12.545356Z"
    }
   },
   "outputs": [],
   "source": [
    "def get_seed(x):\n",
    "    return int(x[1:3])\n",
    "\n",
    "tourney_result['SeedT1'] = tourney_result['SeedT1'].map(lambda x: get_seed(x))\n",
    "tourney_result['SeedT2'] = tourney_result['SeedT2'].map(lambda x: get_seed(x))"
   ]
  },
  {
   "cell_type": "code",
   "execution_count": 34,
   "metadata": {
    "ExecuteTime": {
     "end_time": "2020-03-27T10:53:13.228405Z",
     "start_time": "2020-03-27T10:53:13.224184Z"
    }
   },
   "outputs": [],
   "source": [
    "tourney_result['Seed_diff'] = tourney_result['SeedT1'] - tourney_result['SeedT2']"
   ]
  },
  {
   "cell_type": "code",
   "execution_count": 35,
   "metadata": {
    "ExecuteTime": {
     "end_time": "2020-03-27T10:53:13.971085Z",
     "start_time": "2020-03-27T10:53:13.966892Z"
    }
   },
   "outputs": [],
   "source": [
    "tourney_result = tourney_result.reset_index(drop = True)"
   ]
  },
  {
   "cell_type": "code",
   "execution_count": 36,
   "metadata": {
    "ExecuteTime": {
     "end_time": "2020-03-27T10:53:18.112875Z",
     "start_time": "2020-03-27T10:53:14.711874Z"
    }
   },
   "outputs": [],
   "source": [
    "from sklearn import preprocessing\n",
    "from sklearn.preprocessing import OneHotEncoder"
   ]
  },
  {
   "cell_type": "code",
   "execution_count": 37,
   "metadata": {
    "ExecuteTime": {
     "end_time": "2020-03-27T10:53:18.149206Z",
     "start_time": "2020-03-27T10:53:18.115207Z"
    }
   },
   "outputs": [],
   "source": [
    "from sklearn.preprocessing import LabelBinarizer\n",
    "\n",
    "jobs_encoder = LabelBinarizer()\n",
    "jobs_encoder.fit(tourney_result['ConfT1'])\n",
    "transformed = jobs_encoder.transform(tourney_result['ConfT1'])\n",
    "ohe_df = pd.DataFrame(transformed)\n",
    "tourney_result = pd.concat([tourney_result, ohe_df], axis=1)"
   ]
  },
  {
   "cell_type": "code",
   "execution_count": 38,
   "metadata": {
    "ExecuteTime": {
     "end_time": "2020-03-27T10:53:18.237076Z",
     "start_time": "2020-03-27T10:53:18.152888Z"
    }
   },
   "outputs": [],
   "source": [
    "tourney_result.rename(columns={0:'W1',1:'X1',2:'Z1',3:'Y1'}, inplace=True)"
   ]
  },
  {
   "cell_type": "code",
   "execution_count": 39,
   "metadata": {
    "ExecuteTime": {
     "end_time": "2020-03-27T10:53:18.873241Z",
     "start_time": "2020-03-27T10:53:18.864140Z"
    }
   },
   "outputs": [],
   "source": [
    "tourney_result = tourney_result.drop('ConfT1', axis=1)"
   ]
  },
  {
   "cell_type": "code",
   "execution_count": 40,
   "metadata": {
    "ExecuteTime": {
     "end_time": "2020-03-27T10:53:19.740960Z",
     "start_time": "2020-03-27T10:53:19.703019Z"
    }
   },
   "outputs": [],
   "source": [
    "jobs_encoder = LabelBinarizer()\n",
    "jobs_encoder.fit(tourney_result['ConfT2'])\n",
    "transformed = jobs_encoder.transform(tourney_result['ConfT2'])\n",
    "ohe_df = pd.DataFrame(transformed)\n",
    "tourney_result = pd.concat([tourney_result, ohe_df], axis=1)"
   ]
  },
  {
   "cell_type": "code",
   "execution_count": 41,
   "metadata": {
    "ExecuteTime": {
     "end_time": "2020-03-27T10:53:20.488953Z",
     "start_time": "2020-03-27T10:53:20.481678Z"
    }
   },
   "outputs": [],
   "source": [
    "tourney_result.rename(columns={0:'W2',1:'X2',2:'Z2',3:'Y2'}, inplace=True)"
   ]
  },
  {
   "cell_type": "code",
   "execution_count": 42,
   "metadata": {
    "ExecuteTime": {
     "end_time": "2020-03-27T10:53:21.259337Z",
     "start_time": "2020-03-27T10:53:21.251096Z"
    }
   },
   "outputs": [],
   "source": [
    "tourney_result=tourney_result.drop('ConfT2', axis=1)"
   ]
  },
  {
   "cell_type": "code",
   "execution_count": 43,
   "metadata": {
    "ExecuteTime": {
     "end_time": "2020-03-27T10:53:22.014313Z",
     "start_time": "2020-03-27T10:53:22.011172Z"
    }
   },
   "outputs": [],
   "source": [
    "#tourney_result.to_csv('df.csv',sep='\\t',index=False)"
   ]
  },
  {
   "cell_type": "code",
   "execution_count": null,
   "metadata": {},
   "outputs": [],
   "source": []
  },
  {
   "cell_type": "markdown",
   "metadata": {},
   "source": [
    "# Modélisation et apprentissage"
   ]
  },
  {
   "cell_type": "markdown",
   "metadata": {},
   "source": [
    "## Données test pour l'apprentissage"
   ]
  },
  {
   "cell_type": "code",
   "execution_count": 44,
   "metadata": {
    "ExecuteTime": {
     "end_time": "2020-03-27T10:53:28.226494Z",
     "start_time": "2020-03-27T10:53:28.180444Z"
    }
   },
   "outputs": [
    {
     "data": {
      "text/html": [
       "<div>\n",
       "<style scoped>\n",
       "    .dataframe tbody tr th:only-of-type {\n",
       "        vertical-align: middle;\n",
       "    }\n",
       "\n",
       "    .dataframe tbody tr th {\n",
       "        vertical-align: top;\n",
       "    }\n",
       "\n",
       "    .dataframe thead th {\n",
       "        text-align: right;\n",
       "    }\n",
       "</style>\n",
       "<table border=\"1\" class=\"dataframe\">\n",
       "  <thead>\n",
       "    <tr style=\"text-align: right;\">\n",
       "      <th></th>\n",
       "      <th>Season</th>\n",
       "      <th>DayNum</th>\n",
       "      <th>Team0_ID</th>\n",
       "      <th>Team1_ID</th>\n",
       "      <th>SeedT1</th>\n",
       "      <th>SeedT2</th>\n",
       "      <th>TeamID_x</th>\n",
       "      <th>PourVictoire_x</th>\n",
       "      <th>PourcDefaite_x</th>\n",
       "      <th>Score_x</th>\n",
       "      <th>...</th>\n",
       "      <th>RecupBall_y</th>\n",
       "      <th>Seed_diff</th>\n",
       "      <th>W1</th>\n",
       "      <th>X1</th>\n",
       "      <th>Z1</th>\n",
       "      <th>Y1</th>\n",
       "      <th>W2</th>\n",
       "      <th>X2</th>\n",
       "      <th>Z2</th>\n",
       "      <th>Y2</th>\n",
       "    </tr>\n",
       "  </thead>\n",
       "  <tbody>\n",
       "    <tr>\n",
       "      <th>0</th>\n",
       "      <td>2003</td>\n",
       "      <td>134</td>\n",
       "      <td>1411</td>\n",
       "      <td>1421</td>\n",
       "      <td>16</td>\n",
       "      <td>16</td>\n",
       "      <td>1411.0</td>\n",
       "      <td>0.580645</td>\n",
       "      <td>0.419355</td>\n",
       "      <td>73.161290</td>\n",
       "      <td>...</td>\n",
       "      <td>2.104278</td>\n",
       "      <td>0</td>\n",
       "      <td>0</td>\n",
       "      <td>1</td>\n",
       "      <td>0</td>\n",
       "      <td>0</td>\n",
       "      <td>0</td>\n",
       "      <td>1</td>\n",
       "      <td>0</td>\n",
       "      <td>0</td>\n",
       "    </tr>\n",
       "    <tr>\n",
       "      <th>1</th>\n",
       "      <td>2003</td>\n",
       "      <td>136</td>\n",
       "      <td>1112</td>\n",
       "      <td>1436</td>\n",
       "      <td>1</td>\n",
       "      <td>16</td>\n",
       "      <td>1112.0</td>\n",
       "      <td>0.875000</td>\n",
       "      <td>0.125000</td>\n",
       "      <td>85.156250</td>\n",
       "      <td>...</td>\n",
       "      <td>2.430816</td>\n",
       "      <td>-15</td>\n",
       "      <td>0</td>\n",
       "      <td>0</td>\n",
       "      <td>0</td>\n",
       "      <td>1</td>\n",
       "      <td>0</td>\n",
       "      <td>0</td>\n",
       "      <td>0</td>\n",
       "      <td>1</td>\n",
       "    </tr>\n",
       "    <tr>\n",
       "      <th>2</th>\n",
       "      <td>2003</td>\n",
       "      <td>136</td>\n",
       "      <td>1113</td>\n",
       "      <td>1272</td>\n",
       "      <td>10</td>\n",
       "      <td>7</td>\n",
       "      <td>1113.0</td>\n",
       "      <td>0.612903</td>\n",
       "      <td>0.387097</td>\n",
       "      <td>76.225806</td>\n",
       "      <td>...</td>\n",
       "      <td>2.605359</td>\n",
       "      <td>3</td>\n",
       "      <td>0</td>\n",
       "      <td>0</td>\n",
       "      <td>0</td>\n",
       "      <td>1</td>\n",
       "      <td>0</td>\n",
       "      <td>0</td>\n",
       "      <td>0</td>\n",
       "      <td>1</td>\n",
       "    </tr>\n",
       "    <tr>\n",
       "      <th>3</th>\n",
       "      <td>2003</td>\n",
       "      <td>136</td>\n",
       "      <td>1141</td>\n",
       "      <td>1166</td>\n",
       "      <td>11</td>\n",
       "      <td>6</td>\n",
       "      <td>1141.0</td>\n",
       "      <td>0.774194</td>\n",
       "      <td>0.225806</td>\n",
       "      <td>78.709677</td>\n",
       "      <td>...</td>\n",
       "      <td>2.460588</td>\n",
       "      <td>5</td>\n",
       "      <td>0</td>\n",
       "      <td>0</td>\n",
       "      <td>0</td>\n",
       "      <td>1</td>\n",
       "      <td>0</td>\n",
       "      <td>0</td>\n",
       "      <td>0</td>\n",
       "      <td>1</td>\n",
       "    </tr>\n",
       "    <tr>\n",
       "      <th>4</th>\n",
       "      <td>2003</td>\n",
       "      <td>136</td>\n",
       "      <td>1143</td>\n",
       "      <td>1301</td>\n",
       "      <td>8</td>\n",
       "      <td>9</td>\n",
       "      <td>1143.0</td>\n",
       "      <td>0.709677</td>\n",
       "      <td>0.290323</td>\n",
       "      <td>74.225806</td>\n",
       "      <td>...</td>\n",
       "      <td>2.209694</td>\n",
       "      <td>-1</td>\n",
       "      <td>1</td>\n",
       "      <td>0</td>\n",
       "      <td>0</td>\n",
       "      <td>0</td>\n",
       "      <td>1</td>\n",
       "      <td>0</td>\n",
       "      <td>0</td>\n",
       "      <td>0</td>\n",
       "    </tr>\n",
       "    <tr>\n",
       "      <th>...</th>\n",
       "      <td>...</td>\n",
       "      <td>...</td>\n",
       "      <td>...</td>\n",
       "      <td>...</td>\n",
       "      <td>...</td>\n",
       "      <td>...</td>\n",
       "      <td>...</td>\n",
       "      <td>...</td>\n",
       "      <td>...</td>\n",
       "      <td>...</td>\n",
       "      <td>...</td>\n",
       "      <td>...</td>\n",
       "      <td>...</td>\n",
       "      <td>...</td>\n",
       "      <td>...</td>\n",
       "      <td>...</td>\n",
       "      <td>...</td>\n",
       "      <td>...</td>\n",
       "      <td>...</td>\n",
       "      <td>...</td>\n",
       "      <td>...</td>\n",
       "    </tr>\n",
       "    <tr>\n",
       "      <th>6067</th>\n",
       "      <td>2019</td>\n",
       "      <td>131</td>\n",
       "      <td>1246</td>\n",
       "      <td>1397</td>\n",
       "      <td>2</td>\n",
       "      <td>2</td>\n",
       "      <td>1246.0</td>\n",
       "      <td>0.810811</td>\n",
       "      <td>0.189189</td>\n",
       "      <td>75.837838</td>\n",
       "      <td>...</td>\n",
       "      <td>3.240449</td>\n",
       "      <td>0</td>\n",
       "      <td>0</td>\n",
       "      <td>0</td>\n",
       "      <td>1</td>\n",
       "      <td>0</td>\n",
       "      <td>0</td>\n",
       "      <td>0</td>\n",
       "      <td>0</td>\n",
       "      <td>1</td>\n",
       "    </tr>\n",
       "    <tr>\n",
       "      <th>6068</th>\n",
       "      <td>2019</td>\n",
       "      <td>131</td>\n",
       "      <td>1371</td>\n",
       "      <td>1437</td>\n",
       "      <td>10</td>\n",
       "      <td>6</td>\n",
       "      <td>1371.0</td>\n",
       "      <td>0.588235</td>\n",
       "      <td>0.411765</td>\n",
       "      <td>73.764706</td>\n",
       "      <td>...</td>\n",
       "      <td>3.002981</td>\n",
       "      <td>4</td>\n",
       "      <td>0</td>\n",
       "      <td>0</td>\n",
       "      <td>1</td>\n",
       "      <td>0</td>\n",
       "      <td>0</td>\n",
       "      <td>0</td>\n",
       "      <td>0</td>\n",
       "      <td>1</td>\n",
       "    </tr>\n",
       "    <tr>\n",
       "      <th>6069</th>\n",
       "      <td>2019</td>\n",
       "      <td>132</td>\n",
       "      <td>1120</td>\n",
       "      <td>1397</td>\n",
       "      <td>5</td>\n",
       "      <td>2</td>\n",
       "      <td>1120.0</td>\n",
       "      <td>0.743590</td>\n",
       "      <td>0.256410</td>\n",
       "      <td>79.102564</td>\n",
       "      <td>...</td>\n",
       "      <td>3.240449</td>\n",
       "      <td>3</td>\n",
       "      <td>0</td>\n",
       "      <td>0</td>\n",
       "      <td>1</td>\n",
       "      <td>0</td>\n",
       "      <td>0</td>\n",
       "      <td>0</td>\n",
       "      <td>0</td>\n",
       "      <td>1</td>\n",
       "    </tr>\n",
       "    <tr>\n",
       "      <th>6070</th>\n",
       "      <td>2019</td>\n",
       "      <td>132</td>\n",
       "      <td>1153</td>\n",
       "      <td>1222</td>\n",
       "      <td>7</td>\n",
       "      <td>3</td>\n",
       "      <td>1153.0</td>\n",
       "      <td>0.800000</td>\n",
       "      <td>0.200000</td>\n",
       "      <td>71.714286</td>\n",
       "      <td>...</td>\n",
       "      <td>3.416474</td>\n",
       "      <td>4</td>\n",
       "      <td>0</td>\n",
       "      <td>0</td>\n",
       "      <td>0</td>\n",
       "      <td>1</td>\n",
       "      <td>0</td>\n",
       "      <td>0</td>\n",
       "      <td>1</td>\n",
       "      <td>0</td>\n",
       "    </tr>\n",
       "    <tr>\n",
       "      <th>6071</th>\n",
       "      <td>2019</td>\n",
       "      <td>132</td>\n",
       "      <td>1276</td>\n",
       "      <td>1277</td>\n",
       "      <td>2</td>\n",
       "      <td>2</td>\n",
       "      <td>1276.0</td>\n",
       "      <td>0.810811</td>\n",
       "      <td>0.189189</td>\n",
       "      <td>69.594595</td>\n",
       "      <td>...</td>\n",
       "      <td>3.110415</td>\n",
       "      <td>0</td>\n",
       "      <td>0</td>\n",
       "      <td>1</td>\n",
       "      <td>0</td>\n",
       "      <td>0</td>\n",
       "      <td>1</td>\n",
       "      <td>0</td>\n",
       "      <td>0</td>\n",
       "      <td>0</td>\n",
       "    </tr>\n",
       "  </tbody>\n",
       "</table>\n",
       "<p>6072 rows × 35 columns</p>\n",
       "</div>"
      ],
      "text/plain": [
       "      Season  DayNum  Team0_ID  Team1_ID  SeedT1  SeedT2  TeamID_x  \\\n",
       "0       2003     134      1411      1421      16      16    1411.0   \n",
       "1       2003     136      1112      1436       1      16    1112.0   \n",
       "2       2003     136      1113      1272      10       7    1113.0   \n",
       "3       2003     136      1141      1166      11       6    1141.0   \n",
       "4       2003     136      1143      1301       8       9    1143.0   \n",
       "...      ...     ...       ...       ...     ...     ...       ...   \n",
       "6067    2019     131      1246      1397       2       2    1246.0   \n",
       "6068    2019     131      1371      1437      10       6    1371.0   \n",
       "6069    2019     132      1120      1397       5       2    1120.0   \n",
       "6070    2019     132      1153      1222       7       3    1153.0   \n",
       "6071    2019     132      1276      1277       2       2    1276.0   \n",
       "\n",
       "      PourVictoire_x  PourcDefaite_x    Score_x  ...  RecupBall_y  Seed_diff  \\\n",
       "0           0.580645        0.419355  73.161290  ...     2.104278          0   \n",
       "1           0.875000        0.125000  85.156250  ...     2.430816        -15   \n",
       "2           0.612903        0.387097  76.225806  ...     2.605359          3   \n",
       "3           0.774194        0.225806  78.709677  ...     2.460588          5   \n",
       "4           0.709677        0.290323  74.225806  ...     2.209694         -1   \n",
       "...              ...             ...        ...  ...          ...        ...   \n",
       "6067        0.810811        0.189189  75.837838  ...     3.240449          0   \n",
       "6068        0.588235        0.411765  73.764706  ...     3.002981          4   \n",
       "6069        0.743590        0.256410  79.102564  ...     3.240449          3   \n",
       "6070        0.800000        0.200000  71.714286  ...     3.416474          4   \n",
       "6071        0.810811        0.189189  69.594595  ...     3.110415          0   \n",
       "\n",
       "      W1  X1  Z1  Y1  W2  X2  Z2  Y2  \n",
       "0      0   1   0   0   0   1   0   0  \n",
       "1      0   0   0   1   0   0   0   1  \n",
       "2      0   0   0   1   0   0   0   1  \n",
       "3      0   0   0   1   0   0   0   1  \n",
       "4      1   0   0   0   1   0   0   0  \n",
       "...   ..  ..  ..  ..  ..  ..  ..  ..  \n",
       "6067   0   0   1   0   0   0   0   1  \n",
       "6068   0   0   1   0   0   0   0   1  \n",
       "6069   0   0   1   0   0   0   0   1  \n",
       "6070   0   0   0   1   0   0   1   0  \n",
       "6071   0   1   0   0   1   0   0   0  \n",
       "\n",
       "[6072 rows x 35 columns]"
      ]
     },
     "execution_count": 44,
     "metadata": {},
     "output_type": "execute_result"
    }
   ],
   "source": [
    "tourney_result"
   ]
  },
  {
   "cell_type": "code",
   "execution_count": null,
   "metadata": {
    "ExecuteTime": {
     "end_time": "2020-03-27T10:51:32.651588Z",
     "start_time": "2020-03-27T10:49:02.839Z"
    }
   },
   "outputs": [],
   "source": [
    "Train = tourney_result.loc[tourney_result['Season']>=2003]\n",
    "Train = tourney_result.loc[tourney_result['Season']<=2014]\n",
    "\n",
    "\n",
    "X_train = Train.drop('WTeam', axis=1)\n",
    "y_train = Train.WTeam"
   ]
  },
  {
   "cell_type": "code",
   "execution_count": null,
   "metadata": {
    "ExecuteTime": {
     "end_time": "2020-03-26T19:08:49.262150Z",
     "start_time": "2020-03-26T19:08:49.241401Z"
    }
   },
   "outputs": [],
   "source": []
  },
  {
   "cell_type": "code",
   "execution_count": null,
   "metadata": {
    "ExecuteTime": {
     "end_time": "2020-03-27T10:51:32.653956Z",
     "start_time": "2020-03-27T10:49:02.848Z"
    }
   },
   "outputs": [],
   "source": [
    "y_train.astype('category').values"
   ]
  },
  {
   "cell_type": "code",
   "execution_count": null,
   "metadata": {
    "ExecuteTime": {
     "end_time": "2020-03-27T10:51:32.656369Z",
     "start_time": "2020-03-27T10:49:02.852Z"
    }
   },
   "outputs": [],
   "source": [
    "Test = tourney_result.loc[tourney_result['Season']>=2015]\n",
    "X_test = Test.drop('WTeam', axis=1)\n",
    "y_test = Test.WTeam"
   ]
  },
  {
   "cell_type": "code",
   "execution_count": null,
   "metadata": {
    "ExecuteTime": {
     "end_time": "2020-03-27T10:51:32.659127Z",
     "start_time": "2020-03-27T10:49:02.858Z"
    },
    "scrolled": true
   },
   "outputs": [],
   "source": [
    "y_test.astype('category').values"
   ]
  },
  {
   "cell_type": "code",
   "execution_count": null,
   "metadata": {
    "ExecuteTime": {
     "end_time": "2020-03-27T10:51:32.661241Z",
     "start_time": "2020-03-27T10:49:02.863Z"
    },
    "scrolled": true
   },
   "outputs": [],
   "source": [
    "X_test"
   ]
  },
  {
   "cell_type": "markdown",
   "metadata": {},
   "source": [
    "# Transformation des données pour l'apprentissage"
   ]
  },
  {
   "cell_type": "code",
   "execution_count": null,
   "metadata": {},
   "outputs": [],
   "source": []
  },
  {
   "cell_type": "code",
   "execution_count": null,
   "metadata": {},
   "outputs": [],
   "source": []
  },
  {
   "cell_type": "markdown",
   "metadata": {},
   "source": [
    "## Decision Tree Regressor"
   ]
  },
  {
   "cell_type": "code",
   "execution_count": null,
   "metadata": {
    "ExecuteTime": {
     "end_time": "2020-03-27T10:51:32.664429Z",
     "start_time": "2020-03-27T10:49:02.878Z"
    }
   },
   "outputs": [],
   "source": [
    "import pandas as pd\n",
    "import numpy as np\n",
    "import matplotlib.pyplot as plt\n",
    "from sklearn.model_selection import GridSearchCV\n",
    "from sklearn.model_selection import KFold\n",
    "from sklearn.utils import shuffle\n",
    "from sklearn.model_selection import train_test_split\n",
    "from sklearn.metrics import plot_confusion_matrix\n",
    "import gc"
   ]
  },
  {
   "cell_type": "code",
   "execution_count": null,
   "metadata": {
    "ExecuteTime": {
     "end_time": "2020-03-27T10:51:32.666208Z",
     "start_time": "2020-03-27T10:49:02.883Z"
    }
   },
   "outputs": [],
   "source": [
    "from sklearn.tree import DecisionTreeClassifier\n",
    "\n",
    "# Decision Trees Parameters\n",
    "dtp_params = {'max_features': ('sqrt','log2'),\n",
    "    'max_depth': [4,5,6,7,8,9],\n",
    "    'min_samples_leaf': [2,3,4,5]}\n",
    "NFOLDS = 10\n",
    "folds = KFold(n_splits=NFOLDS)\n",
    "splits = folds.split(X_train, y_train)\n",
    "\n",
    "decitree = DecisionTreeClassifier()\n",
    "dtr = GridSearchCV(decitree, dtp_params, scoring='neg_log_loss', refit=True, cv = splits)\n",
    "dtr.fit(X_train,y_train)\n",
    "\n",
    "\n",
    "dtr.score(X_test,y_test)\n",
    "\n",
    "#np.set_printoptions(precision=2)\n",
    "# Plot non-normalized confusion matrix\n",
    "titles_options = [(\"Confusion matrix, without normalization\", None),\n",
    "                  (\"Normalized confusion matrix\", 'true')]\n",
    "for title, normalize in titles_options:\n",
    "    disp = plot_confusion_matrix(dtr, X_test, y_test,\n",
    "                                 cmap=plt.cm.Blues,\n",
    "                                 normalize=normalize)\n",
    "    disp.ax_.set_title(title)\n",
    "\n",
    "    print(title)\n",
    "    print(disp.confusion_matrix)\n",
    "\n",
    "plt.show()\n",
    "\n",
    "dtr_yhat_prob = dtr.predict_proba(X_test)[:,1]\n",
    "dtr_yhat = dtr.predict(X_test)\n",
    "\n"
   ]
  },
  {
   "cell_type": "markdown",
   "metadata": {},
   "source": [
    "## Logistic Regression"
   ]
  },
  {
   "cell_type": "code",
   "execution_count": null,
   "metadata": {
    "ExecuteTime": {
     "end_time": "2020-03-27T10:51:32.668120Z",
     "start_time": "2020-03-27T10:49:02.906Z"
    },
    "scrolled": true
   },
   "outputs": [],
   "source": [
    "from sklearn.linear_model import LogisticRegression\n",
    "lr_params = {'C': np.logspace(start=-5, stop=3, num=100)}\n",
    "NFOLDS = 10\n",
    "folds = KFold(n_splits=NFOLDS)\n",
    "splits = folds.split(X_train, y_train)\n",
    "logreg = LogisticRegression()\n",
    "lr = GridSearchCV(logreg, lr_params, scoring='neg_log_loss', refit=True, cv = splits)\n",
    "lr.fit(X_train,y_train)\n"
   ]
  },
  {
   "cell_type": "code",
   "execution_count": null,
   "metadata": {
    "ExecuteTime": {
     "end_time": "2020-03-27T10:51:32.671974Z",
     "start_time": "2020-03-27T10:49:02.913Z"
    }
   },
   "outputs": [],
   "source": [
    "titles_options = [(\"Confusion matrix, without normalization\", None),\n",
    "                  (\"Normalized confusion matrix\", 'true')]\n",
    "for title, normalize in titles_options:\n",
    "    disp = plot_confusion_matrix(lr, X_test, y_test,\n",
    "                                 cmap=plt.cm.Blues,\n",
    "                                 normalize=normalize)\n",
    "    disp.ax_.set_title(title)\n",
    "\n",
    "    print(title)\n",
    "    print(disp.confusion_matrix)\n",
    "\n",
    "plt.show()\n",
    "\n",
    "lr.score(X_test,y_test)\n",
    "lr_yhat_prob = lr.predict_proba(X_test)[:,1]\n",
    "lr_yhat = lr.predict(X_test)\n",
    "lr_ytest = lr.predict(test_df)"
   ]
  },
  {
   "cell_type": "markdown",
   "metadata": {},
   "source": [
    "## AdaBoost Regressor"
   ]
  },
  {
   "cell_type": "code",
   "execution_count": null,
   "metadata": {
    "ExecuteTime": {
     "end_time": "2020-03-27T10:51:32.673831Z",
     "start_time": "2020-03-27T10:49:02.920Z"
    }
   },
   "outputs": [],
   "source": [
    "from sklearn.ensemble import AdaBoostClassifier\n",
    "NFOLDS = 10\n",
    "folds = KFold(n_splits=NFOLDS)\n",
    "splits = folds.split(X_train, y_train)\n",
    "\n",
    "\n",
    "ada_params = {\n",
    "    'n_estimators': [400,500,600],\n",
    "    'learning_rate' : [0.01,0.1,0.8,1.0,1.2],\n",
    "}\n",
    "ada = AdaBoostClassifier()\n",
    "adr = GridSearchCV(ada, ada_params, scoring='neg_log_loss', refit=True, cv = splits)\n",
    "adr.fit(X_train, y_train)\n",
    "\n",
    "titles_options = [(\"Confusion matrix, without normalization\", None),\n",
    "                  (\"Normalized confusion matrix\", 'true')]\n",
    "for title, normalize in titles_options:\n",
    "    disp = plot_confusion_matrix(adr, X_test, y_test,\n",
    "                                 cmap=plt.cm.Blues,\n",
    "                                 normalize=normalize)\n",
    "    disp.ax_.set_title(title)\n",
    "\n",
    "    print(title)\n",
    "    print(disp.confusion_matrix)\n",
    "\n",
    "plt.show()\n",
    "\n",
    "adr.score(X_test,y_test)\n",
    "adr_yhat_prob = adr.predict_proba(X_test)[:,1]\n",
    "adr_yhat = adr.predict(X_test)\n",
    "\n",
    "#adr_ytest=adr.predict(test_df)"
   ]
  },
  {
   "cell_type": "markdown",
   "metadata": {},
   "source": [
    "## Random Forest"
   ]
  },
  {
   "cell_type": "code",
   "execution_count": null,
   "metadata": {
    "ExecuteTime": {
     "end_time": "2020-03-27T10:51:32.675299Z",
     "start_time": "2020-03-27T10:49:02.927Z"
    },
    "colab": {},
    "colab_type": "code",
    "id": "J5kNTKoOA-a0"
   },
   "outputs": [],
   "source": [
    "from sklearn.ensemble import RandomForestClassifier\n",
    "\n",
    "NFOLDS = 10\n",
    "folds = KFold(n_splits=NFOLDS)\n",
    "splits = folds.split(X_train, y_train)\n",
    "\n",
    "rf_params = {\n",
    "    'n_estimators': [400,600], \n",
    "     #'max_features': [0.2,0.4,0,8],\n",
    "    'max_depth': [4,8],\n",
    "    'min_samples_leaf': [2,4]\n",
    "}\n",
    "\n",
    "rf = RandomForestClassifier(n_jobs=-1,warm_start= True,verbose=0,max_features='sqrt')\n",
    "rf_search = GridSearchCV(rf, rf_params, scoring='neg_log_loss', refit=True, cv = splits)\n",
    "rf_search.fit(X_train, y_train)\n",
    "\n",
    "titles_options = [(\"Confusion matrix, without normalization\", None),\n",
    "                  (\"Normalized confusion matrix\", 'true')]\n",
    "for title, normalize in titles_options:\n",
    "    disp = plot_confusion_matrix(rf_search, X_test, y_test,\n",
    "                                 cmap=plt.cm.Blues,\n",
    "                                 normalize=normalize)\n",
    "    disp.ax_.set_title(title)\n",
    "\n",
    "    print(title)\n",
    "    print(disp.confusion_matrix)\n",
    "\n",
    "plt.show()\n",
    "\n",
    "rf_search.score(X_test,y_test)\n",
    "rf_yhat_prob = rf_search.predict_proba(X_test)[:,1]\n",
    "rf_yhat = rf_search.predict(X_test)\n",
    "\n",
    "#rf_ytest = rf_search.predict(test_df)"
   ]
  },
  {
   "cell_type": "markdown",
   "metadata": {},
   "source": [
    "# Interprétation des résultats"
   ]
  },
  {
   "cell_type": "code",
   "execution_count": null,
   "metadata": {
    "ExecuteTime": {
     "end_time": "2020-03-27T10:51:32.676485Z",
     "start_time": "2020-03-27T10:49:02.934Z"
    }
   },
   "outputs": [],
   "source": [
    "dtr_feature = dtr.best_estimator_.feature_importances_\n",
    "lr_feature = lr.best_estimator_.coef_\n",
    "adr_feature = adr.best_estimator_.feature_importances_\n",
    "rf_search_feature = rf_search.best_estimator_.feature_importances_"
   ]
  },
  {
   "cell_type": "code",
   "execution_count": null,
   "metadata": {
    "ExecuteTime": {
     "end_time": "2020-03-27T10:51:32.678400Z",
     "start_time": "2020-03-27T10:49:02.938Z"
    }
   },
   "outputs": [],
   "source": [
    "dtr_features = [x for x in dtr_feature]\n",
    "lr_features = [x for x in lr_feature[0]]\n",
    "adr_features = [x for x in adr_feature]\n",
    "rf_search_features = [x for x in rf_search_feature]"
   ]
  },
  {
   "cell_type": "markdown",
   "metadata": {},
   "source": [
    "On affiche cela dans un dataframe pour que ça soit plus lisible"
   ]
  },
  {
   "cell_type": "code",
   "execution_count": null,
   "metadata": {
    "ExecuteTime": {
     "end_time": "2020-03-27T10:51:32.680559Z",
     "start_time": "2020-03-27T10:49:02.944Z"
    }
   },
   "outputs": [],
   "source": [
    "cols = X_train.columns.values\n",
    "# Create a dataframe with features\n",
    "feature_dataframe = pd.DataFrame( {'features': cols,\n",
    "     'Decision Tree feature importances': dtr_features,\n",
    "     'Logistic Regression feature importances': lr_features,\n",
    "      'AdaBoost feature importances': adr_features,\n",
    "    'Random Forest feature importances': rf_search_features\n",
    "    })"
   ]
  },
  {
   "cell_type": "code",
   "execution_count": null,
   "metadata": {
    "ExecuteTime": {
     "end_time": "2020-03-27T10:51:32.683645Z",
     "start_time": "2020-03-27T10:49:02.949Z"
    }
   },
   "outputs": [],
   "source": [
    "feature_dataframe"
   ]
  },
  {
   "cell_type": "markdown",
   "metadata": {},
   "source": [
    "# Deuxième prédiction à partir de la sortie du premier modèle"
   ]
  },
  {
   "cell_type": "code",
   "execution_count": null,
   "metadata": {
    "ExecuteTime": {
     "end_time": "2020-03-27T10:51:32.688978Z",
     "start_time": "2020-03-27T10:49:02.959Z"
    }
   },
   "outputs": [],
   "source": [
    "base_predictions_train = pd.DataFrame( {'DecisionTreeClassifier': dtr.predict(X_train).ravel(),\n",
    "     'LogisticRegression': lr.predict(X_train).ravel(),\n",
    "     'AdaBoost': adr.predict(X_train).ravel(),\n",
    "      'RandomForest': rf_search.predict(X_train).ravel()\n",
    "    })\n",
    "base_predictions_train.head()"
   ]
  },
  {
   "cell_type": "code",
   "execution_count": null,
   "metadata": {
    "ExecuteTime": {
     "end_time": "2020-03-27T10:51:32.693013Z",
     "start_time": "2020-03-27T10:49:02.963Z"
    }
   },
   "outputs": [],
   "source": [
    "!pip install plotly"
   ]
  },
  {
   "cell_type": "code",
   "execution_count": null,
   "metadata": {
    "ExecuteTime": {
     "end_time": "2020-03-27T10:51:32.696041Z",
     "start_time": "2020-03-27T10:49:02.969Z"
    }
   },
   "outputs": [],
   "source": [
    "import plotly.offline as py\n",
    "py.init_notebook_mode(connected=True)\n",
    "import plotly.graph_objs as go\n",
    "import plotly.tools as tls\n",
    "\n",
    "data = [\n",
    "    go.Heatmap(\n",
    "        z= base_predictions_train.astype(float).corr().values ,\n",
    "        x=base_predictions_train.columns.values,\n",
    "        y= base_predictions_train.columns.values,\n",
    "          colorscale='Viridis',\n",
    "            showscale=True,\n",
    "            reversescale = True\n",
    "    )\n",
    "]\n",
    "py.iplot(data, filename='labelled-heatmap')"
   ]
  },
  {
   "cell_type": "code",
   "execution_count": null,
   "metadata": {
    "ExecuteTime": {
     "end_time": "2020-03-27T10:51:32.700875Z",
     "start_time": "2020-03-27T10:49:02.976Z"
    }
   },
   "outputs": [],
   "source": [
    "x_train = np.concatenate(( dtr.predict(X_train).reshape(-1,1), lr.predict(X_train).reshape(-1,1), \n",
    "                          adr.predict(X_train).reshape(-1,1), rf_search.predict(X_train).reshape(-1,1)), axis=1)\n",
    "x_test = np.concatenate(( dtr_yhat.reshape(-1,1), lr_yhat.reshape(-1,1),\n",
    "                         adr_yhat.reshape(-1,1), rf_yhat.reshape(-1,1)), axis=1)\n",
    "\n",
    "df_train = pd.DataFrame()\n",
    "df_train['DecisionTreeClassifier']=dtr.predict(X_train)\n",
    "df_train['LogisticRegression']=lr.predict(X_train)\n",
    "df_train['AdaBoost']=adr.predict(X_train)\n",
    "df_train['RandomForest']=rf_search.predict(X_train)\n",
    "x_train = df_train\n",
    "\n",
    "df_test = pd.DataFrame()\n",
    "df_test['DecisionTreeClassifier']=dtr_yhat\n",
    "df_test['LogisticRegression']=lr_yhat\n",
    "df_test['AdaBoost']=adr_yhat\n",
    "df_test['RandomForest']=rf_yhat\n",
    "x_test = df_test\n",
    "\n",
    "df_test_set = pd.DataFrame()\n",
    "\n",
    "df_test_set['DecisionTreeClassifier']=dtr_ytest\n",
    "df_test_set['LogisticRegression']=lr_ytest\n",
    "df_test_set['AdaBoost']=adr_ytest\n",
    "df_test_set['RandomForest']=rf_ytest\n",
    "\n",
    "test_df=df_test_set\n"
   ]
  },
  {
   "cell_type": "markdown",
   "metadata": {},
   "source": [
    "## XGBoost"
   ]
  },
  {
   "cell_type": "code",
   "execution_count": null,
   "metadata": {
    "ExecuteTime": {
     "end_time": "2020-03-27T10:51:32.703334Z",
     "start_time": "2020-03-27T10:49:02.984Z"
    }
   },
   "outputs": [],
   "source": [
    "!pip install xgboost"
   ]
  },
  {
   "cell_type": "code",
   "execution_count": null,
   "metadata": {
    "ExecuteTime": {
     "end_time": "2020-03-27T10:51:32.704947Z",
     "start_time": "2020-03-27T10:49:02.990Z"
    }
   },
   "outputs": [],
   "source": [
    "import xgboost as xgb\n",
    "from xgboost import XGBRegressor"
   ]
  },
  {
   "cell_type": "code",
   "execution_count": null,
   "metadata": {
    "ExecuteTime": {
     "end_time": "2020-03-27T10:51:32.706267Z",
     "start_time": "2020-03-27T10:49:02.995Z"
    }
   },
   "outputs": [],
   "source": [
    "params_xgb = {'colsample_bytree': 0.8,                 \n",
    "              'learning_rate': 0.0003,\n",
    "              'max_depth': 31,\n",
    "              'subsample': 1,\n",
    "              'objective':'binary:logistic',\n",
    "              'eval_metric':'logloss',\n",
    "              'min_child_weight':3,\n",
    "              'gamma':0.25,\n",
    "              'n_estimators':5000,\n",
    "              'verbosity':0\n",
    "              }"
   ]
  },
  {
   "cell_type": "code",
   "execution_count": null,
   "metadata": {
    "ExecuteTime": {
     "end_time": "2020-03-27T10:51:32.707480Z",
     "start_time": "2020-03-27T10:49:02.999Z"
    }
   },
   "outputs": [],
   "source": [
    "NFOLDS = 10\n",
    "folds = KFold(n_splits=NFOLDS)\n",
    "columns = x_train.columns\n",
    "splits = folds.split(x_train, y_train)\n",
    "\n",
    "y_preds_xgb = np.zeros(test_df.shape[0])\n",
    "y_train_xgb = np.zeros(x_train.shape[0])\n",
    "y_test_xgb = np.zeros(x_test.shape[0])\n",
    "\n",
    "train_df_set = xgb.DMatrix(x_train)\n",
    "test_df_set = xgb.DMatrix(x_test)\n",
    "test_set = xgb.DMatrix(test_df)\n",
    "  \n",
    "for fold_n, (train_index, valid_index) in enumerate(splits):\n",
    "    print('Fold:',fold_n+1)\n",
    "    X_train_f, X_valid_f = x_train[columns].iloc[train_index], x_train[columns].iloc[valid_index]\n",
    "    y_train_f, y_valid_f = y_train.iloc[train_index], y_train.iloc[valid_index]\n",
    "    \n",
    "    train_set = xgb.DMatrix(X_train_f, y_train_f)\n",
    "    val_set = xgb.DMatrix(X_valid_f, y_valid_f)\n",
    "    \n",
    "    clf = xgb.train(params_xgb, train_set, num_boost_round=5000, evals=[(train_set, 'train'), (val_set, 'val')], verbose_eval=100)\n",
    "    \n",
    "    y_train_xgb += clf.predict(train_df_set) / NFOLDS\n",
    "    y_preds_xgb += clf.predict(test_set) / NFOLDS\n",
    "    y_test_xgb  += clf.predict(test_df_set) / NFOLDS\n",
    "    del X_train_f, X_valid_f, y_train_f, y_valid_f\n",
    "    gc.collect()"
   ]
  },
  {
   "cell_type": "code",
   "execution_count": null,
   "metadata": {
    "ExecuteTime": {
     "end_time": "2020-03-27T10:51:32.708724Z",
     "start_time": "2020-03-27T10:49:03.005Z"
    }
   },
   "outputs": [],
   "source": [
    "import seaborn as sns\n",
    "from sklearn.metrics import confusion_matrix\n",
    "def plot_cm(y_true, y_pred, title, figsize=(7,6)):\n",
    "    y_pred = y_pred.round().astype(int)\n",
    "    cm = confusion_matrix(y_true, y_pred, labels=np.unique(y_true))\n",
    "    cm_sum = np.sum(cm, axis=1, keepdims=True)\n",
    "    cm_perc = cm / cm_sum.astype(float) * 100\n",
    "    annot = np.empty_like(cm).astype(str)\n",
    "    nrows, ncols = cm.shape\n",
    "    for i in range(nrows):\n",
    "        for j in range(ncols):\n",
    "            c = cm[i, j]\n",
    "            p = cm_perc[i, j]\n",
    "            if i == j:\n",
    "                s = cm_sum[i]\n",
    "                annot[i, j] = '%.1f%%\\n%d/%d' % (p, c, s)\n",
    "            elif c == 0:\n",
    "                annot[i, j] = ''\n",
    "            else:\n",
    "                annot[i, j] = '%.1f%%\\n%d' % (p, c)\n",
    "    cm = pd.DataFrame(cm, index=np.unique(y_true), columns=np.unique(y_true))\n",
    "    cm.index.name = 'Current'\n",
    "    cm.columns.name = 'Predicted'\n",
    "    fig, ax = plt.subplots(figsize=figsize)\n",
    "    plt.title(title)\n",
    "    sns.heatmap(cm, cmap= \"YlGnBu\", annot=annot, fmt='', ax=ax)"
   ]
  },
  {
   "cell_type": "code",
   "execution_count": null,
   "metadata": {
    "ExecuteTime": {
     "end_time": "2020-03-27T10:51:32.713682Z",
     "start_time": "2020-03-27T10:49:03.013Z"
    }
   },
   "outputs": [],
   "source": [
    "plot_cm(y_test, y_test_xgb, 'Confusion matrix for XGB model')"
   ]
  },
  {
   "cell_type": "markdown",
   "metadata": {},
   "source": [
    "# Formatage du fichier à soumettre"
   ]
  },
  {
   "cell_type": "code",
   "execution_count": null,
   "metadata": {
    "ExecuteTime": {
     "end_time": "2020-03-27T10:51:32.717256Z",
     "start_time": "2020-03-27T10:49:03.022Z"
    }
   },
   "outputs": [],
   "source": [
    "sub_file = pd.read_csv('data/MSampleSubmissionStage1_2020.csv')"
   ]
  },
  {
   "cell_type": "code",
   "execution_count": null,
   "metadata": {
    "ExecuteTime": {
     "end_time": "2020-03-27T10:51:32.719798Z",
     "start_time": "2020-03-27T10:49:03.028Z"
    }
   },
   "outputs": [],
   "source": [
    "sub_file['Pred']=y_preds_xgb"
   ]
  },
  {
   "cell_type": "code",
   "execution_count": null,
   "metadata": {
    "ExecuteTime": {
     "end_time": "2020-03-27T10:51:32.722388Z",
     "start_time": "2020-03-27T10:49:03.031Z"
    }
   },
   "outputs": [],
   "source": [
    "sub_file.head()"
   ]
  },
  {
   "cell_type": "code",
   "execution_count": null,
   "metadata": {
    "ExecuteTime": {
     "end_time": "2020-03-27T10:51:32.725126Z",
     "start_time": "2020-03-27T10:49:03.035Z"
    }
   },
   "outputs": [],
   "source": [
    "sub_file.to_csv(\"submission_file.csv\",index=False)"
   ]
  },
  {
   "cell_type": "code",
   "execution_count": null,
   "metadata": {
    "ExecuteTime": {
     "end_time": "2020-03-27T10:51:32.730131Z",
     "start_time": "2020-03-27T10:49:03.041Z"
    }
   },
   "outputs": [],
   "source": [
    "!pip install kaggle"
   ]
  },
  {
   "cell_type": "code",
   "execution_count": null,
   "metadata": {
    "ExecuteTime": {
     "end_time": "2020-03-27T10:51:32.734642Z",
     "start_time": "2020-03-27T10:49:03.047Z"
    }
   },
   "outputs": [],
   "source": [
    "!mv kaggle.json ~/.kaggle/kaggle.json"
   ]
  },
  {
   "cell_type": "code",
   "execution_count": null,
   "metadata": {
    "ExecuteTime": {
     "end_time": "2020-03-27T10:51:32.740045Z",
     "start_time": "2020-03-27T10:49:03.053Z"
    }
   },
   "outputs": [],
   "source": [
    "!kaggle competitions submit -c google-cloud-ncaa-march-madness-2020-division-1-mens-tournament -f submission_file.csv -m \"First submission Hackaton\""
   ]
  }
 ],
 "metadata": {
  "colab": {
   "name": "Database.ipynb",
   "provenance": []
  },
  "kernelspec": {
   "display_name": "Python 3",
   "language": "python",
   "name": "python3"
  },
  "language_info": {
   "codemirror_mode": {
    "name": "ipython",
    "version": 3
   },
   "file_extension": ".py",
   "mimetype": "text/x-python",
   "name": "python",
   "nbconvert_exporter": "python",
   "pygments_lexer": "ipython3",
   "version": "3.7.6"
  }
 },
 "nbformat": 4,
 "nbformat_minor": 1
}
