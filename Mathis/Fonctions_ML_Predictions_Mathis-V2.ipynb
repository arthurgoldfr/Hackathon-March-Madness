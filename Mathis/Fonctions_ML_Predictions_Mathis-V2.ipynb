{
 "cells": [
  {
   "cell_type": "markdown",
   "metadata": {},
   "source": [
    "# Predictions "
   ]
  },
  {
   "cell_type": "markdown",
   "metadata": {},
   "source": [
    "So now let us prepare five learning models as our first level predictions. These models can all be conveniently invoked via the Sklearn library and XGBoost library and are listed as follows:\n",
    "\n",
    "- Decision Tree Regressor\n",
    "- AdaBoost Regressor\n",
    "- Logistic Regression\n",
    "- Random Forest\n",
    "- XGBoost library\n",
    " \n",
    "Others models can be found there : https://scikit-learn.org/stable/supervised_learning.html#supervised-learning"
   ]
  },
  {
   "cell_type": "code",
   "execution_count": 3,
   "metadata": {},
   "outputs": [],
   "source": [
    "import pandas as pd\n",
    "import numpy as np\n",
    "import matplotlib.pyplot as plt\n",
    "from sklearn.model_selection import GridSearchCV\n",
    "from sklearn.model_selection import KFold\n",
    "from sklearn.utils import shuffle\n",
    "from sklearn.model_selection import train_test_split\n",
    "from sklearn.metrics import plot_confusion_matrix\n",
    "import gc"
   ]
  },
  {
   "cell_type": "markdown",
   "metadata": {},
   "source": [
    "## Dataset (À modifier c'est juste pour tester la)"
   ]
  },
  {
   "cell_type": "code",
   "execution_count": 4,
   "metadata": {},
   "outputs": [],
   "source": [
    "MNCAATourneyDetailedResults = pd.read_csv('Data/MDataFiles_Stage1/MNCAATourneyDetailedResults.csv')\n",
    "MNCAATourneyDetailedResults = MNCAATourneyDetailedResults.loc[MNCAATourneyDetailedResults['Season'] >= 2003]\n",
    "MNCAATourneyDetailedResults = MNCAATourneyDetailedResults.loc[MNCAATourneyDetailedResults['Season'] <= 2014]\n",
    "MNCAATourneyDetailedResults = MNCAATourneyDetailedResults[['Season','DayNum','WTeamID','LTeamID']]\n",
    "MNCAATourneyDetailedResults.loc[:,'Competition'] = 'MNCAA'\n",
    "MNCAATourneyDetailedResults.loc[:,'WTeam'] = 0\n",
    "\n",
    "for i,_ in enumerate(MNCAATourneyDetailedResults.iterrows()):\n",
    "    if MNCAATourneyDetailedResults.iloc[i,2] > MNCAATourneyDetailedResults.iloc[i,3] :\n",
    "        MNCAATourneyDetailedResults.iloc[i,2],MNCAATourneyDetailedResults.iloc[i,3] = MNCAATourneyDetailedResults.iloc[i,3],MNCAATourneyDetailedResults.iloc[i,2]\n",
    "        MNCAATourneyDetailedResults.iloc[i,5] = 1\n",
    "        \n",
    "MNCAATourneyDetailedResults = MNCAATourneyDetailedResults.rename(columns={\"WTeamID\": \"Team0_ID\", \"LTeamID\": \"Team1_ID\"})\n"
   ]
  },
  {
   "cell_type": "code",
   "execution_count": 5,
   "metadata": {},
   "outputs": [],
   "source": [
    "MRegularSeasonDetailedResults = pd.read_csv('Data/MDataFiles_Stage1/MRegularSeasonDetailedResults.csv')\n",
    "MRegularSeasonDetailedResults = MRegularSeasonDetailedResults.loc[MRegularSeasonDetailedResults['Season'] >= 2003]\n",
    "MRegularSeasonDetailedResults = MRegularSeasonDetailedResults[['Season','DayNum','WTeamID','LTeamID']]\n",
    "MRegularSeasonDetailedResults.loc[:,'Competition'] = 'RegularSeason'\n",
    "MRegularSeasonDetailedResults.loc[:,'WTeam'] = 0\n",
    "\n",
    "for i,_ in enumerate(MRegularSeasonDetailedResults.iterrows()):\n",
    "    if MRegularSeasonDetailedResults.iloc[i,2] > MRegularSeasonDetailedResults.iloc[i,3] :\n",
    "        MRegularSeasonDetailedResults.iloc[i,2],MRegularSeasonDetailedResults.iloc[i,3] = MRegularSeasonDetailedResults.iloc[i,3],MRegularSeasonDetailedResults.iloc[i,2]\n",
    "        MRegularSeasonDetailedResults.iloc[i,5] = 1\n",
    "        \n",
    "MRegularSeasonDetailedResults = MRegularSeasonDetailedResults.rename(columns={\"WTeamID\": \"Team0_ID\", \"LTeamID\": \"Team1_ID\"})\n"
   ]
  },
  {
   "cell_type": "code",
   "execution_count": 34,
   "metadata": {},
   "outputs": [
    {
     "data": {
      "text/html": [
       "<div>\n",
       "<style scoped>\n",
       "    .dataframe tbody tr th:only-of-type {\n",
       "        vertical-align: middle;\n",
       "    }\n",
       "\n",
       "    .dataframe tbody tr th {\n",
       "        vertical-align: top;\n",
       "    }\n",
       "\n",
       "    .dataframe thead th {\n",
       "        text-align: right;\n",
       "    }\n",
       "</style>\n",
       "<table border=\"1\" class=\"dataframe\">\n",
       "  <thead>\n",
       "    <tr style=\"text-align: right;\">\n",
       "      <th></th>\n",
       "      <th>Season</th>\n",
       "      <th>DayNum</th>\n",
       "      <th>Team0_ID</th>\n",
       "      <th>Team1_ID</th>\n",
       "      <th>Competition</th>\n",
       "      <th>WTeam</th>\n",
       "    </tr>\n",
       "  </thead>\n",
       "  <tbody>\n",
       "    <tr>\n",
       "      <th>0</th>\n",
       "      <td>2003</td>\n",
       "      <td>134</td>\n",
       "      <td>1411</td>\n",
       "      <td>1421</td>\n",
       "      <td>MNCAA</td>\n",
       "      <td>1</td>\n",
       "    </tr>\n",
       "    <tr>\n",
       "      <th>1</th>\n",
       "      <td>2003</td>\n",
       "      <td>136</td>\n",
       "      <td>1112</td>\n",
       "      <td>1436</td>\n",
       "      <td>MNCAA</td>\n",
       "      <td>0</td>\n",
       "    </tr>\n",
       "    <tr>\n",
       "      <th>2</th>\n",
       "      <td>2003</td>\n",
       "      <td>136</td>\n",
       "      <td>1113</td>\n",
       "      <td>1272</td>\n",
       "      <td>MNCAA</td>\n",
       "      <td>0</td>\n",
       "    </tr>\n",
       "    <tr>\n",
       "      <th>3</th>\n",
       "      <td>2003</td>\n",
       "      <td>136</td>\n",
       "      <td>1141</td>\n",
       "      <td>1166</td>\n",
       "      <td>MNCAA</td>\n",
       "      <td>0</td>\n",
       "    </tr>\n",
       "    <tr>\n",
       "      <th>4</th>\n",
       "      <td>2003</td>\n",
       "      <td>136</td>\n",
       "      <td>1143</td>\n",
       "      <td>1301</td>\n",
       "      <td>MNCAA</td>\n",
       "      <td>0</td>\n",
       "    </tr>\n",
       "    <tr>\n",
       "      <th>...</th>\n",
       "      <td>...</td>\n",
       "      <td>...</td>\n",
       "      <td>...</td>\n",
       "      <td>...</td>\n",
       "      <td>...</td>\n",
       "      <td>...</td>\n",
       "    </tr>\n",
       "    <tr>\n",
       "      <th>87499</th>\n",
       "      <td>2019</td>\n",
       "      <td>132</td>\n",
       "      <td>1153</td>\n",
       "      <td>1222</td>\n",
       "      <td>RegularSeason</td>\n",
       "      <td>0</td>\n",
       "    </tr>\n",
       "    <tr>\n",
       "      <th>87500</th>\n",
       "      <td>2019</td>\n",
       "      <td>132</td>\n",
       "      <td>1209</td>\n",
       "      <td>1426</td>\n",
       "      <td>RegularSeason</td>\n",
       "      <td>0</td>\n",
       "    </tr>\n",
       "    <tr>\n",
       "      <th>87501</th>\n",
       "      <td>2019</td>\n",
       "      <td>132</td>\n",
       "      <td>1276</td>\n",
       "      <td>1277</td>\n",
       "      <td>RegularSeason</td>\n",
       "      <td>1</td>\n",
       "    </tr>\n",
       "    <tr>\n",
       "      <th>87502</th>\n",
       "      <td>2019</td>\n",
       "      <td>132</td>\n",
       "      <td>1382</td>\n",
       "      <td>1387</td>\n",
       "      <td>RegularSeason</td>\n",
       "      <td>1</td>\n",
       "    </tr>\n",
       "    <tr>\n",
       "      <th>87503</th>\n",
       "      <td>2019</td>\n",
       "      <td>132</td>\n",
       "      <td>1217</td>\n",
       "      <td>1463</td>\n",
       "      <td>RegularSeason</td>\n",
       "      <td>1</td>\n",
       "    </tr>\n",
       "  </tbody>\n",
       "</table>\n",
       "<p>88284 rows × 6 columns</p>\n",
       "</div>"
      ],
      "text/plain": [
       "       Season  DayNum  Team0_ID  Team1_ID    Competition  WTeam\n",
       "0        2003     134      1411      1421          MNCAA      1\n",
       "1        2003     136      1112      1436          MNCAA      0\n",
       "2        2003     136      1113      1272          MNCAA      0\n",
       "3        2003     136      1141      1166          MNCAA      0\n",
       "4        2003     136      1143      1301          MNCAA      0\n",
       "...       ...     ...       ...       ...            ...    ...\n",
       "87499    2019     132      1153      1222  RegularSeason      0\n",
       "87500    2019     132      1209      1426  RegularSeason      0\n",
       "87501    2019     132      1276      1277  RegularSeason      1\n",
       "87502    2019     132      1382      1387  RegularSeason      1\n",
       "87503    2019     132      1217      1463  RegularSeason      1\n",
       "\n",
       "[88284 rows x 6 columns]"
      ]
     },
     "execution_count": 34,
     "metadata": {},
     "output_type": "execute_result"
    }
   ],
   "source": [
    "df = pd.concat([MNCAATourneyDetailedResults,MRegularSeasonDetailedResults])\n",
    "df"
   ]
  },
  {
   "cell_type": "markdown",
   "metadata": {},
   "source": [
    "## Ajout de features liées aux Seeds et Conférences"
   ]
  },
  {
   "cell_type": "code",
   "execution_count": 121,
   "metadata": {},
   "outputs": [],
   "source": [
    "tourney_seed = pd.read_csv('Data/MDataFiles_Stage1/MNCAATourneySeeds.csv')"
   ]
  },
  {
   "cell_type": "code",
   "execution_count": 122,
   "metadata": {},
   "outputs": [],
   "source": [
    "tourney_result = pd.merge(df, tourney_seed, left_on=['Season', 'Team0_ID'], right_on=['Season', 'TeamID'], how='left')\n",
    "tourney_result.rename(columns={'Seed':'SeedT1'}, inplace=True)\n",
    "tourney_result = tourney_result.drop('TeamID', axis=1)\n",
    "tourney_result = pd.merge(tourney_result, tourney_seed, left_on=['Season', 'Team1_ID'], right_on=['Season', 'TeamID'], how='left')\n",
    "tourney_result.rename(columns={'Seed':'SeedT2'}, inplace=True)\n",
    "tourney_result = tourney_result.drop('TeamID', axis=1)"
   ]
  },
  {
   "cell_type": "code",
   "execution_count": 123,
   "metadata": {},
   "outputs": [],
   "source": [
    "tourney_result=tourney_result.dropna()"
   ]
  },
  {
   "cell_type": "code",
   "execution_count": 124,
   "metadata": {},
   "outputs": [],
   "source": [
    "def get_seed(x):\n",
    "    return str(x[0])\n",
    "\n",
    "tourney_result['ConfT1'] = tourney_result['SeedT1'].map(lambda x: get_seed(x))\n",
    "tourney_result['ConfT2'] = tourney_result['SeedT2'].map(lambda x: get_seed(x))\n"
   ]
  },
  {
   "cell_type": "code",
   "execution_count": 125,
   "metadata": {},
   "outputs": [],
   "source": [
    "def get_seed(x):\n",
    "    return int(x[1:3])\n",
    "\n",
    "tourney_result['SeedT1'] = tourney_result['SeedT1'].map(lambda x: get_seed(x))\n",
    "tourney_result['SeedT2'] = tourney_result['SeedT2'].map(lambda x: get_seed(x))\n"
   ]
  },
  {
   "cell_type": "code",
   "execution_count": 126,
   "metadata": {},
   "outputs": [],
   "source": [
    "tourney_result['Seed_diff'] = tourney_result['SeedT1'] - tourney_result['SeedT2']"
   ]
  },
  {
   "cell_type": "code",
   "execution_count": 127,
   "metadata": {},
   "outputs": [],
   "source": [
    "tourney_result = tourney_result.reset_index()"
   ]
  },
  {
   "cell_type": "code",
   "execution_count": 128,
   "metadata": {},
   "outputs": [],
   "source": [
    "from sklearn import preprocessing\n",
    "from sklearn.preprocessing import OneHotEncoder"
   ]
  },
  {
   "cell_type": "code",
   "execution_count": 129,
   "metadata": {},
   "outputs": [],
   "source": [
    "from sklearn.preprocessing import LabelBinarizer\n",
    "\n",
    "jobs_encoder = LabelBinarizer()\n",
    "jobs_encoder.fit(tourney_result['ConfT1'])\n",
    "transformed = jobs_encoder.transform(tourney_result['ConfT1'])\n",
    "ohe_df = pd.DataFrame(transformed)\n",
    "tourney_result = pd.concat([tourney_result, ohe_df], axis=1)"
   ]
  },
  {
   "cell_type": "code",
   "execution_count": 130,
   "metadata": {},
   "outputs": [],
   "source": [
    "tourney_result.rename(columns={0:'W1',1:'X1',2:'Z1',3:'Y1'}, inplace=True)"
   ]
  },
  {
   "cell_type": "code",
   "execution_count": 131,
   "metadata": {},
   "outputs": [],
   "source": [
    "tourney_result = tourney_result.drop('ConfT1', axis=1)"
   ]
  },
  {
   "cell_type": "code",
   "execution_count": 132,
   "metadata": {},
   "outputs": [],
   "source": [
    "jobs_encoder = LabelBinarizer()\n",
    "jobs_encoder.fit(tourney_result['ConfT2'])\n",
    "transformed = jobs_encoder.transform(tourney_result['ConfT2'])\n",
    "ohe_df = pd.DataFrame(transformed)\n",
    "tourney_result = pd.concat([tourney_result, ohe_df], axis=1)"
   ]
  },
  {
   "cell_type": "code",
   "execution_count": 133,
   "metadata": {},
   "outputs": [],
   "source": [
    "tourney_result.rename(columns={0:'W2',1:'X2',2:'Z2',3:'Y2'}, inplace=True)"
   ]
  },
  {
   "cell_type": "code",
   "execution_count": 134,
   "metadata": {},
   "outputs": [],
   "source": [
    "tourney_result=tourney_result.drop('ConfT2', axis=1)"
   ]
  },
  {
   "cell_type": "code",
   "execution_count": 135,
   "metadata": {},
   "outputs": [],
   "source": [
    "tourney_result=tourney_result.drop('index',axis=1)"
   ]
  },
  {
   "cell_type": "markdown",
   "metadata": {},
   "source": [
    "On encode aussi les deux compétitions !"
   ]
  },
  {
   "cell_type": "code",
   "execution_count": 136,
   "metadata": {},
   "outputs": [],
   "source": [
    "tourney_result_total = tourney_result"
   ]
  },
  {
   "cell_type": "code",
   "execution_count": 137,
   "metadata": {},
   "outputs": [
    {
     "data": {
      "text/html": [
       "<div>\n",
       "<style scoped>\n",
       "    .dataframe tbody tr th:only-of-type {\n",
       "        vertical-align: middle;\n",
       "    }\n",
       "\n",
       "    .dataframe tbody tr th {\n",
       "        vertical-align: top;\n",
       "    }\n",
       "\n",
       "    .dataframe thead th {\n",
       "        text-align: right;\n",
       "    }\n",
       "</style>\n",
       "<table border=\"1\" class=\"dataframe\">\n",
       "  <thead>\n",
       "    <tr style=\"text-align: right;\">\n",
       "      <th></th>\n",
       "      <th>Season</th>\n",
       "      <th>DayNum</th>\n",
       "      <th>Team0_ID</th>\n",
       "      <th>Team1_ID</th>\n",
       "      <th>Competition</th>\n",
       "      <th>WTeam</th>\n",
       "      <th>SeedT1</th>\n",
       "      <th>SeedT2</th>\n",
       "      <th>Seed_diff</th>\n",
       "      <th>W1</th>\n",
       "      <th>X1</th>\n",
       "      <th>Z1</th>\n",
       "      <th>Y1</th>\n",
       "      <th>W2</th>\n",
       "      <th>X2</th>\n",
       "      <th>Z2</th>\n",
       "      <th>Y2</th>\n",
       "    </tr>\n",
       "  </thead>\n",
       "  <tbody>\n",
       "    <tr>\n",
       "      <th>0</th>\n",
       "      <td>2003</td>\n",
       "      <td>134</td>\n",
       "      <td>1411</td>\n",
       "      <td>1421</td>\n",
       "      <td>MNCAA</td>\n",
       "      <td>1</td>\n",
       "      <td>16</td>\n",
       "      <td>16</td>\n",
       "      <td>0</td>\n",
       "      <td>0</td>\n",
       "      <td>1</td>\n",
       "      <td>0</td>\n",
       "      <td>0</td>\n",
       "      <td>0</td>\n",
       "      <td>1</td>\n",
       "      <td>0</td>\n",
       "      <td>0</td>\n",
       "    </tr>\n",
       "    <tr>\n",
       "      <th>1</th>\n",
       "      <td>2003</td>\n",
       "      <td>136</td>\n",
       "      <td>1112</td>\n",
       "      <td>1436</td>\n",
       "      <td>MNCAA</td>\n",
       "      <td>0</td>\n",
       "      <td>1</td>\n",
       "      <td>16</td>\n",
       "      <td>-15</td>\n",
       "      <td>0</td>\n",
       "      <td>0</td>\n",
       "      <td>0</td>\n",
       "      <td>1</td>\n",
       "      <td>0</td>\n",
       "      <td>0</td>\n",
       "      <td>0</td>\n",
       "      <td>1</td>\n",
       "    </tr>\n",
       "    <tr>\n",
       "      <th>2</th>\n",
       "      <td>2003</td>\n",
       "      <td>136</td>\n",
       "      <td>1113</td>\n",
       "      <td>1272</td>\n",
       "      <td>MNCAA</td>\n",
       "      <td>0</td>\n",
       "      <td>10</td>\n",
       "      <td>7</td>\n",
       "      <td>3</td>\n",
       "      <td>0</td>\n",
       "      <td>0</td>\n",
       "      <td>0</td>\n",
       "      <td>1</td>\n",
       "      <td>0</td>\n",
       "      <td>0</td>\n",
       "      <td>0</td>\n",
       "      <td>1</td>\n",
       "    </tr>\n",
       "    <tr>\n",
       "      <th>3</th>\n",
       "      <td>2003</td>\n",
       "      <td>136</td>\n",
       "      <td>1141</td>\n",
       "      <td>1166</td>\n",
       "      <td>MNCAA</td>\n",
       "      <td>0</td>\n",
       "      <td>11</td>\n",
       "      <td>6</td>\n",
       "      <td>5</td>\n",
       "      <td>0</td>\n",
       "      <td>0</td>\n",
       "      <td>0</td>\n",
       "      <td>1</td>\n",
       "      <td>0</td>\n",
       "      <td>0</td>\n",
       "      <td>0</td>\n",
       "      <td>1</td>\n",
       "    </tr>\n",
       "    <tr>\n",
       "      <th>4</th>\n",
       "      <td>2003</td>\n",
       "      <td>136</td>\n",
       "      <td>1143</td>\n",
       "      <td>1301</td>\n",
       "      <td>MNCAA</td>\n",
       "      <td>0</td>\n",
       "      <td>8</td>\n",
       "      <td>9</td>\n",
       "      <td>-1</td>\n",
       "      <td>1</td>\n",
       "      <td>0</td>\n",
       "      <td>0</td>\n",
       "      <td>0</td>\n",
       "      <td>1</td>\n",
       "      <td>0</td>\n",
       "      <td>0</td>\n",
       "      <td>0</td>\n",
       "    </tr>\n",
       "    <tr>\n",
       "      <th>...</th>\n",
       "      <td>...</td>\n",
       "      <td>...</td>\n",
       "      <td>...</td>\n",
       "      <td>...</td>\n",
       "      <td>...</td>\n",
       "      <td>...</td>\n",
       "      <td>...</td>\n",
       "      <td>...</td>\n",
       "      <td>...</td>\n",
       "      <td>...</td>\n",
       "      <td>...</td>\n",
       "      <td>...</td>\n",
       "      <td>...</td>\n",
       "      <td>...</td>\n",
       "      <td>...</td>\n",
       "      <td>...</td>\n",
       "      <td>...</td>\n",
       "    </tr>\n",
       "    <tr>\n",
       "      <th>5732</th>\n",
       "      <td>2019</td>\n",
       "      <td>131</td>\n",
       "      <td>1246</td>\n",
       "      <td>1397</td>\n",
       "      <td>RegularSeason</td>\n",
       "      <td>1</td>\n",
       "      <td>2</td>\n",
       "      <td>2</td>\n",
       "      <td>0</td>\n",
       "      <td>0</td>\n",
       "      <td>0</td>\n",
       "      <td>1</td>\n",
       "      <td>0</td>\n",
       "      <td>0</td>\n",
       "      <td>0</td>\n",
       "      <td>0</td>\n",
       "      <td>1</td>\n",
       "    </tr>\n",
       "    <tr>\n",
       "      <th>5733</th>\n",
       "      <td>2019</td>\n",
       "      <td>131</td>\n",
       "      <td>1371</td>\n",
       "      <td>1437</td>\n",
       "      <td>RegularSeason</td>\n",
       "      <td>1</td>\n",
       "      <td>10</td>\n",
       "      <td>6</td>\n",
       "      <td>4</td>\n",
       "      <td>0</td>\n",
       "      <td>0</td>\n",
       "      <td>1</td>\n",
       "      <td>0</td>\n",
       "      <td>0</td>\n",
       "      <td>0</td>\n",
       "      <td>0</td>\n",
       "      <td>1</td>\n",
       "    </tr>\n",
       "    <tr>\n",
       "      <th>5734</th>\n",
       "      <td>2019</td>\n",
       "      <td>132</td>\n",
       "      <td>1120</td>\n",
       "      <td>1397</td>\n",
       "      <td>RegularSeason</td>\n",
       "      <td>0</td>\n",
       "      <td>5</td>\n",
       "      <td>2</td>\n",
       "      <td>3</td>\n",
       "      <td>0</td>\n",
       "      <td>0</td>\n",
       "      <td>1</td>\n",
       "      <td>0</td>\n",
       "      <td>0</td>\n",
       "      <td>0</td>\n",
       "      <td>0</td>\n",
       "      <td>1</td>\n",
       "    </tr>\n",
       "    <tr>\n",
       "      <th>5735</th>\n",
       "      <td>2019</td>\n",
       "      <td>132</td>\n",
       "      <td>1153</td>\n",
       "      <td>1222</td>\n",
       "      <td>RegularSeason</td>\n",
       "      <td>0</td>\n",
       "      <td>7</td>\n",
       "      <td>3</td>\n",
       "      <td>4</td>\n",
       "      <td>0</td>\n",
       "      <td>0</td>\n",
       "      <td>0</td>\n",
       "      <td>1</td>\n",
       "      <td>0</td>\n",
       "      <td>0</td>\n",
       "      <td>1</td>\n",
       "      <td>0</td>\n",
       "    </tr>\n",
       "    <tr>\n",
       "      <th>5736</th>\n",
       "      <td>2019</td>\n",
       "      <td>132</td>\n",
       "      <td>1276</td>\n",
       "      <td>1277</td>\n",
       "      <td>RegularSeason</td>\n",
       "      <td>1</td>\n",
       "      <td>2</td>\n",
       "      <td>2</td>\n",
       "      <td>0</td>\n",
       "      <td>0</td>\n",
       "      <td>1</td>\n",
       "      <td>0</td>\n",
       "      <td>0</td>\n",
       "      <td>1</td>\n",
       "      <td>0</td>\n",
       "      <td>0</td>\n",
       "      <td>0</td>\n",
       "    </tr>\n",
       "  </tbody>\n",
       "</table>\n",
       "<p>5737 rows × 17 columns</p>\n",
       "</div>"
      ],
      "text/plain": [
       "      Season  DayNum  Team0_ID  Team1_ID    Competition  WTeam  SeedT1  \\\n",
       "0       2003     134      1411      1421          MNCAA      1      16   \n",
       "1       2003     136      1112      1436          MNCAA      0       1   \n",
       "2       2003     136      1113      1272          MNCAA      0      10   \n",
       "3       2003     136      1141      1166          MNCAA      0      11   \n",
       "4       2003     136      1143      1301          MNCAA      0       8   \n",
       "...      ...     ...       ...       ...            ...    ...     ...   \n",
       "5732    2019     131      1246      1397  RegularSeason      1       2   \n",
       "5733    2019     131      1371      1437  RegularSeason      1      10   \n",
       "5734    2019     132      1120      1397  RegularSeason      0       5   \n",
       "5735    2019     132      1153      1222  RegularSeason      0       7   \n",
       "5736    2019     132      1276      1277  RegularSeason      1       2   \n",
       "\n",
       "      SeedT2  Seed_diff  W1  X1  Z1  Y1  W2  X2  Z2  Y2  \n",
       "0         16          0   0   1   0   0   0   1   0   0  \n",
       "1         16        -15   0   0   0   1   0   0   0   1  \n",
       "2          7          3   0   0   0   1   0   0   0   1  \n",
       "3          6          5   0   0   0   1   0   0   0   1  \n",
       "4          9         -1   1   0   0   0   1   0   0   0  \n",
       "...      ...        ...  ..  ..  ..  ..  ..  ..  ..  ..  \n",
       "5732       2          0   0   0   1   0   0   0   0   1  \n",
       "5733       6          4   0   0   1   0   0   0   0   1  \n",
       "5734       2          3   0   0   1   0   0   0   0   1  \n",
       "5735       3          4   0   0   0   1   0   0   1   0  \n",
       "5736       2          0   0   1   0   0   1   0   0   0  \n",
       "\n",
       "[5737 rows x 17 columns]"
      ]
     },
     "execution_count": 137,
     "metadata": {},
     "output_type": "execute_result"
    }
   ],
   "source": [
    "tourney_result_total"
   ]
  },
  {
   "cell_type": "code",
   "execution_count": 138,
   "metadata": {},
   "outputs": [],
   "source": [
    "tourney_result=tourney_result.drop(['Season','DayNum','Team0_ID','Team1_ID','Competition'], axis=1)"
   ]
  },
  {
   "cell_type": "code",
   "execution_count": 139,
   "metadata": {},
   "outputs": [],
   "source": [
    "X_train = tourney_result.drop('WTeam', axis=1)\n",
    "y_train = tourney_result.WTeam"
   ]
  },
  {
   "cell_type": "code",
   "execution_count": 140,
   "metadata": {},
   "outputs": [
    {
     "data": {
      "text/html": [
       "<div>\n",
       "<style scoped>\n",
       "    .dataframe tbody tr th:only-of-type {\n",
       "        vertical-align: middle;\n",
       "    }\n",
       "\n",
       "    .dataframe tbody tr th {\n",
       "        vertical-align: top;\n",
       "    }\n",
       "\n",
       "    .dataframe thead th {\n",
       "        text-align: right;\n",
       "    }\n",
       "</style>\n",
       "<table border=\"1\" class=\"dataframe\">\n",
       "  <thead>\n",
       "    <tr style=\"text-align: right;\">\n",
       "      <th></th>\n",
       "      <th>SeedT1</th>\n",
       "      <th>SeedT2</th>\n",
       "      <th>Seed_diff</th>\n",
       "      <th>W1</th>\n",
       "      <th>X1</th>\n",
       "      <th>Z1</th>\n",
       "      <th>Y1</th>\n",
       "      <th>W2</th>\n",
       "      <th>X2</th>\n",
       "      <th>Z2</th>\n",
       "      <th>Y2</th>\n",
       "    </tr>\n",
       "  </thead>\n",
       "  <tbody>\n",
       "    <tr>\n",
       "      <th>0</th>\n",
       "      <td>16</td>\n",
       "      <td>16</td>\n",
       "      <td>0</td>\n",
       "      <td>0</td>\n",
       "      <td>1</td>\n",
       "      <td>0</td>\n",
       "      <td>0</td>\n",
       "      <td>0</td>\n",
       "      <td>1</td>\n",
       "      <td>0</td>\n",
       "      <td>0</td>\n",
       "    </tr>\n",
       "    <tr>\n",
       "      <th>1</th>\n",
       "      <td>1</td>\n",
       "      <td>16</td>\n",
       "      <td>-15</td>\n",
       "      <td>0</td>\n",
       "      <td>0</td>\n",
       "      <td>0</td>\n",
       "      <td>1</td>\n",
       "      <td>0</td>\n",
       "      <td>0</td>\n",
       "      <td>0</td>\n",
       "      <td>1</td>\n",
       "    </tr>\n",
       "    <tr>\n",
       "      <th>2</th>\n",
       "      <td>10</td>\n",
       "      <td>7</td>\n",
       "      <td>3</td>\n",
       "      <td>0</td>\n",
       "      <td>0</td>\n",
       "      <td>0</td>\n",
       "      <td>1</td>\n",
       "      <td>0</td>\n",
       "      <td>0</td>\n",
       "      <td>0</td>\n",
       "      <td>1</td>\n",
       "    </tr>\n",
       "    <tr>\n",
       "      <th>3</th>\n",
       "      <td>11</td>\n",
       "      <td>6</td>\n",
       "      <td>5</td>\n",
       "      <td>0</td>\n",
       "      <td>0</td>\n",
       "      <td>0</td>\n",
       "      <td>1</td>\n",
       "      <td>0</td>\n",
       "      <td>0</td>\n",
       "      <td>0</td>\n",
       "      <td>1</td>\n",
       "    </tr>\n",
       "    <tr>\n",
       "      <th>4</th>\n",
       "      <td>8</td>\n",
       "      <td>9</td>\n",
       "      <td>-1</td>\n",
       "      <td>1</td>\n",
       "      <td>0</td>\n",
       "      <td>0</td>\n",
       "      <td>0</td>\n",
       "      <td>1</td>\n",
       "      <td>0</td>\n",
       "      <td>0</td>\n",
       "      <td>0</td>\n",
       "    </tr>\n",
       "    <tr>\n",
       "      <th>...</th>\n",
       "      <td>...</td>\n",
       "      <td>...</td>\n",
       "      <td>...</td>\n",
       "      <td>...</td>\n",
       "      <td>...</td>\n",
       "      <td>...</td>\n",
       "      <td>...</td>\n",
       "      <td>...</td>\n",
       "      <td>...</td>\n",
       "      <td>...</td>\n",
       "      <td>...</td>\n",
       "    </tr>\n",
       "    <tr>\n",
       "      <th>5732</th>\n",
       "      <td>2</td>\n",
       "      <td>2</td>\n",
       "      <td>0</td>\n",
       "      <td>0</td>\n",
       "      <td>0</td>\n",
       "      <td>1</td>\n",
       "      <td>0</td>\n",
       "      <td>0</td>\n",
       "      <td>0</td>\n",
       "      <td>0</td>\n",
       "      <td>1</td>\n",
       "    </tr>\n",
       "    <tr>\n",
       "      <th>5733</th>\n",
       "      <td>10</td>\n",
       "      <td>6</td>\n",
       "      <td>4</td>\n",
       "      <td>0</td>\n",
       "      <td>0</td>\n",
       "      <td>1</td>\n",
       "      <td>0</td>\n",
       "      <td>0</td>\n",
       "      <td>0</td>\n",
       "      <td>0</td>\n",
       "      <td>1</td>\n",
       "    </tr>\n",
       "    <tr>\n",
       "      <th>5734</th>\n",
       "      <td>5</td>\n",
       "      <td>2</td>\n",
       "      <td>3</td>\n",
       "      <td>0</td>\n",
       "      <td>0</td>\n",
       "      <td>1</td>\n",
       "      <td>0</td>\n",
       "      <td>0</td>\n",
       "      <td>0</td>\n",
       "      <td>0</td>\n",
       "      <td>1</td>\n",
       "    </tr>\n",
       "    <tr>\n",
       "      <th>5735</th>\n",
       "      <td>7</td>\n",
       "      <td>3</td>\n",
       "      <td>4</td>\n",
       "      <td>0</td>\n",
       "      <td>0</td>\n",
       "      <td>0</td>\n",
       "      <td>1</td>\n",
       "      <td>0</td>\n",
       "      <td>0</td>\n",
       "      <td>1</td>\n",
       "      <td>0</td>\n",
       "    </tr>\n",
       "    <tr>\n",
       "      <th>5736</th>\n",
       "      <td>2</td>\n",
       "      <td>2</td>\n",
       "      <td>0</td>\n",
       "      <td>0</td>\n",
       "      <td>1</td>\n",
       "      <td>0</td>\n",
       "      <td>0</td>\n",
       "      <td>1</td>\n",
       "      <td>0</td>\n",
       "      <td>0</td>\n",
       "      <td>0</td>\n",
       "    </tr>\n",
       "  </tbody>\n",
       "</table>\n",
       "<p>5737 rows × 11 columns</p>\n",
       "</div>"
      ],
      "text/plain": [
       "      SeedT1  SeedT2  Seed_diff  W1  X1  Z1  Y1  W2  X2  Z2  Y2\n",
       "0         16      16          0   0   1   0   0   0   1   0   0\n",
       "1          1      16        -15   0   0   0   1   0   0   0   1\n",
       "2         10       7          3   0   0   0   1   0   0   0   1\n",
       "3         11       6          5   0   0   0   1   0   0   0   1\n",
       "4          8       9         -1   1   0   0   0   1   0   0   0\n",
       "...      ...     ...        ...  ..  ..  ..  ..  ..  ..  ..  ..\n",
       "5732       2       2          0   0   0   1   0   0   0   0   1\n",
       "5733      10       6          4   0   0   1   0   0   0   0   1\n",
       "5734       5       2          3   0   0   1   0   0   0   0   1\n",
       "5735       7       3          4   0   0   0   1   0   0   1   0\n",
       "5736       2       2          0   0   1   0   0   1   0   0   0\n",
       "\n",
       "[5737 rows x 11 columns]"
      ]
     },
     "execution_count": 140,
     "metadata": {},
     "output_type": "execute_result"
    }
   ],
   "source": [
    "X_train"
   ]
  },
  {
   "cell_type": "markdown",
   "metadata": {},
   "source": [
    "## Prepare Test Data"
   ]
  },
  {
   "cell_type": "code",
   "execution_count": 155,
   "metadata": {},
   "outputs": [],
   "source": [
    "test_df = pd.read_csv('Data/MSampleSubmissionStage1_2020.csv')"
   ]
  },
  {
   "cell_type": "code",
   "execution_count": 156,
   "metadata": {},
   "outputs": [],
   "source": [
    "test_df['Season'] = test_df['ID'].map(lambda x: int(x[:4]))\n",
    "test_df['WTeamID'] = test_df['ID'].map(lambda x: int(x[5:9]))\n",
    "test_df['LTeamID'] = test_df['ID'].map(lambda x: int(x[10:14]))"
   ]
  },
  {
   "cell_type": "code",
   "execution_count": 157,
   "metadata": {},
   "outputs": [
    {
     "data": {
      "text/html": [
       "<div>\n",
       "<style scoped>\n",
       "    .dataframe tbody tr th:only-of-type {\n",
       "        vertical-align: middle;\n",
       "    }\n",
       "\n",
       "    .dataframe tbody tr th {\n",
       "        vertical-align: top;\n",
       "    }\n",
       "\n",
       "    .dataframe thead th {\n",
       "        text-align: right;\n",
       "    }\n",
       "</style>\n",
       "<table border=\"1\" class=\"dataframe\">\n",
       "  <thead>\n",
       "    <tr style=\"text-align: right;\">\n",
       "      <th></th>\n",
       "      <th>ID</th>\n",
       "      <th>Pred</th>\n",
       "      <th>Season</th>\n",
       "      <th>WTeamID</th>\n",
       "      <th>LTeamID</th>\n",
       "    </tr>\n",
       "  </thead>\n",
       "  <tbody>\n",
       "    <tr>\n",
       "      <th>0</th>\n",
       "      <td>2015_1107_1112</td>\n",
       "      <td>0.5</td>\n",
       "      <td>2015</td>\n",
       "      <td>1107</td>\n",
       "      <td>1112</td>\n",
       "    </tr>\n",
       "    <tr>\n",
       "      <th>1</th>\n",
       "      <td>2015_1107_1116</td>\n",
       "      <td>0.5</td>\n",
       "      <td>2015</td>\n",
       "      <td>1107</td>\n",
       "      <td>1116</td>\n",
       "    </tr>\n",
       "    <tr>\n",
       "      <th>2</th>\n",
       "      <td>2015_1107_1124</td>\n",
       "      <td>0.5</td>\n",
       "      <td>2015</td>\n",
       "      <td>1107</td>\n",
       "      <td>1124</td>\n",
       "    </tr>\n",
       "    <tr>\n",
       "      <th>3</th>\n",
       "      <td>2015_1107_1125</td>\n",
       "      <td>0.5</td>\n",
       "      <td>2015</td>\n",
       "      <td>1107</td>\n",
       "      <td>1125</td>\n",
       "    </tr>\n",
       "    <tr>\n",
       "      <th>4</th>\n",
       "      <td>2015_1107_1129</td>\n",
       "      <td>0.5</td>\n",
       "      <td>2015</td>\n",
       "      <td>1107</td>\n",
       "      <td>1129</td>\n",
       "    </tr>\n",
       "    <tr>\n",
       "      <th>...</th>\n",
       "      <td>...</td>\n",
       "      <td>...</td>\n",
       "      <td>...</td>\n",
       "      <td>...</td>\n",
       "      <td>...</td>\n",
       "    </tr>\n",
       "    <tr>\n",
       "      <th>11385</th>\n",
       "      <td>2019_1449_1459</td>\n",
       "      <td>0.5</td>\n",
       "      <td>2019</td>\n",
       "      <td>1449</td>\n",
       "      <td>1459</td>\n",
       "    </tr>\n",
       "    <tr>\n",
       "      <th>11386</th>\n",
       "      <td>2019_1449_1463</td>\n",
       "      <td>0.5</td>\n",
       "      <td>2019</td>\n",
       "      <td>1449</td>\n",
       "      <td>1463</td>\n",
       "    </tr>\n",
       "    <tr>\n",
       "      <th>11387</th>\n",
       "      <td>2019_1458_1459</td>\n",
       "      <td>0.5</td>\n",
       "      <td>2019</td>\n",
       "      <td>1458</td>\n",
       "      <td>1459</td>\n",
       "    </tr>\n",
       "    <tr>\n",
       "      <th>11388</th>\n",
       "      <td>2019_1458_1463</td>\n",
       "      <td>0.5</td>\n",
       "      <td>2019</td>\n",
       "      <td>1458</td>\n",
       "      <td>1463</td>\n",
       "    </tr>\n",
       "    <tr>\n",
       "      <th>11389</th>\n",
       "      <td>2019_1459_1463</td>\n",
       "      <td>0.5</td>\n",
       "      <td>2019</td>\n",
       "      <td>1459</td>\n",
       "      <td>1463</td>\n",
       "    </tr>\n",
       "  </tbody>\n",
       "</table>\n",
       "<p>11390 rows × 5 columns</p>\n",
       "</div>"
      ],
      "text/plain": [
       "                   ID  Pred  Season  WTeamID  LTeamID\n",
       "0      2015_1107_1112   0.5    2015     1107     1112\n",
       "1      2015_1107_1116   0.5    2015     1107     1116\n",
       "2      2015_1107_1124   0.5    2015     1107     1124\n",
       "3      2015_1107_1125   0.5    2015     1107     1125\n",
       "4      2015_1107_1129   0.5    2015     1107     1129\n",
       "...               ...   ...     ...      ...      ...\n",
       "11385  2019_1449_1459   0.5    2019     1449     1459\n",
       "11386  2019_1449_1463   0.5    2019     1449     1463\n",
       "11387  2019_1458_1459   0.5    2019     1458     1459\n",
       "11388  2019_1458_1463   0.5    2019     1458     1463\n",
       "11389  2019_1459_1463   0.5    2019     1459     1463\n",
       "\n",
       "[11390 rows x 5 columns]"
      ]
     },
     "execution_count": 157,
     "metadata": {},
     "output_type": "execute_result"
    }
   ],
   "source": [
    "test_df"
   ]
  },
  {
   "cell_type": "code",
   "execution_count": 158,
   "metadata": {},
   "outputs": [],
   "source": [
    "test_df = pd.merge(test_df, tourney_seed, left_on=['Season', 'WTeamID'], right_on=['Season', 'TeamID'], how='left')\n",
    "test_df.rename(columns={'Seed':'SeedT1'}, inplace=True)\n",
    "test_df = test_df.drop('TeamID', axis=1)\n",
    "test_df = pd.merge(test_df, tourney_seed, left_on=['Season', 'LTeamID'], right_on=['Season', 'TeamID'], how='left')\n",
    "test_df.rename(columns={'Seed':'SeedT2'}, inplace=True)\n",
    "test_df = test_df.drop('TeamID', axis=1)"
   ]
  },
  {
   "cell_type": "code",
   "execution_count": 159,
   "metadata": {},
   "outputs": [
    {
     "data": {
      "text/html": [
       "<div>\n",
       "<style scoped>\n",
       "    .dataframe tbody tr th:only-of-type {\n",
       "        vertical-align: middle;\n",
       "    }\n",
       "\n",
       "    .dataframe tbody tr th {\n",
       "        vertical-align: top;\n",
       "    }\n",
       "\n",
       "    .dataframe thead th {\n",
       "        text-align: right;\n",
       "    }\n",
       "</style>\n",
       "<table border=\"1\" class=\"dataframe\">\n",
       "  <thead>\n",
       "    <tr style=\"text-align: right;\">\n",
       "      <th></th>\n",
       "      <th>ID</th>\n",
       "      <th>Pred</th>\n",
       "      <th>Season</th>\n",
       "      <th>WTeamID</th>\n",
       "      <th>LTeamID</th>\n",
       "      <th>SeedT1</th>\n",
       "      <th>SeedT2</th>\n",
       "    </tr>\n",
       "  </thead>\n",
       "  <tbody>\n",
       "    <tr>\n",
       "      <th>0</th>\n",
       "      <td>2015_1107_1112</td>\n",
       "      <td>0.5</td>\n",
       "      <td>2015</td>\n",
       "      <td>1107</td>\n",
       "      <td>1112</td>\n",
       "      <td>W14</td>\n",
       "      <td>Z02</td>\n",
       "    </tr>\n",
       "    <tr>\n",
       "      <th>1</th>\n",
       "      <td>2015_1107_1116</td>\n",
       "      <td>0.5</td>\n",
       "      <td>2015</td>\n",
       "      <td>1107</td>\n",
       "      <td>1116</td>\n",
       "      <td>W14</td>\n",
       "      <td>Z05</td>\n",
       "    </tr>\n",
       "    <tr>\n",
       "      <th>2</th>\n",
       "      <td>2015_1107_1124</td>\n",
       "      <td>0.5</td>\n",
       "      <td>2015</td>\n",
       "      <td>1107</td>\n",
       "      <td>1124</td>\n",
       "      <td>W14</td>\n",
       "      <td>Z03</td>\n",
       "    </tr>\n",
       "    <tr>\n",
       "      <th>3</th>\n",
       "      <td>2015_1107_1125</td>\n",
       "      <td>0.5</td>\n",
       "      <td>2015</td>\n",
       "      <td>1107</td>\n",
       "      <td>1125</td>\n",
       "      <td>W14</td>\n",
       "      <td>W15</td>\n",
       "    </tr>\n",
       "    <tr>\n",
       "      <th>4</th>\n",
       "      <td>2015_1107_1129</td>\n",
       "      <td>0.5</td>\n",
       "      <td>2015</td>\n",
       "      <td>1107</td>\n",
       "      <td>1129</td>\n",
       "      <td>W14</td>\n",
       "      <td>W11a</td>\n",
       "    </tr>\n",
       "    <tr>\n",
       "      <th>...</th>\n",
       "      <td>...</td>\n",
       "      <td>...</td>\n",
       "      <td>...</td>\n",
       "      <td>...</td>\n",
       "      <td>...</td>\n",
       "      <td>...</td>\n",
       "      <td>...</td>\n",
       "    </tr>\n",
       "    <tr>\n",
       "      <th>11385</th>\n",
       "      <td>2019_1449_1459</td>\n",
       "      <td>0.5</td>\n",
       "      <td>2019</td>\n",
       "      <td>1449</td>\n",
       "      <td>1459</td>\n",
       "      <td>Y09</td>\n",
       "      <td>Y07</td>\n",
       "    </tr>\n",
       "    <tr>\n",
       "      <th>11386</th>\n",
       "      <td>2019_1449_1463</td>\n",
       "      <td>0.5</td>\n",
       "      <td>2019</td>\n",
       "      <td>1449</td>\n",
       "      <td>1463</td>\n",
       "      <td>Y09</td>\n",
       "      <td>W14</td>\n",
       "    </tr>\n",
       "    <tr>\n",
       "      <th>11387</th>\n",
       "      <td>2019_1458_1459</td>\n",
       "      <td>0.5</td>\n",
       "      <td>2019</td>\n",
       "      <td>1458</td>\n",
       "      <td>1459</td>\n",
       "      <td>Z05</td>\n",
       "      <td>Y07</td>\n",
       "    </tr>\n",
       "    <tr>\n",
       "      <th>11388</th>\n",
       "      <td>2019_1458_1463</td>\n",
       "      <td>0.5</td>\n",
       "      <td>2019</td>\n",
       "      <td>1458</td>\n",
       "      <td>1463</td>\n",
       "      <td>Z05</td>\n",
       "      <td>W14</td>\n",
       "    </tr>\n",
       "    <tr>\n",
       "      <th>11389</th>\n",
       "      <td>2019_1459_1463</td>\n",
       "      <td>0.5</td>\n",
       "      <td>2019</td>\n",
       "      <td>1459</td>\n",
       "      <td>1463</td>\n",
       "      <td>Y07</td>\n",
       "      <td>W14</td>\n",
       "    </tr>\n",
       "  </tbody>\n",
       "</table>\n",
       "<p>11390 rows × 7 columns</p>\n",
       "</div>"
      ],
      "text/plain": [
       "                   ID  Pred  Season  WTeamID  LTeamID SeedT1 SeedT2\n",
       "0      2015_1107_1112   0.5    2015     1107     1112    W14    Z02\n",
       "1      2015_1107_1116   0.5    2015     1107     1116    W14    Z05\n",
       "2      2015_1107_1124   0.5    2015     1107     1124    W14    Z03\n",
       "3      2015_1107_1125   0.5    2015     1107     1125    W14    W15\n",
       "4      2015_1107_1129   0.5    2015     1107     1129    W14   W11a\n",
       "...               ...   ...     ...      ...      ...    ...    ...\n",
       "11385  2019_1449_1459   0.5    2019     1449     1459    Y09    Y07\n",
       "11386  2019_1449_1463   0.5    2019     1449     1463    Y09    W14\n",
       "11387  2019_1458_1459   0.5    2019     1458     1459    Z05    Y07\n",
       "11388  2019_1458_1463   0.5    2019     1458     1463    Z05    W14\n",
       "11389  2019_1459_1463   0.5    2019     1459     1463    Y07    W14\n",
       "\n",
       "[11390 rows x 7 columns]"
      ]
     },
     "execution_count": 159,
     "metadata": {},
     "output_type": "execute_result"
    }
   ],
   "source": [
    "test_df"
   ]
  },
  {
   "cell_type": "code",
   "execution_count": 160,
   "metadata": {},
   "outputs": [],
   "source": [
    "def get_seed(x):\n",
    "    return str(x[0])\n",
    "\n",
    "test_df['ConfT1'] = test_df['SeedT1'].map(lambda x: get_seed(x))\n",
    "test_df['ConfT2'] = test_df['SeedT2'].map(lambda x: get_seed(x))\n"
   ]
  },
  {
   "cell_type": "code",
   "execution_count": 161,
   "metadata": {},
   "outputs": [],
   "source": [
    "def get_seed(x):\n",
    "    return int(x[1:3])\n",
    "\n",
    "test_df['SeedT1'] = test_df['SeedT1'].map(lambda x: get_seed(x))\n",
    "test_df['SeedT2'] = test_df['SeedT2'].map(lambda x: get_seed(x))\n"
   ]
  },
  {
   "cell_type": "code",
   "execution_count": 162,
   "metadata": {},
   "outputs": [],
   "source": [
    "test_df['Seed_diff'] = test_df['SeedT1'] - test_df['SeedT2']"
   ]
  },
  {
   "cell_type": "code",
   "execution_count": 163,
   "metadata": {},
   "outputs": [],
   "source": [
    "jobs_encoder = LabelBinarizer()\n",
    "jobs_encoder.fit(test_df['ConfT1'])\n",
    "transformed = jobs_encoder.transform(test_df['ConfT1'])\n",
    "ohe_df = pd.DataFrame(transformed)\n",
    "test_df = pd.concat([test_df, ohe_df], axis=1)\n",
    "test_df.rename(columns={0:'W1',1:'X1',2:'Z1',3:'Y1'}, inplace=True)\n",
    "test_df=test_df.drop('ConfT1', axis=1)"
   ]
  },
  {
   "cell_type": "code",
   "execution_count": 164,
   "metadata": {},
   "outputs": [],
   "source": [
    "jobs_encoder = LabelBinarizer()\n",
    "jobs_encoder.fit(test_df['ConfT2'])\n",
    "transformed = jobs_encoder.transform(test_df['ConfT2'])\n",
    "ohe_df = pd.DataFrame(transformed)\n",
    "test_df = pd.concat([test_df, ohe_df], axis=1)\n",
    "test_df.rename(columns={0:'W2',1:'X2',2:'Z2',3:'Y2'}, inplace=True)\n",
    "test_df=test_df.drop('ConfT2', axis=1)"
   ]
  },
  {
   "cell_type": "code",
   "execution_count": 165,
   "metadata": {},
   "outputs": [],
   "source": [
    "test_df=test_df.drop(['Season','WTeamID','LTeamID','ID','Pred'], axis=1)"
   ]
  },
  {
   "cell_type": "code",
   "execution_count": 166,
   "metadata": {},
   "outputs": [
    {
     "data": {
      "text/html": [
       "<div>\n",
       "<style scoped>\n",
       "    .dataframe tbody tr th:only-of-type {\n",
       "        vertical-align: middle;\n",
       "    }\n",
       "\n",
       "    .dataframe tbody tr th {\n",
       "        vertical-align: top;\n",
       "    }\n",
       "\n",
       "    .dataframe thead th {\n",
       "        text-align: right;\n",
       "    }\n",
       "</style>\n",
       "<table border=\"1\" class=\"dataframe\">\n",
       "  <thead>\n",
       "    <tr style=\"text-align: right;\">\n",
       "      <th></th>\n",
       "      <th>SeedT1</th>\n",
       "      <th>SeedT2</th>\n",
       "      <th>Seed_diff</th>\n",
       "      <th>W1</th>\n",
       "      <th>X1</th>\n",
       "      <th>Z1</th>\n",
       "      <th>Y1</th>\n",
       "      <th>W2</th>\n",
       "      <th>X2</th>\n",
       "      <th>Z2</th>\n",
       "      <th>Y2</th>\n",
       "    </tr>\n",
       "  </thead>\n",
       "  <tbody>\n",
       "    <tr>\n",
       "      <th>0</th>\n",
       "      <td>14</td>\n",
       "      <td>2</td>\n",
       "      <td>12</td>\n",
       "      <td>1</td>\n",
       "      <td>0</td>\n",
       "      <td>0</td>\n",
       "      <td>0</td>\n",
       "      <td>0</td>\n",
       "      <td>0</td>\n",
       "      <td>0</td>\n",
       "      <td>1</td>\n",
       "    </tr>\n",
       "    <tr>\n",
       "      <th>1</th>\n",
       "      <td>14</td>\n",
       "      <td>5</td>\n",
       "      <td>9</td>\n",
       "      <td>1</td>\n",
       "      <td>0</td>\n",
       "      <td>0</td>\n",
       "      <td>0</td>\n",
       "      <td>0</td>\n",
       "      <td>0</td>\n",
       "      <td>0</td>\n",
       "      <td>1</td>\n",
       "    </tr>\n",
       "    <tr>\n",
       "      <th>2</th>\n",
       "      <td>14</td>\n",
       "      <td>3</td>\n",
       "      <td>11</td>\n",
       "      <td>1</td>\n",
       "      <td>0</td>\n",
       "      <td>0</td>\n",
       "      <td>0</td>\n",
       "      <td>0</td>\n",
       "      <td>0</td>\n",
       "      <td>0</td>\n",
       "      <td>1</td>\n",
       "    </tr>\n",
       "    <tr>\n",
       "      <th>3</th>\n",
       "      <td>14</td>\n",
       "      <td>15</td>\n",
       "      <td>-1</td>\n",
       "      <td>1</td>\n",
       "      <td>0</td>\n",
       "      <td>0</td>\n",
       "      <td>0</td>\n",
       "      <td>1</td>\n",
       "      <td>0</td>\n",
       "      <td>0</td>\n",
       "      <td>0</td>\n",
       "    </tr>\n",
       "    <tr>\n",
       "      <th>4</th>\n",
       "      <td>14</td>\n",
       "      <td>11</td>\n",
       "      <td>3</td>\n",
       "      <td>1</td>\n",
       "      <td>0</td>\n",
       "      <td>0</td>\n",
       "      <td>0</td>\n",
       "      <td>1</td>\n",
       "      <td>0</td>\n",
       "      <td>0</td>\n",
       "      <td>0</td>\n",
       "    </tr>\n",
       "    <tr>\n",
       "      <th>...</th>\n",
       "      <td>...</td>\n",
       "      <td>...</td>\n",
       "      <td>...</td>\n",
       "      <td>...</td>\n",
       "      <td>...</td>\n",
       "      <td>...</td>\n",
       "      <td>...</td>\n",
       "      <td>...</td>\n",
       "      <td>...</td>\n",
       "      <td>...</td>\n",
       "      <td>...</td>\n",
       "    </tr>\n",
       "    <tr>\n",
       "      <th>11385</th>\n",
       "      <td>9</td>\n",
       "      <td>7</td>\n",
       "      <td>2</td>\n",
       "      <td>0</td>\n",
       "      <td>0</td>\n",
       "      <td>1</td>\n",
       "      <td>0</td>\n",
       "      <td>0</td>\n",
       "      <td>0</td>\n",
       "      <td>1</td>\n",
       "      <td>0</td>\n",
       "    </tr>\n",
       "    <tr>\n",
       "      <th>11386</th>\n",
       "      <td>9</td>\n",
       "      <td>14</td>\n",
       "      <td>-5</td>\n",
       "      <td>0</td>\n",
       "      <td>0</td>\n",
       "      <td>1</td>\n",
       "      <td>0</td>\n",
       "      <td>1</td>\n",
       "      <td>0</td>\n",
       "      <td>0</td>\n",
       "      <td>0</td>\n",
       "    </tr>\n",
       "    <tr>\n",
       "      <th>11387</th>\n",
       "      <td>5</td>\n",
       "      <td>7</td>\n",
       "      <td>-2</td>\n",
       "      <td>0</td>\n",
       "      <td>0</td>\n",
       "      <td>0</td>\n",
       "      <td>1</td>\n",
       "      <td>0</td>\n",
       "      <td>0</td>\n",
       "      <td>1</td>\n",
       "      <td>0</td>\n",
       "    </tr>\n",
       "    <tr>\n",
       "      <th>11388</th>\n",
       "      <td>5</td>\n",
       "      <td>14</td>\n",
       "      <td>-9</td>\n",
       "      <td>0</td>\n",
       "      <td>0</td>\n",
       "      <td>0</td>\n",
       "      <td>1</td>\n",
       "      <td>1</td>\n",
       "      <td>0</td>\n",
       "      <td>0</td>\n",
       "      <td>0</td>\n",
       "    </tr>\n",
       "    <tr>\n",
       "      <th>11389</th>\n",
       "      <td>7</td>\n",
       "      <td>14</td>\n",
       "      <td>-7</td>\n",
       "      <td>0</td>\n",
       "      <td>0</td>\n",
       "      <td>1</td>\n",
       "      <td>0</td>\n",
       "      <td>1</td>\n",
       "      <td>0</td>\n",
       "      <td>0</td>\n",
       "      <td>0</td>\n",
       "    </tr>\n",
       "  </tbody>\n",
       "</table>\n",
       "<p>11390 rows × 11 columns</p>\n",
       "</div>"
      ],
      "text/plain": [
       "       SeedT1  SeedT2  Seed_diff  W1  X1  Z1  Y1  W2  X2  Z2  Y2\n",
       "0          14       2         12   1   0   0   0   0   0   0   1\n",
       "1          14       5          9   1   0   0   0   0   0   0   1\n",
       "2          14       3         11   1   0   0   0   0   0   0   1\n",
       "3          14      15         -1   1   0   0   0   1   0   0   0\n",
       "4          14      11          3   1   0   0   0   1   0   0   0\n",
       "...       ...     ...        ...  ..  ..  ..  ..  ..  ..  ..  ..\n",
       "11385       9       7          2   0   0   1   0   0   0   1   0\n",
       "11386       9      14         -5   0   0   1   0   1   0   0   0\n",
       "11387       5       7         -2   0   0   0   1   0   0   1   0\n",
       "11388       5      14         -9   0   0   0   1   1   0   0   0\n",
       "11389       7      14         -7   0   0   1   0   1   0   0   0\n",
       "\n",
       "[11390 rows x 11 columns]"
      ]
     },
     "execution_count": 166,
     "metadata": {},
     "output_type": "execute_result"
    }
   ],
   "source": [
    "test_df"
   ]
  },
  {
   "cell_type": "code",
   "execution_count": 167,
   "metadata": {},
   "outputs": [],
   "source": [
    "X_train, X_test, y_train, y_test = train_test_split(X_train,y_train, test_size=0.20)"
   ]
  },
  {
   "cell_type": "markdown",
   "metadata": {},
   "source": [
    "## Decision Tree Regressor"
   ]
  },
  {
   "cell_type": "code",
   "execution_count": 168,
   "metadata": {},
   "outputs": [],
   "source": [
    "from sklearn.tree import DecisionTreeClassifier"
   ]
  },
  {
   "cell_type": "code",
   "execution_count": 169,
   "metadata": {},
   "outputs": [],
   "source": [
    "# Decision Trees Parameters\n",
    "dtp_params = {'max_features': ('sqrt','log2'),\n",
    "    'max_depth': [4,5,6,7,8,9],\n",
    "    'min_samples_leaf': [2,3,4,5]}\n",
    "NFOLDS = 10\n",
    "folds = KFold(n_splits=NFOLDS)\n",
    "splits = folds.split(X_train, y_train)\n"
   ]
  },
  {
   "cell_type": "code",
   "execution_count": 170,
   "metadata": {},
   "outputs": [],
   "source": [
    "decitree = DecisionTreeClassifier()"
   ]
  },
  {
   "cell_type": "code",
   "execution_count": 171,
   "metadata": {},
   "outputs": [],
   "source": [
    "dtr = GridSearchCV(decitree, dtp_params, scoring='neg_log_loss', refit=True, cv = splits)"
   ]
  },
  {
   "cell_type": "code",
   "execution_count": 172,
   "metadata": {},
   "outputs": [
    {
     "data": {
      "text/plain": [
       "GridSearchCV(cv=<generator object _BaseKFold.split at 0x12e5774d0>,\n",
       "             error_score=nan,\n",
       "             estimator=DecisionTreeClassifier(ccp_alpha=0.0, class_weight=None,\n",
       "                                              criterion='gini', max_depth=None,\n",
       "                                              max_features=None,\n",
       "                                              max_leaf_nodes=None,\n",
       "                                              min_impurity_decrease=0.0,\n",
       "                                              min_impurity_split=None,\n",
       "                                              min_samples_leaf=1,\n",
       "                                              min_samples_split=2,\n",
       "                                              min_weight_fraction_leaf=0.0,\n",
       "                                              presort='deprecated',\n",
       "                                              random_state=None,\n",
       "                                              splitter='best'),\n",
       "             iid='deprecated', n_jobs=None,\n",
       "             param_grid={'max_depth': [4, 5, 6, 7, 8, 9],\n",
       "                         'max_features': ('sqrt', 'log2'),\n",
       "                         'min_samples_leaf': [2, 3, 4, 5]},\n",
       "             pre_dispatch='2*n_jobs', refit=True, return_train_score=False,\n",
       "             scoring='neg_log_loss', verbose=0)"
      ]
     },
     "execution_count": 172,
     "metadata": {},
     "output_type": "execute_result"
    }
   ],
   "source": [
    "dtr.fit(X_train,y_train)"
   ]
  },
  {
   "cell_type": "code",
   "execution_count": 173,
   "metadata": {},
   "outputs": [
    {
     "data": {
      "text/plain": [
       "-0.5845936645536083"
      ]
     },
     "execution_count": 173,
     "metadata": {},
     "output_type": "execute_result"
    }
   ],
   "source": [
    "dtr.score(X_test,y_test)"
   ]
  },
  {
   "cell_type": "code",
   "execution_count": 174,
   "metadata": {},
   "outputs": [
    {
     "name": "stdout",
     "output_type": "stream",
     "text": [
      "Confusion matrix, without normalization\n",
      "[[422 158]\n",
      " [197 371]]\n",
      "Normalized confusion matrix\n",
      "[[0.72758621 0.27241379]\n",
      " [0.34683099 0.65316901]]\n"
     ]
    },
    {
     "data": {
      "image/png": "[encoded data removed]",
      "text/plain": [
       "<Figure size 432x288 with 2 Axes>"
      ]
     },
     "metadata": {
      "needs_background": "light"
     },
     "output_type": "display_data"
    },
    {
     "data": {
      "image/png": "[encoded data removed]",
      "text/plain": [
       "<Figure size 432x288 with 2 Axes>"
      ]
     },
     "metadata": {
      "needs_background": "light"
     },
     "output_type": "display_data"
    }
   ],
   "source": [
    "#np.set_printoptions(precision=2)\n",
    "# Plot non-normalized confusion matrix\n",
    "titles_options = [(\"Confusion matrix, without normalization\", None),\n",
    "                  (\"Normalized confusion matrix\", 'true')]\n",
    "for title, normalize in titles_options:\n",
    "    disp = plot_confusion_matrix(dtr, X_test, y_test,\n",
    "                                 cmap=plt.cm.Blues,\n",
    "                                 normalize=normalize)\n",
    "    disp.ax_.set_title(title)\n",
    "\n",
    "    print(title)\n",
    "    print(disp.confusion_matrix)\n",
    "\n",
    "plt.show()"
   ]
  },
  {
   "cell_type": "code",
   "execution_count": 175,
   "metadata": {},
   "outputs": [],
   "source": [
    "dtr_yhat_prob = dtr.predict_proba(X_test)[:,1]\n",
    "dtr_yhat = dtr.predict(X_test)"
   ]
  },
  {
   "cell_type": "code",
   "execution_count": 176,
   "metadata": {},
   "outputs": [],
   "source": [
    "dtr_ytest = dtr.predict(test_df)"
   ]
  },
  {
   "cell_type": "markdown",
   "metadata": {},
   "source": [
    "## Logistic Regression"
   ]
  },
  {
   "cell_type": "code",
   "execution_count": 177,
   "metadata": {},
   "outputs": [],
   "source": [
    "from sklearn.linear_model import LogisticRegression"
   ]
  },
  {
   "cell_type": "code",
   "execution_count": 178,
   "metadata": {},
   "outputs": [],
   "source": [
    "lr_params = {'C': np.logspace(start=-5, stop=3, num=100)}\n",
    "NFOLDS = 10\n",
    "folds = KFold(n_splits=NFOLDS)\n",
    "splits = folds.split(X_train, y_train)"
   ]
  },
  {
   "cell_type": "code",
   "execution_count": 179,
   "metadata": {},
   "outputs": [],
   "source": [
    "logreg = LogisticRegression()"
   ]
  },
  {
   "cell_type": "code",
   "execution_count": 180,
   "metadata": {},
   "outputs": [],
   "source": [
    "lr = GridSearchCV(logreg, lr_params, scoring='neg_log_loss', refit=True, cv = splits)"
   ]
  },
  {
   "cell_type": "code",
   "execution_count": 181,
   "metadata": {},
   "outputs": [
    {
     "data": {
      "text/plain": [
       "GridSearchCV(cv=<generator object _BaseKFold.split at 0x1308cdad0>,\n",
       "             error_score=nan,\n",
       "             estimator=LogisticRegression(C=1.0, class_weight=None, dual=False,\n",
       "                                          fit_intercept=True,\n",
       "                                          intercept_scaling=1, l1_ratio=None,\n",
       "                                          max_iter=100, multi_class='auto',\n",
       "                                          n_jobs=None, penalty='l2',\n",
       "                                          random_state=None, solver='lbfgs',\n",
       "                                          tol=0.0001, verbose=0,\n",
       "                                          warm_start=False),\n",
       "             iid='deprecated', n_jobs=N...\n",
       "       2.91505306e+01, 3.51119173e+01, 4.22924287e+01, 5.09413801e+01,\n",
       "       6.13590727e+01, 7.39072203e+01, 8.90215085e+01, 1.07226722e+02,\n",
       "       1.29154967e+02, 1.55567614e+02, 1.87381742e+02, 2.25701972e+02,\n",
       "       2.71858824e+02, 3.27454916e+02, 3.94420606e+02, 4.75081016e+02,\n",
       "       5.72236766e+02, 6.89261210e+02, 8.30217568e+02, 1.00000000e+03])},\n",
       "             pre_dispatch='2*n_jobs', refit=True, return_train_score=False,\n",
       "             scoring='neg_log_loss', verbose=0)"
      ]
     },
     "execution_count": 181,
     "metadata": {},
     "output_type": "execute_result"
    }
   ],
   "source": [
    "lr.fit(X_train,y_train)"
   ]
  },
  {
   "cell_type": "code",
   "execution_count": 182,
   "metadata": {},
   "outputs": [
    {
     "name": "stdout",
     "output_type": "stream",
     "text": [
      "Confusion matrix, without normalization\n",
      "[[419 161]\n",
      " [191 377]]\n",
      "Normalized confusion matrix\n",
      "[[0.72241379 0.27758621]\n",
      " [0.33626761 0.66373239]]\n"
     ]
    },
    {
     "data": {
      "image/png": "[encoded data removed]",
      "text/plain": [
       "<Figure size 432x288 with 2 Axes>"
      ]
     },
     "metadata": {
      "needs_background": "light"
     },
     "output_type": "display_data"
    },
    {
     "data": {
      "image/png": "[encoded data removed]",
      "text/plain": [
       "<Figure size 432x288 with 2 Axes>"
      ]
     },
     "metadata": {
      "needs_background": "light"
     },
     "output_type": "display_data"
    }
   ],
   "source": [
    "titles_options = [(\"Confusion matrix, without normalization\", None),\n",
    "                  (\"Normalized confusion matrix\", 'true')]\n",
    "for title, normalize in titles_options:\n",
    "    disp = plot_confusion_matrix(lr, X_test, y_test,\n",
    "                                 cmap=plt.cm.Blues,\n",
    "                                 normalize=normalize)\n",
    "    disp.ax_.set_title(title)\n",
    "\n",
    "    print(title)\n",
    "    print(disp.confusion_matrix)\n",
    "\n",
    "plt.show()"
   ]
  },
  {
   "cell_type": "code",
   "execution_count": 183,
   "metadata": {},
   "outputs": [
    {
     "data": {
      "text/plain": [
       "-0.5835424683307019"
      ]
     },
     "execution_count": 183,
     "metadata": {},
     "output_type": "execute_result"
    }
   ],
   "source": [
    "lr.score(X_test,y_test)"
   ]
  },
  {
   "cell_type": "code",
   "execution_count": 184,
   "metadata": {},
   "outputs": [],
   "source": [
    "lr_yhat_prob = lr.predict_proba(X_test)[:,1]\n",
    "lr_yhat = lr.predict(X_test)"
   ]
  },
  {
   "cell_type": "code",
   "execution_count": 185,
   "metadata": {},
   "outputs": [],
   "source": [
    "lr_ytest = lr.predict(test_df)"
   ]
  },
  {
   "cell_type": "markdown",
   "metadata": {},
   "source": [
    "## AdaBoost Regressor"
   ]
  },
  {
   "cell_type": "code",
   "execution_count": 186,
   "metadata": {},
   "outputs": [],
   "source": [
    "from sklearn.ensemble import AdaBoostClassifier"
   ]
  },
  {
   "cell_type": "code",
   "execution_count": 187,
   "metadata": {},
   "outputs": [],
   "source": [
    "NFOLDS = 10\n",
    "folds = KFold(n_splits=NFOLDS)\n",
    "splits = folds.split(X_train, y_train)\n",
    "\n",
    "\n",
    "ada_params = {\n",
    "    'n_estimators': [400,500,600],\n",
    "    'learning_rate' : [0.01,0.1,0.8,1.0,1.2],\n",
    "}"
   ]
  },
  {
   "cell_type": "code",
   "execution_count": 188,
   "metadata": {},
   "outputs": [],
   "source": [
    "ada = AdaBoostClassifier()"
   ]
  },
  {
   "cell_type": "code",
   "execution_count": 189,
   "metadata": {},
   "outputs": [],
   "source": [
    "adr = GridSearchCV(ada, ada_params, scoring='neg_log_loss', refit=True, cv = splits)"
   ]
  },
  {
   "cell_type": "code",
   "execution_count": 190,
   "metadata": {},
   "outputs": [
    {
     "data": {
      "text/plain": [
       "GridSearchCV(cv=<generator object _BaseKFold.split at 0x1325a4850>,\n",
       "             error_score=nan,\n",
       "             estimator=AdaBoostClassifier(algorithm='SAMME.R',\n",
       "                                          base_estimator=None,\n",
       "                                          learning_rate=1.0, n_estimators=50,\n",
       "                                          random_state=None),\n",
       "             iid='deprecated', n_jobs=None,\n",
       "             param_grid={'learning_rate': [0.01, 0.1, 0.8, 1.0, 1.2],\n",
       "                         'n_estimators': [400, 500, 600]},\n",
       "             pre_dispatch='2*n_jobs', refit=True, return_train_score=False,\n",
       "             scoring='neg_log_loss', verbose=0)"
      ]
     },
     "execution_count": 190,
     "metadata": {},
     "output_type": "execute_result"
    }
   ],
   "source": [
    "adr.fit(X_train, y_train)"
   ]
  },
  {
   "cell_type": "code",
   "execution_count": 191,
   "metadata": {},
   "outputs": [
    {
     "name": "stdout",
     "output_type": "stream",
     "text": [
      "Confusion matrix, without normalization\n",
      "[[419 161]\n",
      " [188 380]]\n",
      "Normalized confusion matrix\n",
      "[[0.72241379 0.27758621]\n",
      " [0.33098592 0.66901408]]\n"
     ]
    },
    {
     "data": {
      "image/png": "[encoded data removed]",
      "text/plain": [
       "<Figure size 432x288 with 2 Axes>"
      ]
     },
     "metadata": {
      "needs_background": "light"
     },
     "output_type": "display_data"
    },
    {
     "data": {
      "image/png": "[encoded data removed]",
      "text/plain": [
       "<Figure size 432x288 with 2 Axes>"
      ]
     },
     "metadata": {
      "needs_background": "light"
     },
     "output_type": "display_data"
    }
   ],
   "source": [
    "titles_options = [(\"Confusion matrix, without normalization\", None),\n",
    "                  (\"Normalized confusion matrix\", 'true')]\n",
    "for title, normalize in titles_options:\n",
    "    disp = plot_confusion_matrix(adr, X_test, y_test,\n",
    "                                 cmap=plt.cm.Blues,\n",
    "                                 normalize=normalize)\n",
    "    disp.ax_.set_title(title)\n",
    "\n",
    "    print(title)\n",
    "    print(disp.confusion_matrix)\n",
    "\n",
    "plt.show()"
   ]
  },
  {
   "cell_type": "code",
   "execution_count": 192,
   "metadata": {},
   "outputs": [
    {
     "data": {
      "text/plain": [
       "-0.6515459217215842"
      ]
     },
     "execution_count": 192,
     "metadata": {},
     "output_type": "execute_result"
    }
   ],
   "source": [
    "adr.score(X_test,y_test)"
   ]
  },
  {
   "cell_type": "code",
   "execution_count": 193,
   "metadata": {},
   "outputs": [],
   "source": [
    "adr_yhat_prob = adr.predict_proba(X_test)[:,1]\n",
    "adr_yhat = adr.predict(X_test)"
   ]
  },
  {
   "cell_type": "code",
   "execution_count": 194,
   "metadata": {},
   "outputs": [],
   "source": [
    "adr_ytest=adr.predict(test_df)"
   ]
  },
  {
   "cell_type": "markdown",
   "metadata": {},
   "source": [
    "## Random Forest"
   ]
  },
  {
   "cell_type": "code",
   "execution_count": 195,
   "metadata": {},
   "outputs": [],
   "source": [
    "from sklearn.ensemble import RandomForestClassifier"
   ]
  },
  {
   "cell_type": "code",
   "execution_count": 196,
   "metadata": {},
   "outputs": [],
   "source": [
    "NFOLDS = 10\n",
    "folds = KFold(n_splits=NFOLDS)\n",
    "splits = folds.split(X_train, y_train)\n",
    "\n",
    "rf_params = {\n",
    "    'n_estimators': [400,600], \n",
    "     #'max_features': [0.2,0.4,0,8],\n",
    "    'max_depth': [4,8],\n",
    "    'min_samples_leaf': [2,4]\n",
    "}"
   ]
  },
  {
   "cell_type": "code",
   "execution_count": 197,
   "metadata": {},
   "outputs": [],
   "source": [
    "rf = RandomForestClassifier(n_jobs=-1,warm_start= True,verbose=0,max_features='sqrt')"
   ]
  },
  {
   "cell_type": "code",
   "execution_count": 198,
   "metadata": {},
   "outputs": [],
   "source": [
    "rf_search = GridSearchCV(rf, rf_params, scoring='neg_log_loss', refit=True, cv = splits)"
   ]
  },
  {
   "cell_type": "code",
   "execution_count": 199,
   "metadata": {},
   "outputs": [
    {
     "data": {
      "text/plain": [
       "GridSearchCV(cv=<generator object _BaseKFold.split at 0x132659bd0>,\n",
       "             error_score=nan,\n",
       "             estimator=RandomForestClassifier(bootstrap=True, ccp_alpha=0.0,\n",
       "                                              class_weight=None,\n",
       "                                              criterion='gini', max_depth=None,\n",
       "                                              max_features='sqrt',\n",
       "                                              max_leaf_nodes=None,\n",
       "                                              max_samples=None,\n",
       "                                              min_impurity_decrease=0.0,\n",
       "                                              min_impurity_split=None,\n",
       "                                              min_samples_leaf=1,\n",
       "                                              min_samples_split=2,\n",
       "                                              min_weight_fraction_leaf=0.0,\n",
       "                                              n_estimators=100, n_jobs=-1,\n",
       "                                              oob_score=False,\n",
       "                                              random_state=None, verbose=0,\n",
       "                                              warm_start=True),\n",
       "             iid='deprecated', n_jobs=None,\n",
       "             param_grid={'max_depth': [4, 8], 'min_samples_leaf': [2, 4],\n",
       "                         'n_estimators': [400, 600]},\n",
       "             pre_dispatch='2*n_jobs', refit=True, return_train_score=False,\n",
       "             scoring='neg_log_loss', verbose=0)"
      ]
     },
     "execution_count": 199,
     "metadata": {},
     "output_type": "execute_result"
    }
   ],
   "source": [
    "rf_search.fit(X_train, y_train)"
   ]
  },
  {
   "cell_type": "code",
   "execution_count": 200,
   "metadata": {},
   "outputs": [
    {
     "name": "stdout",
     "output_type": "stream",
     "text": [
      "Confusion matrix, without normalization\n",
      "[[419 161]\n",
      " [189 379]]\n",
      "Normalized confusion matrix\n",
      "[[0.72241379 0.27758621]\n",
      " [0.33274648 0.66725352]]\n"
     ]
    },
    {
     "data": {
      "image/png": "[encoded data removed]",
      "text/plain": [
       "<Figure size 432x288 with 2 Axes>"
      ]
     },
     "metadata": {
      "needs_background": "light"
     },
     "output_type": "display_data"
    },
    {
     "data": {
      "image/png": "[encoded data removed]",
      "text/plain": [
       "<Figure size 432x288 with 2 Axes>"
      ]
     },
     "metadata": {
      "needs_background": "light"
     },
     "output_type": "display_data"
    }
   ],
   "source": [
    "titles_options = [(\"Confusion matrix, without normalization\", None),\n",
    "                  (\"Normalized confusion matrix\", 'true')]\n",
    "for title, normalize in titles_options:\n",
    "    disp = plot_confusion_matrix(rf_search, X_test, y_test,\n",
    "                                 cmap=plt.cm.Blues,\n",
    "                                 normalize=normalize)\n",
    "    disp.ax_.set_title(title)\n",
    "\n",
    "    print(title)\n",
    "    print(disp.confusion_matrix)\n",
    "\n",
    "plt.show()"
   ]
  },
  {
   "cell_type": "code",
   "execution_count": 201,
   "metadata": {},
   "outputs": [
    {
     "data": {
      "text/plain": [
       "-0.5910650587166729"
      ]
     },
     "execution_count": 201,
     "metadata": {},
     "output_type": "execute_result"
    }
   ],
   "source": [
    "rf_search.score(X_test,y_test)"
   ]
  },
  {
   "cell_type": "code",
   "execution_count": 202,
   "metadata": {},
   "outputs": [],
   "source": [
    "rf_yhat_prob = rf_search.predict_proba(X_test)[:,1]\n",
    "rf_yhat = rf_search.predict(X_test)"
   ]
  },
  {
   "cell_type": "code",
   "execution_count": 203,
   "metadata": {},
   "outputs": [],
   "source": [
    "rf_ytest = rf_search.predict(test_df)"
   ]
  },
  {
   "cell_type": "markdown",
   "metadata": {},
   "source": [
    "# Interpret Results"
   ]
  },
  {
   "cell_type": "markdown",
   "metadata": {},
   "source": [
    "#### Feature importances generated from the different regressors"
   ]
  },
  {
   "cell_type": "code",
   "execution_count": 204,
   "metadata": {},
   "outputs": [],
   "source": [
    "dtr_feature = dtr.best_estimator_.feature_importances_\n",
    "lr_feature = lr.best_estimator_.coef_\n",
    "adr_feature = adr.best_estimator_.feature_importances_\n",
    "rf_search_feature = rf_search.best_estimator_.feature_importances_"
   ]
  },
  {
   "cell_type": "code",
   "execution_count": 205,
   "metadata": {},
   "outputs": [],
   "source": [
    "dtr_features = [x for x in dtr_feature]\n",
    "lr_features = [x for x in lr_feature[0]]\n",
    "adr_features = [x for x in adr_feature]\n",
    "rf_search_features = [x for x in rf_search_feature]"
   ]
  },
  {
   "cell_type": "markdown",
   "metadata": {},
   "source": [
    "On affiche ça dans un dataframe pour que ce soit plus lisible"
   ]
  },
  {
   "cell_type": "code",
   "execution_count": 206,
   "metadata": {},
   "outputs": [],
   "source": [
    "cols = X_train.columns.values\n",
    "# Create a dataframe with features\n",
    "feature_dataframe = pd.DataFrame( {'features': cols,\n",
    "     'Decision Tree feature importances': dtr_features,\n",
    "     'Logistic Regression feature importances': lr_features,\n",
    "      'AdaBoost feature importances': adr_features,\n",
    "    'Random Forest feature importances': rf_search_features\n",
    "    })"
   ]
  },
  {
   "cell_type": "code",
   "execution_count": 207,
   "metadata": {},
   "outputs": [
    {
     "data": {
      "text/html": [
       "<div>\n",
       "<style scoped>\n",
       "    .dataframe tbody tr th:only-of-type {\n",
       "        vertical-align: middle;\n",
       "    }\n",
       "\n",
       "    .dataframe tbody tr th {\n",
       "        vertical-align: top;\n",
       "    }\n",
       "\n",
       "    .dataframe thead th {\n",
       "        text-align: right;\n",
       "    }\n",
       "</style>\n",
       "<table border=\"1\" class=\"dataframe\">\n",
       "  <thead>\n",
       "    <tr style=\"text-align: right;\">\n",
       "      <th></th>\n",
       "      <th>features</th>\n",
       "      <th>Decision Tree feature importances</th>\n",
       "      <th>Logistic Regression feature importances</th>\n",
       "      <th>AdaBoost feature importances</th>\n",
       "      <th>Random Forest feature importances</th>\n",
       "    </tr>\n",
       "  </thead>\n",
       "  <tbody>\n",
       "    <tr>\n",
       "      <th>0</th>\n",
       "      <td>SeedT1</td>\n",
       "      <td>0.077375</td>\n",
       "      <td>0.063997</td>\n",
       "      <td>0.180</td>\n",
       "      <td>0.245573</td>\n",
       "    </tr>\n",
       "    <tr>\n",
       "      <th>1</th>\n",
       "      <td>SeedT2</td>\n",
       "      <td>0.034884</td>\n",
       "      <td>-0.058424</td>\n",
       "      <td>0.125</td>\n",
       "      <td>0.184947</td>\n",
       "    </tr>\n",
       "    <tr>\n",
       "      <th>2</th>\n",
       "      <td>Seed_diff</td>\n",
       "      <td>0.884428</td>\n",
       "      <td>0.122422</td>\n",
       "      <td>0.695</td>\n",
       "      <td>0.552020</td>\n",
       "    </tr>\n",
       "    <tr>\n",
       "      <th>3</th>\n",
       "      <td>W1</td>\n",
       "      <td>0.000116</td>\n",
       "      <td>-0.001969</td>\n",
       "      <td>0.000</td>\n",
       "      <td>0.001788</td>\n",
       "    </tr>\n",
       "    <tr>\n",
       "      <th>4</th>\n",
       "      <td>X1</td>\n",
       "      <td>0.000856</td>\n",
       "      <td>-0.006034</td>\n",
       "      <td>0.000</td>\n",
       "      <td>0.002237</td>\n",
       "    </tr>\n",
       "    <tr>\n",
       "      <th>5</th>\n",
       "      <td>Z1</td>\n",
       "      <td>0.000000</td>\n",
       "      <td>0.006423</td>\n",
       "      <td>0.000</td>\n",
       "      <td>0.002257</td>\n",
       "    </tr>\n",
       "    <tr>\n",
       "      <th>6</th>\n",
       "      <td>Y1</td>\n",
       "      <td>0.000000</td>\n",
       "      <td>0.001564</td>\n",
       "      <td>0.000</td>\n",
       "      <td>0.001924</td>\n",
       "    </tr>\n",
       "    <tr>\n",
       "      <th>7</th>\n",
       "      <td>W2</td>\n",
       "      <td>0.001863</td>\n",
       "      <td>0.014357</td>\n",
       "      <td>0.000</td>\n",
       "      <td>0.002758</td>\n",
       "    </tr>\n",
       "    <tr>\n",
       "      <th>8</th>\n",
       "      <td>X2</td>\n",
       "      <td>0.000000</td>\n",
       "      <td>-0.017073</td>\n",
       "      <td>0.000</td>\n",
       "      <td>0.003117</td>\n",
       "    </tr>\n",
       "    <tr>\n",
       "      <th>9</th>\n",
       "      <td>Z2</td>\n",
       "      <td>0.000000</td>\n",
       "      <td>0.000568</td>\n",
       "      <td>0.000</td>\n",
       "      <td>0.001710</td>\n",
       "    </tr>\n",
       "    <tr>\n",
       "      <th>10</th>\n",
       "      <td>Y2</td>\n",
       "      <td>0.000479</td>\n",
       "      <td>0.002132</td>\n",
       "      <td>0.000</td>\n",
       "      <td>0.001670</td>\n",
       "    </tr>\n",
       "  </tbody>\n",
       "</table>\n",
       "</div>"
      ],
      "text/plain": [
       "     features  Decision Tree feature importances  \\\n",
       "0      SeedT1                           0.077375   \n",
       "1      SeedT2                           0.034884   \n",
       "2   Seed_diff                           0.884428   \n",
       "3          W1                           0.000116   \n",
       "4          X1                           0.000856   \n",
       "5          Z1                           0.000000   \n",
       "6          Y1                           0.000000   \n",
       "7          W2                           0.001863   \n",
       "8          X2                           0.000000   \n",
       "9          Z2                           0.000000   \n",
       "10         Y2                           0.000479   \n",
       "\n",
       "    Logistic Regression feature importances  AdaBoost feature importances  \\\n",
       "0                                  0.063997                         0.180   \n",
       "1                                 -0.058424                         0.125   \n",
       "2                                  0.122422                         0.695   \n",
       "3                                 -0.001969                         0.000   \n",
       "4                                 -0.006034                         0.000   \n",
       "5                                  0.006423                         0.000   \n",
       "6                                  0.001564                         0.000   \n",
       "7                                  0.014357                         0.000   \n",
       "8                                 -0.017073                         0.000   \n",
       "9                                  0.000568                         0.000   \n",
       "10                                 0.002132                         0.000   \n",
       "\n",
       "    Random Forest feature importances  \n",
       "0                            0.245573  \n",
       "1                            0.184947  \n",
       "2                            0.552020  \n",
       "3                            0.001788  \n",
       "4                            0.002237  \n",
       "5                            0.002257  \n",
       "6                            0.001924  \n",
       "7                            0.002758  \n",
       "8                            0.003117  \n",
       "9                            0.001710  \n",
       "10                           0.001670  "
      ]
     },
     "execution_count": 207,
     "metadata": {},
     "output_type": "execute_result"
    }
   ],
   "source": [
    "feature_dataframe"
   ]
  },
  {
   "cell_type": "markdown",
   "metadata": {},
   "source": [
    "## Second-Level Predictions from the First-level Output"
   ]
  },
  {
   "cell_type": "code",
   "execution_count": 208,
   "metadata": {
    "scrolled": true
   },
   "outputs": [
    {
     "data": {
      "text/html": [
       "<div>\n",
       "<style scoped>\n",
       "    .dataframe tbody tr th:only-of-type {\n",
       "        vertical-align: middle;\n",
       "    }\n",
       "\n",
       "    .dataframe tbody tr th {\n",
       "        vertical-align: top;\n",
       "    }\n",
       "\n",
       "    .dataframe thead th {\n",
       "        text-align: right;\n",
       "    }\n",
       "</style>\n",
       "<table border=\"1\" class=\"dataframe\">\n",
       "  <thead>\n",
       "    <tr style=\"text-align: right;\">\n",
       "      <th></th>\n",
       "      <th>DecisionTreeClassifier</th>\n",
       "      <th>LogisticRegression</th>\n",
       "      <th>AdaBoost</th>\n",
       "      <th>RandomForest</th>\n",
       "    </tr>\n",
       "  </thead>\n",
       "  <tbody>\n",
       "    <tr>\n",
       "      <th>0</th>\n",
       "      <td>0</td>\n",
       "      <td>0</td>\n",
       "      <td>0</td>\n",
       "      <td>0</td>\n",
       "    </tr>\n",
       "    <tr>\n",
       "      <th>1</th>\n",
       "      <td>0</td>\n",
       "      <td>0</td>\n",
       "      <td>0</td>\n",
       "      <td>0</td>\n",
       "    </tr>\n",
       "    <tr>\n",
       "      <th>2</th>\n",
       "      <td>1</td>\n",
       "      <td>1</td>\n",
       "      <td>1</td>\n",
       "      <td>1</td>\n",
       "    </tr>\n",
       "    <tr>\n",
       "      <th>3</th>\n",
       "      <td>1</td>\n",
       "      <td>1</td>\n",
       "      <td>1</td>\n",
       "      <td>1</td>\n",
       "    </tr>\n",
       "    <tr>\n",
       "      <th>4</th>\n",
       "      <td>1</td>\n",
       "      <td>1</td>\n",
       "      <td>1</td>\n",
       "      <td>1</td>\n",
       "    </tr>\n",
       "  </tbody>\n",
       "</table>\n",
       "</div>"
      ],
      "text/plain": [
       "   DecisionTreeClassifier  LogisticRegression  AdaBoost  RandomForest\n",
       "0                       0                   0         0             0\n",
       "1                       0                   0         0             0\n",
       "2                       1                   1         1             1\n",
       "3                       1                   1         1             1\n",
       "4                       1                   1         1             1"
      ]
     },
     "execution_count": 208,
     "metadata": {},
     "output_type": "execute_result"
    }
   ],
   "source": [
    "base_predictions_train = pd.DataFrame( {'DecisionTreeClassifier': dtr.predict(X_train).ravel(),\n",
    "     'LogisticRegression': lr.predict(X_train).ravel(),\n",
    "     'AdaBoost': adr.predict(X_train).ravel(),\n",
    "      'RandomForest': rf_search.predict(X_train).ravel()\n",
    "    })\n",
    "base_predictions_train.head()\n"
   ]
  },
  {
   "cell_type": "code",
   "execution_count": 209,
   "metadata": {},
   "outputs": [
    {
     "name": "stdout",
     "output_type": "stream",
     "text": [
      "WARNING: pip is being invoked by an old script wrapper. This will fail in a future version of pip.\n",
      "Please see https://github.com/pypa/pip/issues/5599 for advice on fixing the underlying issue.\n",
      "To avoid this problem you can invoke Python with '-m pip' instead of running pip directly.\n",
      "Requirement already satisfied: plotly in /Users/mathispotel/anaconda3/lib/python3.7/site-packages (4.5.4)\n",
      "Requirement already satisfied: six in /Users/mathispotel/anaconda3/lib/python3.7/site-packages (from plotly) (1.14.0)\n",
      "Requirement already satisfied: retrying>=1.3.3 in /Users/mathispotel/anaconda3/lib/python3.7/site-packages (from plotly) (1.3.3)\n"
     ]
    }
   ],
   "source": [
    "!pip install plotly"
   ]
  },
  {
   "cell_type": "code",
   "execution_count": 210,
   "metadata": {},
   "outputs": [
    {
     "data": {
      "text/html": [
       "        <script type=\"text/javascript\">\n",
       "        window.PlotlyConfig = {MathJaxConfig: 'local'};\n",
       "        if (window.MathJax) {MathJax.Hub.Config({SVG: {font: \"STIX-Web\"}});}\n",
       "        if (typeof require !== 'undefined') {\n",
       "        require.undef(\"plotly\");\n",
       "        requirejs.config({\n",
       "            paths: {\n",
       "                'plotly': ['https://cdn.plot.ly/plotly-latest.min']\n",
       "            }\n",
       "        });\n",
       "        require(['plotly'], function(Plotly) {\n",
       "            window._Plotly = Plotly;\n",
       "        });\n",
       "        }\n",
       "        </script>\n",
       "        "
      ]
     },
     "metadata": {},
     "output_type": "display_data"
    },
    {
     "data": {
      "application/vnd.plotly.v1+json": {
       "config": {
        "linkText": "Export to plot.ly",
        "plotlyServerURL": "https://plot.ly",
        "showLink": false
       },
       "data": [
        {
         "colorscale": [
          [
           0,
           "#440154"
          ],
          [
           0.1111111111111111,
           "#482878"
          ],
          [
           0.2222222222222222,
           "#3e4989"
          ],
          [
           0.3333333333333333,
           "#31688e"
          ],
          [
           0.4444444444444444,
           "#26828e"
          ],
          [
           0.5555555555555556,
           "#1f9e89"
          ],
          [
           0.6666666666666666,
           "#35b779"
          ],
          [
           0.7777777777777778,
           "#6ece58"
          ],
          [
           0.8888888888888888,
           "#b5de2b"
          ],
          [
           1,
           "#fde725"
          ]
         ],
         "reversescale": true,
         "showscale": true,
         "type": "heatmap",
         "x": [
          "DecisionTreeClassifier",
          "LogisticRegression",
          "AdaBoost",
          "RandomForest"
         ],
         "y": [
          "DecisionTreeClassifier",
          "LogisticRegression",
          "AdaBoost",
          "RandomForest"
         ],
         "z": [
          [
           1,
           0.9895528317131012,
           0.9921530638505727,
           0.9783722771570726
          ],
          [
           0.9895528317131012,
           1,
           0.9921307212718108,
           0.9764641671977008
          ],
          [
           0.9921530638505727,
           0.9921307212718108,
           1,
           0.9834875459854533
          ],
          [
           0.9783722771570726,
           0.9764641671977008,
           0.9834875459854533,
           1
          ]
         ]
        }
       ],
       "layout": {
        "template": {
         "data": {
          "bar": [
           {
            "error_x": {
             "color": "#2a3f5f"
            },
            "error_y": {
             "color": "#2a3f5f"
            },
            "marker": {
             "line": {
              "color": "#E5ECF6",
              "width": 0.5
             }
            },
            "type": "bar"
           }
          ],
          "barpolar": [
           {
            "marker": {
             "line": {
              "color": "#E5ECF6",
              "width": 0.5
             }
            },
            "type": "barpolar"
           }
          ],
          "carpet": [
           {
            "aaxis": {
             "endlinecolor": "#2a3f5f",
             "gridcolor": "white",
             "linecolor": "white",
             "minorgridcolor": "white",
             "startlinecolor": "#2a3f5f"
            },
            "baxis": {
             "endlinecolor": "#2a3f5f",
             "gridcolor": "white",
             "linecolor": "white",
             "minorgridcolor": "white",
             "startlinecolor": "#2a3f5f"
            },
            "type": "carpet"
           }
          ],
          "choropleth": [
           {
            "colorbar": {
             "outlinewidth": 0,
             "ticks": ""
            },
            "type": "choropleth"
           }
          ],
          "contour": [
           {
            "colorbar": {
             "outlinewidth": 0,
             "ticks": ""
            },
            "colorscale": [
             [
              0,
              "#0d0887"
             ],
             [
              0.1111111111111111,
              "#46039f"
             ],
             [
              0.2222222222222222,
              "#7201a8"
             ],
             [
              0.3333333333333333,
              "#9c179e"
             ],
             [
              0.4444444444444444,
              "#bd3786"
             ],
             [
              0.5555555555555556,
              "#d8576b"
             ],
             [
              0.6666666666666666,
              "#ed7953"
             ],
             [
              0.7777777777777778,
              "#fb9f3a"
             ],
             [
              0.8888888888888888,
              "#fdca26"
             ],
             [
              1,
              "#f0f921"
             ]
            ],
            "type": "contour"
           }
          ],
          "contourcarpet": [
           {
            "colorbar": {
             "outlinewidth": 0,
             "ticks": ""
            },
            "type": "contourcarpet"
           }
          ],
          "heatmap": [
           {
            "colorbar": {
             "outlinewidth": 0,
             "ticks": ""
            },
            "colorscale": [
             [
              0,
              "#0d0887"
             ],
             [
              0.1111111111111111,
              "#46039f"
             ],
             [
              0.2222222222222222,
              "#7201a8"
             ],
             [
              0.3333333333333333,
              "#9c179e"
             ],
             [
              0.4444444444444444,
              "#bd3786"
             ],
             [
              0.5555555555555556,
              "#d8576b"
             ],
             [
              0.6666666666666666,
              "#ed7953"
             ],
             [
              0.7777777777777778,
              "#fb9f3a"
             ],
             [
              0.8888888888888888,
              "#fdca26"
             ],
             [
              1,
              "#f0f921"
             ]
            ],
            "type": "heatmap"
           }
          ],
          "heatmapgl": [
           {
            "colorbar": {
             "outlinewidth": 0,
             "ticks": ""
            },
            "colorscale": [
             [
              0,
              "#0d0887"
             ],
             [
              0.1111111111111111,
              "#46039f"
             ],
             [
              0.2222222222222222,
              "#7201a8"
             ],
             [
              0.3333333333333333,
              "#9c179e"
             ],
             [
              0.4444444444444444,
              "#bd3786"
             ],
             [
              0.5555555555555556,
              "#d8576b"
             ],
             [
              0.6666666666666666,
              "#ed7953"
             ],
             [
              0.7777777777777778,
              "#fb9f3a"
             ],
             [
              0.8888888888888888,
              "#fdca26"
             ],
             [
              1,
              "#f0f921"
             ]
            ],
            "type": "heatmapgl"
           }
          ],
          "histogram": [
           {
            "marker": {
             "colorbar": {
              "outlinewidth": 0,
              "ticks": ""
             }
            },
            "type": "histogram"
           }
          ],
          "histogram2d": [
           {
            "colorbar": {
             "outlinewidth": 0,
             "ticks": ""
            },
            "colorscale": [
             [
              0,
              "#0d0887"
             ],
             [
              0.1111111111111111,
              "#46039f"
             ],
             [
              0.2222222222222222,
              "#7201a8"
             ],
             [
              0.3333333333333333,
              "#9c179e"
             ],
             [
              0.4444444444444444,
              "#bd3786"
             ],
             [
              0.5555555555555556,
              "#d8576b"
             ],
             [
              0.6666666666666666,
              "#ed7953"
             ],
             [
              0.7777777777777778,
              "#fb9f3a"
             ],
             [
              0.8888888888888888,
              "#fdca26"
             ],
             [
              1,
              "#f0f921"
             ]
            ],
            "type": "histogram2d"
           }
          ],
          "histogram2dcontour": [
           {
            "colorbar": {
             "outlinewidth": 0,
             "ticks": ""
            },
            "colorscale": [
             [
              0,
              "#0d0887"
             ],
             [
              0.1111111111111111,
              "#46039f"
             ],
             [
              0.2222222222222222,
              "#7201a8"
             ],
             [
              0.3333333333333333,
              "#9c179e"
             ],
             [
              0.4444444444444444,
              "#bd3786"
             ],
             [
              0.5555555555555556,
              "#d8576b"
             ],
             [
              0.6666666666666666,
              "#ed7953"
             ],
             [
              0.7777777777777778,
              "#fb9f3a"
             ],
             [
              0.8888888888888888,
              "#fdca26"
             ],
             [
              1,
              "#f0f921"
             ]
            ],
            "type": "histogram2dcontour"
           }
          ],
          "mesh3d": [
           {
            "colorbar": {
             "outlinewidth": 0,
             "ticks": ""
            },
            "type": "mesh3d"
           }
          ],
          "parcoords": [
           {
            "line": {
             "colorbar": {
              "outlinewidth": 0,
              "ticks": ""
             }
            },
            "type": "parcoords"
           }
          ],
          "pie": [
           {
            "automargin": true,
            "type": "pie"
           }
          ],
          "scatter": [
           {
            "marker": {
             "colorbar": {
              "outlinewidth": 0,
              "ticks": ""
             }
            },
            "type": "scatter"
           }
          ],
          "scatter3d": [
           {
            "line": {
             "colorbar": {
              "outlinewidth": 0,
              "ticks": ""
             }
            },
            "marker": {
             "colorbar": {
              "outlinewidth": 0,
              "ticks": ""
             }
            },
            "type": "scatter3d"
           }
          ],
          "scattercarpet": [
           {
            "marker": {
             "colorbar": {
              "outlinewidth": 0,
              "ticks": ""
             }
            },
            "type": "scattercarpet"
           }
          ],
          "scattergeo": [
           {
            "marker": {
             "colorbar": {
              "outlinewidth": 0,
              "ticks": ""
             }
            },
            "type": "scattergeo"
           }
          ],
          "scattergl": [
           {
            "marker": {
             "colorbar": {
              "outlinewidth": 0,
              "ticks": ""
             }
            },
            "type": "scattergl"
           }
          ],
          "scattermapbox": [
           {
            "marker": {
             "colorbar": {
              "outlinewidth": 0,
              "ticks": ""
             }
            },
            "type": "scattermapbox"
           }
          ],
          "scatterpolar": [
           {
            "marker": {
             "colorbar": {
              "outlinewidth": 0,
              "ticks": ""
             }
            },
            "type": "scatterpolar"
           }
          ],
          "scatterpolargl": [
           {
            "marker": {
             "colorbar": {
              "outlinewidth": 0,
              "ticks": ""
             }
            },
            "type": "scatterpolargl"
           }
          ],
          "scatterternary": [
           {
            "marker": {
             "colorbar": {
              "outlinewidth": 0,
              "ticks": ""
             }
            },
            "type": "scatterternary"
           }
          ],
          "surface": [
           {
            "colorbar": {
             "outlinewidth": 0,
             "ticks": ""
            },
            "colorscale": [
             [
              0,
              "#0d0887"
             ],
             [
              0.1111111111111111,
              "#46039f"
             ],
             [
              0.2222222222222222,
              "#7201a8"
             ],
             [
              0.3333333333333333,
              "#9c179e"
             ],
             [
              0.4444444444444444,
              "#bd3786"
             ],
             [
              0.5555555555555556,
              "#d8576b"
             ],
             [
              0.6666666666666666,
              "#ed7953"
             ],
             [
              0.7777777777777778,
              "#fb9f3a"
             ],
             [
              0.8888888888888888,
              "#fdca26"
             ],
             [
              1,
              "#f0f921"
             ]
            ],
            "type": "surface"
           }
          ],
          "table": [
           {
            "cells": {
             "fill": {
              "color": "#EBF0F8"
             },
             "line": {
              "color": "white"
             }
            },
            "header": {
             "fill": {
              "color": "#C8D4E3"
             },
             "line": {
              "color": "white"
             }
            },
            "type": "table"
           }
          ]
         },
         "layout": {
          "annotationdefaults": {
           "arrowcolor": "#2a3f5f",
           "arrowhead": 0,
           "arrowwidth": 1
          },
          "coloraxis": {
           "colorbar": {
            "outlinewidth": 0,
            "ticks": ""
           }
          },
          "colorscale": {
           "diverging": [
            [
             0,
             "#8e0152"
            ],
            [
             0.1,
             "#c51b7d"
            ],
            [
             0.2,
             "#de77ae"
            ],
            [
             0.3,
             "#f1b6da"
            ],
            [
             0.4,
             "#fde0ef"
            ],
            [
             0.5,
             "#f7f7f7"
            ],
            [
             0.6,
             "#e6f5d0"
            ],
            [
             0.7,
             "#b8e186"
            ],
            [
             0.8,
             "#7fbc41"
            ],
            [
             0.9,
             "#4d9221"
            ],
            [
             1,
             "#276419"
            ]
           ],
           "sequential": [
            [
             0,
             "#0d0887"
            ],
            [
             0.1111111111111111,
             "#46039f"
            ],
            [
             0.2222222222222222,
             "#7201a8"
            ],
            [
             0.3333333333333333,
             "#9c179e"
            ],
            [
             0.4444444444444444,
             "#bd3786"
            ],
            [
             0.5555555555555556,
             "#d8576b"
            ],
            [
             0.6666666666666666,
             "#ed7953"
            ],
            [
             0.7777777777777778,
             "#fb9f3a"
            ],
            [
             0.8888888888888888,
             "#fdca26"
            ],
            [
             1,
             "#f0f921"
            ]
           ],
           "sequentialminus": [
            [
             0,
             "#0d0887"
            ],
            [
             0.1111111111111111,
             "#46039f"
            ],
            [
             0.2222222222222222,
             "#7201a8"
            ],
            [
             0.3333333333333333,
             "#9c179e"
            ],
            [
             0.4444444444444444,
             "#bd3786"
            ],
            [
             0.5555555555555556,
             "#d8576b"
            ],
            [
             0.6666666666666666,
             "#ed7953"
            ],
            [
             0.7777777777777778,
             "#fb9f3a"
            ],
            [
             0.8888888888888888,
             "#fdca26"
            ],
            [
             1,
             "#f0f921"
            ]
           ]
          },
          "colorway": [
           "#636efa",
           "#EF553B",
           "#00cc96",
           "#ab63fa",
           "#FFA15A",
           "#19d3f3",
           "#FF6692",
           "#B6E880",
           "#FF97FF",
           "#FECB52"
          ],
          "font": {
           "color": "#2a3f5f"
          },
          "geo": {
           "bgcolor": "white",
           "lakecolor": "white",
           "landcolor": "#E5ECF6",
           "showlakes": true,
           "showland": true,
           "subunitcolor": "white"
          },
          "hoverlabel": {
           "align": "left"
          },
          "hovermode": "closest",
          "mapbox": {
           "style": "light"
          },
          "paper_bgcolor": "white",
          "plot_bgcolor": "#E5ECF6",
          "polar": {
           "angularaxis": {
            "gridcolor": "white",
            "linecolor": "white",
            "ticks": ""
           },
           "bgcolor": "#E5ECF6",
           "radialaxis": {
            "gridcolor": "white",
            "linecolor": "white",
            "ticks": ""
           }
          },
          "scene": {
           "xaxis": {
            "backgroundcolor": "#E5ECF6",
            "gridcolor": "white",
            "gridwidth": 2,
            "linecolor": "white",
            "showbackground": true,
            "ticks": "",
            "zerolinecolor": "white"
           },
           "yaxis": {
            "backgroundcolor": "#E5ECF6",
            "gridcolor": "white",
            "gridwidth": 2,
            "linecolor": "white",
            "showbackground": true,
            "ticks": "",
            "zerolinecolor": "white"
           },
           "zaxis": {
            "backgroundcolor": "#E5ECF6",
            "gridcolor": "white",
            "gridwidth": 2,
            "linecolor": "white",
            "showbackground": true,
            "ticks": "",
            "zerolinecolor": "white"
           }
          },
          "shapedefaults": {
           "line": {
            "color": "#2a3f5f"
           }
          },
          "ternary": {
           "aaxis": {
            "gridcolor": "white",
            "linecolor": "white",
            "ticks": ""
           },
           "baxis": {
            "gridcolor": "white",
            "linecolor": "white",
            "ticks": ""
           },
           "bgcolor": "#E5ECF6",
           "caxis": {
            "gridcolor": "white",
            "linecolor": "white",
            "ticks": ""
           }
          },
          "title": {
           "x": 0.05
          },
          "xaxis": {
           "automargin": true,
           "gridcolor": "white",
           "linecolor": "white",
           "ticks": "",
           "title": {
            "standoff": 15
           },
           "zerolinecolor": "white",
           "zerolinewidth": 2
          },
          "yaxis": {
           "automargin": true,
           "gridcolor": "white",
           "linecolor": "white",
           "ticks": "",
           "title": {
            "standoff": 15
           },
           "zerolinecolor": "white",
           "zerolinewidth": 2
          }
         }
        }
       }
      },
      "text/html": [
       "<div>\n",
       "        \n",
       "        \n",
       "            <div id=\"bd3c25a2-75eb-40b6-950b-911de604c2dc\" class=\"plotly-graph-div\" style=\"height:525px; width:100%;\"></div>\n",
       "            <script type=\"text/javascript\">\n",
       "                require([\"plotly\"], function(Plotly) {\n",
       "                    window.PLOTLYENV=window.PLOTLYENV || {};\n",
       "                    \n",
       "                if (document.getElementById(\"bd3c25a2-75eb-40b6-950b-911de604c2dc\")) {\n",
       "                    Plotly.newPlot(\n",
       "                        'bd3c25a2-75eb-40b6-950b-911de604c2dc',\n",
       "                        [{\"colorscale\": [[0.0, \"#440154\"], [0.1111111111111111, \"#482878\"], [0.2222222222222222, \"#3e4989\"], [0.3333333333333333, \"#31688e\"], [0.4444444444444444, \"#26828e\"], [0.5555555555555556, \"#1f9e89\"], [0.6666666666666666, \"#35b779\"], [0.7777777777777778, \"#6ece58\"], [0.8888888888888888, \"#b5de2b\"], [1.0, \"#fde725\"]], \"reversescale\": true, \"showscale\": true, \"type\": \"heatmap\", \"x\": [\"DecisionTreeClassifier\", \"LogisticRegression\", \"AdaBoost\", \"RandomForest\"], \"y\": [\"DecisionTreeClassifier\", \"LogisticRegression\", \"AdaBoost\", \"RandomForest\"], \"z\": [[1.0, 0.9895528317131012, 0.9921530638505727, 0.9783722771570726], [0.9895528317131012, 1.0, 0.9921307212718108, 0.9764641671977008], [0.9921530638505727, 0.9921307212718108, 1.0, 0.9834875459854533], [0.9783722771570726, 0.9764641671977008, 0.9834875459854533, 1.0]]}],\n",
       "                        {\"template\": {\"data\": {\"bar\": [{\"error_x\": {\"color\": \"#2a3f5f\"}, \"error_y\": {\"color\": \"#2a3f5f\"}, \"marker\": {\"line\": {\"color\": \"#E5ECF6\", \"width\": 0.5}}, \"type\": \"bar\"}], \"barpolar\": [{\"marker\": {\"line\": {\"color\": \"#E5ECF6\", \"width\": 0.5}}, \"type\": \"barpolar\"}], \"carpet\": [{\"aaxis\": {\"endlinecolor\": \"#2a3f5f\", \"gridcolor\": \"white\", \"linecolor\": \"white\", \"minorgridcolor\": \"white\", \"startlinecolor\": \"#2a3f5f\"}, \"baxis\": {\"endlinecolor\": \"#2a3f5f\", \"gridcolor\": \"white\", \"linecolor\": \"white\", \"minorgridcolor\": \"white\", \"startlinecolor\": \"#2a3f5f\"}, \"type\": \"carpet\"}], \"choropleth\": [{\"colorbar\": {\"outlinewidth\": 0, \"ticks\": \"\"}, \"type\": \"choropleth\"}], \"contour\": [{\"colorbar\": {\"outlinewidth\": 0, \"ticks\": \"\"}, \"colorscale\": [[0.0, \"#0d0887\"], [0.1111111111111111, \"#46039f\"], [0.2222222222222222, \"#7201a8\"], [0.3333333333333333, \"#9c179e\"], [0.4444444444444444, \"#bd3786\"], [0.5555555555555556, \"#d8576b\"], [0.6666666666666666, \"#ed7953\"], [0.7777777777777778, \"#fb9f3a\"], [0.8888888888888888, \"#fdca26\"], [1.0, \"#f0f921\"]], \"type\": \"contour\"}], \"contourcarpet\": [{\"colorbar\": {\"outlinewidth\": 0, \"ticks\": \"\"}, \"type\": \"contourcarpet\"}], \"heatmap\": [{\"colorbar\": {\"outlinewidth\": 0, \"ticks\": \"\"}, \"colorscale\": [[0.0, \"#0d0887\"], [0.1111111111111111, \"#46039f\"], [0.2222222222222222, \"#7201a8\"], [0.3333333333333333, \"#9c179e\"], [0.4444444444444444, \"#bd3786\"], [0.5555555555555556, \"#d8576b\"], [0.6666666666666666, \"#ed7953\"], [0.7777777777777778, \"#fb9f3a\"], [0.8888888888888888, \"#fdca26\"], [1.0, \"#f0f921\"]], \"type\": \"heatmap\"}], \"heatmapgl\": [{\"colorbar\": {\"outlinewidth\": 0, \"ticks\": \"\"}, \"colorscale\": [[0.0, \"#0d0887\"], [0.1111111111111111, \"#46039f\"], [0.2222222222222222, \"#7201a8\"], [0.3333333333333333, \"#9c179e\"], [0.4444444444444444, \"#bd3786\"], [0.5555555555555556, \"#d8576b\"], [0.6666666666666666, \"#ed7953\"], [0.7777777777777778, \"#fb9f3a\"], [0.8888888888888888, \"#fdca26\"], [1.0, \"#f0f921\"]], \"type\": \"heatmapgl\"}], \"histogram\": [{\"marker\": {\"colorbar\": {\"outlinewidth\": 0, \"ticks\": \"\"}}, \"type\": \"histogram\"}], \"histogram2d\": [{\"colorbar\": {\"outlinewidth\": 0, \"ticks\": \"\"}, \"colorscale\": [[0.0, \"#0d0887\"], [0.1111111111111111, \"#46039f\"], [0.2222222222222222, \"#7201a8\"], [0.3333333333333333, \"#9c179e\"], [0.4444444444444444, \"#bd3786\"], [0.5555555555555556, \"#d8576b\"], [0.6666666666666666, \"#ed7953\"], [0.7777777777777778, \"#fb9f3a\"], [0.8888888888888888, \"#fdca26\"], [1.0, \"#f0f921\"]], \"type\": \"histogram2d\"}], \"histogram2dcontour\": [{\"colorbar\": {\"outlinewidth\": 0, \"ticks\": \"\"}, \"colorscale\": [[0.0, \"#0d0887\"], [0.1111111111111111, \"#46039f\"], [0.2222222222222222, \"#7201a8\"], [0.3333333333333333, \"#9c179e\"], [0.4444444444444444, \"#bd3786\"], [0.5555555555555556, \"#d8576b\"], [0.6666666666666666, \"#ed7953\"], [0.7777777777777778, \"#fb9f3a\"], [0.8888888888888888, \"#fdca26\"], [1.0, \"#f0f921\"]], \"type\": \"histogram2dcontour\"}], \"mesh3d\": [{\"colorbar\": {\"outlinewidth\": 0, \"ticks\": \"\"}, \"type\": \"mesh3d\"}], \"parcoords\": [{\"line\": {\"colorbar\": {\"outlinewidth\": 0, \"ticks\": \"\"}}, \"type\": \"parcoords\"}], \"pie\": [{\"automargin\": true, \"type\": \"pie\"}], \"scatter\": [{\"marker\": {\"colorbar\": {\"outlinewidth\": 0, \"ticks\": \"\"}}, \"type\": \"scatter\"}], \"scatter3d\": [{\"line\": {\"colorbar\": {\"outlinewidth\": 0, \"ticks\": \"\"}}, \"marker\": {\"colorbar\": {\"outlinewidth\": 0, \"ticks\": \"\"}}, \"type\": \"scatter3d\"}], \"scattercarpet\": [{\"marker\": {\"colorbar\": {\"outlinewidth\": 0, \"ticks\": \"\"}}, \"type\": \"scattercarpet\"}], \"scattergeo\": [{\"marker\": {\"colorbar\": {\"outlinewidth\": 0, \"ticks\": \"\"}}, \"type\": \"scattergeo\"}], \"scattergl\": [{\"marker\": {\"colorbar\": {\"outlinewidth\": 0, \"ticks\": \"\"}}, \"type\": \"scattergl\"}], \"scattermapbox\": [{\"marker\": {\"colorbar\": {\"outlinewidth\": 0, \"ticks\": \"\"}}, \"type\": \"scattermapbox\"}], \"scatterpolar\": [{\"marker\": {\"colorbar\": {\"outlinewidth\": 0, \"ticks\": \"\"}}, \"type\": \"scatterpolar\"}], \"scatterpolargl\": [{\"marker\": {\"colorbar\": {\"outlinewidth\": 0, \"ticks\": \"\"}}, \"type\": \"scatterpolargl\"}], \"scatterternary\": [{\"marker\": {\"colorbar\": {\"outlinewidth\": 0, \"ticks\": \"\"}}, \"type\": \"scatterternary\"}], \"surface\": [{\"colorbar\": {\"outlinewidth\": 0, \"ticks\": \"\"}, \"colorscale\": [[0.0, \"#0d0887\"], [0.1111111111111111, \"#46039f\"], [0.2222222222222222, \"#7201a8\"], [0.3333333333333333, \"#9c179e\"], [0.4444444444444444, \"#bd3786\"], [0.5555555555555556, \"#d8576b\"], [0.6666666666666666, \"#ed7953\"], [0.7777777777777778, \"#fb9f3a\"], [0.8888888888888888, \"#fdca26\"], [1.0, \"#f0f921\"]], \"type\": \"surface\"}], \"table\": [{\"cells\": {\"fill\": {\"color\": \"#EBF0F8\"}, \"line\": {\"color\": \"white\"}}, \"header\": {\"fill\": {\"color\": \"#C8D4E3\"}, \"line\": {\"color\": \"white\"}}, \"type\": \"table\"}]}, \"layout\": {\"annotationdefaults\": {\"arrowcolor\": \"#2a3f5f\", \"arrowhead\": 0, \"arrowwidth\": 1}, \"coloraxis\": {\"colorbar\": {\"outlinewidth\": 0, \"ticks\": \"\"}}, \"colorscale\": {\"diverging\": [[0, \"#8e0152\"], [0.1, \"#c51b7d\"], [0.2, \"#de77ae\"], [0.3, \"#f1b6da\"], [0.4, \"#fde0ef\"], [0.5, \"#f7f7f7\"], [0.6, \"#e6f5d0\"], [0.7, \"#b8e186\"], [0.8, \"#7fbc41\"], [0.9, \"#4d9221\"], [1, \"#276419\"]], \"sequential\": [[0.0, \"#0d0887\"], [0.1111111111111111, \"#46039f\"], [0.2222222222222222, \"#7201a8\"], [0.3333333333333333, \"#9c179e\"], [0.4444444444444444, \"#bd3786\"], [0.5555555555555556, \"#d8576b\"], [0.6666666666666666, \"#ed7953\"], [0.7777777777777778, \"#fb9f3a\"], [0.8888888888888888, \"#fdca26\"], [1.0, \"#f0f921\"]], \"sequentialminus\": [[0.0, \"#0d0887\"], [0.1111111111111111, \"#46039f\"], [0.2222222222222222, \"#7201a8\"], [0.3333333333333333, \"#9c179e\"], [0.4444444444444444, \"#bd3786\"], [0.5555555555555556, \"#d8576b\"], [0.6666666666666666, \"#ed7953\"], [0.7777777777777778, \"#fb9f3a\"], [0.8888888888888888, \"#fdca26\"], [1.0, \"#f0f921\"]]}, \"colorway\": [\"#636efa\", \"#EF553B\", \"#00cc96\", \"#ab63fa\", \"#FFA15A\", \"#19d3f3\", \"#FF6692\", \"#B6E880\", \"#FF97FF\", \"#FECB52\"], \"font\": {\"color\": \"#2a3f5f\"}, \"geo\": {\"bgcolor\": \"white\", \"lakecolor\": \"white\", \"landcolor\": \"#E5ECF6\", \"showlakes\": true, \"showland\": true, \"subunitcolor\": \"white\"}, \"hoverlabel\": {\"align\": \"left\"}, \"hovermode\": \"closest\", \"mapbox\": {\"style\": \"light\"}, \"paper_bgcolor\": \"white\", \"plot_bgcolor\": \"#E5ECF6\", \"polar\": {\"angularaxis\": {\"gridcolor\": \"white\", \"linecolor\": \"white\", \"ticks\": \"\"}, \"bgcolor\": \"#E5ECF6\", \"radialaxis\": {\"gridcolor\": \"white\", \"linecolor\": \"white\", \"ticks\": \"\"}}, \"scene\": {\"xaxis\": {\"backgroundcolor\": \"#E5ECF6\", \"gridcolor\": \"white\", \"gridwidth\": 2, \"linecolor\": \"white\", \"showbackground\": true, \"ticks\": \"\", \"zerolinecolor\": \"white\"}, \"yaxis\": {\"backgroundcolor\": \"#E5ECF6\", \"gridcolor\": \"white\", \"gridwidth\": 2, \"linecolor\": \"white\", \"showbackground\": true, \"ticks\": \"\", \"zerolinecolor\": \"white\"}, \"zaxis\": {\"backgroundcolor\": \"#E5ECF6\", \"gridcolor\": \"white\", \"gridwidth\": 2, \"linecolor\": \"white\", \"showbackground\": true, \"ticks\": \"\", \"zerolinecolor\": \"white\"}}, \"shapedefaults\": {\"line\": {\"color\": \"#2a3f5f\"}}, \"ternary\": {\"aaxis\": {\"gridcolor\": \"white\", \"linecolor\": \"white\", \"ticks\": \"\"}, \"baxis\": {\"gridcolor\": \"white\", \"linecolor\": \"white\", \"ticks\": \"\"}, \"bgcolor\": \"#E5ECF6\", \"caxis\": {\"gridcolor\": \"white\", \"linecolor\": \"white\", \"ticks\": \"\"}}, \"title\": {\"x\": 0.05}, \"xaxis\": {\"automargin\": true, \"gridcolor\": \"white\", \"linecolor\": \"white\", \"ticks\": \"\", \"title\": {\"standoff\": 15}, \"zerolinecolor\": \"white\", \"zerolinewidth\": 2}, \"yaxis\": {\"automargin\": true, \"gridcolor\": \"white\", \"linecolor\": \"white\", \"ticks\": \"\", \"title\": {\"standoff\": 15}, \"zerolinecolor\": \"white\", \"zerolinewidth\": 2}}}},\n",
       "                        {\"responsive\": true}\n",
       "                    ).then(function(){\n",
       "                            \n",
       "var gd = document.getElementById('bd3c25a2-75eb-40b6-950b-911de604c2dc');\n",
       "var x = new MutationObserver(function (mutations, observer) {{\n",
       "        var display = window.getComputedStyle(gd).display;\n",
       "        if (!display || display === 'none') {{\n",
       "            console.log([gd, 'removed!']);\n",
       "            Plotly.purge(gd);\n",
       "            observer.disconnect();\n",
       "        }}\n",
       "}});\n",
       "\n",
       "// Listen for the removal of the full notebook cells\n",
       "var notebookContainer = gd.closest('#notebook-container');\n",
       "if (notebookContainer) {{\n",
       "    x.observe(notebookContainer, {childList: true});\n",
       "}}\n",
       "\n",
       "// Listen for the clearing of the current output cell\n",
       "var outputEl = gd.closest('.output');\n",
       "if (outputEl) {{\n",
       "    x.observe(outputEl, {childList: true});\n",
       "}}\n",
       "\n",
       "                        })\n",
       "                };\n",
       "                });\n",
       "            </script>\n",
       "        </div>"
      ]
     },
     "metadata": {},
     "output_type": "display_data"
    }
   ],
   "source": [
    "import plotly.offline as py\n",
    "py.init_notebook_mode(connected=True)\n",
    "import plotly.graph_objs as go\n",
    "import plotly.tools as tls\n",
    "\n",
    "data = [\n",
    "    go.Heatmap(\n",
    "        z= base_predictions_train.astype(float).corr().values ,\n",
    "        x=base_predictions_train.columns.values,\n",
    "        y= base_predictions_train.columns.values,\n",
    "          colorscale='Viridis',\n",
    "            showscale=True,\n",
    "            reversescale = True\n",
    "    )\n",
    "]\n",
    "py.iplot(data, filename='labelled-heatmap')"
   ]
  },
  {
   "cell_type": "code",
   "execution_count": 211,
   "metadata": {},
   "outputs": [],
   "source": [
    "x_train = np.concatenate(( dtr.predict(X_train).reshape(-1,1), lr.predict(X_train).reshape(-1,1), \n",
    "                          adr.predict(X_train).reshape(-1,1), rf_search.predict(X_train).reshape(-1,1)), axis=1)\n",
    "x_test = np.concatenate(( dtr_yhat.reshape(-1,1), lr_yhat.reshape(-1,1),\n",
    "                         adr_yhat.reshape(-1,1), rf_yhat.reshape(-1,1)), axis=1)"
   ]
  },
  {
   "cell_type": "code",
   "execution_count": 212,
   "metadata": {},
   "outputs": [],
   "source": [
    "df_train = pd.DataFrame()"
   ]
  },
  {
   "cell_type": "code",
   "execution_count": 213,
   "metadata": {},
   "outputs": [],
   "source": [
    "df_train['DecisionTreeClassifier']=dtr.predict(X_train)\n",
    "df_train['LogisticRegression']=lr.predict(X_train)\n",
    "df_train['AdaBoost']=adr.predict(X_train)\n",
    "df_train['RandomForest']=rf_search.predict(X_train)"
   ]
  },
  {
   "cell_type": "code",
   "execution_count": 214,
   "metadata": {},
   "outputs": [],
   "source": [
    "x_train = df_train"
   ]
  },
  {
   "cell_type": "code",
   "execution_count": 215,
   "metadata": {},
   "outputs": [],
   "source": [
    "df_test = pd.DataFrame()"
   ]
  },
  {
   "cell_type": "code",
   "execution_count": 216,
   "metadata": {},
   "outputs": [],
   "source": [
    "df_test['DecisionTreeClassifier']=dtr_yhat\n",
    "df_test['LogisticRegression']=lr_yhat\n",
    "df_test['AdaBoost']=adr_yhat\n",
    "df_test['RandomForest']=rf_yhat"
   ]
  },
  {
   "cell_type": "code",
   "execution_count": 217,
   "metadata": {},
   "outputs": [],
   "source": [
    "x_test = df_test"
   ]
  },
  {
   "cell_type": "code",
   "execution_count": 218,
   "metadata": {},
   "outputs": [],
   "source": [
    "df_test_set = pd.DataFrame()"
   ]
  },
  {
   "cell_type": "code",
   "execution_count": 219,
   "metadata": {},
   "outputs": [],
   "source": [
    "df_test_set['DecisionTreeClassifier']=dtr_ytest\n",
    "df_test_set['LogisticRegression']=lr_ytest\n",
    "df_test_set['AdaBoost']=adr_ytest\n",
    "df_test_set['RandomForest']=rf_ytest"
   ]
  },
  {
   "cell_type": "code",
   "execution_count": 220,
   "metadata": {},
   "outputs": [],
   "source": [
    "test_df=df_test_set"
   ]
  },
  {
   "cell_type": "markdown",
   "metadata": {},
   "source": [
    "## XGBoost "
   ]
  },
  {
   "cell_type": "code",
   "execution_count": 221,
   "metadata": {},
   "outputs": [],
   "source": [
    "import xgboost as xgb\n",
    "from xgboost import XGBRegressor"
   ]
  },
  {
   "cell_type": "code",
   "execution_count": 222,
   "metadata": {},
   "outputs": [],
   "source": [
    "params_xgb = {'colsample_bytree': 0.8,                 \n",
    "              'learning_rate': 0.0003,\n",
    "              'max_depth': 31,\n",
    "              'subsample': 1,\n",
    "              'objective':'binary:logistic',\n",
    "              'eval_metric':'logloss',\n",
    "              'min_child_weight':3,\n",
    "              'gamma':0.25,\n",
    "              'n_estimators':5000,\n",
    "              'verbosity':0\n",
    "              }"
   ]
  },
  {
   "cell_type": "code",
   "execution_count": 223,
   "metadata": {
    "scrolled": true
   },
   "outputs": [
    {
     "name": "stdout",
     "output_type": "stream",
     "text": [
      "Fold: 1\n",
      "[0]\ttrain-logloss:0.693102\tval-logloss:0.693103\n",
      "[100]\ttrain-logloss:0.688704\tval-logloss:0.688791\n",
      "[200]\ttrain-logloss:0.684568\tval-logloss:0.684733\n",
      "[300]\ttrain-logloss:0.680668\tval-logloss:0.680909\n",
      "[400]\ttrain-logloss:0.676994\tval-logloss:0.677311\n",
      "[500]\ttrain-logloss:0.673533\tval-logloss:0.673918\n",
      "[600]\ttrain-logloss:0.670272\tval-logloss:0.670725\n",
      "[700]\ttrain-logloss:0.667188\tval-logloss:0.667709\n",
      "[800]\ttrain-logloss:0.664289\tval-logloss:0.664876\n",
      "[900]\ttrain-logloss:0.661548\tval-logloss:0.662199\n",
      "[1000]\ttrain-logloss:0.658952\tval-logloss:0.65967\n",
      "[1100]\ttrain-logloss:0.6565\tval-logloss:0.657287\n",
      "[1200]\ttrain-logloss:0.654201\tval-logloss:0.655041\n",
      "[1300]\ttrain-logloss:0.652022\tval-logloss:0.652921\n",
      "[1400]\ttrain-logloss:0.649965\tval-logloss:0.650923\n",
      "[1500]\ttrain-logloss:0.648032\tval-logloss:0.649037\n",
      "[1600]\ttrain-logloss:0.646188\tval-logloss:0.647256\n",
      "[1700]\ttrain-logloss:0.64446\tval-logloss:0.645577\n",
      "[1800]\ttrain-logloss:0.642834\tval-logloss:0.643995\n",
      "[1900]\ttrain-logloss:0.64128\tval-logloss:0.6425\n",
      "[2000]\ttrain-logloss:0.639824\tval-logloss:0.641089\n",
      "[2100]\ttrain-logloss:0.638441\tval-logloss:0.639758\n",
      "[2200]\ttrain-logloss:0.63714\tval-logloss:0.638503\n",
      "[2300]\ttrain-logloss:0.635904\tval-logloss:0.637316\n",
      "[2400]\ttrain-logloss:0.634746\tval-logloss:0.636199\n",
      "[2500]\ttrain-logloss:0.633644\tval-logloss:0.635145\n",
      "[2600]\ttrain-logloss:0.632611\tval-logloss:0.634151\n",
      "[2700]\ttrain-logloss:0.631635\tval-logloss:0.633213\n",
      "[2800]\ttrain-logloss:0.630705\tval-logloss:0.632328\n",
      "[2900]\ttrain-logloss:0.629835\tval-logloss:0.631493\n",
      "[3000]\ttrain-logloss:0.629005\tval-logloss:0.630707\n",
      "[3100]\ttrain-logloss:0.628224\tval-logloss:0.629965\n",
      "[3200]\ttrain-logloss:0.627491\tval-logloss:0.629264\n",
      "[3300]\ttrain-logloss:0.626796\tval-logloss:0.628605\n",
      "[3400]\ttrain-logloss:0.626141\tval-logloss:0.627986\n",
      "[3500]\ttrain-logloss:0.62552\tval-logloss:0.627402\n",
      "[3600]\ttrain-logloss:0.62493\tval-logloss:0.626851\n",
      "[3700]\ttrain-logloss:0.624382\tval-logloss:0.626331\n",
      "[3800]\ttrain-logloss:0.623854\tval-logloss:0.625843\n",
      "[3900]\ttrain-logloss:0.623365\tval-logloss:0.625382\n",
      "[4000]\ttrain-logloss:0.622904\tval-logloss:0.624948\n",
      "[4100]\ttrain-logloss:0.62246\tval-logloss:0.624539\n",
      "[4200]\ttrain-logloss:0.622046\tval-logloss:0.624154\n",
      "[4300]\ttrain-logloss:0.621654\tval-logloss:0.623791\n",
      "[4400]\ttrain-logloss:0.621285\tval-logloss:0.62345\n",
      "[4500]\ttrain-logloss:0.620942\tval-logloss:0.623128\n",
      "[4600]\ttrain-logloss:0.620612\tval-logloss:0.622826\n",
      "[4700]\ttrain-logloss:0.620296\tval-logloss:0.62254\n",
      "[4800]\ttrain-logloss:0.620008\tval-logloss:0.622272\n",
      "[4900]\ttrain-logloss:0.619729\tval-logloss:0.62202\n",
      "[4999]\ttrain-logloss:0.619472\tval-logloss:0.621785\n",
      "Fold: 2\n",
      "[0]\ttrain-logloss:0.693103\tval-logloss:0.693102\n",
      "[100]\ttrain-logloss:0.688744\tval-logloss:0.688654\n",
      "[200]\ttrain-logloss:0.684637\tval-logloss:0.684461\n",
      "[300]\ttrain-logloss:0.680772\tval-logloss:0.680505\n",
      "[400]\ttrain-logloss:0.677132\tval-logloss:0.676774\n",
      "[500]\ttrain-logloss:0.673695\tval-logloss:0.673252\n",
      "[600]\ttrain-logloss:0.670465\tval-logloss:0.669928\n",
      "[700]\ttrain-logloss:0.667401\tval-logloss:0.666789\n",
      "[800]\ttrain-logloss:0.664534\tval-logloss:0.663826\n",
      "[900]\ttrain-logloss:0.661808\tval-logloss:0.661026\n",
      "[1000]\ttrain-logloss:0.659235\tval-logloss:0.658381\n",
      "[1100]\ttrain-logloss:0.656808\tval-logloss:0.655883\n",
      "[1200]\ttrain-logloss:0.654522\tval-logloss:0.653522\n",
      "[1300]\ttrain-logloss:0.652356\tval-logloss:0.651291\n",
      "[1400]\ttrain-logloss:0.650321\tval-logloss:0.649182\n",
      "[1500]\ttrain-logloss:0.648397\tval-logloss:0.647188\n",
      "[1600]\ttrain-logloss:0.646579\tval-logloss:0.645303\n",
      "[1700]\ttrain-logloss:0.644859\tval-logloss:0.643521\n",
      "[1800]\ttrain-logloss:0.643239\tval-logloss:0.641836\n",
      "[1900]\ttrain-logloss:0.64171\tval-logloss:0.640242\n",
      "[2000]\ttrain-logloss:0.640264\tval-logloss:0.638735\n",
      "[2100]\ttrain-logloss:0.6389\tval-logloss:0.63731\n",
      "[2200]\ttrain-logloss:0.63761\tval-logloss:0.635962\n",
      "[2300]\ttrain-logloss:0.636378\tval-logloss:0.634688\n",
      "[2400]\ttrain-logloss:0.635227\tval-logloss:0.633482\n",
      "[2500]\ttrain-logloss:0.634141\tval-logloss:0.632342\n",
      "[2600]\ttrain-logloss:0.633114\tval-logloss:0.631263\n",
      "[2700]\ttrain-logloss:0.632144\tval-logloss:0.630242\n",
      "[2800]\ttrain-logloss:0.631226\tval-logloss:0.629275\n",
      "[2900]\ttrain-logloss:0.630361\tval-logloss:0.628361\n",
      "[3000]\ttrain-logloss:0.629542\tval-logloss:0.627496\n",
      "[3100]\ttrain-logloss:0.628771\tval-logloss:0.626676\n",
      "[3200]\ttrain-logloss:0.628039\tval-logloss:0.625902\n",
      "[3300]\ttrain-logloss:0.627354\tval-logloss:0.625171\n",
      "[3400]\ttrain-logloss:0.626703\tval-logloss:0.62448\n",
      "[3500]\ttrain-logloss:0.626085\tval-logloss:0.623826\n",
      "[3600]\ttrain-logloss:0.625506\tval-logloss:0.623208\n",
      "[3700]\ttrain-logloss:0.624961\tval-logloss:0.622624\n",
      "[3800]\ttrain-logloss:0.624446\tval-logloss:0.62207\n",
      "[3900]\ttrain-logloss:0.623959\tval-logloss:0.621546\n",
      "[4000]\ttrain-logloss:0.623502\tval-logloss:0.62105\n",
      "[4100]\ttrain-logloss:0.623057\tval-logloss:0.620581\n",
      "[4200]\ttrain-logloss:0.622647\tval-logloss:0.620138\n",
      "[4300]\ttrain-logloss:0.622262\tval-logloss:0.619717\n",
      "[4400]\ttrain-logloss:0.621896\tval-logloss:0.619319\n",
      "[4500]\ttrain-logloss:0.621553\tval-logloss:0.618943\n",
      "[4600]\ttrain-logloss:0.621232\tval-logloss:0.618588\n",
      "[4700]\ttrain-logloss:0.620915\tval-logloss:0.618253\n",
      "[4800]\ttrain-logloss:0.620633\tval-logloss:0.617936\n",
      "[4900]\ttrain-logloss:0.620355\tval-logloss:0.617637\n",
      "[4999]\ttrain-logloss:0.620103\tval-logloss:0.617355\n",
      "Fold: 3\n",
      "[0]\ttrain-logloss:0.693103\tval-logloss:0.693102\n",
      "[100]\ttrain-logloss:0.688744\tval-logloss:0.688671\n",
      "[200]\ttrain-logloss:0.684637\tval-logloss:0.684498\n",
      "[300]\ttrain-logloss:0.680769\tval-logloss:0.680558\n",
      "[400]\ttrain-logloss:0.677123\tval-logloss:0.676852\n",
      "[500]\ttrain-logloss:0.673685\tval-logloss:0.673351\n",
      "[600]\ttrain-logloss:0.670447\tval-logloss:0.670059\n",
      "[700]\ttrain-logloss:0.667383\tval-logloss:0.666933\n",
      "[800]\ttrain-logloss:0.664512\tval-logloss:0.664011\n",
      "[900]\ttrain-logloss:0.661786\tval-logloss:0.661228\n",
      "[1000]\ttrain-logloss:0.659216\tval-logloss:0.65859\n",
      "[1100]\ttrain-logloss:0.656792\tval-logloss:0.656101\n",
      "[1200]\ttrain-logloss:0.654504\tval-logloss:0.653756\n",
      "[1300]\ttrain-logloss:0.652344\tval-logloss:0.65153\n",
      "[1400]\ttrain-logloss:0.650308\tval-logloss:0.649438\n",
      "[1500]\ttrain-logloss:0.64839\tval-logloss:0.647458\n",
      "[1600]\ttrain-logloss:0.646569\tval-logloss:0.64558\n",
      "[1700]\ttrain-logloss:0.644852\tval-logloss:0.643811\n",
      "[1800]\ttrain-logloss:0.643238\tval-logloss:0.642143\n",
      "[1900]\ttrain-logloss:0.641708\tval-logloss:0.640559\n",
      "[2000]\ttrain-logloss:0.640264\tval-logloss:0.639061\n",
      "[2100]\ttrain-logloss:0.638899\tval-logloss:0.637644\n",
      "[2200]\ttrain-logloss:0.637608\tval-logloss:0.636304\n",
      "[2300]\ttrain-logloss:0.636392\tval-logloss:0.635029\n",
      "[2400]\ttrain-logloss:0.635239\tval-logloss:0.633835\n",
      "[2500]\ttrain-logloss:0.63416\tval-logloss:0.6327\n",
      "[2600]\ttrain-logloss:0.633139\tval-logloss:0.631631\n",
      "[2700]\ttrain-logloss:0.632164\tval-logloss:0.630617\n",
      "[2800]\ttrain-logloss:0.631253\tval-logloss:0.629658\n",
      "[2900]\ttrain-logloss:0.63039\tval-logloss:0.628751\n",
      "[3000]\ttrain-logloss:0.629576\tval-logloss:0.627896\n",
      "[3100]\ttrain-logloss:0.628805\tval-logloss:0.627086\n",
      "[3200]\ttrain-logloss:0.628078\tval-logloss:0.626316\n",
      "[3300]\ttrain-logloss:0.627391\tval-logloss:0.625591\n",
      "[3400]\ttrain-logloss:0.626744\tval-logloss:0.624904\n",
      "[3500]\ttrain-logloss:0.626132\tval-logloss:0.624255\n",
      "[3600]\ttrain-logloss:0.625551\tval-logloss:0.623638\n",
      "[3700]\ttrain-logloss:0.625\tval-logloss:0.623055\n",
      "[3800]\ttrain-logloss:0.624491\tval-logloss:0.622506\n",
      "[3900]\ttrain-logloss:0.624002\tval-logloss:0.621986\n",
      "[4000]\ttrain-logloss:0.623545\tval-logloss:0.621496\n",
      "[4100]\ttrain-logloss:0.623105\tval-logloss:0.621028\n",
      "[4200]\ttrain-logloss:0.6227\tval-logloss:0.620587\n",
      "[4300]\ttrain-logloss:0.622315\tval-logloss:0.620171\n",
      "[4400]\ttrain-logloss:0.621947\tval-logloss:0.619778\n",
      "[4500]\ttrain-logloss:0.621605\tval-logloss:0.619407\n",
      "[4600]\ttrain-logloss:0.621277\tval-logloss:0.619055\n",
      "[4700]\ttrain-logloss:0.620973\tval-logloss:0.61872\n",
      "[4800]\ttrain-logloss:0.620684\tval-logloss:0.618409\n",
      "[4900]\ttrain-logloss:0.620408\tval-logloss:0.618112\n",
      "[4999]\ttrain-logloss:0.620154\tval-logloss:0.617837\n",
      "Fold: 4\n",
      "[0]\ttrain-logloss:0.693102\tval-logloss:0.693108\n",
      "[100]\ttrain-logloss:0.68857\tval-logloss:0.689355\n",
      "[200]\ttrain-logloss:0.684305\tval-logloss:0.685846\n",
      "[300]\ttrain-logloss:0.680288\tval-logloss:0.682557\n",
      "[400]\ttrain-logloss:0.676493\tval-logloss:0.679485\n",
      "[500]\ttrain-logloss:0.67292\tval-logloss:0.676606\n",
      "[600]\ttrain-logloss:0.669568\tval-logloss:0.673918\n",
      "[700]\ttrain-logloss:0.666383\tval-logloss:0.671394\n",
      "[800]\ttrain-logloss:0.663394\tval-logloss:0.669047\n"
     ]
    },
    {
     "name": "stdout",
     "output_type": "stream",
     "text": [
      "[900]\ttrain-logloss:0.660567\tval-logloss:0.666841\n",
      "[1000]\ttrain-logloss:0.657894\tval-logloss:0.66477\n",
      "[1100]\ttrain-logloss:0.655371\tval-logloss:0.662838\n",
      "[1200]\ttrain-logloss:0.652993\tval-logloss:0.661033\n",
      "[1300]\ttrain-logloss:0.650747\tval-logloss:0.659344\n",
      "[1400]\ttrain-logloss:0.648631\tval-logloss:0.657771\n",
      "[1500]\ttrain-logloss:0.646626\tval-logloss:0.656299\n",
      "[1600]\ttrain-logloss:0.644738\tval-logloss:0.654921\n",
      "[1700]\ttrain-logloss:0.642955\tval-logloss:0.653635\n",
      "[1800]\ttrain-logloss:0.641273\tval-logloss:0.652437\n",
      "[1900]\ttrain-logloss:0.639678\tval-logloss:0.651316\n",
      "[2000]\ttrain-logloss:0.638168\tval-logloss:0.65027\n",
      "[2100]\ttrain-logloss:0.63675\tval-logloss:0.649297\n",
      "[2200]\ttrain-logloss:0.635401\tval-logloss:0.648389\n",
      "[2300]\ttrain-logloss:0.634137\tval-logloss:0.647539\n",
      "[2400]\ttrain-logloss:0.632932\tval-logloss:0.646755\n",
      "[2500]\ttrain-logloss:0.631795\tval-logloss:0.646024\n",
      "[2600]\ttrain-logloss:0.630732\tval-logloss:0.645348\n",
      "[2700]\ttrain-logloss:0.629716\tval-logloss:0.644717\n",
      "[2800]\ttrain-logloss:0.628764\tval-logloss:0.644133\n",
      "[2900]\ttrain-logloss:0.62786\tval-logloss:0.643592\n",
      "[3000]\ttrain-logloss:0.627012\tval-logloss:0.643092\n",
      "[3100]\ttrain-logloss:0.626204\tval-logloss:0.642629\n",
      "[3200]\ttrain-logloss:0.62544\tval-logloss:0.6422\n",
      "[3300]\ttrain-logloss:0.624728\tval-logloss:0.641807\n",
      "[3400]\ttrain-logloss:0.62405\tval-logloss:0.641447\n",
      "[3500]\ttrain-logloss:0.623411\tval-logloss:0.641118\n",
      "[3600]\ttrain-logloss:0.622804\tval-logloss:0.640813\n",
      "[3700]\ttrain-logloss:0.622233\tval-logloss:0.640535\n",
      "[3800]\ttrain-logloss:0.621695\tval-logloss:0.640282\n",
      "[3900]\ttrain-logloss:0.621184\tval-logloss:0.64005\n",
      "[4000]\ttrain-logloss:0.620708\tval-logloss:0.639841\n",
      "[4100]\ttrain-logloss:0.620246\tval-logloss:0.639649\n",
      "[4200]\ttrain-logloss:0.61982\tval-logloss:0.639476\n",
      "[4300]\ttrain-logloss:0.619416\tval-logloss:0.63932\n",
      "[4400]\ttrain-logloss:0.619038\tval-logloss:0.639181\n",
      "[4500]\ttrain-logloss:0.618678\tval-logloss:0.639056\n",
      "[4600]\ttrain-logloss:0.618334\tval-logloss:0.638946\n",
      "[4700]\ttrain-logloss:0.618017\tval-logloss:0.638847\n",
      "[4800]\ttrain-logloss:0.617711\tval-logloss:0.638762\n",
      "[4900]\ttrain-logloss:0.617427\tval-logloss:0.638687\n",
      "[4999]\ttrain-logloss:0.617159\tval-logloss:0.638622\n",
      "Fold: 5\n",
      "[0]\ttrain-logloss:0.693104\tval-logloss:0.693099\n",
      "[100]\ttrain-logloss:0.688788\tval-logloss:0.688481\n",
      "[200]\ttrain-logloss:0.684733\tval-logloss:0.684122\n",
      "[300]\ttrain-logloss:0.680895\tval-logloss:0.680002\n",
      "[400]\ttrain-logloss:0.677289\tval-logloss:0.676113\n",
      "[500]\ttrain-logloss:0.673888\tval-logloss:0.672436\n",
      "[600]\ttrain-logloss:0.670683\tval-logloss:0.668962\n",
      "[700]\ttrain-logloss:0.66765\tval-logloss:0.665674\n",
      "[800]\ttrain-logloss:0.664817\tval-logloss:0.662569\n",
      "[900]\ttrain-logloss:0.662119\tval-logloss:0.65963\n",
      "[1000]\ttrain-logloss:0.659572\tval-logloss:0.656846\n",
      "[1100]\ttrain-logloss:0.657165\tval-logloss:0.654214\n",
      "[1200]\ttrain-logloss:0.6549\tval-logloss:0.651724\n",
      "[1300]\ttrain-logloss:0.652757\tval-logloss:0.649365\n",
      "[1400]\ttrain-logloss:0.650745\tval-logloss:0.647134\n",
      "[1500]\ttrain-logloss:0.648846\tval-logloss:0.645022\n",
      "[1600]\ttrain-logloss:0.647039\tval-logloss:0.64302\n",
      "[1700]\ttrain-logloss:0.645341\tval-logloss:0.641125\n",
      "[1800]\ttrain-logloss:0.643744\tval-logloss:0.63933\n",
      "[1900]\ttrain-logloss:0.642223\tval-logloss:0.63763\n",
      "[2000]\ttrain-logloss:0.640796\tval-logloss:0.636018\n",
      "[2100]\ttrain-logloss:0.639443\tval-logloss:0.634492\n",
      "[2200]\ttrain-logloss:0.638163\tval-logloss:0.633045\n",
      "[2300]\ttrain-logloss:0.636952\tval-logloss:0.631673\n",
      "[2400]\ttrain-logloss:0.635819\tval-logloss:0.630374\n",
      "[2500]\ttrain-logloss:0.634742\tval-logloss:0.629142\n",
      "[2600]\ttrain-logloss:0.633731\tval-logloss:0.627974\n",
      "[2700]\ttrain-logloss:0.632767\tval-logloss:0.626867\n",
      "[2800]\ttrain-logloss:0.631862\tval-logloss:0.625818\n",
      "[2900]\ttrain-logloss:0.631006\tval-logloss:0.624823\n",
      "[3000]\ttrain-logloss:0.6302\tval-logloss:0.623879\n",
      "[3100]\ttrain-logloss:0.629438\tval-logloss:0.622984\n",
      "[3200]\ttrain-logloss:0.628717\tval-logloss:0.622134\n",
      "[3300]\ttrain-logloss:0.628035\tval-logloss:0.621329\n",
      "[3400]\ttrain-logloss:0.627389\tval-logloss:0.620565\n",
      "[3500]\ttrain-logloss:0.626782\tval-logloss:0.61984\n",
      "[3600]\ttrain-logloss:0.626212\tval-logloss:0.619152\n",
      "[3700]\ttrain-logloss:0.625666\tval-logloss:0.618501\n",
      "[3800]\ttrain-logloss:0.625157\tval-logloss:0.617886\n",
      "[3900]\ttrain-logloss:0.624675\tval-logloss:0.617301\n",
      "[4000]\ttrain-logloss:0.624222\tval-logloss:0.616747\n",
      "[4100]\ttrain-logloss:0.623793\tval-logloss:0.616219\n",
      "[4200]\ttrain-logloss:0.62338\tval-logloss:0.615719\n",
      "[4300]\ttrain-logloss:0.623\tval-logloss:0.615244\n",
      "[4400]\ttrain-logloss:0.622636\tval-logloss:0.614793\n",
      "[4500]\ttrain-logloss:0.622293\tval-logloss:0.614365\n",
      "[4600]\ttrain-logloss:0.621979\tval-logloss:0.613959\n",
      "[4700]\ttrain-logloss:0.62167\tval-logloss:0.613571\n",
      "[4800]\ttrain-logloss:0.621388\tval-logloss:0.613205\n",
      "[4900]\ttrain-logloss:0.621117\tval-logloss:0.612856\n",
      "[4999]\ttrain-logloss:0.620859\tval-logloss:0.612529\n",
      "Fold: 6\n",
      "[0]\ttrain-logloss:0.693103\tval-logloss:0.693103\n",
      "[100]\ttrain-logloss:0.68868\tval-logloss:0.688928\n",
      "[200]\ttrain-logloss:0.684516\tval-logloss:0.685004\n",
      "[300]\ttrain-logloss:0.680596\tval-logloss:0.681307\n",
      "[400]\ttrain-logloss:0.676903\tval-logloss:0.677839\n",
      "[500]\ttrain-logloss:0.673417\tval-logloss:0.674569\n",
      "[600]\ttrain-logloss:0.670134\tval-logloss:0.671507\n",
      "[700]\ttrain-logloss:0.66703\tval-logloss:0.668599\n",
      "[800]\ttrain-logloss:0.664119\tval-logloss:0.665904\n",
      "[900]\ttrain-logloss:0.661354\tval-logloss:0.663332\n",
      "[1000]\ttrain-logloss:0.658737\tval-logloss:0.660891\n",
      "[1100]\ttrain-logloss:0.656285\tval-logloss:0.658593\n",
      "[1200]\ttrain-logloss:0.653965\tval-logloss:0.656441\n",
      "[1300]\ttrain-logloss:0.651773\tval-logloss:0.654398\n",
      "[1400]\ttrain-logloss:0.649705\tval-logloss:0.652483\n",
      "[1500]\ttrain-logloss:0.647757\tval-logloss:0.650675\n",
      "[1600]\ttrain-logloss:0.645904\tval-logloss:0.648958\n",
      "[1700]\ttrain-logloss:0.644172\tval-logloss:0.647352\n",
      "[1800]\ttrain-logloss:0.642528\tval-logloss:0.645843\n",
      "[1900]\ttrain-logloss:0.640973\tval-logloss:0.644412\n",
      "[2000]\ttrain-logloss:0.639508\tval-logloss:0.643061\n",
      "[2100]\ttrain-logloss:0.638121\tval-logloss:0.641788\n",
      "[2200]\ttrain-logloss:0.636812\tval-logloss:0.640589\n",
      "[2300]\ttrain-logloss:0.635574\tval-logloss:0.639446\n",
      "[2400]\ttrain-logloss:0.634407\tval-logloss:0.638387\n",
      "[2500]\ttrain-logloss:0.633305\tval-logloss:0.63738\n",
      "[2600]\ttrain-logloss:0.632267\tval-logloss:0.636439\n",
      "[2700]\ttrain-logloss:0.631278\tval-logloss:0.635548\n",
      "[2800]\ttrain-logloss:0.630348\tval-logloss:0.634708\n",
      "[2900]\ttrain-logloss:0.629469\tval-logloss:0.633917\n",
      "[3000]\ttrain-logloss:0.628641\tval-logloss:0.633178\n",
      "[3100]\ttrain-logloss:0.627862\tval-logloss:0.632482\n",
      "[3200]\ttrain-logloss:0.627119\tval-logloss:0.631823\n",
      "[3300]\ttrain-logloss:0.626424\tval-logloss:0.631208\n",
      "[3400]\ttrain-logloss:0.625758\tval-logloss:0.630628\n",
      "[3500]\ttrain-logloss:0.625138\tval-logloss:0.630084\n",
      "[3600]\ttrain-logloss:0.624546\tval-logloss:0.629564\n",
      "[3700]\ttrain-logloss:0.623991\tval-logloss:0.629078\n",
      "[3800]\ttrain-logloss:0.623462\tval-logloss:0.628625\n",
      "[3900]\ttrain-logloss:0.622969\tval-logloss:0.628197\n",
      "[4000]\ttrain-logloss:0.622497\tval-logloss:0.6278\n",
      "[4100]\ttrain-logloss:0.622058\tval-logloss:0.627418\n",
      "[4200]\ttrain-logloss:0.621639\tval-logloss:0.627061\n",
      "[4300]\ttrain-logloss:0.621244\tval-logloss:0.626729\n",
      "[4400]\ttrain-logloss:0.620871\tval-logloss:0.626418\n",
      "[4500]\ttrain-logloss:0.620513\tval-logloss:0.626126\n",
      "[4600]\ttrain-logloss:0.620188\tval-logloss:0.625852\n",
      "[4700]\ttrain-logloss:0.619873\tval-logloss:0.625589\n",
      "[4800]\ttrain-logloss:0.619579\tval-logloss:0.625348\n",
      "[4900]\ttrain-logloss:0.619302\tval-logloss:0.62512\n",
      "[4999]\ttrain-logloss:0.619042\tval-logloss:0.624912\n",
      "Fold: 7\n",
      "[0]\ttrain-logloss:0.693105\tval-logloss:0.693104\n",
      "[100]\ttrain-logloss:0.688662\tval-logloss:0.689001\n",
      "[200]\ttrain-logloss:0.68448\tval-logloss:0.685151\n",
      "[300]\ttrain-logloss:0.680539\tval-logloss:0.681529\n",
      "[400]\ttrain-logloss:0.676819\tval-logloss:0.678129\n",
      "[500]\ttrain-logloss:0.673322\tval-logloss:0.67493\n",
      "[600]\ttrain-logloss:0.670023\tval-logloss:0.671928\n",
      "[700]\ttrain-logloss:0.666903\tval-logloss:0.669093\n",
      "[800]\ttrain-logloss:0.663975\tval-logloss:0.666444\n",
      "[900]\ttrain-logloss:0.661202\tval-logloss:0.663941\n",
      "[1000]\ttrain-logloss:0.658574\tval-logloss:0.66158\n",
      "[1100]\ttrain-logloss:0.656099\tval-logloss:0.659362\n",
      "[1200]\ttrain-logloss:0.653772\tval-logloss:0.65728\n",
      "[1300]\ttrain-logloss:0.651562\tval-logloss:0.655318\n",
      "[1400]\ttrain-logloss:0.649487\tval-logloss:0.653479\n",
      "[1500]\ttrain-logloss:0.647524\tval-logloss:0.651748\n",
      "[1600]\ttrain-logloss:0.645666\tval-logloss:0.650117\n",
      "[1700]\ttrain-logloss:0.64392\tval-logloss:0.648585\n"
     ]
    },
    {
     "name": "stdout",
     "output_type": "stream",
     "text": [
      "[1800]\ttrain-logloss:0.642266\tval-logloss:0.647148\n",
      "[1900]\ttrain-logloss:0.640708\tval-logloss:0.645793\n",
      "[2000]\ttrain-logloss:0.639231\tval-logloss:0.644519\n",
      "[2100]\ttrain-logloss:0.637836\tval-logloss:0.643322\n",
      "[2200]\ttrain-logloss:0.63652\tval-logloss:0.642197\n",
      "[2300]\ttrain-logloss:0.635277\tval-logloss:0.641136\n",
      "[2400]\ttrain-logloss:0.634103\tval-logloss:0.640145\n",
      "[2500]\ttrain-logloss:0.632994\tval-logloss:0.639211\n",
      "[2600]\ttrain-logloss:0.63195\tval-logloss:0.638337\n",
      "[2700]\ttrain-logloss:0.630959\tval-logloss:0.637514\n",
      "[2800]\ttrain-logloss:0.630025\tval-logloss:0.636742\n",
      "[2900]\ttrain-logloss:0.629137\tval-logloss:0.636018\n",
      "[3000]\ttrain-logloss:0.628309\tval-logloss:0.63534\n",
      "[3100]\ttrain-logloss:0.627524\tval-logloss:0.634707\n",
      "[3200]\ttrain-logloss:0.62678\tval-logloss:0.634118\n",
      "[3300]\ttrain-logloss:0.626073\tval-logloss:0.633566\n",
      "[3400]\ttrain-logloss:0.625413\tval-logloss:0.633049\n",
      "[3500]\ttrain-logloss:0.624783\tval-logloss:0.632565\n",
      "[3600]\ttrain-logloss:0.624192\tval-logloss:0.632109\n",
      "[3700]\ttrain-logloss:0.623628\tval-logloss:0.631685\n",
      "[3800]\ttrain-logloss:0.623105\tval-logloss:0.631281\n",
      "[3900]\ttrain-logloss:0.622607\tval-logloss:0.630904\n",
      "[4000]\ttrain-logloss:0.622134\tval-logloss:0.630553\n",
      "[4100]\ttrain-logloss:0.62169\tval-logloss:0.630222\n",
      "[4200]\ttrain-logloss:0.621271\tval-logloss:0.629914\n",
      "[4300]\ttrain-logloss:0.620873\tval-logloss:0.629627\n",
      "[4400]\ttrain-logloss:0.620504\tval-logloss:0.629359\n",
      "[4500]\ttrain-logloss:0.620152\tval-logloss:0.629109\n",
      "[4600]\ttrain-logloss:0.619822\tval-logloss:0.628876\n",
      "[4700]\ttrain-logloss:0.619507\tval-logloss:0.628659\n",
      "[4800]\ttrain-logloss:0.619212\tval-logloss:0.628457\n",
      "[4900]\ttrain-logloss:0.618931\tval-logloss:0.62827\n",
      "[4999]\ttrain-logloss:0.61867\tval-logloss:0.628097\n",
      "Fold: 8\n",
      "[0]\ttrain-logloss:0.693104\tval-logloss:0.693099\n",
      "[100]\ttrain-logloss:0.688806\tval-logloss:0.688417\n",
      "[200]\ttrain-logloss:0.684753\tval-logloss:0.683997\n",
      "[300]\ttrain-logloss:0.68094\tval-logloss:0.679818\n",
      "[400]\ttrain-logloss:0.677349\tval-logloss:0.675875\n",
      "[500]\ttrain-logloss:0.673955\tval-logloss:0.672149\n",
      "[600]\ttrain-logloss:0.670766\tval-logloss:0.668628\n",
      "[700]\ttrain-logloss:0.667743\tval-logloss:0.665291\n",
      "[800]\ttrain-logloss:0.664912\tval-logloss:0.662145\n",
      "[900]\ttrain-logloss:0.66223\tval-logloss:0.659159\n",
      "[1000]\ttrain-logloss:0.659685\tval-logloss:0.656329\n",
      "[1100]\ttrain-logloss:0.657287\tval-logloss:0.653654\n",
      "[1200]\ttrain-logloss:0.655041\tval-logloss:0.651122\n",
      "[1300]\ttrain-logloss:0.652899\tval-logloss:0.648723\n",
      "[1400]\ttrain-logloss:0.650891\tval-logloss:0.646454\n",
      "[1500]\ttrain-logloss:0.648991\tval-logloss:0.644303\n",
      "[1600]\ttrain-logloss:0.647197\tval-logloss:0.642261\n",
      "[1700]\ttrain-logloss:0.645503\tval-logloss:0.64033\n",
      "[1800]\ttrain-logloss:0.643909\tval-logloss:0.638499\n",
      "[1900]\ttrain-logloss:0.642392\tval-logloss:0.636763\n",
      "[2000]\ttrain-logloss:0.640971\tval-logloss:0.635115\n",
      "[2100]\ttrain-logloss:0.639618\tval-logloss:0.633553\n",
      "[2200]\ttrain-logloss:0.638342\tval-logloss:0.632072\n",
      "[2300]\ttrain-logloss:0.637134\tval-logloss:0.630664\n",
      "[2400]\ttrain-logloss:0.635995\tval-logloss:0.629333\n",
      "[2500]\ttrain-logloss:0.634922\tval-logloss:0.628068\n",
      "[2600]\ttrain-logloss:0.63391\tval-logloss:0.626869\n",
      "[2700]\ttrain-logloss:0.632952\tval-logloss:0.62573\n",
      "[2800]\ttrain-logloss:0.632047\tval-logloss:0.624649\n",
      "[2900]\ttrain-logloss:0.631193\tval-logloss:0.623624\n",
      "[3000]\ttrain-logloss:0.630387\tval-logloss:0.622651\n",
      "[3100]\ttrain-logloss:0.629623\tval-logloss:0.621727\n",
      "[3200]\ttrain-logloss:0.628896\tval-logloss:0.620849\n",
      "[3300]\ttrain-logloss:0.628223\tval-logloss:0.620017\n",
      "[3400]\ttrain-logloss:0.627581\tval-logloss:0.619226\n",
      "[3500]\ttrain-logloss:0.626976\tval-logloss:0.618476\n",
      "[3600]\ttrain-logloss:0.626397\tval-logloss:0.617762\n",
      "[3700]\ttrain-logloss:0.62586\tval-logloss:0.617085\n",
      "[3800]\ttrain-logloss:0.625348\tval-logloss:0.616442\n",
      "[3900]\ttrain-logloss:0.624867\tval-logloss:0.615831\n",
      "[4000]\ttrain-logloss:0.624416\tval-logloss:0.61525\n",
      "[4100]\ttrain-logloss:0.623983\tval-logloss:0.614698\n",
      "[4200]\ttrain-logloss:0.62358\tval-logloss:0.614174\n",
      "[4300]\ttrain-logloss:0.623199\tval-logloss:0.613676\n",
      "[4400]\ttrain-logloss:0.622836\tval-logloss:0.613203\n",
      "[4500]\ttrain-logloss:0.622494\tval-logloss:0.612752\n",
      "[4600]\ttrain-logloss:0.622177\tval-logloss:0.612325\n",
      "[4700]\ttrain-logloss:0.621871\tval-logloss:0.611917\n",
      "[4800]\ttrain-logloss:0.621589\tval-logloss:0.61153\n",
      "[4900]\ttrain-logloss:0.621316\tval-logloss:0.611162\n",
      "[4999]\ttrain-logloss:0.621065\tval-logloss:0.610816\n",
      "Fold: 9\n",
      "[0]\ttrain-logloss:0.693102\tval-logloss:0.693104\n",
      "[100]\ttrain-logloss:0.688669\tval-logloss:0.68896\n",
      "[200]\ttrain-logloss:0.684494\tval-logloss:0.685071\n",
      "[300]\ttrain-logloss:0.680565\tval-logloss:0.681406\n",
      "[400]\ttrain-logloss:0.676857\tval-logloss:0.677973\n",
      "[500]\ttrain-logloss:0.673361\tval-logloss:0.674738\n",
      "[600]\ttrain-logloss:0.670075\tval-logloss:0.67171\n",
      "[700]\ttrain-logloss:0.66696\tval-logloss:0.668833\n",
      "[800]\ttrain-logloss:0.664042\tval-logloss:0.666168\n",
      "[900]\ttrain-logloss:0.661266\tval-logloss:0.663631\n",
      "[1000]\ttrain-logloss:0.658654\tval-logloss:0.661228\n",
      "[1100]\ttrain-logloss:0.656184\tval-logloss:0.658974\n",
      "[1200]\ttrain-logloss:0.653865\tval-logloss:0.656861\n",
      "[1300]\ttrain-logloss:0.65167\tval-logloss:0.654859\n",
      "[1400]\ttrain-logloss:0.649599\tval-logloss:0.652991\n",
      "[1500]\ttrain-logloss:0.647647\tval-logloss:0.651229\n",
      "[1600]\ttrain-logloss:0.645801\tval-logloss:0.649559\n",
      "[1700]\ttrain-logloss:0.644057\tval-logloss:0.647996\n",
      "[1800]\ttrain-logloss:0.642413\tval-logloss:0.646522\n",
      "[1900]\ttrain-logloss:0.640858\tval-logloss:0.645124\n",
      "[2000]\ttrain-logloss:0.639389\tval-logloss:0.643804\n",
      "[2100]\ttrain-logloss:0.638007\tval-logloss:0.642562\n",
      "[2200]\ttrain-logloss:0.636694\tval-logloss:0.641394\n",
      "[2300]\ttrain-logloss:0.635454\tval-logloss:0.640281\n",
      "[2400]\ttrain-logloss:0.634287\tval-logloss:0.639252\n",
      "[2500]\ttrain-logloss:0.633181\tval-logloss:0.638276\n",
      "[2600]\ttrain-logloss:0.632144\tval-logloss:0.637364\n",
      "[2700]\ttrain-logloss:0.63116\tval-logloss:0.636501\n",
      "[2800]\ttrain-logloss:0.630225\tval-logloss:0.63569\n",
      "[2900]\ttrain-logloss:0.629353\tval-logloss:0.634927\n",
      "[3000]\ttrain-logloss:0.628526\tval-logloss:0.634215\n",
      "[3100]\ttrain-logloss:0.627743\tval-logloss:0.633542\n",
      "[3200]\ttrain-logloss:0.627002\tval-logloss:0.632905\n",
      "[3300]\ttrain-logloss:0.626301\tval-logloss:0.632312\n",
      "[3400]\ttrain-logloss:0.625642\tval-logloss:0.631751\n",
      "[3500]\ttrain-logloss:0.625019\tval-logloss:0.631227\n",
      "[3600]\ttrain-logloss:0.624432\tval-logloss:0.630728\n",
      "[3700]\ttrain-logloss:0.623878\tval-logloss:0.630262\n",
      "[3800]\ttrain-logloss:0.623353\tval-logloss:0.629828\n",
      "[3900]\ttrain-logloss:0.622858\tval-logloss:0.629419\n",
      "[4000]\ttrain-logloss:0.62239\tval-logloss:0.629041\n",
      "[4100]\ttrain-logloss:0.621942\tval-logloss:0.628678\n",
      "[4200]\ttrain-logloss:0.621534\tval-logloss:0.628339\n",
      "[4300]\ttrain-logloss:0.621139\tval-logloss:0.628026\n",
      "[4400]\ttrain-logloss:0.620766\tval-logloss:0.627733\n",
      "[4500]\ttrain-logloss:0.620417\tval-logloss:0.627457\n",
      "[4600]\ttrain-logloss:0.620087\tval-logloss:0.627201\n",
      "[4700]\ttrain-logloss:0.619774\tval-logloss:0.626957\n",
      "[4800]\ttrain-logloss:0.61948\tval-logloss:0.626733\n",
      "[4900]\ttrain-logloss:0.619201\tval-logloss:0.626522\n",
      "[4999]\ttrain-logloss:0.618944\tval-logloss:0.62633\n",
      "Fold: 10\n",
      "[0]\ttrain-logloss:0.693104\tval-logloss:0.693097\n",
      "[100]\ttrain-logloss:0.688858\tval-logloss:0.688207\n",
      "[200]\ttrain-logloss:0.684852\tval-logloss:0.683585\n",
      "[300]\ttrain-logloss:0.68108\tval-logloss:0.679208\n",
      "[400]\ttrain-logloss:0.677534\tval-logloss:0.675078\n",
      "[500]\ttrain-logloss:0.674177\tval-logloss:0.671174\n",
      "[600]\ttrain-logloss:0.671023\tval-logloss:0.667478\n",
      "[700]\ttrain-logloss:0.668038\tval-logloss:0.663971\n",
      "[800]\ttrain-logloss:0.665236\tval-logloss:0.660658\n",
      "[900]\ttrain-logloss:0.662581\tval-logloss:0.657509\n",
      "[1000]\ttrain-logloss:0.660065\tval-logloss:0.654519\n",
      "[1100]\ttrain-logloss:0.657701\tval-logloss:0.651685\n",
      "[1200]\ttrain-logloss:0.655466\tval-logloss:0.649\n",
      "[1300]\ttrain-logloss:0.653358\tval-logloss:0.646451\n",
      "[1400]\ttrain-logloss:0.651366\tval-logloss:0.644036\n",
      "[1500]\ttrain-logloss:0.649496\tval-logloss:0.641743\n",
      "[1600]\ttrain-logloss:0.647712\tval-logloss:0.639565\n",
      "[1700]\ttrain-logloss:0.646041\tval-logloss:0.637497\n",
      "[1800]\ttrain-logloss:0.644461\tval-logloss:0.635533\n",
      "[1900]\ttrain-logloss:0.642967\tval-logloss:0.633666\n",
      "[2000]\ttrain-logloss:0.64155\tval-logloss:0.631893\n",
      "[2100]\ttrain-logloss:0.640222\tval-logloss:0.630208\n",
      "[2200]\ttrain-logloss:0.638962\tval-logloss:0.628607\n",
      "[2300]\ttrain-logloss:0.637767\tval-logloss:0.627082\n",
      "[2400]\ttrain-logloss:0.636644\tval-logloss:0.625637\n",
      "[2500]\ttrain-logloss:0.635579\tval-logloss:0.624261\n",
      "[2600]\ttrain-logloss:0.634582\tval-logloss:0.622953\n"
     ]
    },
    {
     "name": "stdout",
     "output_type": "stream",
     "text": [
      "[2700]\ttrain-logloss:0.633628\tval-logloss:0.62171\n",
      "[2800]\ttrain-logloss:0.632734\tval-logloss:0.620526\n",
      "[2900]\ttrain-logloss:0.631893\tval-logloss:0.619401\n",
      "[3000]\ttrain-logloss:0.631092\tval-logloss:0.618331\n",
      "[3100]\ttrain-logloss:0.630343\tval-logloss:0.617311\n",
      "[3200]\ttrain-logloss:0.629624\tval-logloss:0.61634\n",
      "[3300]\ttrain-logloss:0.628955\tval-logloss:0.615419\n",
      "[3400]\ttrain-logloss:0.628318\tval-logloss:0.614539\n",
      "[3500]\ttrain-logloss:0.627713\tval-logloss:0.613703\n",
      "[3600]\ttrain-logloss:0.62715\tval-logloss:0.612905\n",
      "[3700]\ttrain-logloss:0.626609\tval-logloss:0.612146\n",
      "[3800]\ttrain-logloss:0.626103\tval-logloss:0.611424\n",
      "[3900]\ttrain-logloss:0.625624\tval-logloss:0.610734\n",
      "[4000]\ttrain-logloss:0.625176\tval-logloss:0.610079\n",
      "[4100]\ttrain-logloss:0.62475\tval-logloss:0.609452\n",
      "[4200]\ttrain-logloss:0.624347\tval-logloss:0.608856\n",
      "[4300]\ttrain-logloss:0.623972\tval-logloss:0.608288\n",
      "[4400]\ttrain-logloss:0.623609\tval-logloss:0.607746\n",
      "[4500]\ttrain-logloss:0.623268\tval-logloss:0.607231\n",
      "[4600]\ttrain-logloss:0.622952\tval-logloss:0.606741\n",
      "[4700]\ttrain-logloss:0.622645\tval-logloss:0.606269\n",
      "[4800]\ttrain-logloss:0.622371\tval-logloss:0.605821\n",
      "[4900]\ttrain-logloss:0.622098\tval-logloss:0.605392\n",
      "[4999]\ttrain-logloss:0.621854\tval-logloss:0.604988\n"
     ]
    }
   ],
   "source": [
    "NFOLDS = 10\n",
    "folds = KFold(n_splits=NFOLDS)\n",
    "columns = x_train.columns\n",
    "splits = folds.split(x_train, y_train)\n",
    "\n",
    "y_preds_xgb = np.zeros(test_df.shape[0])\n",
    "y_train_xgb = np.zeros(x_train.shape[0])\n",
    "y_test_xgb = np.zeros(x_test.shape[0])\n",
    "\n",
    "train_df_set = xgb.DMatrix(x_train)\n",
    "test_df_set = xgb.DMatrix(x_test)\n",
    "test_set = xgb.DMatrix(test_df)\n",
    "  \n",
    "for fold_n, (train_index, valid_index) in enumerate(splits):\n",
    "    print('Fold:',fold_n+1)\n",
    "    X_train_f, X_valid_f = x_train[columns].iloc[train_index], x_train[columns].iloc[valid_index]\n",
    "    y_train_f, y_valid_f = y_train.iloc[train_index], y_train.iloc[valid_index]\n",
    "    \n",
    "    train_set = xgb.DMatrix(X_train_f, y_train_f)\n",
    "    val_set = xgb.DMatrix(X_valid_f, y_valid_f)\n",
    "    \n",
    "    clf = xgb.train(params_xgb, train_set, num_boost_round=5000, evals=[(train_set, 'train'), (val_set, 'val')], verbose_eval=100)\n",
    "    \n",
    "    y_train_xgb += clf.predict(train_df_set) / NFOLDS\n",
    "    y_preds_xgb += clf.predict(test_set) / NFOLDS\n",
    "    y_test_xgb  += clf.predict(test_df_set) / NFOLDS\n",
    "    del X_train_f, X_valid_f, y_train_f, y_valid_f\n",
    "    gc.collect()\n"
   ]
  },
  {
   "cell_type": "code",
   "execution_count": 224,
   "metadata": {},
   "outputs": [
    {
     "name": "stderr",
     "output_type": "stream",
     "text": [
      "/Users/mathispotel/anaconda3/lib/python3.7/site-packages/statsmodels/tools/_testing.py:19: FutureWarning:\n",
      "\n",
      "pandas.util.testing is deprecated. Use the functions in the public API at pandas.testing instead.\n",
      "\n"
     ]
    }
   ],
   "source": [
    "import seaborn as sns\n",
    "from sklearn.metrics import confusion_matrix\n",
    "def plot_cm(y_true, y_pred, title, figsize=(7,6)):\n",
    "    y_pred = y_pred.round().astype(int)\n",
    "    cm = confusion_matrix(y_true, y_pred, labels=np.unique(y_true))\n",
    "    cm_sum = np.sum(cm, axis=1, keepdims=True)\n",
    "    cm_perc = cm / cm_sum.astype(float) * 100\n",
    "    annot = np.empty_like(cm).astype(str)\n",
    "    nrows, ncols = cm.shape\n",
    "    for i in range(nrows):\n",
    "        for j in range(ncols):\n",
    "            c = cm[i, j]\n",
    "            p = cm_perc[i, j]\n",
    "            if i == j:\n",
    "                s = cm_sum[i]\n",
    "                annot[i, j] = '%.1f%%\\n%d/%d' % (p, c, s)\n",
    "            elif c == 0:\n",
    "                annot[i, j] = ''\n",
    "            else:\n",
    "                annot[i, j] = '%.1f%%\\n%d' % (p, c)\n",
    "    cm = pd.DataFrame(cm, index=np.unique(y_true), columns=np.unique(y_true))\n",
    "    cm.index.name = 'Current'\n",
    "    cm.columns.name = 'Predicted'\n",
    "    fig, ax = plt.subplots(figsize=figsize)\n",
    "    plt.title(title)\n",
    "    sns.heatmap(cm, cmap= \"YlGnBu\", annot=annot, fmt='', ax=ax)"
   ]
  },
  {
   "cell_type": "code",
   "execution_count": 225,
   "metadata": {},
   "outputs": [
    {
     "data": {
      "image/png": "[encoded data removed]",
      "text/plain": [
       "<Figure size 504x432 with 2 Axes>"
      ]
     },
     "metadata": {
      "needs_background": "light"
     },
     "output_type": "display_data"
    }
   ],
   "source": [
    "plot_cm(y_test, y_test_xgb, 'Confusion matrix for XGB model')"
   ]
  },
  {
   "cell_type": "markdown",
   "metadata": {},
   "source": [
    "# Submission File"
   ]
  },
  {
   "cell_type": "code",
   "execution_count": 226,
   "metadata": {},
   "outputs": [],
   "source": [
    "sub_file = pd.read_csv('Data/MSampleSubmissionStage1_2020.csv')"
   ]
  },
  {
   "cell_type": "code",
   "execution_count": 227,
   "metadata": {},
   "outputs": [],
   "source": [
    "sub_file['Pred']=y_preds_xgb"
   ]
  },
  {
   "cell_type": "code",
   "execution_count": 228,
   "metadata": {},
   "outputs": [
    {
     "data": {
      "text/html": [
       "<div>\n",
       "<style scoped>\n",
       "    .dataframe tbody tr th:only-of-type {\n",
       "        vertical-align: middle;\n",
       "    }\n",
       "\n",
       "    .dataframe tbody tr th {\n",
       "        vertical-align: top;\n",
       "    }\n",
       "\n",
       "    .dataframe thead th {\n",
       "        text-align: right;\n",
       "    }\n",
       "</style>\n",
       "<table border=\"1\" class=\"dataframe\">\n",
       "  <thead>\n",
       "    <tr style=\"text-align: right;\">\n",
       "      <th></th>\n",
       "      <th>ID</th>\n",
       "      <th>Pred</th>\n",
       "    </tr>\n",
       "  </thead>\n",
       "  <tbody>\n",
       "    <tr>\n",
       "      <th>0</th>\n",
       "      <td>2015_1107_1112</td>\n",
       "      <td>0.653201</td>\n",
       "    </tr>\n",
       "    <tr>\n",
       "      <th>1</th>\n",
       "      <td>2015_1107_1116</td>\n",
       "      <td>0.653201</td>\n",
       "    </tr>\n",
       "    <tr>\n",
       "      <th>2</th>\n",
       "      <td>2015_1107_1124</td>\n",
       "      <td>0.653201</td>\n",
       "    </tr>\n",
       "    <tr>\n",
       "      <th>3</th>\n",
       "      <td>2015_1107_1125</td>\n",
       "      <td>0.351049</td>\n",
       "    </tr>\n",
       "    <tr>\n",
       "      <th>4</th>\n",
       "      <td>2015_1107_1129</td>\n",
       "      <td>0.653201</td>\n",
       "    </tr>\n",
       "  </tbody>\n",
       "</table>\n",
       "</div>"
      ],
      "text/plain": [
       "               ID      Pred\n",
       "0  2015_1107_1112  0.653201\n",
       "1  2015_1107_1116  0.653201\n",
       "2  2015_1107_1124  0.653201\n",
       "3  2015_1107_1125  0.351049\n",
       "4  2015_1107_1129  0.653201"
      ]
     },
     "execution_count": 228,
     "metadata": {},
     "output_type": "execute_result"
    }
   ],
   "source": [
    "sub_file.head()"
   ]
  },
  {
   "cell_type": "code",
   "execution_count": 238,
   "metadata": {},
   "outputs": [],
   "source": [
    "sub_file.to_csv(\"submission_file.csv\",index=False)"
   ]
  },
  {
   "cell_type": "code",
   "execution_count": 231,
   "metadata": {},
   "outputs": [
    {
     "name": "stdout",
     "output_type": "stream",
     "text": [
      "WARNING: pip is being invoked by an old script wrapper. This will fail in a future version of pip.\n",
      "Please see https://github.com/pypa/pip/issues/5599 for advice on fixing the underlying issue.\n",
      "To avoid this problem you can invoke Python with '-m pip' instead of running pip directly.\n",
      "Collecting kaggle\n",
      "  Downloading kaggle-1.5.6.tar.gz (58 kB)\n",
      "\u001b[K     |████████████████████████████████| 58 kB 343 kB/s eta 0:00:01\n",
      "\u001b[?25hCollecting urllib3<1.25,>=1.21.1\n",
      "  Downloading urllib3-1.24.3-py2.py3-none-any.whl (118 kB)\n",
      "\u001b[K     |████████████████████████████████| 118 kB 1.0 MB/s eta 0:00:01\n",
      "\u001b[?25hRequirement already satisfied: six>=1.10 in /Users/mathispotel/anaconda3/lib/python3.7/site-packages (from kaggle) (1.14.0)\n",
      "Requirement already satisfied: certifi in /Users/mathispotel/anaconda3/lib/python3.7/site-packages (from kaggle) (2019.11.28)\n",
      "Requirement already satisfied: python-dateutil in /Users/mathispotel/anaconda3/lib/python3.7/site-packages (from kaggle) (2.8.1)\n",
      "Requirement already satisfied: requests in /Users/mathispotel/anaconda3/lib/python3.7/site-packages (from kaggle) (2.22.0)\n",
      "Requirement already satisfied: tqdm in /Users/mathispotel/anaconda3/lib/python3.7/site-packages (from kaggle) (4.42.0)\n",
      "Collecting python-slugify\n",
      "  Downloading python-slugify-4.0.0.tar.gz (8.8 kB)\n",
      "Requirement already satisfied: idna<2.9,>=2.5 in /Users/mathispotel/anaconda3/lib/python3.7/site-packages (from requests->kaggle) (2.8)\n",
      "Requirement already satisfied: chardet<3.1.0,>=3.0.2 in /Users/mathispotel/anaconda3/lib/python3.7/site-packages (from requests->kaggle) (3.0.4)\n",
      "Collecting text-unidecode>=1.3\n",
      "  Downloading text_unidecode-1.3-py2.py3-none-any.whl (78 kB)\n",
      "\u001b[K     |████████████████████████████████| 78 kB 384 kB/s eta 0:00:01\n",
      "\u001b[?25hBuilding wheels for collected packages: kaggle, python-slugify\n",
      "  Building wheel for kaggle (setup.py) ... \u001b[?25ldone\n",
      "\u001b[?25h  Created wheel for kaggle: filename=kaggle-1.5.6-py3-none-any.whl size=72857 sha256=8f7b6d270eb8caab6dea2fd8833d8afc1df6b98241b682d1ccb511b2668d843d\n",
      "  Stored in directory: /Users/mathispotel/Library/Caches/pip/wheels/aa/e7/e7/eb3c3d514c33294d77ddd5a856bdd58dc9c1fabbed59a02a2b\n",
      "  Building wheel for python-slugify (setup.py) ... \u001b[?25ldone\n",
      "\u001b[?25h  Created wheel for python-slugify: filename=python_slugify-4.0.0-py2.py3-none-any.whl size=5487 sha256=989ad0855cf764f997b01b4dda2c4ef6c184788dc1d6fdd3a49de2eac7dbaeb0\n",
      "  Stored in directory: /Users/mathispotel/Library/Caches/pip/wheels/7c/26/30/5f3d95da00fe94d0c4a5ec5b4ffd2e1ae18545f5fa61752e52\n",
      "Successfully built kaggle python-slugify\n",
      "\u001b[31mERROR: mxnet 1.5.1.post0 has requirement graphviz<0.9.0,>=0.8.1, but you'll have graphviz 0.13.2 which is incompatible.\u001b[0m\n",
      "Installing collected packages: urllib3, text-unidecode, python-slugify, kaggle\n",
      "  Attempting uninstall: urllib3\n",
      "    Found existing installation: urllib3 1.25.8\n",
      "    Uninstalling urllib3-1.25.8:\n",
      "      Successfully uninstalled urllib3-1.25.8\n",
      "Successfully installed kaggle-1.5.6 python-slugify-4.0.0 text-unidecode-1.3 urllib3-1.24.3\n"
     ]
    }
   ],
   "source": [
    "!pip install kaggle"
   ]
  },
  {
   "cell_type": "code",
   "execution_count": 236,
   "metadata": {},
   "outputs": [],
   "source": [
    "!mv kaggle.json ~/.kaggle/kaggle.json"
   ]
  },
  {
   "cell_type": "code",
   "execution_count": 239,
   "metadata": {},
   "outputs": [
    {
     "name": "stdout",
     "output_type": "stream",
     "text": [
      "Warning: Your Kaggle API key is readable by other users on this system! To fix this, you can run 'chmod 600 /Users/mathispotel/.kaggle/kaggle.json'\n",
      "100%|████████████████████████████████████████| 378k/378k [00:07<00:00, 54.5kB/s]\n",
      "Successfully submitted to Google Cloud & NCAA® ML Competition 2020-NCAAM"
     ]
    }
   ],
   "source": [
    "!kaggle competitions submit -c google-cloud-ncaa-march-madness-2020-division-1-mens-tournament -f submission_file.csv -m \"First submission Hackaton\""
   ]
  },
  {
   "cell_type": "code",
   "execution_count": null,
   "metadata": {},
   "outputs": [],
   "source": []
  }
 ],
 "metadata": {
  "kernelspec": {
   "display_name": "Python 3",
   "language": "python",
   "name": "python3"
  },
  "language_info": {
   "codemirror_mode": {
    "name": "ipython",
    "version": 3
   },
   "file_extension": ".py",
   "mimetype": "text/x-python",
   "name": "python",
   "nbconvert_exporter": "python",
   "pygments_lexer": "ipython3",
   "version": "3.7.4"
  }
 },
 "nbformat": 4,
 "nbformat_minor": 4
}
