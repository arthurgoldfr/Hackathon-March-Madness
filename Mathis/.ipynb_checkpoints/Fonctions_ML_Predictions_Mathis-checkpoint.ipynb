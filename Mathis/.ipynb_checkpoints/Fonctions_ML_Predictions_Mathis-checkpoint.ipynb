{
 "cells": [
  {
   "cell_type": "markdown",
   "metadata": {},
   "source": [
    "# Predictions "
   ]
  },
  {
   "cell_type": "markdown",
   "metadata": {},
   "source": [
    "So now let us prepare five learning models as our first level predictions. These models can all be conveniently invoked via the Sklearn library and XGBoost library and are listed as follows:\n",
    "\n",
    "- Decision Tree Regressor\n",
    "- AdaBoost Regressor\n",
    "- Logistic Regression\n",
    "- Random Forest\n",
    "- XGBoost library\n",
    " \n",
    "Others models can be found there : https://scikit-learn.org/stable/supervised_learning.html#supervised-learning"
   ]
  },
  {
   "cell_type": "code",
   "execution_count": 1,
   "metadata": {},
   "outputs": [],
   "source": [
    "import pandas as pd\n",
    "import numpy as np\n",
    "import matplotlib.pyplot as plt\n",
    "from sklearn.model_selection import GridSearchCV\n",
    "from sklearn.model_selection import KFold\n",
    "from sklearn.utils import shuffle\n",
    "from sklearn.model_selection import train_test_split\n",
    "from sklearn.metrics import plot_confusion_matrix\n",
    "import gc"
   ]
  },
  {
   "cell_type": "markdown",
   "metadata": {},
   "source": [
    "## Dataset (À modifier c'est juste pour tester la)"
   ]
  },
  {
   "cell_type": "code",
   "execution_count": 2,
   "metadata": {},
   "outputs": [],
   "source": [
    "tourney_result = pd.read_csv('Data/MDataFiles_Stage1/MNCAATourneyCompactResults.csv')\n",
    "tourney_seed = pd.read_csv('Data/MDataFiles_Stage1/MNCAATourneySeeds.csv')"
   ]
  },
  {
   "cell_type": "code",
   "execution_count": 3,
   "metadata": {},
   "outputs": [],
   "source": [
    "# deleting unnecessary columns\n",
    "tourney_result = tourney_result.drop(['DayNum', 'WScore', 'LScore', 'WLoc', 'NumOT'], axis=1)"
   ]
  },
  {
   "cell_type": "code",
   "execution_count": 4,
   "metadata": {},
   "outputs": [],
   "source": [
    "tourney_result = pd.merge(tourney_result, tourney_seed, left_on=['Season', 'WTeamID'], right_on=['Season', 'TeamID'], how='left')\n",
    "tourney_result.rename(columns={'Seed':'WSeed'}, inplace=True)\n",
    "tourney_result = tourney_result.drop('TeamID', axis=1)\n",
    "tourney_result = pd.merge(tourney_result, tourney_seed, left_on=['Season', 'LTeamID'], right_on=['Season', 'TeamID'], how='left')\n",
    "tourney_result.rename(columns={'Seed':'LSeed'}, inplace=True)\n",
    "tourney_result = tourney_result.drop('TeamID', axis=1)"
   ]
  },
  {
   "cell_type": "code",
   "execution_count": 5,
   "metadata": {},
   "outputs": [],
   "source": [
    "def get_seed(x):\n",
    "    return int(x[1:3])\n",
    "\n",
    "tourney_result['WSeed'] = tourney_result['WSeed'].map(lambda x: get_seed(x))\n",
    "tourney_result['LSeed'] = tourney_result['LSeed'].map(lambda x: get_seed(x))\n"
   ]
  },
  {
   "cell_type": "code",
   "execution_count": 6,
   "metadata": {},
   "outputs": [],
   "source": [
    "season_result = pd.read_csv('Data/MDataFiles_Stage1/MRegularSeasonCompactResults.csv')"
   ]
  },
  {
   "cell_type": "code",
   "execution_count": 7,
   "metadata": {},
   "outputs": [
    {
     "name": "stderr",
     "output_type": "stream",
     "text": [
      "/Users/mathispotel/anaconda3/lib/python3.7/site-packages/pandas/core/frame.py:4130: SettingWithCopyWarning: \n",
      "A value is trying to be set on a copy of a slice from a DataFrame\n",
      "\n",
      "See the caveats in the documentation: https://pandas.pydata.org/pandas-docs/stable/user_guide/indexing.html#returning-a-view-versus-a-copy\n",
      "  errors=errors,\n"
     ]
    }
   ],
   "source": [
    "season_win_result = season_result[['Season', 'WTeamID', 'WScore']]\n",
    "season_lose_result = season_result[['Season', 'LTeamID', 'LScore']]\n",
    "season_win_result.rename(columns={'WTeamID':'TeamID', 'WScore':'Score'}, inplace=True)\n",
    "season_lose_result.rename(columns={'LTeamID':'TeamID', 'LScore':'Score'}, inplace=True)\n",
    "season_result = pd.concat((season_win_result, season_lose_result)).reset_index(drop=True)"
   ]
  },
  {
   "cell_type": "code",
   "execution_count": 8,
   "metadata": {},
   "outputs": [],
   "source": [
    "season_score = season_result.groupby(['Season', 'TeamID'])['Score'].sum().reset_index()"
   ]
  },
  {
   "cell_type": "code",
   "execution_count": 9,
   "metadata": {},
   "outputs": [],
   "source": [
    "tourney_result = pd.merge(tourney_result, season_score, left_on=['Season', 'WTeamID'], right_on=['Season', 'TeamID'], how='left')\n",
    "tourney_result.rename(columns={'Score':'WScoreT'}, inplace=True)\n",
    "tourney_result = tourney_result.drop('TeamID', axis=1)\n",
    "tourney_result = pd.merge(tourney_result, season_score, left_on=['Season', 'LTeamID'], right_on=['Season', 'TeamID'], how='left')\n",
    "tourney_result.rename(columns={'Score':'LScoreT'}, inplace=True)\n",
    "tourney_result = tourney_result.drop('TeamID', axis=1)"
   ]
  },
  {
   "cell_type": "code",
   "execution_count": 10,
   "metadata": {},
   "outputs": [],
   "source": [
    "tourney_win_result = tourney_result.drop(['Season', 'WTeamID', 'LTeamID'], axis=1)\n",
    "tourney_win_result.rename(columns={'WSeed':'Seed1', 'LSeed':'Seed2', 'WScoreT':'ScoreT1', 'LScoreT':'ScoreT2'}, inplace=True)"
   ]
  },
  {
   "cell_type": "code",
   "execution_count": 11,
   "metadata": {},
   "outputs": [],
   "source": [
    "tourney_lose_result = tourney_win_result.copy()\n",
    "tourney_lose_result['Seed1'] = tourney_win_result['Seed2']\n",
    "tourney_lose_result['Seed2'] = tourney_win_result['Seed1']\n",
    "tourney_lose_result['ScoreT1'] = tourney_win_result['ScoreT2']\n",
    "tourney_lose_result['ScoreT2'] = tourney_win_result['ScoreT1']"
   ]
  },
  {
   "cell_type": "code",
   "execution_count": 12,
   "metadata": {},
   "outputs": [],
   "source": [
    "tourney_win_result['Seed_diff'] = tourney_win_result['Seed1'] - tourney_win_result['Seed2']\n",
    "tourney_win_result['ScoreT_diff'] = tourney_win_result['ScoreT1'] - tourney_win_result['ScoreT2']\n",
    "tourney_lose_result['Seed_diff'] = tourney_lose_result['Seed1'] - tourney_lose_result['Seed2']\n",
    "tourney_lose_result['ScoreT_diff'] = tourney_lose_result['ScoreT1'] - tourney_lose_result['ScoreT2']"
   ]
  },
  {
   "cell_type": "code",
   "execution_count": 13,
   "metadata": {},
   "outputs": [],
   "source": [
    "tourney_win_result['result'] = 1\n",
    "tourney_lose_result['result'] = 0\n",
    "tourney_result = pd.concat((tourney_win_result, tourney_lose_result)).reset_index(drop=True)"
   ]
  },
  {
   "cell_type": "code",
   "execution_count": 14,
   "metadata": {},
   "outputs": [],
   "source": [
    "X_train = tourney_result.drop('result', axis=1)\n",
    "y_train = tourney_result.result"
   ]
  },
  {
   "cell_type": "code",
   "execution_count": 153,
   "metadata": {},
   "outputs": [
    {
     "data": {
      "text/html": [
       "<div>\n",
       "<style scoped>\n",
       "    .dataframe tbody tr th:only-of-type {\n",
       "        vertical-align: middle;\n",
       "    }\n",
       "\n",
       "    .dataframe tbody tr th {\n",
       "        vertical-align: top;\n",
       "    }\n",
       "\n",
       "    .dataframe thead th {\n",
       "        text-align: right;\n",
       "    }\n",
       "</style>\n",
       "<table border=\"1\" class=\"dataframe\">\n",
       "  <thead>\n",
       "    <tr style=\"text-align: right;\">\n",
       "      <th></th>\n",
       "      <th>Seed1</th>\n",
       "      <th>Seed2</th>\n",
       "      <th>ScoreT1</th>\n",
       "      <th>ScoreT2</th>\n",
       "      <th>Seed_diff</th>\n",
       "      <th>ScoreT_diff</th>\n",
       "    </tr>\n",
       "  </thead>\n",
       "  <tbody>\n",
       "    <tr>\n",
       "      <th>3485</th>\n",
       "      <td>7</td>\n",
       "      <td>2</td>\n",
       "      <td>2126</td>\n",
       "      <td>2610</td>\n",
       "      <td>5</td>\n",
       "      <td>-484</td>\n",
       "    </tr>\n",
       "    <tr>\n",
       "      <th>4297</th>\n",
       "      <td>1</td>\n",
       "      <td>10</td>\n",
       "      <td>2322</td>\n",
       "      <td>2247</td>\n",
       "      <td>-9</td>\n",
       "      <td>75</td>\n",
       "    </tr>\n",
       "    <tr>\n",
       "      <th>1018</th>\n",
       "      <td>3</td>\n",
       "      <td>14</td>\n",
       "      <td>2658</td>\n",
       "      <td>2047</td>\n",
       "      <td>-11</td>\n",
       "      <td>611</td>\n",
       "    </tr>\n",
       "    <tr>\n",
       "      <th>646</th>\n",
       "      <td>2</td>\n",
       "      <td>15</td>\n",
       "      <td>2802</td>\n",
       "      <td>2136</td>\n",
       "      <td>-13</td>\n",
       "      <td>666</td>\n",
       "    </tr>\n",
       "    <tr>\n",
       "      <th>2000</th>\n",
       "      <td>1</td>\n",
       "      <td>16</td>\n",
       "      <td>2322</td>\n",
       "      <td>2249</td>\n",
       "      <td>-15</td>\n",
       "      <td>73</td>\n",
       "    </tr>\n",
       "    <tr>\n",
       "      <th>...</th>\n",
       "      <td>...</td>\n",
       "      <td>...</td>\n",
       "      <td>...</td>\n",
       "      <td>...</td>\n",
       "      <td>...</td>\n",
       "      <td>...</td>\n",
       "    </tr>\n",
       "    <tr>\n",
       "      <th>3959</th>\n",
       "      <td>2</td>\n",
       "      <td>8</td>\n",
       "      <td>2361</td>\n",
       "      <td>2247</td>\n",
       "      <td>-6</td>\n",
       "      <td>114</td>\n",
       "    </tr>\n",
       "    <tr>\n",
       "      <th>3009</th>\n",
       "      <td>12</td>\n",
       "      <td>5</td>\n",
       "      <td>1671</td>\n",
       "      <td>2215</td>\n",
       "      <td>7</td>\n",
       "      <td>-544</td>\n",
       "    </tr>\n",
       "    <tr>\n",
       "      <th>2784</th>\n",
       "      <td>11</td>\n",
       "      <td>6</td>\n",
       "      <td>2128</td>\n",
       "      <td>2096</td>\n",
       "      <td>5</td>\n",
       "      <td>32</td>\n",
       "    </tr>\n",
       "    <tr>\n",
       "      <th>1529</th>\n",
       "      <td>2</td>\n",
       "      <td>15</td>\n",
       "      <td>2534</td>\n",
       "      <td>2209</td>\n",
       "      <td>-13</td>\n",
       "      <td>325</td>\n",
       "    </tr>\n",
       "    <tr>\n",
       "      <th>4065</th>\n",
       "      <td>9</td>\n",
       "      <td>8</td>\n",
       "      <td>2158</td>\n",
       "      <td>2514</td>\n",
       "      <td>1</td>\n",
       "      <td>-356</td>\n",
       "    </tr>\n",
       "  </tbody>\n",
       "</table>\n",
       "<p>3601 rows × 6 columns</p>\n",
       "</div>"
      ],
      "text/plain": [
       "      Seed1  Seed2  ScoreT1  ScoreT2  Seed_diff  ScoreT_diff\n",
       "3485      7      2     2126     2610          5         -484\n",
       "4297      1     10     2322     2247         -9           75\n",
       "1018      3     14     2658     2047        -11          611\n",
       "646       2     15     2802     2136        -13          666\n",
       "2000      1     16     2322     2249        -15           73\n",
       "...     ...    ...      ...      ...        ...          ...\n",
       "3959      2      8     2361     2247         -6          114\n",
       "3009     12      5     1671     2215          7         -544\n",
       "2784     11      6     2128     2096          5           32\n",
       "1529      2     15     2534     2209        -13          325\n",
       "4065      9      8     2158     2514          1         -356\n",
       "\n",
       "[3601 rows x 6 columns]"
      ]
     },
     "execution_count": 153,
     "metadata": {},
     "output_type": "execute_result"
    }
   ],
   "source": [
    "X_train"
   ]
  },
  {
   "cell_type": "markdown",
   "metadata": {},
   "source": [
    "## Prepare Test Data"
   ]
  },
  {
   "cell_type": "code",
   "execution_count": 15,
   "metadata": {},
   "outputs": [],
   "source": [
    "test_df = pd.read_csv('Data/MSampleSubmissionStage1_2020.csv')"
   ]
  },
  {
   "cell_type": "code",
   "execution_count": 16,
   "metadata": {},
   "outputs": [],
   "source": [
    "test_df['Season'] = test_df['ID'].map(lambda x: int(x[:4]))\n",
    "test_df['WTeamID'] = test_df['ID'].map(lambda x: int(x[5:9]))\n",
    "test_df['LTeamID'] = test_df['ID'].map(lambda x: int(x[10:14]))"
   ]
  },
  {
   "cell_type": "code",
   "execution_count": 17,
   "metadata": {},
   "outputs": [
    {
     "data": {
      "text/html": [
       "<div>\n",
       "<style scoped>\n",
       "    .dataframe tbody tr th:only-of-type {\n",
       "        vertical-align: middle;\n",
       "    }\n",
       "\n",
       "    .dataframe tbody tr th {\n",
       "        vertical-align: top;\n",
       "    }\n",
       "\n",
       "    .dataframe thead th {\n",
       "        text-align: right;\n",
       "    }\n",
       "</style>\n",
       "<table border=\"1\" class=\"dataframe\">\n",
       "  <thead>\n",
       "    <tr style=\"text-align: right;\">\n",
       "      <th></th>\n",
       "      <th>ID</th>\n",
       "      <th>Pred</th>\n",
       "      <th>Season</th>\n",
       "      <th>WTeamID</th>\n",
       "      <th>LTeamID</th>\n",
       "      <th>Seed1</th>\n",
       "      <th>Seed2</th>\n",
       "      <th>ScoreT1</th>\n",
       "      <th>ScoreT2</th>\n",
       "    </tr>\n",
       "  </thead>\n",
       "  <tbody>\n",
       "    <tr>\n",
       "      <th>0</th>\n",
       "      <td>2015_1107_1112</td>\n",
       "      <td>0.5</td>\n",
       "      <td>2015</td>\n",
       "      <td>1107</td>\n",
       "      <td>1112</td>\n",
       "      <td>W14</td>\n",
       "      <td>Z02</td>\n",
       "      <td>2096</td>\n",
       "      <td>2599</td>\n",
       "    </tr>\n",
       "    <tr>\n",
       "      <th>1</th>\n",
       "      <td>2015_1107_1116</td>\n",
       "      <td>0.5</td>\n",
       "      <td>2015</td>\n",
       "      <td>1107</td>\n",
       "      <td>1116</td>\n",
       "      <td>W14</td>\n",
       "      <td>Z05</td>\n",
       "      <td>2096</td>\n",
       "      <td>2653</td>\n",
       "    </tr>\n",
       "    <tr>\n",
       "      <th>2</th>\n",
       "      <td>2015_1107_1124</td>\n",
       "      <td>0.5</td>\n",
       "      <td>2015</td>\n",
       "      <td>1107</td>\n",
       "      <td>1124</td>\n",
       "      <td>W14</td>\n",
       "      <td>Z03</td>\n",
       "      <td>2096</td>\n",
       "      <td>2212</td>\n",
       "    </tr>\n",
       "    <tr>\n",
       "      <th>3</th>\n",
       "      <td>2015_1107_1125</td>\n",
       "      <td>0.5</td>\n",
       "      <td>2015</td>\n",
       "      <td>1107</td>\n",
       "      <td>1125</td>\n",
       "      <td>W14</td>\n",
       "      <td>W15</td>\n",
       "      <td>2096</td>\n",
       "      <td>2287</td>\n",
       "    </tr>\n",
       "    <tr>\n",
       "      <th>4</th>\n",
       "      <td>2015_1107_1129</td>\n",
       "      <td>0.5</td>\n",
       "      <td>2015</td>\n",
       "      <td>1107</td>\n",
       "      <td>1129</td>\n",
       "      <td>W14</td>\n",
       "      <td>W11a</td>\n",
       "      <td>2096</td>\n",
       "      <td>2166</td>\n",
       "    </tr>\n",
       "    <tr>\n",
       "      <th>...</th>\n",
       "      <td>...</td>\n",
       "      <td>...</td>\n",
       "      <td>...</td>\n",
       "      <td>...</td>\n",
       "      <td>...</td>\n",
       "      <td>...</td>\n",
       "      <td>...</td>\n",
       "      <td>...</td>\n",
       "      <td>...</td>\n",
       "    </tr>\n",
       "    <tr>\n",
       "      <th>11385</th>\n",
       "      <td>2019_1449_1459</td>\n",
       "      <td>0.5</td>\n",
       "      <td>2019</td>\n",
       "      <td>1449</td>\n",
       "      <td>1459</td>\n",
       "      <td>Y09</td>\n",
       "      <td>Y07</td>\n",
       "      <td>2374</td>\n",
       "      <td>2436</td>\n",
       "    </tr>\n",
       "    <tr>\n",
       "      <th>11386</th>\n",
       "      <td>2019_1449_1463</td>\n",
       "      <td>0.5</td>\n",
       "      <td>2019</td>\n",
       "      <td>1449</td>\n",
       "      <td>1463</td>\n",
       "      <td>Y09</td>\n",
       "      <td>W14</td>\n",
       "      <td>2374</td>\n",
       "      <td>2265</td>\n",
       "    </tr>\n",
       "    <tr>\n",
       "      <th>11387</th>\n",
       "      <td>2019_1458_1459</td>\n",
       "      <td>0.5</td>\n",
       "      <td>2019</td>\n",
       "      <td>1458</td>\n",
       "      <td>1459</td>\n",
       "      <td>Z05</td>\n",
       "      <td>Y07</td>\n",
       "      <td>2279</td>\n",
       "      <td>2436</td>\n",
       "    </tr>\n",
       "    <tr>\n",
       "      <th>11388</th>\n",
       "      <td>2019_1458_1463</td>\n",
       "      <td>0.5</td>\n",
       "      <td>2019</td>\n",
       "      <td>1458</td>\n",
       "      <td>1463</td>\n",
       "      <td>Z05</td>\n",
       "      <td>W14</td>\n",
       "      <td>2279</td>\n",
       "      <td>2265</td>\n",
       "    </tr>\n",
       "    <tr>\n",
       "      <th>11389</th>\n",
       "      <td>2019_1459_1463</td>\n",
       "      <td>0.5</td>\n",
       "      <td>2019</td>\n",
       "      <td>1459</td>\n",
       "      <td>1463</td>\n",
       "      <td>Y07</td>\n",
       "      <td>W14</td>\n",
       "      <td>2436</td>\n",
       "      <td>2265</td>\n",
       "    </tr>\n",
       "  </tbody>\n",
       "</table>\n",
       "<p>11390 rows × 9 columns</p>\n",
       "</div>"
      ],
      "text/plain": [
       "                   ID  Pred  Season  WTeamID  LTeamID Seed1 Seed2  ScoreT1  \\\n",
       "0      2015_1107_1112   0.5    2015     1107     1112   W14   Z02     2096   \n",
       "1      2015_1107_1116   0.5    2015     1107     1116   W14   Z05     2096   \n",
       "2      2015_1107_1124   0.5    2015     1107     1124   W14   Z03     2096   \n",
       "3      2015_1107_1125   0.5    2015     1107     1125   W14   W15     2096   \n",
       "4      2015_1107_1129   0.5    2015     1107     1129   W14  W11a     2096   \n",
       "...               ...   ...     ...      ...      ...   ...   ...      ...   \n",
       "11385  2019_1449_1459   0.5    2019     1449     1459   Y09   Y07     2374   \n",
       "11386  2019_1449_1463   0.5    2019     1449     1463   Y09   W14     2374   \n",
       "11387  2019_1458_1459   0.5    2019     1458     1459   Z05   Y07     2279   \n",
       "11388  2019_1458_1463   0.5    2019     1458     1463   Z05   W14     2279   \n",
       "11389  2019_1459_1463   0.5    2019     1459     1463   Y07   W14     2436   \n",
       "\n",
       "       ScoreT2  \n",
       "0         2599  \n",
       "1         2653  \n",
       "2         2212  \n",
       "3         2287  \n",
       "4         2166  \n",
       "...        ...  \n",
       "11385     2436  \n",
       "11386     2265  \n",
       "11387     2436  \n",
       "11388     2265  \n",
       "11389     2265  \n",
       "\n",
       "[11390 rows x 9 columns]"
      ]
     },
     "execution_count": 17,
     "metadata": {},
     "output_type": "execute_result"
    }
   ],
   "source": [
    "test_df = pd.merge(test_df, tourney_seed, left_on=['Season', 'WTeamID'], right_on=['Season', 'TeamID'], how='left')\n",
    "test_df.rename(columns={'Seed':'Seed1'}, inplace=True)\n",
    "test_df = test_df.drop('TeamID', axis=1)\n",
    "test_df = pd.merge(test_df, tourney_seed, left_on=['Season', 'LTeamID'], right_on=['Season', 'TeamID'], how='left')\n",
    "test_df.rename(columns={'Seed':'Seed2'}, inplace=True)\n",
    "test_df = test_df.drop('TeamID', axis=1)\n",
    "test_df = pd.merge(test_df, season_score, left_on=['Season', 'WTeamID'], right_on=['Season', 'TeamID'], how='left')\n",
    "test_df.rename(columns={'Score':'ScoreT1'}, inplace=True)\n",
    "test_df = test_df.drop('TeamID', axis=1)\n",
    "test_df = pd.merge(test_df, season_score, left_on=['Season', 'LTeamID'], right_on=['Season', 'TeamID'], how='left')\n",
    "test_df.rename(columns={'Score':'ScoreT2'}, inplace=True)\n",
    "test_df = test_df.drop('TeamID', axis=1)\n",
    "test_df"
   ]
  },
  {
   "cell_type": "code",
   "execution_count": 18,
   "metadata": {
    "scrolled": false
   },
   "outputs": [
    {
     "data": {
      "text/html": [
       "<div>\n",
       "<style scoped>\n",
       "    .dataframe tbody tr th:only-of-type {\n",
       "        vertical-align: middle;\n",
       "    }\n",
       "\n",
       "    .dataframe tbody tr th {\n",
       "        vertical-align: top;\n",
       "    }\n",
       "\n",
       "    .dataframe thead th {\n",
       "        text-align: right;\n",
       "    }\n",
       "</style>\n",
       "<table border=\"1\" class=\"dataframe\">\n",
       "  <thead>\n",
       "    <tr style=\"text-align: right;\">\n",
       "      <th></th>\n",
       "      <th>Seed1</th>\n",
       "      <th>Seed2</th>\n",
       "      <th>ScoreT1</th>\n",
       "      <th>ScoreT2</th>\n",
       "      <th>Seed_diff</th>\n",
       "      <th>ScoreT_diff</th>\n",
       "    </tr>\n",
       "  </thead>\n",
       "  <tbody>\n",
       "    <tr>\n",
       "      <th>0</th>\n",
       "      <td>14</td>\n",
       "      <td>2</td>\n",
       "      <td>2096</td>\n",
       "      <td>2599</td>\n",
       "      <td>12</td>\n",
       "      <td>-503</td>\n",
       "    </tr>\n",
       "    <tr>\n",
       "      <th>1</th>\n",
       "      <td>14</td>\n",
       "      <td>5</td>\n",
       "      <td>2096</td>\n",
       "      <td>2653</td>\n",
       "      <td>9</td>\n",
       "      <td>-557</td>\n",
       "    </tr>\n",
       "    <tr>\n",
       "      <th>2</th>\n",
       "      <td>14</td>\n",
       "      <td>3</td>\n",
       "      <td>2096</td>\n",
       "      <td>2212</td>\n",
       "      <td>11</td>\n",
       "      <td>-116</td>\n",
       "    </tr>\n",
       "    <tr>\n",
       "      <th>3</th>\n",
       "      <td>14</td>\n",
       "      <td>15</td>\n",
       "      <td>2096</td>\n",
       "      <td>2287</td>\n",
       "      <td>-1</td>\n",
       "      <td>-191</td>\n",
       "    </tr>\n",
       "    <tr>\n",
       "      <th>4</th>\n",
       "      <td>14</td>\n",
       "      <td>11</td>\n",
       "      <td>2096</td>\n",
       "      <td>2166</td>\n",
       "      <td>3</td>\n",
       "      <td>-70</td>\n",
       "    </tr>\n",
       "    <tr>\n",
       "      <th>...</th>\n",
       "      <td>...</td>\n",
       "      <td>...</td>\n",
       "      <td>...</td>\n",
       "      <td>...</td>\n",
       "      <td>...</td>\n",
       "      <td>...</td>\n",
       "    </tr>\n",
       "    <tr>\n",
       "      <th>11385</th>\n",
       "      <td>9</td>\n",
       "      <td>7</td>\n",
       "      <td>2374</td>\n",
       "      <td>2436</td>\n",
       "      <td>2</td>\n",
       "      <td>-62</td>\n",
       "    </tr>\n",
       "    <tr>\n",
       "      <th>11386</th>\n",
       "      <td>9</td>\n",
       "      <td>14</td>\n",
       "      <td>2374</td>\n",
       "      <td>2265</td>\n",
       "      <td>-5</td>\n",
       "      <td>109</td>\n",
       "    </tr>\n",
       "    <tr>\n",
       "      <th>11387</th>\n",
       "      <td>5</td>\n",
       "      <td>7</td>\n",
       "      <td>2279</td>\n",
       "      <td>2436</td>\n",
       "      <td>-2</td>\n",
       "      <td>-157</td>\n",
       "    </tr>\n",
       "    <tr>\n",
       "      <th>11388</th>\n",
       "      <td>5</td>\n",
       "      <td>14</td>\n",
       "      <td>2279</td>\n",
       "      <td>2265</td>\n",
       "      <td>-9</td>\n",
       "      <td>14</td>\n",
       "    </tr>\n",
       "    <tr>\n",
       "      <th>11389</th>\n",
       "      <td>7</td>\n",
       "      <td>14</td>\n",
       "      <td>2436</td>\n",
       "      <td>2265</td>\n",
       "      <td>-7</td>\n",
       "      <td>171</td>\n",
       "    </tr>\n",
       "  </tbody>\n",
       "</table>\n",
       "<p>11390 rows × 6 columns</p>\n",
       "</div>"
      ],
      "text/plain": [
       "       Seed1  Seed2  ScoreT1  ScoreT2  Seed_diff  ScoreT_diff\n",
       "0         14      2     2096     2599         12         -503\n",
       "1         14      5     2096     2653          9         -557\n",
       "2         14      3     2096     2212         11         -116\n",
       "3         14     15     2096     2287         -1         -191\n",
       "4         14     11     2096     2166          3          -70\n",
       "...      ...    ...      ...      ...        ...          ...\n",
       "11385      9      7     2374     2436          2          -62\n",
       "11386      9     14     2374     2265         -5          109\n",
       "11387      5      7     2279     2436         -2         -157\n",
       "11388      5     14     2279     2265         -9           14\n",
       "11389      7     14     2436     2265         -7          171\n",
       "\n",
       "[11390 rows x 6 columns]"
      ]
     },
     "execution_count": 18,
     "metadata": {},
     "output_type": "execute_result"
    }
   ],
   "source": [
    "test_df['Seed1'] = test_df['Seed1'].map(lambda x: get_seed(x))\n",
    "test_df['Seed2'] = test_df['Seed2'].map(lambda x: get_seed(x))\n",
    "test_df['Seed_diff'] = test_df['Seed1'] - test_df['Seed2']\n",
    "test_df['ScoreT_diff'] = test_df['ScoreT1'] - test_df['ScoreT2']\n",
    "test_df = test_df.drop(['ID', 'Pred', 'Season', 'WTeamID', 'LTeamID'], axis=1)\n",
    "test_df"
   ]
  },
  {
   "cell_type": "code",
   "execution_count": 19,
   "metadata": {},
   "outputs": [],
   "source": [
    "X_train, X_test, y_train, y_test = train_test_split(X_train,y_train, test_size=0.20)"
   ]
  },
  {
   "cell_type": "markdown",
   "metadata": {},
   "source": [
    "## Decision Tree Regressor"
   ]
  },
  {
   "cell_type": "code",
   "execution_count": 20,
   "metadata": {},
   "outputs": [],
   "source": [
    "from sklearn.tree import DecisionTreeClassifier"
   ]
  },
  {
   "cell_type": "code",
   "execution_count": 21,
   "metadata": {},
   "outputs": [],
   "source": [
    "# Decision Trees Parameters\n",
    "dtp_params = {'max_features': ('sqrt','log2'),\n",
    "    'max_depth': [4,5,6,7,8,9],\n",
    "    'min_samples_leaf': [2,3,4,5]}\n",
    "NFOLDS = 10\n",
    "folds = KFold(n_splits=NFOLDS)\n",
    "splits = folds.split(X_train, y_train)\n"
   ]
  },
  {
   "cell_type": "code",
   "execution_count": 22,
   "metadata": {},
   "outputs": [],
   "source": [
    "decitree = DecisionTreeClassifier()"
   ]
  },
  {
   "cell_type": "code",
   "execution_count": 23,
   "metadata": {},
   "outputs": [],
   "source": [
    "dtr = GridSearchCV(decitree, dtp_params, scoring='neg_log_loss', refit=True, cv = splits)"
   ]
  },
  {
   "cell_type": "code",
   "execution_count": 24,
   "metadata": {},
   "outputs": [
    {
     "data": {
      "text/plain": [
       "GridSearchCV(cv=<generator object _BaseKFold.split at 0x1216e6cd0>,\n",
       "             error_score=nan,\n",
       "             estimator=DecisionTreeClassifier(ccp_alpha=0.0, class_weight=None,\n",
       "                                              criterion='gini', max_depth=None,\n",
       "                                              max_features=None,\n",
       "                                              max_leaf_nodes=None,\n",
       "                                              min_impurity_decrease=0.0,\n",
       "                                              min_impurity_split=None,\n",
       "                                              min_samples_leaf=1,\n",
       "                                              min_samples_split=2,\n",
       "                                              min_weight_fraction_leaf=0.0,\n",
       "                                              presort='deprecated',\n",
       "                                              random_state=None,\n",
       "                                              splitter='best'),\n",
       "             iid='deprecated', n_jobs=None,\n",
       "             param_grid={'max_depth': [4, 5, 6, 7, 8, 9],\n",
       "                         'max_features': ('sqrt', 'log2'),\n",
       "                         'min_samples_leaf': [2, 3, 4, 5]},\n",
       "             pre_dispatch='2*n_jobs', refit=True, return_train_score=False,\n",
       "             scoring='neg_log_loss', verbose=0)"
      ]
     },
     "execution_count": 24,
     "metadata": {},
     "output_type": "execute_result"
    }
   ],
   "source": [
    "dtr.fit(X_train,y_train)"
   ]
  },
  {
   "cell_type": "code",
   "execution_count": 25,
   "metadata": {},
   "outputs": [
    {
     "data": {
      "text/plain": [
       "-0.5573195142426002"
      ]
     },
     "execution_count": 25,
     "metadata": {},
     "output_type": "execute_result"
    }
   ],
   "source": [
    "dtr.score(X_test,y_test)"
   ]
  },
  {
   "cell_type": "code",
   "execution_count": 26,
   "metadata": {},
   "outputs": [
    {
     "name": "stdout",
     "output_type": "stream",
     "text": [
      "Confusion matrix, without normalization\n",
      "[[299 159]\n",
      " [114 329]]\n",
      "Normalized confusion matrix\n",
      "[[0.65283843 0.34716157]\n",
      " [0.25733634 0.74266366]]\n"
     ]
    },
    {
     "data": {
      "image/png": "[encoded data removed]",
      "text/plain": [
       "<Figure size 432x288 with 2 Axes>"
      ]
     },
     "metadata": {
      "needs_background": "light"
     },
     "output_type": "display_data"
    },
    {
     "data": {
      "image/png": "[encoded data removed]",
      "text/plain": [
       "<Figure size 432x288 with 2 Axes>"
      ]
     },
     "metadata": {
      "needs_background": "light"
     },
     "output_type": "display_data"
    }
   ],
   "source": [
    "#np.set_printoptions(precision=2)\n",
    "# Plot non-normalized confusion matrix\n",
    "titles_options = [(\"Confusion matrix, without normalization\", None),\n",
    "                  (\"Normalized confusion matrix\", 'true')]\n",
    "for title, normalize in titles_options:\n",
    "    disp = plot_confusion_matrix(dtr, X_test, y_test,\n",
    "                                 cmap=plt.cm.Blues,\n",
    "                                 normalize=normalize)\n",
    "    disp.ax_.set_title(title)\n",
    "\n",
    "    print(title)\n",
    "    print(disp.confusion_matrix)\n",
    "\n",
    "plt.show()"
   ]
  },
  {
   "cell_type": "code",
   "execution_count": 27,
   "metadata": {},
   "outputs": [],
   "source": [
    "dtr_yhat_prob = dtr.predict_proba(X_test)[:,1]\n",
    "dtr_yhat = dtr.predict(X_test)"
   ]
  },
  {
   "cell_type": "code",
   "execution_count": 138,
   "metadata": {},
   "outputs": [],
   "source": [
    "dtr_ytest = dtr.predict(test_df)"
   ]
  },
  {
   "cell_type": "markdown",
   "metadata": {},
   "source": [
    "## Logistic Regression"
   ]
  },
  {
   "cell_type": "code",
   "execution_count": 28,
   "metadata": {},
   "outputs": [],
   "source": [
    "from sklearn.linear_model import LogisticRegression"
   ]
  },
  {
   "cell_type": "code",
   "execution_count": 29,
   "metadata": {},
   "outputs": [],
   "source": [
    "lr_params = {'C': np.logspace(start=-5, stop=3, num=100)}\n",
    "NFOLDS = 10\n",
    "folds = KFold(n_splits=NFOLDS)\n",
    "splits = folds.split(X_train, y_train)"
   ]
  },
  {
   "cell_type": "code",
   "execution_count": 30,
   "metadata": {},
   "outputs": [],
   "source": [
    "logreg = LogisticRegression()"
   ]
  },
  {
   "cell_type": "code",
   "execution_count": 31,
   "metadata": {},
   "outputs": [],
   "source": [
    "lr = GridSearchCV(logreg, lr_params, scoring='neg_log_loss', refit=True, cv = splits)"
   ]
  },
  {
   "cell_type": "code",
   "execution_count": 32,
   "metadata": {},
   "outputs": [
    {
     "data": {
      "text/plain": [
       "GridSearchCV(cv=<generator object _BaseKFold.split at 0x12220e650>,\n",
       "             error_score=nan,\n",
       "             estimator=LogisticRegression(C=1.0, class_weight=None, dual=False,\n",
       "                                          fit_intercept=True,\n",
       "                                          intercept_scaling=1, l1_ratio=None,\n",
       "                                          max_iter=100, multi_class='auto',\n",
       "                                          n_jobs=None, penalty='l2',\n",
       "                                          random_state=None, solver='lbfgs',\n",
       "                                          tol=0.0001, verbose=0,\n",
       "                                          warm_start=False),\n",
       "             iid='deprecated', n_jobs=N...\n",
       "       2.91505306e+01, 3.51119173e+01, 4.22924287e+01, 5.09413801e+01,\n",
       "       6.13590727e+01, 7.39072203e+01, 8.90215085e+01, 1.07226722e+02,\n",
       "       1.29154967e+02, 1.55567614e+02, 1.87381742e+02, 2.25701972e+02,\n",
       "       2.71858824e+02, 3.27454916e+02, 3.94420606e+02, 4.75081016e+02,\n",
       "       5.72236766e+02, 6.89261210e+02, 8.30217568e+02, 1.00000000e+03])},\n",
       "             pre_dispatch='2*n_jobs', refit=True, return_train_score=False,\n",
       "             scoring='neg_log_loss', verbose=0)"
      ]
     },
     "execution_count": 32,
     "metadata": {},
     "output_type": "execute_result"
    }
   ],
   "source": [
    "lr.fit(X_train,y_train)"
   ]
  },
  {
   "cell_type": "code",
   "execution_count": 33,
   "metadata": {},
   "outputs": [
    {
     "name": "stdout",
     "output_type": "stream",
     "text": [
      "Confusion matrix, without normalization\n",
      "[[332 126]\n",
      " [127 316]]\n",
      "Normalized confusion matrix\n",
      "[[0.72489083 0.27510917]\n",
      " [0.28668172 0.71331828]]\n"
     ]
    },
    {
     "data": {
      "image/png": "[encoded data removed]",
      "text/plain": [
       "<Figure size 432x288 with 2 Axes>"
      ]
     },
     "metadata": {
      "needs_background": "light"
     },
     "output_type": "display_data"
    },
    {
     "data": {
      "image/png": "[encoded data removed]",
      "text/plain": [
       "<Figure size 432x288 with 2 Axes>"
      ]
     },
     "metadata": {
      "needs_background": "light"
     },
     "output_type": "display_data"
    }
   ],
   "source": [
    "titles_options = [(\"Confusion matrix, without normalization\", None),\n",
    "                  (\"Normalized confusion matrix\", 'true')]\n",
    "for title, normalize in titles_options:\n",
    "    disp = plot_confusion_matrix(lr, X_test, y_test,\n",
    "                                 cmap=plt.cm.Blues,\n",
    "                                 normalize=normalize)\n",
    "    disp.ax_.set_title(title)\n",
    "\n",
    "    print(title)\n",
    "    print(disp.confusion_matrix)\n",
    "\n",
    "plt.show()"
   ]
  },
  {
   "cell_type": "code",
   "execution_count": 34,
   "metadata": {},
   "outputs": [
    {
     "data": {
      "text/plain": [
       "-0.5394748036410187"
      ]
     },
     "execution_count": 34,
     "metadata": {},
     "output_type": "execute_result"
    }
   ],
   "source": [
    "lr.score(X_test,y_test)"
   ]
  },
  {
   "cell_type": "code",
   "execution_count": 35,
   "metadata": {},
   "outputs": [],
   "source": [
    "lr_yhat_prob = lr.predict_proba(X_test)[:,1]\n",
    "lr_yhat = lr.predict(X_test)"
   ]
  },
  {
   "cell_type": "code",
   "execution_count": 137,
   "metadata": {},
   "outputs": [],
   "source": [
    "lr_ytest = lr.predict(test_df)"
   ]
  },
  {
   "cell_type": "markdown",
   "metadata": {},
   "source": [
    "## AdaBoost Regressor"
   ]
  },
  {
   "cell_type": "code",
   "execution_count": 36,
   "metadata": {},
   "outputs": [],
   "source": [
    "from sklearn.ensemble import AdaBoostClassifier"
   ]
  },
  {
   "cell_type": "code",
   "execution_count": 37,
   "metadata": {},
   "outputs": [],
   "source": [
    "NFOLDS = 10\n",
    "folds = KFold(n_splits=NFOLDS)\n",
    "splits = folds.split(X_train, y_train)\n",
    "\n",
    "\n",
    "ada_params = {\n",
    "    'n_estimators': [400,500,600],\n",
    "    'learning_rate' : [0.01,0.1,0.8,1.0,1.2],\n",
    "}"
   ]
  },
  {
   "cell_type": "code",
   "execution_count": 38,
   "metadata": {},
   "outputs": [],
   "source": [
    "ada = AdaBoostClassifier()"
   ]
  },
  {
   "cell_type": "code",
   "execution_count": 39,
   "metadata": {},
   "outputs": [],
   "source": [
    "adr = GridSearchCV(ada, ada_params, scoring='neg_log_loss', refit=True, cv = splits)"
   ]
  },
  {
   "cell_type": "code",
   "execution_count": 40,
   "metadata": {},
   "outputs": [
    {
     "data": {
      "text/plain": [
       "GridSearchCV(cv=<generator object _BaseKFold.split at 0x121808dd0>,\n",
       "             error_score=nan,\n",
       "             estimator=AdaBoostClassifier(algorithm='SAMME.R',\n",
       "                                          base_estimator=None,\n",
       "                                          learning_rate=1.0, n_estimators=50,\n",
       "                                          random_state=None),\n",
       "             iid='deprecated', n_jobs=None,\n",
       "             param_grid={'learning_rate': [0.01, 0.1, 0.8, 1.0, 1.2],\n",
       "                         'n_estimators': [400, 500, 600]},\n",
       "             pre_dispatch='2*n_jobs', refit=True, return_train_score=False,\n",
       "             scoring='neg_log_loss', verbose=0)"
      ]
     },
     "execution_count": 40,
     "metadata": {},
     "output_type": "execute_result"
    }
   ],
   "source": [
    "adr.fit(X_train, y_train)"
   ]
  },
  {
   "cell_type": "code",
   "execution_count": 41,
   "metadata": {},
   "outputs": [
    {
     "name": "stdout",
     "output_type": "stream",
     "text": [
      "Confusion matrix, without normalization\n",
      "[[335 123]\n",
      " [135 308]]\n",
      "Normalized confusion matrix\n",
      "[[0.73144105 0.26855895]\n",
      " [0.30474041 0.69525959]]\n"
     ]
    },
    {
     "data": {
      "image/png": "[encoded data removed]",
      "text/plain": [
       "<Figure size 432x288 with 2 Axes>"
      ]
     },
     "metadata": {
      "needs_background": "light"
     },
     "output_type": "display_data"
    },
    {
     "data": {
      "image/png": "[encoded data removed]",
      "text/plain": [
       "<Figure size 432x288 with 2 Axes>"
      ]
     },
     "metadata": {
      "needs_background": "light"
     },
     "output_type": "display_data"
    }
   ],
   "source": [
    "titles_options = [(\"Confusion matrix, without normalization\", None),\n",
    "                  (\"Normalized confusion matrix\", 'true')]\n",
    "for title, normalize in titles_options:\n",
    "    disp = plot_confusion_matrix(adr, X_test, y_test,\n",
    "                                 cmap=plt.cm.Blues,\n",
    "                                 normalize=normalize)\n",
    "    disp.ax_.set_title(title)\n",
    "\n",
    "    print(title)\n",
    "    print(disp.confusion_matrix)\n",
    "\n",
    "plt.show()"
   ]
  },
  {
   "cell_type": "code",
   "execution_count": 42,
   "metadata": {},
   "outputs": [
    {
     "data": {
      "text/plain": [
       "-0.6340211725893555"
      ]
     },
     "execution_count": 42,
     "metadata": {},
     "output_type": "execute_result"
    }
   ],
   "source": [
    "adr.score(X_test,y_test)"
   ]
  },
  {
   "cell_type": "code",
   "execution_count": 43,
   "metadata": {},
   "outputs": [],
   "source": [
    "adr_yhat_prob = adr.predict_proba(X_test)[:,1]\n",
    "adr_yhat = adr.predict(X_test)"
   ]
  },
  {
   "cell_type": "code",
   "execution_count": 136,
   "metadata": {},
   "outputs": [],
   "source": [
    "adr_ytest=adr.predict(test_df)"
   ]
  },
  {
   "cell_type": "markdown",
   "metadata": {},
   "source": [
    "## Random Forest"
   ]
  },
  {
   "cell_type": "code",
   "execution_count": 44,
   "metadata": {},
   "outputs": [],
   "source": [
    "from sklearn.ensemble import RandomForestClassifier"
   ]
  },
  {
   "cell_type": "code",
   "execution_count": 60,
   "metadata": {},
   "outputs": [],
   "source": [
    "NFOLDS = 10\n",
    "folds = KFold(n_splits=NFOLDS)\n",
    "splits = folds.split(X_train, y_train)\n",
    "\n",
    "rf_params = {\n",
    "    'n_estimators': [400,600], \n",
    "     #'max_features': [0.2,0.4,0,8],\n",
    "    'max_depth': [4,8],\n",
    "    'min_samples_leaf': [2,4]\n",
    "}"
   ]
  },
  {
   "cell_type": "code",
   "execution_count": 61,
   "metadata": {},
   "outputs": [],
   "source": [
    "rf = RandomForestClassifier(n_jobs=-1,warm_start= True,verbose=0,max_features='sqrt')"
   ]
  },
  {
   "cell_type": "code",
   "execution_count": 62,
   "metadata": {},
   "outputs": [],
   "source": [
    "rf_search = GridSearchCV(rf, rf_params, scoring='neg_log_loss', refit=True, cv = splits)"
   ]
  },
  {
   "cell_type": "code",
   "execution_count": 63,
   "metadata": {},
   "outputs": [
    {
     "data": {
      "text/plain": [
       "GridSearchCV(cv=<generator object _BaseKFold.split at 0x122ac78d0>,\n",
       "             error_score=nan,\n",
       "             estimator=RandomForestClassifier(bootstrap=True, ccp_alpha=0.0,\n",
       "                                              class_weight=None,\n",
       "                                              criterion='gini', max_depth=None,\n",
       "                                              max_features='sqrt',\n",
       "                                              max_leaf_nodes=None,\n",
       "                                              max_samples=None,\n",
       "                                              min_impurity_decrease=0.0,\n",
       "                                              min_impurity_split=None,\n",
       "                                              min_samples_leaf=1,\n",
       "                                              min_samples_split=2,\n",
       "                                              min_weight_fraction_leaf=0.0,\n",
       "                                              n_estimators=100, n_jobs=-1,\n",
       "                                              oob_score=False,\n",
       "                                              random_state=None, verbose=0,\n",
       "                                              warm_start=True),\n",
       "             iid='deprecated', n_jobs=None,\n",
       "             param_grid={'max_depth': [4, 8], 'min_samples_leaf': [2, 4],\n",
       "                         'n_estimators': [400, 600]},\n",
       "             pre_dispatch='2*n_jobs', refit=True, return_train_score=False,\n",
       "             scoring='neg_log_loss', verbose=0)"
      ]
     },
     "execution_count": 63,
     "metadata": {},
     "output_type": "execute_result"
    }
   ],
   "source": [
    "rf_search.fit(X_train, y_train)"
   ]
  },
  {
   "cell_type": "code",
   "execution_count": 64,
   "metadata": {},
   "outputs": [
    {
     "name": "stdout",
     "output_type": "stream",
     "text": [
      "Confusion matrix, without normalization\n",
      "[[320 138]\n",
      " [120 323]]\n",
      "Normalized confusion matrix\n",
      "[[0.69868996 0.30131004]\n",
      " [0.27088036 0.72911964]]\n"
     ]
    },
    {
     "data": {
      "image/png": "[encoded data removed]",
      "text/plain": [
       "<Figure size 432x288 with 2 Axes>"
      ]
     },
     "metadata": {
      "needs_background": "light"
     },
     "output_type": "display_data"
    },
    {
     "data": {
      "image/png": "[encoded data removed]",
      "text/plain": [
       "<Figure size 432x288 with 2 Axes>"
      ]
     },
     "metadata": {
      "needs_background": "light"
     },
     "output_type": "display_data"
    }
   ],
   "source": [
    "titles_options = [(\"Confusion matrix, without normalization\", None),\n",
    "                  (\"Normalized confusion matrix\", 'true')]\n",
    "for title, normalize in titles_options:\n",
    "    disp = plot_confusion_matrix(rf_search, X_test, y_test,\n",
    "                                 cmap=plt.cm.Blues,\n",
    "                                 normalize=normalize)\n",
    "    disp.ax_.set_title(title)\n",
    "\n",
    "    print(title)\n",
    "    print(disp.confusion_matrix)\n",
    "\n",
    "plt.show()"
   ]
  },
  {
   "cell_type": "code",
   "execution_count": 65,
   "metadata": {},
   "outputs": [
    {
     "data": {
      "text/plain": [
       "-0.5420836606313613"
      ]
     },
     "execution_count": 65,
     "metadata": {},
     "output_type": "execute_result"
    }
   ],
   "source": [
    "rf_search.score(X_test,y_test)"
   ]
  },
  {
   "cell_type": "code",
   "execution_count": 66,
   "metadata": {},
   "outputs": [],
   "source": [
    "rf_yhat_prob = rf_search.predict_proba(X_test)[:,1]\n",
    "rf_yhat = rf_search.predict(X_test)"
   ]
  },
  {
   "cell_type": "code",
   "execution_count": 139,
   "metadata": {},
   "outputs": [],
   "source": [
    "rf_ytest = rf_search.predict(test_df)"
   ]
  },
  {
   "cell_type": "markdown",
   "metadata": {},
   "source": [
    "# Interpret Results"
   ]
  },
  {
   "cell_type": "markdown",
   "metadata": {},
   "source": [
    "#### Feature importances generated from the different regressors"
   ]
  },
  {
   "cell_type": "code",
   "execution_count": 75,
   "metadata": {},
   "outputs": [],
   "source": [
    "dtr_feature = dtr.best_estimator_.feature_importances_\n",
    "lr_feature = lr.best_estimator_.coef_\n",
    "adr_feature = adr.best_estimator_.feature_importances_\n",
    "rf_search_feature = rf_search.best_estimator_.feature_importances_"
   ]
  },
  {
   "cell_type": "code",
   "execution_count": 98,
   "metadata": {},
   "outputs": [],
   "source": [
    "dtr_features = [x for x in dtr_feature]\n",
    "lr_features = [x for x in lr_feature[0]]\n",
    "adr_features = [x for x in adr_feature]\n",
    "rf_search_features = [x for x in rf_search_feature]"
   ]
  },
  {
   "cell_type": "markdown",
   "metadata": {},
   "source": [
    "On affiche ça dans un dataframe pour que ce soit plus lisible"
   ]
  },
  {
   "cell_type": "code",
   "execution_count": 99,
   "metadata": {},
   "outputs": [],
   "source": [
    "cols = X_train.columns.values\n",
    "# Create a dataframe with features\n",
    "feature_dataframe = pd.DataFrame( {'features': cols,\n",
    "     'Decision Tree feature importances': dtr_features,\n",
    "     'Logistic Regression feature importances': lr_features,\n",
    "      'AdaBoost feature importances': adr_features,\n",
    "    'Random Forest feature importances': rf_search_features\n",
    "    })"
   ]
  },
  {
   "cell_type": "code",
   "execution_count": 100,
   "metadata": {},
   "outputs": [
    {
     "data": {
      "text/html": [
       "<div>\n",
       "<style scoped>\n",
       "    .dataframe tbody tr th:only-of-type {\n",
       "        vertical-align: middle;\n",
       "    }\n",
       "\n",
       "    .dataframe tbody tr th {\n",
       "        vertical-align: top;\n",
       "    }\n",
       "\n",
       "    .dataframe thead th {\n",
       "        text-align: right;\n",
       "    }\n",
       "</style>\n",
       "<table border=\"1\" class=\"dataframe\">\n",
       "  <thead>\n",
       "    <tr style=\"text-align: right;\">\n",
       "      <th></th>\n",
       "      <th>features</th>\n",
       "      <th>Decision Tree feature importances</th>\n",
       "      <th>Logistic Regression feature importances</th>\n",
       "      <th>AdaBoost feature importances</th>\n",
       "      <th>Random Forest feature importances</th>\n",
       "    </tr>\n",
       "  </thead>\n",
       "  <tbody>\n",
       "    <tr>\n",
       "      <th>0</th>\n",
       "      <td>Seed1</td>\n",
       "      <td>0.015761</td>\n",
       "      <td>-0.050070</td>\n",
       "      <td>0.105</td>\n",
       "      <td>0.215044</td>\n",
       "    </tr>\n",
       "    <tr>\n",
       "      <th>1</th>\n",
       "      <td>Seed2</td>\n",
       "      <td>0.561560</td>\n",
       "      <td>0.049888</td>\n",
       "      <td>0.100</td>\n",
       "      <td>0.221622</td>\n",
       "    </tr>\n",
       "    <tr>\n",
       "      <th>2</th>\n",
       "      <td>ScoreT1</td>\n",
       "      <td>0.011672</td>\n",
       "      <td>0.000226</td>\n",
       "      <td>0.000</td>\n",
       "      <td>0.026520</td>\n",
       "    </tr>\n",
       "    <tr>\n",
       "      <th>3</th>\n",
       "      <td>ScoreT2</td>\n",
       "      <td>0.010679</td>\n",
       "      <td>-0.000225</td>\n",
       "      <td>0.000</td>\n",
       "      <td>0.023333</td>\n",
       "    </tr>\n",
       "    <tr>\n",
       "      <th>4</th>\n",
       "      <td>Seed_diff</td>\n",
       "      <td>0.383887</td>\n",
       "      <td>-0.099958</td>\n",
       "      <td>0.700</td>\n",
       "      <td>0.426210</td>\n",
       "    </tr>\n",
       "    <tr>\n",
       "      <th>5</th>\n",
       "      <td>ScoreT_diff</td>\n",
       "      <td>0.016440</td>\n",
       "      <td>0.000451</td>\n",
       "      <td>0.095</td>\n",
       "      <td>0.087271</td>\n",
       "    </tr>\n",
       "  </tbody>\n",
       "</table>\n",
       "</div>"
      ],
      "text/plain": [
       "      features  Decision Tree feature importances  \\\n",
       "0        Seed1                           0.015761   \n",
       "1        Seed2                           0.561560   \n",
       "2      ScoreT1                           0.011672   \n",
       "3      ScoreT2                           0.010679   \n",
       "4    Seed_diff                           0.383887   \n",
       "5  ScoreT_diff                           0.016440   \n",
       "\n",
       "   Logistic Regression feature importances  AdaBoost feature importances  \\\n",
       "0                                -0.050070                         0.105   \n",
       "1                                 0.049888                         0.100   \n",
       "2                                 0.000226                         0.000   \n",
       "3                                -0.000225                         0.000   \n",
       "4                                -0.099958                         0.700   \n",
       "5                                 0.000451                         0.095   \n",
       "\n",
       "   Random Forest feature importances  \n",
       "0                           0.215044  \n",
       "1                           0.221622  \n",
       "2                           0.026520  \n",
       "3                           0.023333  \n",
       "4                           0.426210  \n",
       "5                           0.087271  "
      ]
     },
     "execution_count": 100,
     "metadata": {},
     "output_type": "execute_result"
    }
   ],
   "source": [
    "feature_dataframe"
   ]
  },
  {
   "cell_type": "markdown",
   "metadata": {},
   "source": [
    "## Second-Level Predictions from the First-level Output"
   ]
  },
  {
   "cell_type": "code",
   "execution_count": 101,
   "metadata": {
    "scrolled": true
   },
   "outputs": [
    {
     "data": {
      "text/html": [
       "<div>\n",
       "<style scoped>\n",
       "    .dataframe tbody tr th:only-of-type {\n",
       "        vertical-align: middle;\n",
       "    }\n",
       "\n",
       "    .dataframe tbody tr th {\n",
       "        vertical-align: top;\n",
       "    }\n",
       "\n",
       "    .dataframe thead th {\n",
       "        text-align: right;\n",
       "    }\n",
       "</style>\n",
       "<table border=\"1\" class=\"dataframe\">\n",
       "  <thead>\n",
       "    <tr style=\"text-align: right;\">\n",
       "      <th></th>\n",
       "      <th>DecisionTreeClassifier</th>\n",
       "      <th>LogisticRegression</th>\n",
       "      <th>AdaBoost</th>\n",
       "      <th>RandomForest</th>\n",
       "    </tr>\n",
       "  </thead>\n",
       "  <tbody>\n",
       "    <tr>\n",
       "      <th>0</th>\n",
       "      <td>0</td>\n",
       "      <td>0</td>\n",
       "      <td>0</td>\n",
       "      <td>0</td>\n",
       "    </tr>\n",
       "    <tr>\n",
       "      <th>1</th>\n",
       "      <td>1</td>\n",
       "      <td>1</td>\n",
       "      <td>1</td>\n",
       "      <td>1</td>\n",
       "    </tr>\n",
       "    <tr>\n",
       "      <th>2</th>\n",
       "      <td>1</td>\n",
       "      <td>1</td>\n",
       "      <td>1</td>\n",
       "      <td>1</td>\n",
       "    </tr>\n",
       "    <tr>\n",
       "      <th>3</th>\n",
       "      <td>1</td>\n",
       "      <td>1</td>\n",
       "      <td>1</td>\n",
       "      <td>1</td>\n",
       "    </tr>\n",
       "    <tr>\n",
       "      <th>4</th>\n",
       "      <td>1</td>\n",
       "      <td>1</td>\n",
       "      <td>1</td>\n",
       "      <td>1</td>\n",
       "    </tr>\n",
       "  </tbody>\n",
       "</table>\n",
       "</div>"
      ],
      "text/plain": [
       "   DecisionTreeClassifier  LogisticRegression  AdaBoost  RandomForest\n",
       "0                       0                   0         0             0\n",
       "1                       1                   1         1             1\n",
       "2                       1                   1         1             1\n",
       "3                       1                   1         1             1\n",
       "4                       1                   1         1             1"
      ]
     },
     "execution_count": 101,
     "metadata": {},
     "output_type": "execute_result"
    }
   ],
   "source": [
    "base_predictions_train = pd.DataFrame( {'DecisionTreeClassifier': dtr.predict(X_train).ravel(),\n",
    "     'LogisticRegression': lr.predict(X_train).ravel(),\n",
    "     'AdaBoost': adr.predict(X_train).ravel(),\n",
    "      'RandomForest': rf_search.predict(X_train).ravel()\n",
    "    })\n",
    "base_predictions_train.head()\n"
   ]
  },
  {
   "cell_type": "code",
   "execution_count": 106,
   "metadata": {},
   "outputs": [
    {
     "name": "stdout",
     "output_type": "stream",
     "text": [
      "WARNING: pip is being invoked by an old script wrapper. This will fail in a future version of pip.\n",
      "Please see https://github.com/pypa/pip/issues/5599 for advice on fixing the underlying issue.\n",
      "To avoid this problem you can invoke Python with '-m pip' instead of running pip directly.\n",
      "Collecting plotly\n",
      "  Downloading plotly-4.5.4-py2.py3-none-any.whl (7.1 MB)\n",
      "\u001b[K     |████████████████████████████████| 7.1 MB 186 kB/s eta 0:00:01     |████████████▏                   | 2.7 MB 22 kB/s eta 0:03:16     |███████████████████████         | 5.1 MB 151 kB/s eta 0:00:14\n",
      "\u001b[?25hRequirement already satisfied: six in /Users/mathispotel/anaconda3/lib/python3.7/site-packages (from plotly) (1.14.0)\n",
      "Collecting retrying>=1.3.3\n",
      "  Downloading retrying-1.3.3.tar.gz (10 kB)\n",
      "Building wheels for collected packages: retrying\n",
      "  Building wheel for retrying (setup.py) ... \u001b[?25ldone\n",
      "\u001b[?25h  Created wheel for retrying: filename=retrying-1.3.3-py3-none-any.whl size=11429 sha256=9ddc114aba570ae640e0884492445c017fd52e0f680f9fc44528ce9eb84810e8\n",
      "  Stored in directory: /Users/mathispotel/Library/Caches/pip/wheels/f9/8d/8d/f6af3f7f9eea3553bc2fe6d53e4b287dad18b06a861ac56ddf\n",
      "Successfully built retrying\n",
      "Installing collected packages: retrying, plotly\n",
      "Successfully installed plotly-4.5.4 retrying-1.3.3\n"
     ]
    }
   ],
   "source": [
    "!pip install plotly"
   ]
  },
  {
   "cell_type": "code",
   "execution_count": 107,
   "metadata": {},
   "outputs": [
    {
     "data": {
      "text/html": [
       "        <script type=\"text/javascript\">\n",
       "        window.PlotlyConfig = {MathJaxConfig: 'local'};\n",
       "        if (window.MathJax) {MathJax.Hub.Config({SVG: {font: \"STIX-Web\"}});}\n",
       "        if (typeof require !== 'undefined') {\n",
       "        require.undef(\"plotly\");\n",
       "        requirejs.config({\n",
       "            paths: {\n",
       "                'plotly': ['https://cdn.plot.ly/plotly-latest.min']\n",
       "            }\n",
       "        });\n",
       "        require(['plotly'], function(Plotly) {\n",
       "            window._Plotly = Plotly;\n",
       "        });\n",
       "        }\n",
       "        </script>\n",
       "        "
      ]
     },
     "metadata": {},
     "output_type": "display_data"
    },
    {
     "data": {
      "application/vnd.plotly.v1+json": {
       "config": {
        "linkText": "Export to plot.ly",
        "plotlyServerURL": "https://plot.ly",
        "showLink": false
       },
       "data": [
        {
         "colorscale": [
          [
           0,
           "#440154"
          ],
          [
           0.1111111111111111,
           "#482878"
          ],
          [
           0.2222222222222222,
           "#3e4989"
          ],
          [
           0.3333333333333333,
           "#31688e"
          ],
          [
           0.4444444444444444,
           "#26828e"
          ],
          [
           0.5555555555555556,
           "#1f9e89"
          ],
          [
           0.6666666666666666,
           "#35b779"
          ],
          [
           0.7777777777777778,
           "#6ece58"
          ],
          [
           0.8888888888888888,
           "#b5de2b"
          ],
          [
           1,
           "#fde725"
          ]
         ],
         "reversescale": true,
         "showscale": true,
         "type": "heatmap",
         "x": [
          "DecisionTreeClassifier",
          "LogisticRegression",
          "AdaBoost",
          "RandomForest"
         ],
         "y": [
          "DecisionTreeClassifier",
          "LogisticRegression",
          "AdaBoost",
          "RandomForest"
         ],
         "z": [
          [
           1,
           0.8121141000299016,
           0.8452743469248161,
           0.8723474375605353
          ],
          [
           0.8121141000299016,
           1,
           0.9257890312634586,
           0.9315986560217339
          ],
          [
           0.8452743469248161,
           0.9257890312634586,
           1,
           0.94250075128922
          ],
          [
           0.8723474375605353,
           0.9315986560217339,
           0.94250075128922,
           1
          ]
         ]
        }
       ],
       "layout": {
        "template": {
         "data": {
          "bar": [
           {
            "error_x": {
             "color": "#2a3f5f"
            },
            "error_y": {
             "color": "#2a3f5f"
            },
            "marker": {
             "line": {
              "color": "#E5ECF6",
              "width": 0.5
             }
            },
            "type": "bar"
           }
          ],
          "barpolar": [
           {
            "marker": {
             "line": {
              "color": "#E5ECF6",
              "width": 0.5
             }
            },
            "type": "barpolar"
           }
          ],
          "carpet": [
           {
            "aaxis": {
             "endlinecolor": "#2a3f5f",
             "gridcolor": "white",
             "linecolor": "white",
             "minorgridcolor": "white",
             "startlinecolor": "#2a3f5f"
            },
            "baxis": {
             "endlinecolor": "#2a3f5f",
             "gridcolor": "white",
             "linecolor": "white",
             "minorgridcolor": "white",
             "startlinecolor": "#2a3f5f"
            },
            "type": "carpet"
           }
          ],
          "choropleth": [
           {
            "colorbar": {
             "outlinewidth": 0,
             "ticks": ""
            },
            "type": "choropleth"
           }
          ],
          "contour": [
           {
            "colorbar": {
             "outlinewidth": 0,
             "ticks": ""
            },
            "colorscale": [
             [
              0,
              "#0d0887"
             ],
             [
              0.1111111111111111,
              "#46039f"
             ],
             [
              0.2222222222222222,
              "#7201a8"
             ],
             [
              0.3333333333333333,
              "#9c179e"
             ],
             [
              0.4444444444444444,
              "#bd3786"
             ],
             [
              0.5555555555555556,
              "#d8576b"
             ],
             [
              0.6666666666666666,
              "#ed7953"
             ],
             [
              0.7777777777777778,
              "#fb9f3a"
             ],
             [
              0.8888888888888888,
              "#fdca26"
             ],
             [
              1,
              "#f0f921"
             ]
            ],
            "type": "contour"
           }
          ],
          "contourcarpet": [
           {
            "colorbar": {
             "outlinewidth": 0,
             "ticks": ""
            },
            "type": "contourcarpet"
           }
          ],
          "heatmap": [
           {
            "colorbar": {
             "outlinewidth": 0,
             "ticks": ""
            },
            "colorscale": [
             [
              0,
              "#0d0887"
             ],
             [
              0.1111111111111111,
              "#46039f"
             ],
             [
              0.2222222222222222,
              "#7201a8"
             ],
             [
              0.3333333333333333,
              "#9c179e"
             ],
             [
              0.4444444444444444,
              "#bd3786"
             ],
             [
              0.5555555555555556,
              "#d8576b"
             ],
             [
              0.6666666666666666,
              "#ed7953"
             ],
             [
              0.7777777777777778,
              "#fb9f3a"
             ],
             [
              0.8888888888888888,
              "#fdca26"
             ],
             [
              1,
              "#f0f921"
             ]
            ],
            "type": "heatmap"
           }
          ],
          "heatmapgl": [
           {
            "colorbar": {
             "outlinewidth": 0,
             "ticks": ""
            },
            "colorscale": [
             [
              0,
              "#0d0887"
             ],
             [
              0.1111111111111111,
              "#46039f"
             ],
             [
              0.2222222222222222,
              "#7201a8"
             ],
             [
              0.3333333333333333,
              "#9c179e"
             ],
             [
              0.4444444444444444,
              "#bd3786"
             ],
             [
              0.5555555555555556,
              "#d8576b"
             ],
             [
              0.6666666666666666,
              "#ed7953"
             ],
             [
              0.7777777777777778,
              "#fb9f3a"
             ],
             [
              0.8888888888888888,
              "#fdca26"
             ],
             [
              1,
              "#f0f921"
             ]
            ],
            "type": "heatmapgl"
           }
          ],
          "histogram": [
           {
            "marker": {
             "colorbar": {
              "outlinewidth": 0,
              "ticks": ""
             }
            },
            "type": "histogram"
           }
          ],
          "histogram2d": [
           {
            "colorbar": {
             "outlinewidth": 0,
             "ticks": ""
            },
            "colorscale": [
             [
              0,
              "#0d0887"
             ],
             [
              0.1111111111111111,
              "#46039f"
             ],
             [
              0.2222222222222222,
              "#7201a8"
             ],
             [
              0.3333333333333333,
              "#9c179e"
             ],
             [
              0.4444444444444444,
              "#bd3786"
             ],
             [
              0.5555555555555556,
              "#d8576b"
             ],
             [
              0.6666666666666666,
              "#ed7953"
             ],
             [
              0.7777777777777778,
              "#fb9f3a"
             ],
             [
              0.8888888888888888,
              "#fdca26"
             ],
             [
              1,
              "#f0f921"
             ]
            ],
            "type": "histogram2d"
           }
          ],
          "histogram2dcontour": [
           {
            "colorbar": {
             "outlinewidth": 0,
             "ticks": ""
            },
            "colorscale": [
             [
              0,
              "#0d0887"
             ],
             [
              0.1111111111111111,
              "#46039f"
             ],
             [
              0.2222222222222222,
              "#7201a8"
             ],
             [
              0.3333333333333333,
              "#9c179e"
             ],
             [
              0.4444444444444444,
              "#bd3786"
             ],
             [
              0.5555555555555556,
              "#d8576b"
             ],
             [
              0.6666666666666666,
              "#ed7953"
             ],
             [
              0.7777777777777778,
              "#fb9f3a"
             ],
             [
              0.8888888888888888,
              "#fdca26"
             ],
             [
              1,
              "#f0f921"
             ]
            ],
            "type": "histogram2dcontour"
           }
          ],
          "mesh3d": [
           {
            "colorbar": {
             "outlinewidth": 0,
             "ticks": ""
            },
            "type": "mesh3d"
           }
          ],
          "parcoords": [
           {
            "line": {
             "colorbar": {
              "outlinewidth": 0,
              "ticks": ""
             }
            },
            "type": "parcoords"
           }
          ],
          "pie": [
           {
            "automargin": true,
            "type": "pie"
           }
          ],
          "scatter": [
           {
            "marker": {
             "colorbar": {
              "outlinewidth": 0,
              "ticks": ""
             }
            },
            "type": "scatter"
           }
          ],
          "scatter3d": [
           {
            "line": {
             "colorbar": {
              "outlinewidth": 0,
              "ticks": ""
             }
            },
            "marker": {
             "colorbar": {
              "outlinewidth": 0,
              "ticks": ""
             }
            },
            "type": "scatter3d"
           }
          ],
          "scattercarpet": [
           {
            "marker": {
             "colorbar": {
              "outlinewidth": 0,
              "ticks": ""
             }
            },
            "type": "scattercarpet"
           }
          ],
          "scattergeo": [
           {
            "marker": {
             "colorbar": {
              "outlinewidth": 0,
              "ticks": ""
             }
            },
            "type": "scattergeo"
           }
          ],
          "scattergl": [
           {
            "marker": {
             "colorbar": {
              "outlinewidth": 0,
              "ticks": ""
             }
            },
            "type": "scattergl"
           }
          ],
          "scattermapbox": [
           {
            "marker": {
             "colorbar": {
              "outlinewidth": 0,
              "ticks": ""
             }
            },
            "type": "scattermapbox"
           }
          ],
          "scatterpolar": [
           {
            "marker": {
             "colorbar": {
              "outlinewidth": 0,
              "ticks": ""
             }
            },
            "type": "scatterpolar"
           }
          ],
          "scatterpolargl": [
           {
            "marker": {
             "colorbar": {
              "outlinewidth": 0,
              "ticks": ""
             }
            },
            "type": "scatterpolargl"
           }
          ],
          "scatterternary": [
           {
            "marker": {
             "colorbar": {
              "outlinewidth": 0,
              "ticks": ""
             }
            },
            "type": "scatterternary"
           }
          ],
          "surface": [
           {
            "colorbar": {
             "outlinewidth": 0,
             "ticks": ""
            },
            "colorscale": [
             [
              0,
              "#0d0887"
             ],
             [
              0.1111111111111111,
              "#46039f"
             ],
             [
              0.2222222222222222,
              "#7201a8"
             ],
             [
              0.3333333333333333,
              "#9c179e"
             ],
             [
              0.4444444444444444,
              "#bd3786"
             ],
             [
              0.5555555555555556,
              "#d8576b"
             ],
             [
              0.6666666666666666,
              "#ed7953"
             ],
             [
              0.7777777777777778,
              "#fb9f3a"
             ],
             [
              0.8888888888888888,
              "#fdca26"
             ],
             [
              1,
              "#f0f921"
             ]
            ],
            "type": "surface"
           }
          ],
          "table": [
           {
            "cells": {
             "fill": {
              "color": "#EBF0F8"
             },
             "line": {
              "color": "white"
             }
            },
            "header": {
             "fill": {
              "color": "#C8D4E3"
             },
             "line": {
              "color": "white"
             }
            },
            "type": "table"
           }
          ]
         },
         "layout": {
          "annotationdefaults": {
           "arrowcolor": "#2a3f5f",
           "arrowhead": 0,
           "arrowwidth": 1
          },
          "coloraxis": {
           "colorbar": {
            "outlinewidth": 0,
            "ticks": ""
           }
          },
          "colorscale": {
           "diverging": [
            [
             0,
             "#8e0152"
            ],
            [
             0.1,
             "#c51b7d"
            ],
            [
             0.2,
             "#de77ae"
            ],
            [
             0.3,
             "#f1b6da"
            ],
            [
             0.4,
             "#fde0ef"
            ],
            [
             0.5,
             "#f7f7f7"
            ],
            [
             0.6,
             "#e6f5d0"
            ],
            [
             0.7,
             "#b8e186"
            ],
            [
             0.8,
             "#7fbc41"
            ],
            [
             0.9,
             "#4d9221"
            ],
            [
             1,
             "#276419"
            ]
           ],
           "sequential": [
            [
             0,
             "#0d0887"
            ],
            [
             0.1111111111111111,
             "#46039f"
            ],
            [
             0.2222222222222222,
             "#7201a8"
            ],
            [
             0.3333333333333333,
             "#9c179e"
            ],
            [
             0.4444444444444444,
             "#bd3786"
            ],
            [
             0.5555555555555556,
             "#d8576b"
            ],
            [
             0.6666666666666666,
             "#ed7953"
            ],
            [
             0.7777777777777778,
             "#fb9f3a"
            ],
            [
             0.8888888888888888,
             "#fdca26"
            ],
            [
             1,
             "#f0f921"
            ]
           ],
           "sequentialminus": [
            [
             0,
             "#0d0887"
            ],
            [
             0.1111111111111111,
             "#46039f"
            ],
            [
             0.2222222222222222,
             "#7201a8"
            ],
            [
             0.3333333333333333,
             "#9c179e"
            ],
            [
             0.4444444444444444,
             "#bd3786"
            ],
            [
             0.5555555555555556,
             "#d8576b"
            ],
            [
             0.6666666666666666,
             "#ed7953"
            ],
            [
             0.7777777777777778,
             "#fb9f3a"
            ],
            [
             0.8888888888888888,
             "#fdca26"
            ],
            [
             1,
             "#f0f921"
            ]
           ]
          },
          "colorway": [
           "#636efa",
           "#EF553B",
           "#00cc96",
           "#ab63fa",
           "#FFA15A",
           "#19d3f3",
           "#FF6692",
           "#B6E880",
           "#FF97FF",
           "#FECB52"
          ],
          "font": {
           "color": "#2a3f5f"
          },
          "geo": {
           "bgcolor": "white",
           "lakecolor": "white",
           "landcolor": "#E5ECF6",
           "showlakes": true,
           "showland": true,
           "subunitcolor": "white"
          },
          "hoverlabel": {
           "align": "left"
          },
          "hovermode": "closest",
          "mapbox": {
           "style": "light"
          },
          "paper_bgcolor": "white",
          "plot_bgcolor": "#E5ECF6",
          "polar": {
           "angularaxis": {
            "gridcolor": "white",
            "linecolor": "white",
            "ticks": ""
           },
           "bgcolor": "#E5ECF6",
           "radialaxis": {
            "gridcolor": "white",
            "linecolor": "white",
            "ticks": ""
           }
          },
          "scene": {
           "xaxis": {
            "backgroundcolor": "#E5ECF6",
            "gridcolor": "white",
            "gridwidth": 2,
            "linecolor": "white",
            "showbackground": true,
            "ticks": "",
            "zerolinecolor": "white"
           },
           "yaxis": {
            "backgroundcolor": "#E5ECF6",
            "gridcolor": "white",
            "gridwidth": 2,
            "linecolor": "white",
            "showbackground": true,
            "ticks": "",
            "zerolinecolor": "white"
           },
           "zaxis": {
            "backgroundcolor": "#E5ECF6",
            "gridcolor": "white",
            "gridwidth": 2,
            "linecolor": "white",
            "showbackground": true,
            "ticks": "",
            "zerolinecolor": "white"
           }
          },
          "shapedefaults": {
           "line": {
            "color": "#2a3f5f"
           }
          },
          "ternary": {
           "aaxis": {
            "gridcolor": "white",
            "linecolor": "white",
            "ticks": ""
           },
           "baxis": {
            "gridcolor": "white",
            "linecolor": "white",
            "ticks": ""
           },
           "bgcolor": "#E5ECF6",
           "caxis": {
            "gridcolor": "white",
            "linecolor": "white",
            "ticks": ""
           }
          },
          "title": {
           "x": 0.05
          },
          "xaxis": {
           "automargin": true,
           "gridcolor": "white",
           "linecolor": "white",
           "ticks": "",
           "title": {
            "standoff": 15
           },
           "zerolinecolor": "white",
           "zerolinewidth": 2
          },
          "yaxis": {
           "automargin": true,
           "gridcolor": "white",
           "linecolor": "white",
           "ticks": "",
           "title": {
            "standoff": 15
           },
           "zerolinecolor": "white",
           "zerolinewidth": 2
          }
         }
        }
       }
      },
      "text/html": [
       "<div>\n",
       "        \n",
       "        \n",
       "            <div id=\"54103be7-2c56-4c88-97b3-a98207a5c36e\" class=\"plotly-graph-div\" style=\"height:525px; width:100%;\"></div>\n",
       "            <script type=\"text/javascript\">\n",
       "                require([\"plotly\"], function(Plotly) {\n",
       "                    window.PLOTLYENV=window.PLOTLYENV || {};\n",
       "                    \n",
       "                if (document.getElementById(\"54103be7-2c56-4c88-97b3-a98207a5c36e\")) {\n",
       "                    Plotly.newPlot(\n",
       "                        '54103be7-2c56-4c88-97b3-a98207a5c36e',\n",
       "                        [{\"colorscale\": [[0.0, \"#440154\"], [0.1111111111111111, \"#482878\"], [0.2222222222222222, \"#3e4989\"], [0.3333333333333333, \"#31688e\"], [0.4444444444444444, \"#26828e\"], [0.5555555555555556, \"#1f9e89\"], [0.6666666666666666, \"#35b779\"], [0.7777777777777778, \"#6ece58\"], [0.8888888888888888, \"#b5de2b\"], [1.0, \"#fde725\"]], \"reversescale\": true, \"showscale\": true, \"type\": \"heatmap\", \"x\": [\"DecisionTreeClassifier\", \"LogisticRegression\", \"AdaBoost\", \"RandomForest\"], \"y\": [\"DecisionTreeClassifier\", \"LogisticRegression\", \"AdaBoost\", \"RandomForest\"], \"z\": [[1.0, 0.8121141000299016, 0.8452743469248161, 0.8723474375605353], [0.8121141000299016, 1.0, 0.9257890312634586, 0.9315986560217339], [0.8452743469248161, 0.9257890312634586, 1.0, 0.94250075128922], [0.8723474375605353, 0.9315986560217339, 0.94250075128922, 1.0]]}],\n",
       "                        {\"template\": {\"data\": {\"bar\": [{\"error_x\": {\"color\": \"#2a3f5f\"}, \"error_y\": {\"color\": \"#2a3f5f\"}, \"marker\": {\"line\": {\"color\": \"#E5ECF6\", \"width\": 0.5}}, \"type\": \"bar\"}], \"barpolar\": [{\"marker\": {\"line\": {\"color\": \"#E5ECF6\", \"width\": 0.5}}, \"type\": \"barpolar\"}], \"carpet\": [{\"aaxis\": {\"endlinecolor\": \"#2a3f5f\", \"gridcolor\": \"white\", \"linecolor\": \"white\", \"minorgridcolor\": \"white\", \"startlinecolor\": \"#2a3f5f\"}, \"baxis\": {\"endlinecolor\": \"#2a3f5f\", \"gridcolor\": \"white\", \"linecolor\": \"white\", \"minorgridcolor\": \"white\", \"startlinecolor\": \"#2a3f5f\"}, \"type\": \"carpet\"}], \"choropleth\": [{\"colorbar\": {\"outlinewidth\": 0, \"ticks\": \"\"}, \"type\": \"choropleth\"}], \"contour\": [{\"colorbar\": {\"outlinewidth\": 0, \"ticks\": \"\"}, \"colorscale\": [[0.0, \"#0d0887\"], [0.1111111111111111, \"#46039f\"], [0.2222222222222222, \"#7201a8\"], [0.3333333333333333, \"#9c179e\"], [0.4444444444444444, \"#bd3786\"], [0.5555555555555556, \"#d8576b\"], [0.6666666666666666, \"#ed7953\"], [0.7777777777777778, \"#fb9f3a\"], [0.8888888888888888, \"#fdca26\"], [1.0, \"#f0f921\"]], \"type\": \"contour\"}], \"contourcarpet\": [{\"colorbar\": {\"outlinewidth\": 0, \"ticks\": \"\"}, \"type\": \"contourcarpet\"}], \"heatmap\": [{\"colorbar\": {\"outlinewidth\": 0, \"ticks\": \"\"}, \"colorscale\": [[0.0, \"#0d0887\"], [0.1111111111111111, \"#46039f\"], [0.2222222222222222, \"#7201a8\"], [0.3333333333333333, \"#9c179e\"], [0.4444444444444444, \"#bd3786\"], [0.5555555555555556, \"#d8576b\"], [0.6666666666666666, \"#ed7953\"], [0.7777777777777778, \"#fb9f3a\"], [0.8888888888888888, \"#fdca26\"], [1.0, \"#f0f921\"]], \"type\": \"heatmap\"}], \"heatmapgl\": [{\"colorbar\": {\"outlinewidth\": 0, \"ticks\": \"\"}, \"colorscale\": [[0.0, \"#0d0887\"], [0.1111111111111111, \"#46039f\"], [0.2222222222222222, \"#7201a8\"], [0.3333333333333333, \"#9c179e\"], [0.4444444444444444, \"#bd3786\"], [0.5555555555555556, \"#d8576b\"], [0.6666666666666666, \"#ed7953\"], [0.7777777777777778, \"#fb9f3a\"], [0.8888888888888888, \"#fdca26\"], [1.0, \"#f0f921\"]], \"type\": \"heatmapgl\"}], \"histogram\": [{\"marker\": {\"colorbar\": {\"outlinewidth\": 0, \"ticks\": \"\"}}, \"type\": \"histogram\"}], \"histogram2d\": [{\"colorbar\": {\"outlinewidth\": 0, \"ticks\": \"\"}, \"colorscale\": [[0.0, \"#0d0887\"], [0.1111111111111111, \"#46039f\"], [0.2222222222222222, \"#7201a8\"], [0.3333333333333333, \"#9c179e\"], [0.4444444444444444, \"#bd3786\"], [0.5555555555555556, \"#d8576b\"], [0.6666666666666666, \"#ed7953\"], [0.7777777777777778, \"#fb9f3a\"], [0.8888888888888888, \"#fdca26\"], [1.0, \"#f0f921\"]], \"type\": \"histogram2d\"}], \"histogram2dcontour\": [{\"colorbar\": {\"outlinewidth\": 0, \"ticks\": \"\"}, \"colorscale\": [[0.0, \"#0d0887\"], [0.1111111111111111, \"#46039f\"], [0.2222222222222222, \"#7201a8\"], [0.3333333333333333, \"#9c179e\"], [0.4444444444444444, \"#bd3786\"], [0.5555555555555556, \"#d8576b\"], [0.6666666666666666, \"#ed7953\"], [0.7777777777777778, \"#fb9f3a\"], [0.8888888888888888, \"#fdca26\"], [1.0, \"#f0f921\"]], \"type\": \"histogram2dcontour\"}], \"mesh3d\": [{\"colorbar\": {\"outlinewidth\": 0, \"ticks\": \"\"}, \"type\": \"mesh3d\"}], \"parcoords\": [{\"line\": {\"colorbar\": {\"outlinewidth\": 0, \"ticks\": \"\"}}, \"type\": \"parcoords\"}], \"pie\": [{\"automargin\": true, \"type\": \"pie\"}], \"scatter\": [{\"marker\": {\"colorbar\": {\"outlinewidth\": 0, \"ticks\": \"\"}}, \"type\": \"scatter\"}], \"scatter3d\": [{\"line\": {\"colorbar\": {\"outlinewidth\": 0, \"ticks\": \"\"}}, \"marker\": {\"colorbar\": {\"outlinewidth\": 0, \"ticks\": \"\"}}, \"type\": \"scatter3d\"}], \"scattercarpet\": [{\"marker\": {\"colorbar\": {\"outlinewidth\": 0, \"ticks\": \"\"}}, \"type\": \"scattercarpet\"}], \"scattergeo\": [{\"marker\": {\"colorbar\": {\"outlinewidth\": 0, \"ticks\": \"\"}}, \"type\": \"scattergeo\"}], \"scattergl\": [{\"marker\": {\"colorbar\": {\"outlinewidth\": 0, \"ticks\": \"\"}}, \"type\": \"scattergl\"}], \"scattermapbox\": [{\"marker\": {\"colorbar\": {\"outlinewidth\": 0, \"ticks\": \"\"}}, \"type\": \"scattermapbox\"}], \"scatterpolar\": [{\"marker\": {\"colorbar\": {\"outlinewidth\": 0, \"ticks\": \"\"}}, \"type\": \"scatterpolar\"}], \"scatterpolargl\": [{\"marker\": {\"colorbar\": {\"outlinewidth\": 0, \"ticks\": \"\"}}, \"type\": \"scatterpolargl\"}], \"scatterternary\": [{\"marker\": {\"colorbar\": {\"outlinewidth\": 0, \"ticks\": \"\"}}, \"type\": \"scatterternary\"}], \"surface\": [{\"colorbar\": {\"outlinewidth\": 0, \"ticks\": \"\"}, \"colorscale\": [[0.0, \"#0d0887\"], [0.1111111111111111, \"#46039f\"], [0.2222222222222222, \"#7201a8\"], [0.3333333333333333, \"#9c179e\"], [0.4444444444444444, \"#bd3786\"], [0.5555555555555556, \"#d8576b\"], [0.6666666666666666, \"#ed7953\"], [0.7777777777777778, \"#fb9f3a\"], [0.8888888888888888, \"#fdca26\"], [1.0, \"#f0f921\"]], \"type\": \"surface\"}], \"table\": [{\"cells\": {\"fill\": {\"color\": \"#EBF0F8\"}, \"line\": {\"color\": \"white\"}}, \"header\": {\"fill\": {\"color\": \"#C8D4E3\"}, \"line\": {\"color\": \"white\"}}, \"type\": \"table\"}]}, \"layout\": {\"annotationdefaults\": {\"arrowcolor\": \"#2a3f5f\", \"arrowhead\": 0, \"arrowwidth\": 1}, \"coloraxis\": {\"colorbar\": {\"outlinewidth\": 0, \"ticks\": \"\"}}, \"colorscale\": {\"diverging\": [[0, \"#8e0152\"], [0.1, \"#c51b7d\"], [0.2, \"#de77ae\"], [0.3, \"#f1b6da\"], [0.4, \"#fde0ef\"], [0.5, \"#f7f7f7\"], [0.6, \"#e6f5d0\"], [0.7, \"#b8e186\"], [0.8, \"#7fbc41\"], [0.9, \"#4d9221\"], [1, \"#276419\"]], \"sequential\": [[0.0, \"#0d0887\"], [0.1111111111111111, \"#46039f\"], [0.2222222222222222, \"#7201a8\"], [0.3333333333333333, \"#9c179e\"], [0.4444444444444444, \"#bd3786\"], [0.5555555555555556, \"#d8576b\"], [0.6666666666666666, \"#ed7953\"], [0.7777777777777778, \"#fb9f3a\"], [0.8888888888888888, \"#fdca26\"], [1.0, \"#f0f921\"]], \"sequentialminus\": [[0.0, \"#0d0887\"], [0.1111111111111111, \"#46039f\"], [0.2222222222222222, \"#7201a8\"], [0.3333333333333333, \"#9c179e\"], [0.4444444444444444, \"#bd3786\"], [0.5555555555555556, \"#d8576b\"], [0.6666666666666666, \"#ed7953\"], [0.7777777777777778, \"#fb9f3a\"], [0.8888888888888888, \"#fdca26\"], [1.0, \"#f0f921\"]]}, \"colorway\": [\"#636efa\", \"#EF553B\", \"#00cc96\", \"#ab63fa\", \"#FFA15A\", \"#19d3f3\", \"#FF6692\", \"#B6E880\", \"#FF97FF\", \"#FECB52\"], \"font\": {\"color\": \"#2a3f5f\"}, \"geo\": {\"bgcolor\": \"white\", \"lakecolor\": \"white\", \"landcolor\": \"#E5ECF6\", \"showlakes\": true, \"showland\": true, \"subunitcolor\": \"white\"}, \"hoverlabel\": {\"align\": \"left\"}, \"hovermode\": \"closest\", \"mapbox\": {\"style\": \"light\"}, \"paper_bgcolor\": \"white\", \"plot_bgcolor\": \"#E5ECF6\", \"polar\": {\"angularaxis\": {\"gridcolor\": \"white\", \"linecolor\": \"white\", \"ticks\": \"\"}, \"bgcolor\": \"#E5ECF6\", \"radialaxis\": {\"gridcolor\": \"white\", \"linecolor\": \"white\", \"ticks\": \"\"}}, \"scene\": {\"xaxis\": {\"backgroundcolor\": \"#E5ECF6\", \"gridcolor\": \"white\", \"gridwidth\": 2, \"linecolor\": \"white\", \"showbackground\": true, \"ticks\": \"\", \"zerolinecolor\": \"white\"}, \"yaxis\": {\"backgroundcolor\": \"#E5ECF6\", \"gridcolor\": \"white\", \"gridwidth\": 2, \"linecolor\": \"white\", \"showbackground\": true, \"ticks\": \"\", \"zerolinecolor\": \"white\"}, \"zaxis\": {\"backgroundcolor\": \"#E5ECF6\", \"gridcolor\": \"white\", \"gridwidth\": 2, \"linecolor\": \"white\", \"showbackground\": true, \"ticks\": \"\", \"zerolinecolor\": \"white\"}}, \"shapedefaults\": {\"line\": {\"color\": \"#2a3f5f\"}}, \"ternary\": {\"aaxis\": {\"gridcolor\": \"white\", \"linecolor\": \"white\", \"ticks\": \"\"}, \"baxis\": {\"gridcolor\": \"white\", \"linecolor\": \"white\", \"ticks\": \"\"}, \"bgcolor\": \"#E5ECF6\", \"caxis\": {\"gridcolor\": \"white\", \"linecolor\": \"white\", \"ticks\": \"\"}}, \"title\": {\"x\": 0.05}, \"xaxis\": {\"automargin\": true, \"gridcolor\": \"white\", \"linecolor\": \"white\", \"ticks\": \"\", \"title\": {\"standoff\": 15}, \"zerolinecolor\": \"white\", \"zerolinewidth\": 2}, \"yaxis\": {\"automargin\": true, \"gridcolor\": \"white\", \"linecolor\": \"white\", \"ticks\": \"\", \"title\": {\"standoff\": 15}, \"zerolinecolor\": \"white\", \"zerolinewidth\": 2}}}},\n",
       "                        {\"responsive\": true}\n",
       "                    ).then(function(){\n",
       "                            \n",
       "var gd = document.getElementById('54103be7-2c56-4c88-97b3-a98207a5c36e');\n",
       "var x = new MutationObserver(function (mutations, observer) {{\n",
       "        var display = window.getComputedStyle(gd).display;\n",
       "        if (!display || display === 'none') {{\n",
       "            console.log([gd, 'removed!']);\n",
       "            Plotly.purge(gd);\n",
       "            observer.disconnect();\n",
       "        }}\n",
       "}});\n",
       "\n",
       "// Listen for the removal of the full notebook cells\n",
       "var notebookContainer = gd.closest('#notebook-container');\n",
       "if (notebookContainer) {{\n",
       "    x.observe(notebookContainer, {childList: true});\n",
       "}}\n",
       "\n",
       "// Listen for the clearing of the current output cell\n",
       "var outputEl = gd.closest('.output');\n",
       "if (outputEl) {{\n",
       "    x.observe(outputEl, {childList: true});\n",
       "}}\n",
       "\n",
       "                        })\n",
       "                };\n",
       "                });\n",
       "            </script>\n",
       "        </div>"
      ]
     },
     "metadata": {},
     "output_type": "display_data"
    }
   ],
   "source": [
    "import plotly.offline as py\n",
    "py.init_notebook_mode(connected=True)\n",
    "import plotly.graph_objs as go\n",
    "import plotly.tools as tls\n",
    "\n",
    "data = [\n",
    "    go.Heatmap(\n",
    "        z= base_predictions_train.astype(float).corr().values ,\n",
    "        x=base_predictions_train.columns.values,\n",
    "        y= base_predictions_train.columns.values,\n",
    "          colorscale='Viridis',\n",
    "            showscale=True,\n",
    "            reversescale = True\n",
    "    )\n",
    "]\n",
    "py.iplot(data, filename='labelled-heatmap')"
   ]
  },
  {
   "cell_type": "code",
   "execution_count": 109,
   "metadata": {},
   "outputs": [],
   "source": [
    "x_train = np.concatenate(( dtr.predict(X_train).reshape(-1,1), lr.predict(X_train).reshape(-1,1), \n",
    "                          adr.predict(X_train).reshape(-1,1), rf_search.predict(X_train).reshape(-1,1)), axis=1)\n",
    "x_test = np.concatenate(( dtr_yhat.reshape(-1,1), lr_yhat.reshape(-1,1),\n",
    "                         adr_yhat.reshape(-1,1), rf_yhat.reshape(-1,1)), axis=1)"
   ]
  },
  {
   "cell_type": "code",
   "execution_count": 116,
   "metadata": {},
   "outputs": [],
   "source": [
    "df_train = pd.DataFrame()"
   ]
  },
  {
   "cell_type": "code",
   "execution_count": 126,
   "metadata": {},
   "outputs": [],
   "source": [
    "df_train['DecisionTreeClassifier']=dtr.predict(X_train)\n",
    "df_train['LogisticRegression']=lr.predict(X_train)\n",
    "df_train['AdaBoost']=adr.predict(X_train)\n",
    "df_train['RandomForest']=rf_search.predict(X_train)"
   ]
  },
  {
   "cell_type": "code",
   "execution_count": 127,
   "metadata": {},
   "outputs": [],
   "source": [
    "x_train = df_train"
   ]
  },
  {
   "cell_type": "code",
   "execution_count": 129,
   "metadata": {},
   "outputs": [],
   "source": [
    "df_test = pd.DataFrame()"
   ]
  },
  {
   "cell_type": "code",
   "execution_count": 130,
   "metadata": {},
   "outputs": [],
   "source": [
    "df_test['DecisionTreeClassifier']=dtr_yhat\n",
    "df_test['LogisticRegression']=lr_yhat\n",
    "df_test['AdaBoost']=adr_yhat\n",
    "df_test['RandomForest']=rf_yhat"
   ]
  },
  {
   "cell_type": "code",
   "execution_count": 131,
   "metadata": {},
   "outputs": [],
   "source": [
    "x_test = df_test"
   ]
  },
  {
   "cell_type": "code",
   "execution_count": 140,
   "metadata": {},
   "outputs": [],
   "source": [
    "df_test_set = pd.DataFrame()"
   ]
  },
  {
   "cell_type": "code",
   "execution_count": 141,
   "metadata": {},
   "outputs": [],
   "source": [
    "df_test_set['DecisionTreeClassifier']=dtr_ytest\n",
    "df_test_set['LogisticRegression']=lr_ytest\n",
    "df_test_set['AdaBoost']=adr_ytest\n",
    "df_test_set['RandomForest']=rf_ytest"
   ]
  },
  {
   "cell_type": "code",
   "execution_count": 143,
   "metadata": {},
   "outputs": [],
   "source": [
    "test_df=df_test_set"
   ]
  },
  {
   "cell_type": "markdown",
   "metadata": {},
   "source": [
    "## XGBoost "
   ]
  },
  {
   "cell_type": "code",
   "execution_count": 110,
   "metadata": {},
   "outputs": [],
   "source": [
    "import xgboost as xgb\n",
    "from xgboost import XGBRegressor"
   ]
  },
  {
   "cell_type": "code",
   "execution_count": 111,
   "metadata": {},
   "outputs": [],
   "source": [
    "params_xgb = {'colsample_bytree': 0.8,                 \n",
    "              'learning_rate': 0.0003,\n",
    "              'max_depth': 31,\n",
    "              'subsample': 1,\n",
    "              'objective':'binary:logistic',\n",
    "              'eval_metric':'logloss',\n",
    "              'min_child_weight':3,\n",
    "              'gamma':0.25,\n",
    "              'n_estimators':5000,\n",
    "              'verbosity':0\n",
    "              }"
   ]
  },
  {
   "cell_type": "code",
   "execution_count": 144,
   "metadata": {
    "scrolled": true
   },
   "outputs": [
    {
     "name": "stdout",
     "output_type": "stream",
     "text": [
      "Fold: 1\n",
      "[0]\ttrain-logloss:0.693087\tval-logloss:0.693085\n",
      "[100]\ttrain-logloss:0.687423\tval-logloss:0.687174\n",
      "[200]\ttrain-logloss:0.682091\tval-logloss:0.681607\n",
      "[300]\ttrain-logloss:0.677049\tval-logloss:0.676319\n",
      "[400]\ttrain-logloss:0.672283\tval-logloss:0.671325\n",
      "[500]\ttrain-logloss:0.667809\tval-logloss:0.66663\n",
      "[600]\ttrain-logloss:0.66357\tval-logloss:0.662188\n",
      "[700]\ttrain-logloss:0.659568\tval-logloss:0.657959\n",
      "[800]\ttrain-logloss:0.655786\tval-logloss:0.653989\n",
      "[900]\ttrain-logloss:0.652215\tval-logloss:0.650213\n",
      "[1000]\ttrain-logloss:0.64884\tval-logloss:0.646621\n",
      "[1100]\ttrain-logloss:0.645639\tval-logloss:0.643213\n",
      "[1200]\ttrain-logloss:0.642616\tval-logloss:0.639994\n",
      "[1300]\ttrain-logloss:0.639761\tval-logloss:0.636944\n",
      "[1400]\ttrain-logloss:0.637065\tval-logloss:0.634064\n",
      "[1500]\ttrain-logloss:0.634508\tval-logloss:0.63133\n",
      "[1600]\ttrain-logloss:0.632099\tval-logloss:0.628735\n",
      "[1700]\ttrain-logloss:0.629806\tval-logloss:0.626272\n",
      "[1800]\ttrain-logloss:0.627628\tval-logloss:0.623929\n",
      "[1900]\ttrain-logloss:0.625579\tval-logloss:0.621709\n",
      "[2000]\ttrain-logloss:0.623642\tval-logloss:0.619611\n",
      "[2100]\ttrain-logloss:0.621804\tval-logloss:0.617619\n",
      "[2200]\ttrain-logloss:0.620075\tval-logloss:0.615731\n",
      "[2300]\ttrain-logloss:0.618434\tval-logloss:0.61393\n",
      "[2400]\ttrain-logloss:0.616877\tval-logloss:0.612238\n",
      "[2500]\ttrain-logloss:0.615404\tval-logloss:0.610617\n",
      "[2600]\ttrain-logloss:0.614006\tval-logloss:0.60909\n",
      "[2700]\ttrain-logloss:0.612683\tval-logloss:0.607635\n",
      "[2800]\ttrain-logloss:0.611433\tval-logloss:0.606255\n",
      "[2900]\ttrain-logloss:0.610253\tval-logloss:0.604942\n",
      "[3000]\ttrain-logloss:0.609124\tval-logloss:0.603692\n",
      "[3100]\ttrain-logloss:0.608068\tval-logloss:0.602509\n",
      "[3200]\ttrain-logloss:0.607055\tval-logloss:0.601374\n",
      "[3300]\ttrain-logloss:0.606105\tval-logloss:0.600311\n",
      "[3400]\ttrain-logloss:0.605206\tval-logloss:0.599306\n",
      "[3500]\ttrain-logloss:0.604353\tval-logloss:0.598353\n",
      "[3600]\ttrain-logloss:0.603549\tval-logloss:0.597443\n",
      "[3700]\ttrain-logloss:0.602788\tval-logloss:0.596576\n",
      "[3800]\ttrain-logloss:0.602066\tval-logloss:0.59576\n",
      "[3900]\ttrain-logloss:0.601385\tval-logloss:0.594983\n",
      "[4000]\ttrain-logloss:0.600729\tval-logloss:0.59425\n",
      "[4100]\ttrain-logloss:0.600116\tval-logloss:0.593538\n",
      "[4200]\ttrain-logloss:0.599534\tval-logloss:0.592869\n",
      "[4300]\ttrain-logloss:0.598977\tval-logloss:0.592242\n",
      "[4400]\ttrain-logloss:0.598455\tval-logloss:0.59164\n",
      "[4500]\ttrain-logloss:0.59796\tval-logloss:0.591076\n",
      "[4600]\ttrain-logloss:0.597492\tval-logloss:0.590539\n",
      "[4700]\ttrain-logloss:0.597049\tval-logloss:0.590023\n",
      "[4800]\ttrain-logloss:0.596627\tval-logloss:0.589541\n",
      "[4900]\ttrain-logloss:0.596225\tval-logloss:0.589081\n",
      "[4999]\ttrain-logloss:0.59585\tval-logloss:0.588648\n",
      "Fold: 2\n",
      "[0]\ttrain-logloss:0.693085\tval-logloss:0.693094\n",
      "[100]\ttrain-logloss:0.6872\tval-logloss:0.688013\n",
      "[200]\ttrain-logloss:0.68166\tval-logloss:0.68325\n",
      "[300]\ttrain-logloss:0.676415\tval-logloss:0.678764\n",
      "[400]\ttrain-logloss:0.671461\tval-logloss:0.674551\n",
      "[500]\ttrain-logloss:0.666814\tval-logloss:0.67061\n",
      "[600]\ttrain-logloss:0.662411\tval-logloss:0.666902\n",
      "[700]\ttrain-logloss:0.658254\tval-logloss:0.663417\n",
      "[800]\ttrain-logloss:0.654327\tval-logloss:0.660144\n",
      "[900]\ttrain-logloss:0.650619\tval-logloss:0.657072\n",
      "[1000]\ttrain-logloss:0.647111\tval-logloss:0.654185\n",
      "[1100]\ttrain-logloss:0.643789\tval-logloss:0.651467\n",
      "[1200]\ttrain-logloss:0.640646\tval-logloss:0.648915\n",
      "[1300]\ttrain-logloss:0.637688\tval-logloss:0.646523\n",
      "[1400]\ttrain-logloss:0.634884\tval-logloss:0.644273\n",
      "[1500]\ttrain-logloss:0.632227\tval-logloss:0.64216\n",
      "[1600]\ttrain-logloss:0.629723\tval-logloss:0.640181\n",
      "[1700]\ttrain-logloss:0.627344\tval-logloss:0.638318\n",
      "[1800]\ttrain-logloss:0.625083\tval-logloss:0.636567\n",
      "[1900]\ttrain-logloss:0.622954\tval-logloss:0.634929\n",
      "[2000]\ttrain-logloss:0.620949\tval-logloss:0.633395\n",
      "[2100]\ttrain-logloss:0.619038\tval-logloss:0.631956\n",
      "[2200]\ttrain-logloss:0.617234\tval-logloss:0.630607\n",
      "[2300]\ttrain-logloss:0.615536\tval-logloss:0.629347\n",
      "[2400]\ttrain-logloss:0.613921\tval-logloss:0.628164\n",
      "[2500]\ttrain-logloss:0.61239\tval-logloss:0.627057\n",
      "[2600]\ttrain-logloss:0.610936\tval-logloss:0.626022\n",
      "[2700]\ttrain-logloss:0.609571\tval-logloss:0.625055\n",
      "[2800]\ttrain-logloss:0.608272\tval-logloss:0.62415\n",
      "[2900]\ttrain-logloss:0.607042\tval-logloss:0.623306\n",
      "[3000]\ttrain-logloss:0.605874\tval-logloss:0.622517\n",
      "[3100]\ttrain-logloss:0.60477\tval-logloss:0.621781\n",
      "[3200]\ttrain-logloss:0.603723\tval-logloss:0.621096\n",
      "[3300]\ttrain-logloss:0.602737\tval-logloss:0.620458\n",
      "[3400]\ttrain-logloss:0.601806\tval-logloss:0.619866\n",
      "[3500]\ttrain-logloss:0.600926\tval-logloss:0.619314\n",
      "[3600]\ttrain-logloss:0.600091\tval-logloss:0.618801\n",
      "[3700]\ttrain-logloss:0.599294\tval-logloss:0.618325\n",
      "[3800]\ttrain-logloss:0.598548\tval-logloss:0.617882\n",
      "[3900]\ttrain-logloss:0.597841\tval-logloss:0.617472\n",
      "[4000]\ttrain-logloss:0.597169\tval-logloss:0.617091\n",
      "[4100]\ttrain-logloss:0.596527\tval-logloss:0.616741\n",
      "[4200]\ttrain-logloss:0.595921\tval-logloss:0.616416\n",
      "[4300]\ttrain-logloss:0.595351\tval-logloss:0.616114\n",
      "[4400]\ttrain-logloss:0.594815\tval-logloss:0.615839\n",
      "[4500]\ttrain-logloss:0.594303\tval-logloss:0.615583\n",
      "[4600]\ttrain-logloss:0.59382\tval-logloss:0.615348\n",
      "[4700]\ttrain-logloss:0.593357\tval-logloss:0.615133\n",
      "[4800]\ttrain-logloss:0.592924\tval-logloss:0.614936\n",
      "[4900]\ttrain-logloss:0.592516\tval-logloss:0.614756\n",
      "[4999]\ttrain-logloss:0.592129\tval-logloss:0.614594\n",
      "Fold: 3\n",
      "[0]\ttrain-logloss:0.693087\tval-logloss:0.693088\n",
      "[100]\ttrain-logloss:0.68737\tval-logloss:0.687354\n",
      "[200]\ttrain-logloss:0.681997\tval-logloss:0.681949\n",
      "[300]\ttrain-logloss:0.676901\tval-logloss:0.676834\n",
      "[400]\ttrain-logloss:0.67209\tval-logloss:0.672003\n",
      "[500]\ttrain-logloss:0.667581\tval-logloss:0.667455\n",
      "[600]\ttrain-logloss:0.663313\tval-logloss:0.663151\n",
      "[700]\ttrain-logloss:0.659278\tval-logloss:0.65908\n",
      "[800]\ttrain-logloss:0.655467\tval-logloss:0.655232\n",
      "[900]\ttrain-logloss:0.651869\tval-logloss:0.651596\n",
      "[1000]\ttrain-logloss:0.648463\tval-logloss:0.648155\n",
      "[1100]\ttrain-logloss:0.645242\tval-logloss:0.644895\n",
      "[1200]\ttrain-logloss:0.642192\tval-logloss:0.641812\n",
      "[1300]\ttrain-logloss:0.639323\tval-logloss:0.638897\n",
      "[1400]\ttrain-logloss:0.636601\tval-logloss:0.636137\n",
      "[1500]\ttrain-logloss:0.634025\tval-logloss:0.633522\n",
      "[1600]\ttrain-logloss:0.631601\tval-logloss:0.631049\n",
      "[1700]\ttrain-logloss:0.629297\tval-logloss:0.628703\n",
      "[1800]\ttrain-logloss:0.627108\tval-logloss:0.626477\n",
      "[1900]\ttrain-logloss:0.625044\tval-logloss:0.624373\n",
      "[2000]\ttrain-logloss:0.623093\tval-logloss:0.622381\n",
      "[2100]\ttrain-logloss:0.621248\tval-logloss:0.620493\n",
      "[2200]\ttrain-logloss:0.619505\tval-logloss:0.618706\n",
      "[2300]\ttrain-logloss:0.617862\tval-logloss:0.617013\n",
      "[2400]\ttrain-logloss:0.616301\tval-logloss:0.615409\n",
      "[2500]\ttrain-logloss:0.614818\tval-logloss:0.613887\n",
      "[2600]\ttrain-logloss:0.613414\tval-logloss:0.612446\n",
      "[2700]\ttrain-logloss:0.612089\tval-logloss:0.61108\n",
      "[2800]\ttrain-logloss:0.610832\tval-logloss:0.609784\n",
      "[2900]\ttrain-logloss:0.60965\tval-logloss:0.608552\n",
      "[3000]\ttrain-logloss:0.608518\tval-logloss:0.607384\n",
      "[3100]\ttrain-logloss:0.607457\tval-logloss:0.606278\n",
      "[3200]\ttrain-logloss:0.60644\tval-logloss:0.605228\n",
      "[3300]\ttrain-logloss:0.605494\tval-logloss:0.604233\n",
      "[3400]\ttrain-logloss:0.604593\tval-logloss:0.603292\n",
      "[3500]\ttrain-logloss:0.603742\tval-logloss:0.602398\n",
      "[3600]\ttrain-logloss:0.602941\tval-logloss:0.60155\n",
      "[3700]\ttrain-logloss:0.602173\tval-logloss:0.600745\n",
      "[3800]\ttrain-logloss:0.601451\tval-logloss:0.599982\n",
      "[3900]\ttrain-logloss:0.600766\tval-logloss:0.599258\n",
      "[4000]\ttrain-logloss:0.600121\tval-logloss:0.598572\n",
      "[4100]\ttrain-logloss:0.599502\tval-logloss:0.597919\n",
      "[4200]\ttrain-logloss:0.598926\tval-logloss:0.597301\n",
      "[4300]\ttrain-logloss:0.598374\tval-logloss:0.596714\n",
      "[4400]\ttrain-logloss:0.597855\tval-logloss:0.596156\n",
      "[4500]\ttrain-logloss:0.597364\tval-logloss:0.595627\n",
      "[4600]\ttrain-logloss:0.596893\tval-logloss:0.595125\n",
      "[4700]\ttrain-logloss:0.596456\tval-logloss:0.594648\n",
      "[4800]\ttrain-logloss:0.59604\tval-logloss:0.594196\n",
      "[4900]\ttrain-logloss:0.595648\tval-logloss:0.593767\n",
      "[4999]\ttrain-logloss:0.595276\tval-logloss:0.593363\n",
      "Fold: 4\n",
      "[0]\ttrain-logloss:0.693088\tval-logloss:0.693081\n",
      "[100]\ttrain-logloss:0.687483\tval-logloss:0.686777\n",
      "[200]\ttrain-logloss:0.682209\tval-logloss:0.680835\n",
      "[300]\ttrain-logloss:0.677213\tval-logloss:0.675192\n",
      "[400]\ttrain-logloss:0.672498\tval-logloss:0.669855\n",
      "[500]\ttrain-logloss:0.668071\tval-logloss:0.66483\n",
      "[600]\ttrain-logloss:0.66388\tval-logloss:0.660067\n",
      "[700]\ttrain-logloss:0.659924\tval-logloss:0.65554\n",
      "[800]\ttrain-logloss:0.656175\tval-logloss:0.651275\n"
     ]
    },
    {
     "name": "stdout",
     "output_type": "stream",
     "text": [
      "[900]\ttrain-logloss:0.652642\tval-logloss:0.64722\n",
      "[1000]\ttrain-logloss:0.649309\tval-logloss:0.64336\n",
      "[1100]\ttrain-logloss:0.646144\tval-logloss:0.639694\n",
      "[1200]\ttrain-logloss:0.643155\tval-logloss:0.636225\n",
      "[1300]\ttrain-logloss:0.640339\tval-logloss:0.632941\n",
      "[1400]\ttrain-logloss:0.637668\tval-logloss:0.629827\n",
      "[1500]\ttrain-logloss:0.635137\tval-logloss:0.626868\n",
      "[1600]\ttrain-logloss:0.632757\tval-logloss:0.62406\n",
      "[1700]\ttrain-logloss:0.630492\tval-logloss:0.621392\n",
      "[1800]\ttrain-logloss:0.628343\tval-logloss:0.618851\n",
      "[1900]\ttrain-logloss:0.626317\tval-logloss:0.616442\n",
      "[2000]\ttrain-logloss:0.624406\tval-logloss:0.614155\n",
      "[2100]\ttrain-logloss:0.622595\tval-logloss:0.611977\n",
      "[2200]\ttrain-logloss:0.620885\tval-logloss:0.609911\n",
      "[2300]\ttrain-logloss:0.619263\tval-logloss:0.607941\n",
      "[2400]\ttrain-logloss:0.617735\tval-logloss:0.606076\n",
      "[2500]\ttrain-logloss:0.616281\tval-logloss:0.604299\n",
      "[2600]\ttrain-logloss:0.614901\tval-logloss:0.602608\n",
      "[2700]\ttrain-logloss:0.613603\tval-logloss:0.601003\n",
      "[2800]\ttrain-logloss:0.612379\tval-logloss:0.59947\n",
      "[2900]\ttrain-logloss:0.611213\tval-logloss:0.598018\n",
      "[3000]\ttrain-logloss:0.610102\tval-logloss:0.59663\n",
      "[3100]\ttrain-logloss:0.609058\tval-logloss:0.595312\n",
      "[3200]\ttrain-logloss:0.608068\tval-logloss:0.594051\n",
      "[3300]\ttrain-logloss:0.607131\tval-logloss:0.592861\n",
      "[3400]\ttrain-logloss:0.606255\tval-logloss:0.591727\n",
      "[3500]\ttrain-logloss:0.605416\tval-logloss:0.590653\n",
      "[3600]\ttrain-logloss:0.604628\tval-logloss:0.589625\n",
      "[3700]\ttrain-logloss:0.603876\tval-logloss:0.588643\n",
      "[3800]\ttrain-logloss:0.60317\tval-logloss:0.587713\n",
      "[3900]\ttrain-logloss:0.602498\tval-logloss:0.586826\n",
      "[4000]\ttrain-logloss:0.601862\tval-logloss:0.585982\n",
      "[4100]\ttrain-logloss:0.60126\tval-logloss:0.585171\n",
      "[4200]\ttrain-logloss:0.600688\tval-logloss:0.5844\n",
      "[4300]\ttrain-logloss:0.600151\tval-logloss:0.583667\n",
      "[4400]\ttrain-logloss:0.599643\tval-logloss:0.582968\n",
      "[4500]\ttrain-logloss:0.59916\tval-logloss:0.582304\n",
      "[4600]\ttrain-logloss:0.598701\tval-logloss:0.581667\n",
      "[4700]\ttrain-logloss:0.598266\tval-logloss:0.581057\n",
      "[4800]\ttrain-logloss:0.597856\tval-logloss:0.580479\n",
      "[4900]\ttrain-logloss:0.59747\tval-logloss:0.579926\n",
      "[4999]\ttrain-logloss:0.597103\tval-logloss:0.579404\n",
      "Fold: 5\n",
      "[0]\ttrain-logloss:0.693086\tval-logloss:0.69309\n",
      "[100]\ttrain-logloss:0.687291\tval-logloss:0.6877\n",
      "[200]\ttrain-logloss:0.681836\tval-logloss:0.682634\n",
      "[300]\ttrain-logloss:0.676675\tval-logloss:0.677844\n",
      "[400]\ttrain-logloss:0.671801\tval-logloss:0.673321\n",
      "[500]\ttrain-logloss:0.667224\tval-logloss:0.669092\n",
      "[600]\ttrain-logloss:0.662893\tval-logloss:0.665086\n",
      "[700]\ttrain-logloss:0.658796\tval-logloss:0.661316\n",
      "[800]\ttrain-logloss:0.654937\tval-logloss:0.657746\n",
      "[900]\ttrain-logloss:0.651282\tval-logloss:0.654394\n",
      "[1000]\ttrain-logloss:0.647829\tval-logloss:0.651234\n",
      "[1100]\ttrain-logloss:0.644558\tval-logloss:0.648238\n",
      "[1200]\ttrain-logloss:0.641467\tval-logloss:0.645411\n",
      "[1300]\ttrain-logloss:0.638548\tval-logloss:0.642758\n",
      "[1400]\ttrain-logloss:0.63579\tval-logloss:0.640243\n",
      "[1500]\ttrain-logloss:0.633176\tval-logloss:0.637868\n",
      "[1600]\ttrain-logloss:0.630711\tval-logloss:0.635641\n",
      "[1700]\ttrain-logloss:0.628367\tval-logloss:0.633523\n",
      "[1800]\ttrain-logloss:0.626149\tval-logloss:0.63151\n",
      "[1900]\ttrain-logloss:0.624055\tval-logloss:0.629624\n",
      "[2000]\ttrain-logloss:0.62208\tval-logloss:0.627852\n",
      "[2100]\ttrain-logloss:0.620205\tval-logloss:0.626174\n",
      "[2200]\ttrain-logloss:0.61843\tval-logloss:0.624593\n",
      "[2300]\ttrain-logloss:0.616754\tval-logloss:0.623112\n",
      "[2400]\ttrain-logloss:0.615164\tval-logloss:0.621703\n",
      "[2500]\ttrain-logloss:0.613659\tval-logloss:0.620373\n",
      "[2600]\ttrain-logloss:0.612236\tval-logloss:0.619115\n",
      "[2700]\ttrain-logloss:0.610887\tval-logloss:0.617933\n",
      "[2800]\ttrain-logloss:0.609614\tval-logloss:0.61682\n",
      "[2900]\ttrain-logloss:0.608411\tval-logloss:0.615777\n",
      "[3000]\ttrain-logloss:0.607261\tval-logloss:0.614778\n",
      "[3100]\ttrain-logloss:0.606182\tval-logloss:0.613845\n",
      "[3200]\ttrain-logloss:0.605155\tval-logloss:0.612961\n",
      "[3300]\ttrain-logloss:0.604188\tval-logloss:0.612135\n",
      "[3400]\ttrain-logloss:0.603271\tval-logloss:0.611358\n",
      "[3500]\ttrain-logloss:0.602404\tval-logloss:0.610629\n",
      "[3600]\ttrain-logloss:0.601583\tval-logloss:0.60995\n",
      "[3700]\ttrain-logloss:0.600803\tval-logloss:0.609299\n",
      "[3800]\ttrain-logloss:0.600071\tval-logloss:0.608691\n",
      "[3900]\ttrain-logloss:0.599376\tval-logloss:0.608119\n",
      "[4000]\ttrain-logloss:0.598715\tval-logloss:0.607575\n",
      "[4100]\ttrain-logloss:0.598091\tval-logloss:0.607059\n",
      "[4200]\ttrain-logloss:0.597505\tval-logloss:0.606578\n",
      "[4300]\ttrain-logloss:0.596948\tval-logloss:0.606125\n",
      "[4400]\ttrain-logloss:0.596416\tval-logloss:0.605698\n",
      "[4500]\ttrain-logloss:0.595923\tval-logloss:0.605298\n",
      "[4600]\ttrain-logloss:0.595453\tval-logloss:0.604915\n",
      "[4700]\ttrain-logloss:0.595003\tval-logloss:0.604546\n",
      "[4800]\ttrain-logloss:0.594581\tval-logloss:0.604197\n",
      "[4900]\ttrain-logloss:0.59418\tval-logloss:0.603872\n",
      "[4999]\ttrain-logloss:0.593802\tval-logloss:0.60356\n",
      "Fold: 6\n",
      "[0]\ttrain-logloss:0.693085\tval-logloss:0.693093\n",
      "[100]\ttrain-logloss:0.687191\tval-logloss:0.68799\n",
      "[200]\ttrain-logloss:0.681647\tval-logloss:0.683211\n",
      "[300]\ttrain-logloss:0.676394\tval-logloss:0.678716\n",
      "[400]\ttrain-logloss:0.671435\tval-logloss:0.674502\n",
      "[500]\ttrain-logloss:0.666778\tval-logloss:0.670559\n",
      "[600]\ttrain-logloss:0.662364\tval-logloss:0.666858\n",
      "[700]\ttrain-logloss:0.658199\tval-logloss:0.663377\n",
      "[800]\ttrain-logloss:0.654266\tval-logloss:0.660121\n",
      "[900]\ttrain-logloss:0.650546\tval-logloss:0.657061\n",
      "[1000]\ttrain-logloss:0.647036\tval-logloss:0.654182\n",
      "[1100]\ttrain-logloss:0.643699\tval-logloss:0.65148\n",
      "[1200]\ttrain-logloss:0.640552\tval-logloss:0.64895\n",
      "[1300]\ttrain-logloss:0.637581\tval-logloss:0.646577\n",
      "[1400]\ttrain-logloss:0.634771\tval-logloss:0.644355\n",
      "[1500]\ttrain-logloss:0.632104\tval-logloss:0.64227\n",
      "[1600]\ttrain-logloss:0.629595\tval-logloss:0.640315\n",
      "[1700]\ttrain-logloss:0.627208\tval-logloss:0.638484\n",
      "[1800]\ttrain-logloss:0.624938\tval-logloss:0.636769\n",
      "[1900]\ttrain-logloss:0.622798\tval-logloss:0.635163\n",
      "[2000]\ttrain-logloss:0.620778\tval-logloss:0.633659\n",
      "[2100]\ttrain-logloss:0.618865\tval-logloss:0.632252\n",
      "[2200]\ttrain-logloss:0.617053\tval-logloss:0.630937\n",
      "[2300]\ttrain-logloss:0.615348\tval-logloss:0.62971\n",
      "[2400]\ttrain-logloss:0.613723\tval-logloss:0.62857\n",
      "[2500]\ttrain-logloss:0.612185\tval-logloss:0.627502\n",
      "[2600]\ttrain-logloss:0.61073\tval-logloss:0.62651\n",
      "[2700]\ttrain-logloss:0.609349\tval-logloss:0.625582\n",
      "[2800]\ttrain-logloss:0.60804\tval-logloss:0.62472\n",
      "[2900]\ttrain-logloss:0.606808\tval-logloss:0.62392\n",
      "[3000]\ttrain-logloss:0.60563\tval-logloss:0.623179\n",
      "[3100]\ttrain-logloss:0.604518\tval-logloss:0.622489\n",
      "[3200]\ttrain-logloss:0.603465\tval-logloss:0.62185\n",
      "[3300]\ttrain-logloss:0.602472\tval-logloss:0.621255\n",
      "[3400]\ttrain-logloss:0.601531\tval-logloss:0.620703\n",
      "[3500]\ttrain-logloss:0.600647\tval-logloss:0.620193\n",
      "[3600]\ttrain-logloss:0.599806\tval-logloss:0.61972\n",
      "[3700]\ttrain-logloss:0.599001\tval-logloss:0.619285\n",
      "[3800]\ttrain-logloss:0.598248\tval-logloss:0.618884\n",
      "[3900]\ttrain-logloss:0.597534\tval-logloss:0.618514\n",
      "[4000]\ttrain-logloss:0.596855\tval-logloss:0.618177\n",
      "[4100]\ttrain-logloss:0.59621\tval-logloss:0.617868\n",
      "[4200]\ttrain-logloss:0.595603\tval-logloss:0.617585\n",
      "[4300]\ttrain-logloss:0.595022\tval-logloss:0.617326\n",
      "[4400]\ttrain-logloss:0.594474\tval-logloss:0.617093\n",
      "[4500]\ttrain-logloss:0.593959\tval-logloss:0.616879\n",
      "[4600]\ttrain-logloss:0.593467\tval-logloss:0.616688\n",
      "[4700]\ttrain-logloss:0.593005\tval-logloss:0.616515\n",
      "[4800]\ttrain-logloss:0.592565\tval-logloss:0.61636\n",
      "[4900]\ttrain-logloss:0.592145\tval-logloss:0.616222\n",
      "[4999]\ttrain-logloss:0.591757\tval-logloss:0.616104\n",
      "Fold: 7\n",
      "[0]\ttrain-logloss:0.693085\tval-logloss:0.693091\n",
      "[100]\ttrain-logloss:0.687267\tval-logloss:0.687707\n",
      "[200]\ttrain-logloss:0.681789\tval-logloss:0.682648\n",
      "[300]\ttrain-logloss:0.676606\tval-logloss:0.677878\n",
      "[400]\ttrain-logloss:0.671703\tval-logloss:0.673391\n",
      "[500]\ttrain-logloss:0.667113\tval-logloss:0.669181\n",
      "[600]\ttrain-logloss:0.662766\tval-logloss:0.665214\n",
      "[700]\ttrain-logloss:0.658656\tval-logloss:0.661471\n",
      "[800]\ttrain-logloss:0.654774\tval-logloss:0.657952\n",
      "[900]\ttrain-logloss:0.651112\tval-logloss:0.65464\n",
      "[1000]\ttrain-logloss:0.647646\tval-logloss:0.65152\n",
      "[1100]\ttrain-logloss:0.644359\tval-logloss:0.64858\n",
      "[1200]\ttrain-logloss:0.641254\tval-logloss:0.645812\n",
      "[1300]\ttrain-logloss:0.638326\tval-logloss:0.643203\n",
      "[1400]\ttrain-logloss:0.635557\tval-logloss:0.640748\n",
      "[1500]\ttrain-logloss:0.632936\tval-logloss:0.638435\n",
      "[1600]\ttrain-logloss:0.630455\tval-logloss:0.636256\n",
      "[1700]\ttrain-logloss:0.628103\tval-logloss:0.6342\n"
     ]
    },
    {
     "name": "stdout",
     "output_type": "stream",
     "text": [
      "[1800]\ttrain-logloss:0.625875\tval-logloss:0.632263\n",
      "[1900]\ttrain-logloss:0.62377\tval-logloss:0.630439\n",
      "[2000]\ttrain-logloss:0.621784\tval-logloss:0.628723\n",
      "[2100]\ttrain-logloss:0.619899\tval-logloss:0.62711\n",
      "[2200]\ttrain-logloss:0.618119\tval-logloss:0.625589\n",
      "[2300]\ttrain-logloss:0.616436\tval-logloss:0.62416\n",
      "[2400]\ttrain-logloss:0.61484\tval-logloss:0.622814\n",
      "[2500]\ttrain-logloss:0.613332\tval-logloss:0.621548\n",
      "[2600]\ttrain-logloss:0.611898\tval-logloss:0.620359\n",
      "[2700]\ttrain-logloss:0.610545\tval-logloss:0.619238\n",
      "[2800]\ttrain-logloss:0.609264\tval-logloss:0.618188\n",
      "[2900]\ttrain-logloss:0.608051\tval-logloss:0.617197\n",
      "[3000]\ttrain-logloss:0.606896\tval-logloss:0.616268\n",
      "[3100]\ttrain-logloss:0.605803\tval-logloss:0.615395\n",
      "[3200]\ttrain-logloss:0.604771\tval-logloss:0.614575\n",
      "[3300]\ttrain-logloss:0.6038\tval-logloss:0.613805\n",
      "[3400]\ttrain-logloss:0.602878\tval-logloss:0.613082\n",
      "[3500]\ttrain-logloss:0.60201\tval-logloss:0.612402\n",
      "[3600]\ttrain-logloss:0.601183\tval-logloss:0.611764\n",
      "[3700]\ttrain-logloss:0.600405\tval-logloss:0.611167\n",
      "[3800]\ttrain-logloss:0.599663\tval-logloss:0.610606\n",
      "[3900]\ttrain-logloss:0.598968\tval-logloss:0.610081\n",
      "[4000]\ttrain-logloss:0.598303\tval-logloss:0.609589\n",
      "[4100]\ttrain-logloss:0.597672\tval-logloss:0.609128\n",
      "[4200]\ttrain-logloss:0.597074\tval-logloss:0.608698\n",
      "[4300]\ttrain-logloss:0.59651\tval-logloss:0.608294\n",
      "[4400]\ttrain-logloss:0.59598\tval-logloss:0.607917\n",
      "[4500]\ttrain-logloss:0.595475\tval-logloss:0.607563\n",
      "[4600]\ttrain-logloss:0.594998\tval-logloss:0.607234\n",
      "[4700]\ttrain-logloss:0.594545\tval-logloss:0.606926\n",
      "[4800]\ttrain-logloss:0.594111\tval-logloss:0.606639\n",
      "[4900]\ttrain-logloss:0.593706\tval-logloss:0.60637\n",
      "[4999]\ttrain-logloss:0.593326\tval-logloss:0.606125\n",
      "Fold: 8\n",
      "[0]\ttrain-logloss:0.693087\tval-logloss:0.693086\n",
      "[100]\ttrain-logloss:0.68739\tval-logloss:0.687209\n",
      "[200]\ttrain-logloss:0.682041\tval-logloss:0.681674\n",
      "[300]\ttrain-logloss:0.676969\tval-logloss:0.676429\n",
      "[400]\ttrain-logloss:0.672178\tval-logloss:0.671476\n",
      "[500]\ttrain-logloss:0.66768\tval-logloss:0.666817\n",
      "[600]\ttrain-logloss:0.663428\tval-logloss:0.662411\n",
      "[700]\ttrain-logloss:0.659406\tval-logloss:0.658232\n",
      "[800]\ttrain-logloss:0.655603\tval-logloss:0.654294\n",
      "[900]\ttrain-logloss:0.652019\tval-logloss:0.650565\n",
      "[1000]\ttrain-logloss:0.648628\tval-logloss:0.647032\n",
      "[1100]\ttrain-logloss:0.645411\tval-logloss:0.643684\n",
      "[1200]\ttrain-logloss:0.642376\tval-logloss:0.64052\n",
      "[1300]\ttrain-logloss:0.639514\tval-logloss:0.637525\n",
      "[1400]\ttrain-logloss:0.636799\tval-logloss:0.634693\n",
      "[1500]\ttrain-logloss:0.634229\tval-logloss:0.632008\n",
      "[1600]\ttrain-logloss:0.631808\tval-logloss:0.629467\n",
      "[1700]\ttrain-logloss:0.629511\tval-logloss:0.627056\n",
      "[1800]\ttrain-logloss:0.627327\tval-logloss:0.624766\n",
      "[1900]\ttrain-logloss:0.625266\tval-logloss:0.6226\n",
      "[2000]\ttrain-logloss:0.623326\tval-logloss:0.620552\n",
      "[2100]\ttrain-logloss:0.621482\tval-logloss:0.618611\n",
      "[2200]\ttrain-logloss:0.619742\tval-logloss:0.616772\n",
      "[2300]\ttrain-logloss:0.618094\tval-logloss:0.61503\n",
      "[2400]\ttrain-logloss:0.616535\tval-logloss:0.613387\n",
      "[2500]\ttrain-logloss:0.615058\tval-logloss:0.611824\n",
      "[2600]\ttrain-logloss:0.613656\tval-logloss:0.610348\n",
      "[2700]\ttrain-logloss:0.61233\tval-logloss:0.608947\n",
      "[2800]\ttrain-logloss:0.611082\tval-logloss:0.607619\n",
      "[2900]\ttrain-logloss:0.609893\tval-logloss:0.606358\n",
      "[3000]\ttrain-logloss:0.608764\tval-logloss:0.605161\n",
      "[3100]\ttrain-logloss:0.607701\tval-logloss:0.604029\n",
      "[3200]\ttrain-logloss:0.606685\tval-logloss:0.602953\n",
      "[3300]\ttrain-logloss:0.605733\tval-logloss:0.60194\n",
      "[3400]\ttrain-logloss:0.604832\tval-logloss:0.600983\n",
      "[3500]\ttrain-logloss:0.603977\tval-logloss:0.600075\n",
      "[3600]\ttrain-logloss:0.603176\tval-logloss:0.599213\n",
      "[3700]\ttrain-logloss:0.602406\tval-logloss:0.598396\n",
      "[3800]\ttrain-logloss:0.601686\tval-logloss:0.597622\n",
      "[3900]\ttrain-logloss:0.601002\tval-logloss:0.596888\n",
      "[4000]\ttrain-logloss:0.600347\tval-logloss:0.596192\n",
      "[4100]\ttrain-logloss:0.599731\tval-logloss:0.595529\n",
      "[4200]\ttrain-logloss:0.599147\tval-logloss:0.594902\n",
      "[4300]\ttrain-logloss:0.598598\tval-logloss:0.594313\n",
      "[4400]\ttrain-logloss:0.598073\tval-logloss:0.593749\n",
      "[4500]\ttrain-logloss:0.597575\tval-logloss:0.593219\n",
      "[4600]\ttrain-logloss:0.597107\tval-logloss:0.592716\n",
      "[4700]\ttrain-logloss:0.59666\tval-logloss:0.592238\n",
      "[4800]\ttrain-logloss:0.59624\tval-logloss:0.591787\n",
      "[4900]\ttrain-logloss:0.595841\tval-logloss:0.59136\n",
      "[4999]\ttrain-logloss:0.595467\tval-logloss:0.590957\n",
      "Fold: 9\n",
      "[0]\ttrain-logloss:0.693087\tval-logloss:0.693083\n",
      "[100]\ttrain-logloss:0.687453\tval-logloss:0.687036\n",
      "[200]\ttrain-logloss:0.682149\tval-logloss:0.681343\n",
      "[300]\ttrain-logloss:0.677135\tval-logloss:0.675917\n",
      "[400]\ttrain-logloss:0.672396\tval-logloss:0.67077\n",
      "[500]\ttrain-logloss:0.66795\tval-logloss:0.665969\n",
      "[600]\ttrain-logloss:0.663745\tval-logloss:0.66139\n",
      "[700]\ttrain-logloss:0.659766\tval-logloss:0.657057\n",
      "[800]\ttrain-logloss:0.656013\tval-logloss:0.652943\n",
      "[900]\ttrain-logloss:0.652468\tval-logloss:0.649055\n",
      "[1000]\ttrain-logloss:0.649113\tval-logloss:0.645363\n",
      "[1100]\ttrain-logloss:0.64594\tval-logloss:0.641833\n",
      "[1200]\ttrain-logloss:0.642945\tval-logloss:0.63849\n",
      "[1300]\ttrain-logloss:0.640116\tval-logloss:0.635345\n",
      "[1400]\ttrain-logloss:0.637437\tval-logloss:0.632344\n",
      "[1500]\ttrain-logloss:0.634907\tval-logloss:0.62949\n",
      "[1600]\ttrain-logloss:0.63252\tval-logloss:0.626804\n",
      "[1700]\ttrain-logloss:0.630253\tval-logloss:0.624225\n",
      "[1800]\ttrain-logloss:0.628104\tval-logloss:0.621747\n",
      "[1900]\ttrain-logloss:0.626078\tval-logloss:0.619421\n",
      "[2000]\ttrain-logloss:0.624162\tval-logloss:0.617221\n",
      "[2100]\ttrain-logloss:0.622351\tval-logloss:0.61512\n",
      "[2200]\ttrain-logloss:0.620638\tval-logloss:0.613128\n",
      "[2300]\ttrain-logloss:0.619017\tval-logloss:0.611248\n",
      "[2400]\ttrain-logloss:0.617483\tval-logloss:0.609446\n",
      "[2500]\ttrain-logloss:0.616032\tval-logloss:0.607728\n",
      "[2600]\ttrain-logloss:0.614653\tval-logloss:0.606086\n",
      "[2700]\ttrain-logloss:0.613357\tval-logloss:0.604534\n",
      "[2800]\ttrain-logloss:0.612124\tval-logloss:0.60305\n",
      "[2900]\ttrain-logloss:0.610962\tval-logloss:0.601646\n",
      "[3000]\ttrain-logloss:0.609857\tval-logloss:0.600278\n",
      "[3100]\ttrain-logloss:0.60882\tval-logloss:0.598992\n",
      "[3200]\ttrain-logloss:0.607825\tval-logloss:0.597758\n",
      "[3300]\ttrain-logloss:0.606893\tval-logloss:0.596595\n",
      "[3400]\ttrain-logloss:0.606014\tval-logloss:0.595486\n",
      "[3500]\ttrain-logloss:0.605182\tval-logloss:0.59443\n",
      "[3600]\ttrain-logloss:0.60439\tval-logloss:0.593436\n",
      "[3700]\ttrain-logloss:0.603647\tval-logloss:0.592465\n",
      "[3800]\ttrain-logloss:0.602944\tval-logloss:0.591549\n",
      "[3900]\ttrain-logloss:0.60227\tval-logloss:0.590676\n",
      "[4000]\ttrain-logloss:0.601641\tval-logloss:0.589842\n",
      "[4100]\ttrain-logloss:0.601041\tval-logloss:0.589042\n",
      "[4200]\ttrain-logloss:0.600478\tval-logloss:0.588285\n",
      "[4300]\ttrain-logloss:0.599941\tval-logloss:0.58756\n",
      "[4400]\ttrain-logloss:0.599435\tval-logloss:0.586861\n",
      "[4500]\ttrain-logloss:0.598954\tval-logloss:0.586207\n",
      "[4600]\ttrain-logloss:0.598504\tval-logloss:0.585567\n",
      "[4700]\ttrain-logloss:0.598075\tval-logloss:0.584962\n",
      "[4800]\ttrain-logloss:0.597665\tval-logloss:0.58438\n",
      "[4900]\ttrain-logloss:0.597282\tval-logloss:0.583829\n",
      "[4999]\ttrain-logloss:0.596919\tval-logloss:0.583291\n",
      "Fold: 10\n",
      "[0]\ttrain-logloss:0.693087\tval-logloss:0.693083\n",
      "[100]\ttrain-logloss:0.68744\tval-logloss:0.686971\n",
      "[200]\ttrain-logloss:0.682129\tval-logloss:0.681206\n",
      "[300]\ttrain-logloss:0.67709\tval-logloss:0.675744\n",
      "[400]\ttrain-logloss:0.672341\tval-logloss:0.67057\n",
      "[500]\ttrain-logloss:0.667884\tval-logloss:0.665706\n",
      "[600]\ttrain-logloss:0.663665\tval-logloss:0.66108\n",
      "[700]\ttrain-logloss:0.659681\tval-logloss:0.656723\n",
      "[800]\ttrain-logloss:0.655914\tval-logloss:0.652572\n",
      "[900]\ttrain-logloss:0.652359\tval-logloss:0.648667\n",
      "[1000]\ttrain-logloss:0.648997\tval-logloss:0.644978\n",
      "[1100]\ttrain-logloss:0.645809\tval-logloss:0.64147\n",
      "[1200]\ttrain-logloss:0.642797\tval-logloss:0.638145\n",
      "[1300]\ttrain-logloss:0.639962\tval-logloss:0.635008\n",
      "[1400]\ttrain-logloss:0.637271\tval-logloss:0.632021\n",
      "[1500]\ttrain-logloss:0.634734\tval-logloss:0.629192\n",
      "[1600]\ttrain-logloss:0.632329\tval-logloss:0.626521\n",
      "[1700]\ttrain-logloss:0.630051\tval-logloss:0.623972\n",
      "[1800]\ttrain-logloss:0.627887\tval-logloss:0.621544\n",
      "[1900]\ttrain-logloss:0.625846\tval-logloss:0.619255\n",
      "[2000]\ttrain-logloss:0.623916\tval-logloss:0.617089\n",
      "[2100]\ttrain-logloss:0.622093\tval-logloss:0.615031\n",
      "[2200]\ttrain-logloss:0.620366\tval-logloss:0.613081\n",
      "[2300]\ttrain-logloss:0.61874\tval-logloss:0.61124\n",
      "[2400]\ttrain-logloss:0.617193\tval-logloss:0.609481\n",
      "[2500]\ttrain-logloss:0.615732\tval-logloss:0.607826\n",
      "[2600]\ttrain-logloss:0.614344\tval-logloss:0.606247\n"
     ]
    },
    {
     "name": "stdout",
     "output_type": "stream",
     "text": [
      "[2700]\ttrain-logloss:0.613033\tval-logloss:0.604755\n",
      "[2800]\ttrain-logloss:0.611795\tval-logloss:0.603337\n",
      "[2900]\ttrain-logloss:0.610618\tval-logloss:0.601994\n",
      "[3000]\ttrain-logloss:0.609504\tval-logloss:0.60071\n",
      "[3100]\ttrain-logloss:0.608448\tval-logloss:0.599501\n",
      "[3200]\ttrain-logloss:0.607447\tval-logloss:0.598357\n",
      "[3300]\ttrain-logloss:0.606507\tval-logloss:0.597271\n",
      "[3400]\ttrain-logloss:0.605615\tval-logloss:0.596241\n",
      "[3500]\ttrain-logloss:0.604778\tval-logloss:0.595264\n",
      "[3600]\ttrain-logloss:0.603982\tval-logloss:0.594342\n",
      "[3700]\ttrain-logloss:0.603228\tval-logloss:0.593457\n",
      "[3800]\ttrain-logloss:0.602511\tval-logloss:0.592618\n",
      "[3900]\ttrain-logloss:0.601841\tval-logloss:0.59182\n",
      "[4000]\ttrain-logloss:0.601195\tval-logloss:0.591055\n",
      "[4100]\ttrain-logloss:0.600588\tval-logloss:0.590326\n",
      "[4200]\ttrain-logloss:0.600015\tval-logloss:0.589635\n",
      "[4300]\ttrain-logloss:0.599473\tval-logloss:0.588977\n",
      "[4400]\ttrain-logloss:0.598955\tval-logloss:0.588348\n",
      "[4500]\ttrain-logloss:0.598471\tval-logloss:0.587754\n",
      "[4600]\ttrain-logloss:0.598008\tval-logloss:0.587184\n",
      "[4700]\ttrain-logloss:0.597574\tval-logloss:0.586644\n",
      "[4800]\ttrain-logloss:0.597164\tval-logloss:0.586126\n",
      "[4900]\ttrain-logloss:0.596772\tval-logloss:0.585636\n",
      "[4999]\ttrain-logloss:0.596402\tval-logloss:0.585173\n"
     ]
    }
   ],
   "source": [
    "NFOLDS = 10\n",
    "folds = KFold(n_splits=NFOLDS)\n",
    "columns = x_train.columns\n",
    "splits = folds.split(x_train, y_train)\n",
    "\n",
    "y_preds_xgb = np.zeros(test_df.shape[0])\n",
    "y_train_xgb = np.zeros(x_train.shape[0])\n",
    "y_test_xgb = np.zeros(x_test.shape[0])\n",
    "\n",
    "train_df_set = xgb.DMatrix(x_train)\n",
    "test_df_set = xgb.DMatrix(x_test)\n",
    "test_set = xgb.DMatrix(test_df)\n",
    "  \n",
    "for fold_n, (train_index, valid_index) in enumerate(splits):\n",
    "    print('Fold:',fold_n+1)\n",
    "    X_train_f, X_valid_f = x_train[columns].iloc[train_index], x_train[columns].iloc[valid_index]\n",
    "    y_train_f, y_valid_f = y_train.iloc[train_index], y_train.iloc[valid_index]\n",
    "    \n",
    "    train_set = xgb.DMatrix(X_train_f, y_train_f)\n",
    "    val_set = xgb.DMatrix(X_valid_f, y_valid_f)\n",
    "    \n",
    "    clf = xgb.train(params_xgb, train_set, num_boost_round=5000, evals=[(train_set, 'train'), (val_set, 'val')], verbose_eval=100)\n",
    "    \n",
    "    y_train_xgb += clf.predict(train_df_set) / NFOLDS\n",
    "    y_preds_xgb += clf.predict(test_set) / NFOLDS\n",
    "    y_test_xgb  += clf.predict(test_df_set) / NFOLDS\n",
    "    del X_train_f, X_valid_f, y_train_f, y_valid_f\n",
    "    gc.collect()\n"
   ]
  },
  {
   "cell_type": "code",
   "execution_count": 134,
   "metadata": {},
   "outputs": [
    {
     "name": "stderr",
     "output_type": "stream",
     "text": [
      "/Users/mathispotel/anaconda3/lib/python3.7/site-packages/statsmodels/tools/_testing.py:19: FutureWarning:\n",
      "\n",
      "pandas.util.testing is deprecated. Use the functions in the public API at pandas.testing instead.\n",
      "\n"
     ]
    }
   ],
   "source": [
    "import seaborn as sns\n",
    "from sklearn.metrics import confusion_matrix\n",
    "def plot_cm(y_true, y_pred, title, figsize=(7,6)):\n",
    "    y_pred = y_pred.round().astype(int)\n",
    "    cm = confusion_matrix(y_true, y_pred, labels=np.unique(y_true))\n",
    "    cm_sum = np.sum(cm, axis=1, keepdims=True)\n",
    "    cm_perc = cm / cm_sum.astype(float) * 100\n",
    "    annot = np.empty_like(cm).astype(str)\n",
    "    nrows, ncols = cm.shape\n",
    "    for i in range(nrows):\n",
    "        for j in range(ncols):\n",
    "            c = cm[i, j]\n",
    "            p = cm_perc[i, j]\n",
    "            if i == j:\n",
    "                s = cm_sum[i]\n",
    "                annot[i, j] = '%.1f%%\\n%d/%d' % (p, c, s)\n",
    "            elif c == 0:\n",
    "                annot[i, j] = ''\n",
    "            else:\n",
    "                annot[i, j] = '%.1f%%\\n%d' % (p, c)\n",
    "    cm = pd.DataFrame(cm, index=np.unique(y_true), columns=np.unique(y_true))\n",
    "    cm.index.name = 'Current'\n",
    "    cm.columns.name = 'Predicted'\n",
    "    fig, ax = plt.subplots(figsize=figsize)\n",
    "    plt.title(title)\n",
    "    sns.heatmap(cm, cmap= \"YlGnBu\", annot=annot, fmt='', ax=ax)"
   ]
  },
  {
   "cell_type": "code",
   "execution_count": 135,
   "metadata": {},
   "outputs": [
    {
     "data": {
      "image/png": "[encoded data removed]",
      "text/plain": [
       "<Figure size 504x432 with 2 Axes>"
      ]
     },
     "metadata": {
      "needs_background": "light"
     },
     "output_type": "display_data"
    }
   ],
   "source": [
    "plot_cm(y_test, y_test_xgb, 'Confusion matrix for XGB model')"
   ]
  },
  {
   "cell_type": "markdown",
   "metadata": {},
   "source": [
    "# Submission File"
   ]
  },
  {
   "cell_type": "code",
   "execution_count": 147,
   "metadata": {},
   "outputs": [],
   "source": [
    "sub_file = pd.read_csv('Data/MSampleSubmissionStage1_2020.csv')"
   ]
  },
  {
   "cell_type": "code",
   "execution_count": 148,
   "metadata": {},
   "outputs": [],
   "source": [
    "sub_file['Pred']=y_preds_xgb"
   ]
  },
  {
   "cell_type": "code",
   "execution_count": 149,
   "metadata": {},
   "outputs": [
    {
     "data": {
      "text/html": [
       "<div>\n",
       "<style scoped>\n",
       "    .dataframe tbody tr th:only-of-type {\n",
       "        vertical-align: middle;\n",
       "    }\n",
       "\n",
       "    .dataframe tbody tr th {\n",
       "        vertical-align: top;\n",
       "    }\n",
       "\n",
       "    .dataframe thead th {\n",
       "        text-align: right;\n",
       "    }\n",
       "</style>\n",
       "<table border=\"1\" class=\"dataframe\">\n",
       "  <thead>\n",
       "    <tr style=\"text-align: right;\">\n",
       "      <th></th>\n",
       "      <th>ID</th>\n",
       "      <th>Pred</th>\n",
       "    </tr>\n",
       "  </thead>\n",
       "  <tbody>\n",
       "    <tr>\n",
       "      <th>0</th>\n",
       "      <td>2015_1107_1112</td>\n",
       "      <td>0.312468</td>\n",
       "    </tr>\n",
       "    <tr>\n",
       "      <th>1</th>\n",
       "      <td>2015_1107_1116</td>\n",
       "      <td>0.312468</td>\n",
       "    </tr>\n",
       "    <tr>\n",
       "      <th>2</th>\n",
       "      <td>2015_1107_1124</td>\n",
       "      <td>0.312468</td>\n",
       "    </tr>\n",
       "    <tr>\n",
       "      <th>3</th>\n",
       "      <td>2015_1107_1125</td>\n",
       "      <td>0.548617</td>\n",
       "    </tr>\n",
       "    <tr>\n",
       "      <th>4</th>\n",
       "      <td>2015_1107_1129</td>\n",
       "      <td>0.312468</td>\n",
       "    </tr>\n",
       "  </tbody>\n",
       "</table>\n",
       "</div>"
      ],
      "text/plain": [
       "               ID      Pred\n",
       "0  2015_1107_1112  0.312468\n",
       "1  2015_1107_1116  0.312468\n",
       "2  2015_1107_1124  0.312468\n",
       "3  2015_1107_1125  0.548617\n",
       "4  2015_1107_1129  0.312468"
      ]
     },
     "execution_count": 149,
     "metadata": {},
     "output_type": "execute_result"
    }
   ],
   "source": [
    "sub_file.head()"
   ]
  },
  {
   "cell_type": "code",
   "execution_count": 151,
   "metadata": {},
   "outputs": [],
   "source": [
    "sub_file.to_csv(\"submission_file.csv\")"
   ]
  },
  {
   "cell_type": "code",
   "execution_count": null,
   "metadata": {},
   "outputs": [],
   "source": []
  }
 ],
 "metadata": {
  "kernelspec": {
   "display_name": "Python 3",
   "language": "python",
   "name": "python3"
  },
  "language_info": {
   "codemirror_mode": {
    "name": "ipython",
    "version": 3
   },
   "file_extension": ".py",
   "mimetype": "text/x-python",
   "name": "python",
   "nbconvert_exporter": "python",
   "pygments_lexer": "ipython3",
   "version": "3.7.4"
  }
 },
 "nbformat": 4,
 "nbformat_minor": 4
}
